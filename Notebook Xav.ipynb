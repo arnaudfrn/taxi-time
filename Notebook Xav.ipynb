{
 "cells": [
  {
   "cell_type": "code",
   "execution_count": 1,
   "metadata": {},
   "outputs": [],
   "source": [
    "from src.preprocessing import *\n",
    "from src.master import *\n",
    "from src.modelisation import *\n",
    "from src.impute import *\n",
    "\n",
    "pd.options.display.max_columns = None"
   ]
  },
  {
   "cell_type": "code",
   "execution_count": 2,
   "metadata": {},
   "outputs": [
    {
     "name": "stderr",
     "output_type": "stream",
     "text": [
      "//anaconda3/lib/python3.7/site-packages/IPython/core/interactiveshell.py:3325: DtypeWarning: Columns (0,1,2,3,4,5,6,7,8,9,10,11,12,13,14,15,16,17,18,19,20,21,22,23,24,25,26,27,28,29,30,31,32,33,34,35,36,37,38,39,40,41,42) have mixed types. Specify dtype option on import or set low_memory=False.\n",
      "  exec(code_obj, self.user_global_ns, self.user_ns)\n"
     ]
    }
   ],
   "source": [
    "df = master_preprocessing_X('data/Airport_Data.csv',\n",
    "                      'data/Weather_data_prep.csv',\n",
    "                      'data/ACchar.xlsx',\n",
    "                      'Correspondance.pkl')\n",
    "\n"
   ]
  },
  {
   "cell_type": "code",
   "execution_count": 6,
   "metadata": {},
   "outputs": [],
   "source": [
    "df['target'] = create_target(df)\n",
    "\n",
    "df = impute_chocks_on(df)\n",
    "\n",
    "df = df.dropna()"
   ]
  },
  {
   "cell_type": "code",
   "execution_count": 8,
   "metadata": {},
   "outputs": [],
   "source": [
    "variables = ['carrier','runway','stand','Manufacturer','acType','PRCP','TAVG','AWND','TMAX','TMIN','WDF2','WDF5','WSF2','WSF5','WT01','WT02','WT03','WT08','Approach Speed\\n(Vref)']\n",
    "\n",
    "encoded_df = encoding_df(df, variables)"
   ]
  },
  {
   "cell_type": "code",
   "execution_count": 10,
   "metadata": {},
   "outputs": [
    {
     "name": "stdout",
     "output_type": "stream",
     "text": [
      "0.59135868190418\n",
      "5.99414442370663\n"
     ]
    }
   ],
   "source": [
    "from sklearn.model_selection import train_test_split\n",
    "from sklearn import tree\n",
    "\n",
    "# Define input \n",
    "X = encoding_df(df, variables)\n",
    "\n",
    "# Set validation\n",
    "y = df['target']\n",
    "\n",
    "X_train, X_test, y_train, y_test = train_test_split(X, y, test_size=0.10, random_state=42)\n",
    "\n",
    "clf = tree.DecisionTreeRegressor()\n",
    "clf = clf.fit(X_train, y_train)\n",
    "\n",
    "print(compute_mape(y_test, clf.predict(X_test)))\n",
    "print(compute_rmse(y_test, clf.predict(X_test)))\n",
    "\n",
    "y_pred = clf.predict(X_test)"
   ]
  },
  {
   "cell_type": "code",
   "execution_count": null,
   "metadata": {},
   "outputs": [],
   "source": [
    "def master_modelisation(X,y,test_size,model_function_list) :\n",
    "    \"\"\"\n",
    "    function aggregating models and building comparison table\n",
    "\n",
    "    input: how many models, training features, target values,\n",
    "    output : predicted values and rmse\n",
    "\n",
    "    \"\"\"    \n",
    "    models = model_function_list\n",
    "    \n",
    "    output = pd.DataFrame()\n",
    "    model = []\n",
    "    RMSE = []\n",
    "    MAPE = []\n",
    "    tenth_perc = []    \n",
    "    ninetieth_perc = []\n",
    "    \n",
    "    for i in models:\n",
    "        output_row = pd.DataFrame()\n",
    "        \n",
    "        model.append(i)\n",
    "        \n",
    "        y_pred, y_test = i(df, variables, test_size)\n",
    "\n",
    "        RMSE.append(compute_rmse(y_test, y_pred))\n",
    "        MAPE.append(compute_mape(y_test, y_pred))\n",
    "        tenth_perc.append(tenth_percentile(y_test, y_pred))   \n",
    "        ninetieth_perc.append(ninetieth_percentile(y_test, y_pred))\n",
    "        \n",
    "    output['Model'] = model\n",
    "    output['RMSE'] = RMSE\n",
    "    output['MAPE'] = MAPE\n",
    "    output['tenth_perc'] = tenth_perc\n",
    "    output['ninetieth_perc'] = ninetieth_perc\n",
    "        \n",
    "    return output\n",
    "\n",
    "# TEST\n",
    "master_modelisation(X,y,0.10,[linear_reg,decision_tree])"
   ]
  },
  {
   "cell_type": "code",
   "execution_count": 34,
   "metadata": {},
   "outputs": [],
   "source": [
    "def compute_metrics(y_test, y_pred) : \n",
    "    metrics = pd.DataFrame()\n",
    "    metrics['RMSE'] = [compute_rmse(y_test, y_pred)]\n",
    "    metrics['MAPE'] = [compute_mape(y_test, y_pred)]\n",
    "    metrics['MAE'] = [compute_mae(y_test, y_pred)]\n",
    "    metrics['tenth_perc'] = [tenth_percentile(y_test, y_pred)]\n",
    "    metrics['ninetieth_perc'] = [ninetieth_percentile(y_test, y_pred)]        \n",
    "    \n",
    "    return metrics"
   ]
  },
  {
   "cell_type": "code",
   "execution_count": 27,
   "metadata": {},
   "outputs": [
    {
     "data": {
      "text/plain": [
       "0         240.0\n",
       "1         240.0\n",
       "2         180.0\n",
       "3         240.0\n",
       "4         300.0\n",
       "5         600.0\n",
       "6         360.0\n",
       "7         420.0\n",
       "8         420.0\n",
       "9         360.0\n",
       "10        360.0\n",
       "11        420.0\n",
       "12        240.0\n",
       "13        240.0\n",
       "15        360.0\n",
       "16        840.0\n",
       "17        300.0\n",
       "18        420.0\n",
       "19        540.0\n",
       "20        600.0\n",
       "21        300.0\n",
       "22        240.0\n",
       "23        360.0\n",
       "24        540.0\n",
       "25        420.0\n",
       "26        300.0\n",
       "27        300.0\n",
       "28        480.0\n",
       "29        360.0\n",
       "30        480.0\n",
       "          ...  \n",
       "137957    360.0\n",
       "137959    600.0\n",
       "137960    480.0\n",
       "137962    840.0\n",
       "137964    480.0\n",
       "137966    420.0\n",
       "137968    480.0\n",
       "137969    360.0\n",
       "137970    480.0\n",
       "137971    540.0\n",
       "137972    600.0\n",
       "137973    360.0\n",
       "137974    720.0\n",
       "137975    360.0\n",
       "137976    540.0\n",
       "137977    360.0\n",
       "137978    540.0\n",
       "137979    480.0\n",
       "137980    240.0\n",
       "137981    480.0\n",
       "137982    360.0\n",
       "137983    300.0\n",
       "137984    420.0\n",
       "137985    840.0\n",
       "137986    420.0\n",
       "137987    480.0\n",
       "137988    420.0\n",
       "137989    900.0\n",
       "137990    480.0\n",
       "137991    420.0\n",
       "Name: target, Length: 133105, dtype: float64"
      ]
     },
     "execution_count": 27,
     "metadata": {},
     "output_type": "execute_result"
    }
   ],
   "source": [
    "df.target"
   ]
  },
  {
   "cell_type": "code",
   "execution_count": 46,
   "metadata": {},
   "outputs": [],
   "source": [
    "def custom_made_metric(y, y_pred, threshold):\n",
    "    \"\"\"\n",
    "    function computing MAE \n",
    "\n",
    "    input: real target values, predicted values, threshold (in min) to consider harmfull error\n",
    "    output : root mean squared error in minutes\n",
    "    \"\"\"\n",
    "    error = (y - y_pred)\n",
    "    metric = (error > threshold*60)\n",
    "    return metric.mean()\n"
   ]
  },
  {
   "cell_type": "code",
   "execution_count": 48,
   "metadata": {},
   "outputs": [
    {
     "data": {
      "text/html": [
       "<div>\n",
       "<style scoped>\n",
       "    .dataframe tbody tr th:only-of-type {\n",
       "        vertical-align: middle;\n",
       "    }\n",
       "\n",
       "    .dataframe tbody tr th {\n",
       "        vertical-align: top;\n",
       "    }\n",
       "\n",
       "    .dataframe thead th {\n",
       "        text-align: right;\n",
       "    }\n",
       "</style>\n",
       "<table border=\"1\" class=\"dataframe\">\n",
       "  <thead>\n",
       "    <tr style=\"text-align: right;\">\n",
       "      <th></th>\n",
       "      <th>RMSE</th>\n",
       "      <th>MAPE</th>\n",
       "      <th>MAE</th>\n",
       "      <th>tenth_perc</th>\n",
       "      <th>ninetieth_perc</th>\n",
       "    </tr>\n",
       "  </thead>\n",
       "  <tbody>\n",
       "    <tr>\n",
       "      <th>0</th>\n",
       "      <td>5.994144</td>\n",
       "      <td>0.591359</td>\n",
       "      <td>3.066873</td>\n",
       "      <td>0.0</td>\n",
       "      <td>420.0</td>\n",
       "    </tr>\n",
       "  </tbody>\n",
       "</table>\n",
       "</div>"
      ],
      "text/plain": [
       "       RMSE      MAPE       MAE  tenth_perc  ninetieth_perc\n",
       "0  5.994144  0.591359  3.066873         0.0           420.0"
      ]
     },
     "execution_count": 48,
     "metadata": {},
     "output_type": "execute_result"
    }
   ],
   "source": [
    "compute_metrics(y_test,y_pred)"
   ]
  },
  {
   "cell_type": "code",
   "execution_count": null,
   "metadata": {},
   "outputs": [],
   "source": []
  },
  {
   "cell_type": "code",
   "execution_count": null,
   "metadata": {},
   "outputs": [],
   "source": []
  },
  {
   "cell_type": "code",
   "execution_count": null,
   "metadata": {},
   "outputs": [],
   "source": []
  },
  {
   "cell_type": "code",
   "execution_count": null,
   "metadata": {},
   "outputs": [],
   "source": []
  },
  {
   "cell_type": "code",
   "execution_count": null,
   "metadata": {},
   "outputs": [],
   "source": []
  },
  {
   "cell_type": "code",
   "execution_count": null,
   "metadata": {},
   "outputs": [],
   "source": []
  },
  {
   "cell_type": "code",
   "execution_count": null,
   "metadata": {},
   "outputs": [],
   "source": []
  },
  {
   "cell_type": "code",
   "execution_count": null,
   "metadata": {},
   "outputs": [],
   "source": []
  },
  {
   "cell_type": "code",
   "execution_count": null,
   "metadata": {},
   "outputs": [],
   "source": []
  },
  {
   "cell_type": "code",
   "execution_count": null,
   "metadata": {},
   "outputs": [],
   "source": []
  },
  {
   "cell_type": "code",
   "execution_count": null,
   "metadata": {},
   "outputs": [],
   "source": []
  },
  {
   "cell_type": "code",
   "execution_count": null,
   "metadata": {},
   "outputs": [],
   "source": []
  },
  {
   "cell_type": "code",
   "execution_count": null,
   "metadata": {},
   "outputs": [],
   "source": []
  },
  {
   "cell_type": "code",
   "execution_count": null,
   "metadata": {},
   "outputs": [],
   "source": []
  },
  {
   "cell_type": "code",
   "execution_count": null,
   "metadata": {},
   "outputs": [],
   "source": []
  },
  {
   "cell_type": "code",
   "execution_count": null,
   "metadata": {},
   "outputs": [],
   "source": []
  },
  {
   "cell_type": "code",
   "execution_count": null,
   "metadata": {},
   "outputs": [],
   "source": []
  },
  {
   "cell_type": "code",
   "execution_count": null,
   "metadata": {},
   "outputs": [],
   "source": []
  },
  {
   "cell_type": "code",
   "execution_count": null,
   "metadata": {},
   "outputs": [],
   "source": []
  },
  {
   "cell_type": "code",
   "execution_count": null,
   "metadata": {},
   "outputs": [],
   "source": []
  },
  {
   "cell_type": "code",
   "execution_count": null,
   "metadata": {},
   "outputs": [],
   "source": []
  },
  {
   "cell_type": "code",
   "execution_count": null,
   "metadata": {},
   "outputs": [],
   "source": []
  },
  {
   "cell_type": "code",
   "execution_count": null,
   "metadata": {},
   "outputs": [],
   "source": []
  },
  {
   "cell_type": "code",
   "execution_count": null,
   "metadata": {},
   "outputs": [],
   "source": []
  },
  {
   "cell_type": "code",
   "execution_count": null,
   "metadata": {},
   "outputs": [],
   "source": []
  },
  {
   "cell_type": "code",
   "execution_count": null,
   "metadata": {},
   "outputs": [],
   "source": []
  }
 ],
 "metadata": {
  "kernelspec": {
   "display_name": "Python 3",
   "language": "python",
   "name": "python3"
  },
  "language_info": {
   "codemirror_mode": {
    "name": "ipython",
    "version": 3
   },
   "file_extension": ".py",
   "mimetype": "text/x-python",
   "name": "python",
   "nbconvert_exporter": "python",
   "pygments_lexer": "ipython3",
   "version": "3.7.3"
  }
 },
 "nbformat": 4,
 "nbformat_minor": 2
}
