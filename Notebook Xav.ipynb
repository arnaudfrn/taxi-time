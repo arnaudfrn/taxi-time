{
 "cells": [
  {
   "cell_type": "code",
   "execution_count": 1,
   "metadata": {},
   "outputs": [],
   "source": [
    "from src.preprocessing import *\n",
    "from src.master import *\n",
    "from src.modelisation import *\n",
    "from src.impute import *\n",
    "\n",
    "pd.options.display.max_columns = None"
   ]
  },
  {
   "cell_type": "code",
   "execution_count": 2,
   "metadata": {},
   "outputs": [
    {
     "name": "stderr",
     "output_type": "stream",
     "text": [
      "//anaconda3/lib/python3.7/site-packages/IPython/core/interactiveshell.py:3325: DtypeWarning: Columns (0,1,2,3,4,5,6,7,8,9,10,11,12,13,14,15,16,17,18,19,20,21,22,23,24,25,26,27,28,29,30,31,32,33,34,35,36,37,38,39,40,41,42) have mixed types. Specify dtype option on import or set low_memory=False.\n",
      "  exec(code_obj, self.user_global_ns, self.user_ns)\n"
     ]
    }
   ],
   "source": [
    "df = master_preprocessing_X('data/Airport_Data.csv',\n",
    "                      'data/Weather_data_prep.csv',\n",
    "                      'data/ACchar.xlsx',\n",
    "                      'Correspondance.pkl')"
   ]
  },
  {
   "cell_type": "code",
   "execution_count": 6,
   "metadata": {},
   "outputs": [],
   "source": [
    "df['target'] = create_target(df)\n",
    "\n",
    "df = impute_chocks_on(df)\n",
    "\n",
    "df = df.dropna()"
   ]
  },
  {
   "cell_type": "code",
   "execution_count": 8,
   "metadata": {},
   "outputs": [],
   "source": [
    "variables = ['carrier','runway','stand','Manufacturer','acType','PRCP','TAVG','AWND','TMAX','TMIN','WDF2','WDF5','WSF2','WSF5','WT01','WT02','WT03','WT08','Approach Speed\\n(Vref)']\n",
    "\n",
    "encoded_df = encoding_df(df, variables)"
   ]
  },
  {
   "cell_type": "code",
   "execution_count": 10,
   "metadata": {},
   "outputs": [
    {
     "name": "stdout",
     "output_type": "stream",
     "text": [
      "0.59135868190418\n",
      "5.99414442370663\n"
     ]
    }
   ],
   "source": [
    "from sklearn.model_selection import train_test_split\n",
    "from sklearn import tree\n",
    "\n",
    "# Define input \n",
    "X = encoding_df(df, variables)\n",
    "\n",
    "# Set validation\n",
    "y = df['target']\n",
    "\n",
    "X_train, X_test, y_train, y_test = train_test_split(X, y, test_size=0.10, random_state=42)\n",
    "\n",
    "clf = tree.DecisionTreeRegressor()\n",
    "clf = clf.fit(X_train, y_train)\n",
    "\n",
    "print(compute_mape(y_test, clf.predict(X_test)))\n",
    "print(compute_rmse(y_test, clf.predict(X_test)))\n",
    "\n",
    "y_pred = clf.predict(X_test)"
   ]
  },
  {
   "cell_type": "code",
   "execution_count": null,
   "metadata": {},
   "outputs": [],
   "source": [
    "def master_modelisation(X,y,test_size,model_function_list) :\n",
    "    \"\"\"\n",
    "    function aggregating models and building comparison table\n",
    "\n",
    "    input: how many models, training features, target values,\n",
    "    output : predicted values and rmse\n",
    "\n",
    "    \"\"\"    \n",
    "    models = model_function_list\n",
    "    \n",
    "    output = pd.DataFrame()\n",
    "    model = []\n",
    "    RMSE = []\n",
    "    MAPE = []\n",
    "    tenth_perc = []    \n",
    "    ninetieth_perc = []\n",
    "    \n",
    "    for i in models:\n",
    "        output_row = pd.DataFrame()\n",
    "        \n",
    "        model.append(i)\n",
    "        \n",
    "        y_pred, y_test = i(df, variables, test_size)\n",
    "\n",
    "        RMSE.append(compute_rmse(y_test, y_pred))\n",
    "        MAPE.append(compute_mape(y_test, y_pred))\n",
    "        tenth_perc.append(tenth_percentile(y_test, y_pred))   \n",
    "        ninetieth_perc.append(ninetieth_percentile(y_test, y_pred))\n",
    "        \n",
    "    output['Model'] = model\n",
    "    output['RMSE'] = RMSE\n",
    "    output['MAPE'] = MAPE\n",
    "    output['tenth_perc'] = tenth_perc\n",
    "    output['ninetieth_perc'] = ninetieth_perc\n",
    "        \n",
    "    return output\n",
    "\n",
    "# TEST\n",
    "master_modelisation(X,y,0.10,[linear_reg,decision_tree])"
   ]
  },
  {
   "cell_type": "code",
   "execution_count": 15,
   "metadata": {},
   "outputs": [],
   "source": [
    "def compute_metrics(y, y_pred) : \n",
    "    metrics = pd.DataFrame()\n",
    "    metrics['RMSE'] = [compute_rmse(y_test, y_pred)]\n",
    "    metrics['MAPE'] = [compute_mape(y_test, y_pred)]\n",
    "    metrics['tenth_perc'] = [tenth_percentile(y_test, y_pred)]\n",
    "    metrics['ninetieth_perc'] = [ninetieth_percentile(y_test, y_pred)]\n",
    "\n",
    "    return metrics"
   ]
  },
  {
   "cell_type": "code",
   "execution_count": 16,
   "metadata": {},
   "outputs": [
    {
     "data": {
      "text/html": [
       "<div>\n",
       "<style scoped>\n",
       "    .dataframe tbody tr th:only-of-type {\n",
       "        vertical-align: middle;\n",
       "    }\n",
       "\n",
       "    .dataframe tbody tr th {\n",
       "        vertical-align: top;\n",
       "    }\n",
       "\n",
       "    .dataframe thead th {\n",
       "        text-align: right;\n",
       "    }\n",
       "</style>\n",
       "<table border=\"1\" class=\"dataframe\">\n",
       "  <thead>\n",
       "    <tr style=\"text-align: right;\">\n",
       "      <th></th>\n",
       "      <th>RMSE</th>\n",
       "      <th>MAPE</th>\n",
       "      <th>tenth_perc</th>\n",
       "      <th>ninetieth_perc</th>\n",
       "    </tr>\n",
       "  </thead>\n",
       "  <tbody>\n",
       "    <tr>\n",
       "      <th>0</th>\n",
       "      <td>5.994144</td>\n",
       "      <td>0.591359</td>\n",
       "      <td>0.0</td>\n",
       "      <td>420.0</td>\n",
       "    </tr>\n",
       "  </tbody>\n",
       "</table>\n",
       "</div>"
      ],
      "text/plain": [
       "       RMSE      MAPE  tenth_perc  ninetieth_perc\n",
       "0  5.994144  0.591359         0.0           420.0"
      ]
     },
     "execution_count": 16,
     "metadata": {},
     "output_type": "execute_result"
    }
   ],
   "source": [
    "compute_metrics(y_test,y_pred)"
   ]
  },
  {
   "cell_type": "code",
   "execution_count": null,
   "metadata": {},
   "outputs": [],
   "source": []
  },
  {
   "cell_type": "code",
   "execution_count": null,
   "metadata": {},
   "outputs": [],
   "source": []
  },
  {
   "cell_type": "code",
   "execution_count": null,
   "metadata": {},
   "outputs": [],
   "source": []
  },
  {
   "cell_type": "code",
   "execution_count": null,
   "metadata": {},
   "outputs": [],
   "source": []
  },
  {
   "cell_type": "code",
   "execution_count": null,
   "metadata": {},
   "outputs": [],
   "source": []
  },
  {
   "cell_type": "code",
   "execution_count": null,
   "metadata": {},
   "outputs": [],
   "source": []
  }
 ],
 "metadata": {
  "kernelspec": {
   "display_name": "Python 3",
   "language": "python",
   "name": "python3"
  },
  "language_info": {
   "codemirror_mode": {
    "name": "ipython",
    "version": 3
   },
   "file_extension": ".py",
   "mimetype": "text/x-python",
   "name": "python",
   "nbconvert_exporter": "python",
   "pygments_lexer": "ipython3",
   "version": "3.7.3"
  }
 },
 "nbformat": 4,
 "nbformat_minor": 2
}
