{
 "cells": [
  {
   "cell_type": "code",
   "execution_count": 76,
   "metadata": {},
   "outputs": [],
   "source": [
    "import os \n",
    "import pandas as pd\n",
    "import numpy as np\n",
    "import sklearn as sk\n",
    "\n",
    "from src.preprocessing import *\n",
    "\n",
    "path_glossary = 'data/Glossary.xlsx'\n",
    "\n",
    "\n",
    "def glossary_feature_selection(path_glossary):\n",
    "    ignore = ['To ignore', 'to ignore',  'Technical characteristic to ignore', 'Aircraft Type (with another regulation -not to be used for the case)']\n",
    "    columns_df = pd.read_excel(path_glossary, sheet_name = 1).iloc[:,[0,2]]\n",
    "    feature_list = [columns_df.iloc[:,0].tolist()[i] for i in range((len(columns_df.iloc[:,1].tolist()))) if columns_df.iloc[:,1].tolist()[i] not in ignore ]\n",
    "    return feature_list\n",
    "\n",
    "\n",
    "def create_target(df_airportData):\n",
    "    df_filter = df_airportData[(~df_airportData['aibt'].isna()) & (~df_airportData['aldt'].isna()) & (df_airportData['aibt'] != 'aibt')].dropna(how = 'all')\n",
    "    return (pd.to_datetime(df_filter['aibt']) - pd.to_datetime(df_filter['aldt'])).astype('timedelta64[s]')\n",
    "\n",
    "def design_matrix_airport_data(PATH_airport_data):\n",
    "    df = pd.read_csv(PATH_airport_data)\n",
    "    df_target = create_target(df)\n",
    "    df= df.iloc[pd.DataFrame(df_target).index]\n",
    "    df.drop(columns=['aibt','aldt'],inplace=True)\n",
    "    return df\n",
    "\n",
    "def reading_data(PATH,sheet=None):\n",
    "    # Read csv or xlsx\n",
    "    if PATH.endswith('xlsx'):\n",
    "        x = pd.read_excel(PATH,sheet_name=sheet)\n",
    "    if PATH.endswith('csv'):\n",
    "        x = pd.read_csv(PATH)\n",
    "    return x\n",
    "\n",
    "def filtering_AC_charac(path_correspondance,path_AC_charac):\n",
    "    # Filtering AC_charac dataset with the aircraft that are actually used in airportdata\n",
    "    # path_correspondance : path of the pickle of correspondance\n",
    "    # path_AC_charac : path of the AC charac datasert\n",
    "\n",
    "    df_charac = reading_data(path_AC_charac,'test')\n",
    "\n",
    "    matching = pd.read_pickle(path_correspondance)\n",
    "    matching_list = list(matching.Accharac.values)\n",
    "\n",
    "    df_charac['Model'] = df_charac['Model'].str.lower().str.strip()\n",
    "    matching_list = [x.lower().strip() for x in matching_list]\n",
    "    df_charac = df_charac[df_charac['Model'].isin(matching_list)]\n",
    "    df_charac.drop_duplicates(subset='Model', keep=\"first\",inplace=True)\n",
    "    return df_charac"
   ]
  },
  {
   "cell_type": "code",
   "execution_count": 19,
   "metadata": {},
   "outputs": [],
   "source": [
    "glossary_feature_selection(path_glossary)\n",
    "df = pd.read_csv('data/0. Airport data/Airport_Data.csv')\n",
    "df_target = create_target(df)"
   ]
  },
  {
   "cell_type": "code",
   "execution_count": 25,
   "metadata": {},
   "outputs": [
    {
     "name": "stderr",
     "output_type": "stream",
     "text": [
      "C:\\ProgramData\\Anaconda3\\lib\\site-packages\\pandas\\core\\frame.py:3940: SettingWithCopyWarning: \n",
      "A value is trying to be set on a copy of a slice from a DataFrame\n",
      "\n",
      "See the caveats in the documentation: http://pandas.pydata.org/pandas-docs/stable/indexing.html#indexing-view-versus-copy\n",
      "  errors=errors)\n"
     ]
    }
   ],
   "source": [
    "df.iloc[pd.DataFrame(df_target).index]\n",
    "df.drop(columns=['aibt','aldt'],inplace=True)"
   ]
  },
  {
   "cell_type": "code",
   "execution_count": 35,
   "metadata": {},
   "outputs": [],
   "source": []
  },
  {
   "cell_type": "code",
   "execution_count": 36,
   "metadata": {},
   "outputs": [
    {
     "name": "stderr",
     "output_type": "stream",
     "text": [
      "C:\\ProgramData\\Anaconda3\\lib\\site-packages\\IPython\\core\\interactiveshell.py:3209: DtypeWarning: Columns (0,1,2,3,4,5,6,7,8,9,10,11,12,13,14,15,16,17,18,19,20,21,22,23,24,25,26,27,28,29,30,31,32,33,34,35,36,37,38,39,40,41,42) have mixed types. Specify dtype option on import or set low_memory=False.\n",
      "  if (yield from self.run_code(code, result)):\n"
     ]
    }
   ],
   "source": [
    "test = design_matrix_airport_data('data/0. Airport data/Airport_Data.csv')"
   ]
  },
  {
   "cell_type": "code",
   "execution_count": 61,
   "metadata": {},
   "outputs": [],
   "source": [
    "useful_variable = ['acReg',\n",
    "                   'acars_out',\n",
    "                   'aibt_received',\n",
    "                   'aldt_received',\n",
    "                   'gpu_off',\n",
    "                   'gpu_on',\n",
    "                   'last_distance_to_gate',\n",
    "                   'last_in_sector',\n",
    "                   'mode_s',\n",
    "                   'partition',\n",
    "                   'pca_off',\n",
    "                   'pca_on',\n",
    "                   'roll',\n",
    "                   'speed',\n",
    "                   'sqt',\n",
    "                   'stand_active',\n",
    "                   'stand_auto_start',\n",
    "                   'stand_docking',\n",
    "                   'stand_free',\n",
    "                   'stand_last_change',\n",
    "                   'stand_prepared',\n",
    "                   'stand_scheduled',\n",
    "                   'status',\n",
    "                   'towbar_on',\n",
    "                   'vdgs_in',\n",
    "                   'vdgs_out',\n",
    "                   'plb_on',\n",
    "                   'plb_off',\n",
    "                   'eobt',\n",
    "                   'aobt',\n",
    "                   'atot']\n"
   ]
  },
  {
   "cell_type": "code",
   "execution_count": 62,
   "metadata": {},
   "outputs": [],
   "source": [
    "def augmented_design_matrix_with_AC_charac(df,df_charac,Path_correspondance):\n",
    "    #add the characteristic of aircraft to the design matrix\n",
    "    #df: design matrix dataframe\n",
    "    #df_charac : clean aircraft characteristic dataframe\n",
    "    #path_correspondance : path of the pickle of correspondance\n",
    "    \n",
    "    matching = pd.read_pickle(Path_correspondance)\n",
    "    matching_dict = dict(zip(matching.AirportData.str.lower().str.strip(), matching.Accharac.str.lower().str.strip()))\n",
    "    \n",
    "    \n",
    "    df_charac['']\n",
    "    df_merged = pd.merge(df, df_charac, left_on='acType', right_on='species_id', how='left')\n",
    "    return df_merged"
   ]
  },
  {
   "cell_type": "code",
   "execution_count": 82,
   "metadata": {},
   "outputs": [],
   "source": [
    "#PATH\n",
    "AC_charac = 'data/1. AC characteristics/ACchar.xlsx'\n",
    "correspondance = 'Correspondance.pkl'\n",
    "matching = pd.read_pickle(correspondance)\n",
    "mydict = dict(zip(matching.AirportData.str.lower().str.strip(), matching.Accharac.str.lower().str.strip()))\n"
   ]
  },
  {
   "cell_type": "code",
   "execution_count": 83,
   "metadata": {},
   "outputs": [],
   "source": [
    "df_test = filtering_AC_charac('Correspondance.pkl','data/1. AC characteristics/ACchar.xlsx')\n"
   ]
  },
  {
   "cell_type": "code",
   "execution_count": 86,
   "metadata": {},
   "outputs": [
    {
     "data": {
      "text/plain": [
       "137                          a220-100\n",
       "138                          a220-300\n",
       "151                          a319-100\n",
       "152                 a319-100 sharklet\n",
       "154                          a320-200\n",
       "157                          a321-100\n",
       "159                          a321-200\n",
       "162                          a330-200\n",
       "164                          a330-300\n",
       "166                          a340-300\n",
       "168                          a340-600\n",
       "172                          a350-900\n",
       "475                           717-200\n",
       "487                           737-200\n",
       "489                           737-300\n",
       "492                           737-500\n",
       "495             737-700 with winglets\n",
       "496                    737-700, -700c\n",
       "497                           737-800\n",
       "499             737-800 with winglets\n",
       "500                           737-900\n",
       "502             737-900 with winglets\n",
       "515                747-400, 400 combi\n",
       "520                             747-8\n",
       "525                   757-200, -200pf\n",
       "526     757-200, -200pf with winglets\n",
       "527                           757-300\n",
       "528             757-300 with winglets\n",
       "530                           767-200\n",
       "532                           767-300\n",
       "535           767-300er with winglets\n",
       "536                           767-400\n",
       "538                           777-200\n",
       "540                         777-200er\n",
       "541                         777-200lr\n",
       "542                           777-300\n",
       "543                         777-300er\n",
       "549                  787-9 dreamliner\n",
       "630                       dc-9-32/33f\n",
       "642                             md-81\n",
       "646                             md-88\n",
       "647                          md-90-30\n",
       "683              crj 100/200 standard\n",
       "691          crj 700/701/702 standard\n",
       "695                  crj 900 standard\n",
       "1098            emb 170 lr, su, or se\n",
       "1103                 emb 175 standard\n",
       "1108                 emb 190 standard\n",
       "1803                            md-90\n",
       "Name: Model, dtype: object"
      ]
     },
     "execution_count": 86,
     "metadata": {},
     "output_type": "execute_result"
    }
   ],
   "source": [
    "df_test['Model'].ap"
   ]
  }
 ],
 "metadata": {
  "kernelspec": {
   "display_name": "Python 3",
   "language": "python",
   "name": "python3"
  },
  "language_info": {
   "codemirror_mode": {
    "name": "ipython",
    "version": 3
   },
   "file_extension": ".py",
   "mimetype": "text/x-python",
   "name": "python",
   "nbconvert_exporter": "python",
   "pygments_lexer": "ipython3",
   "version": "3.6.8"
  }
 },
 "nbformat": 4,
 "nbformat_minor": 2
}
