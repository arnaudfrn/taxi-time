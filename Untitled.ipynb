{
 "cells": [
  {
   "cell_type": "code",
   "execution_count": 16,
   "metadata": {},
   "outputs": [],
   "source": [
    "import os \n",
    "import pandas as pd\n",
    "import numpy as np\n",
    "import sklearn as sk\n",
    "\n",
    "from src.preprocessing import *\n",
    "\n",
    "path_glossary = 'data/Glossary.xlsx'\n",
    "\n",
    "\n",
    "def glossary_feature_selection(path):\n",
    "    ignore = ['To ignore', 'to ignore',  'Technical characteristic to ignore', 'Aircraft Type (with another regulation -not to be used for the case)']\n",
    "    columns_df = pd.read_excel(path, sheet_name = 1).iloc[:,[0,2]]\n",
    "    feature_list = [columns_df.iloc[:,0].tolist()[i] for i in range((len(columns_df.iloc[:,1].tolist()))) if columns_df.iloc[:,1].tolist()[i] not in ignore ]\n",
    "    return feature_list\n",
    "\n",
    "\n",
    "def create_target(df):\n",
    "    df_filter = df[(~df['aibt'].isna()) & (~df['aldt'].isna()) & (df['aibt'] != 'aibt')].dropna(how = 'all')\n",
    "    return (pd.to_datetime(df_filter['aibt']) - pd.to_datetime(df_filter['aldt'])).astype('timedelta64[s]')"
   ]
  },
  {
   "cell_type": "code",
   "execution_count": 17,
   "metadata": {},
   "outputs": [
    {
     "data": {
      "text/plain": [
       "['Carrier',\n",
       " 'Flight',\n",
       " 'acType',\n",
       " 'Ship',\n",
       " 'sto',\n",
       " 'runway',\n",
       " 'Stand',\n",
       " 'ALDT',\n",
       " 'CIBT',\n",
       " 'Chock_on',\n",
       " 'EIBT',\n",
       " 'CIBT',\n",
       " 'AIBT']"
      ]
     },
     "execution_count": 17,
     "metadata": {},
     "output_type": "execute_result"
    }
   ],
   "source": [
    "glossary_feature_selection(path_glossary)\n",
    "df = pd.read_csv('')\n",
    "create_target('')"
   ]
  }
 ],
 "metadata": {
  "kernelspec": {
   "display_name": "Python 3",
   "language": "python",
   "name": "python3"
  },
  "language_info": {
   "codemirror_mode": {
    "name": "ipython",
    "version": 3
   },
   "file_extension": ".py",
   "mimetype": "text/x-python",
   "name": "python",
   "nbconvert_exporter": "python",
   "pygments_lexer": "ipython3",
   "version": "3.6.8"
  }
 },
 "nbformat": 4,
 "nbformat_minor": 2
}
