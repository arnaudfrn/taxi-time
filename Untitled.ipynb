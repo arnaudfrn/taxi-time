{
 "cells": [
  {
   "cell_type": "code",
   "execution_count": 1,
   "metadata": {},
   "outputs": [
    {
     "data": {
      "text/plain": [
       "['Carrier',\n",
       " 'Flight',\n",
       " 'acType',\n",
       " 'Ship',\n",
       " 'sto',\n",
       " 'runway',\n",
       " 'Stand',\n",
       " 'ALDT',\n",
       " 'CIBT',\n",
       " 'Chock_on',\n",
       " 'EIBT',\n",
       " 'CIBT',\n",
       " 'AIBT']"
      ]
     },
     "execution_count": 1,
     "metadata": {},
     "output_type": "execute_result"
    }
   ],
   "source": [
    "import os \n",
    "import pandas as pd\n",
    "import numpy as np\n",
    "import sklearn as sk\n",
    "\n",
    "from src.preprocessing import *\n",
    "\n",
    "path_glossary = 'data/Glossary.xlsx'\n",
    "glossary_feature_selection(path_glossary)"
   ]
  },
  {
   "cell_type": "code",
   "execution_count": 2,
   "metadata": {},
   "outputs": [
    {
     "name": "stderr",
     "output_type": "stream",
     "text": [
      "C:\\ProgramData\\Anaconda3\\lib\\site-packages\\IPython\\core\\interactiveshell.py:3044: DtypeWarning: Columns (0,1,2,3,4,5,6,7,8,9,10,11,12,13,14,15,16,17,18,19,20,21,22,23,24,25,26,27,28,29,30,31,32,33,34,35,36,37,38,39,40,41,42) have mixed types. Specify dtype option on import or set low_memory=False.\n",
      "  interactivity=interactivity, compiler=compiler, result=result)\n"
     ]
    }
   ],
   "source": [
    "# glossary_feature_selection(path_glossary)\n",
    "df = pd.read_csv('data/0. Airport data/Airport_Data.csv')\n",
    "df_target = create_target(df)"
   ]
  },
  {
   "cell_type": "code",
   "execution_count": null,
   "metadata": {},
   "outputs": [],
   "source": [
    "df.iloc[pd.DataFrame(df_target).index]\n",
    "df.drop(columns=['aibt','aldt'],inplace=True)"
   ]
  },
  {
   "cell_type": "code",
   "execution_count": null,
   "metadata": {},
   "outputs": [],
   "source": [
    "test = design_matrix_airport_data('data/0. Airport data/Airport_Data.csv')"
   ]
  },
  {
   "cell_type": "code",
   "execution_count": null,
   "metadata": {},
   "outputs": [],
   "source": [
    "test.head(1)"
   ]
  },
  {
   "cell_type": "code",
   "execution_count": null,
   "metadata": {},
   "outputs": [],
   "source": [
    "useful_variable = ['acReg',\n",
    "                   'acars_out',\n",
    "                   'aibt_received',\n",
    "                   'aldt_received',\n",
    "                   'gpu_off',\n",
    "                   'gpu_on',\n",
    "                   'last_distance_to_gate',\n",
    "                   'last_in_sector',\n",
    "                   'mode_s',\n",
    "                   'partition',\n",
    "                   'pca_off',\n",
    "                   'pca_on',\n",
    "                   'roll',\n",
    "                   'speed',\n",
    "                   'sqt',\n",
    "                   'stand_active',\n",
    "                   'stand_auto_start',\n",
    "                   'stand_docking',\n",
    "                   'stand_free',\n",
    "                   'stand_last_change',\n",
    "                   'stand_prepared',\n",
    "                   'stand_scheduled',\n",
    "                   'status',\n",
    "                   'towbar_on',\n",
    "                   'vdgs_in',\n",
    "                   'vdgs_out',\n",
    "                   'plb_on',\n",
    "                   'plb_off',\n",
    "                   'eobt',\n",
    "                   'aobt',\n",
    "                   'atot']\n",
    "\n",
    "test.drop(columns=useful_variable,inplace=True)"
   ]
  },
  {
   "cell_type": "code",
   "execution_count": null,
   "metadata": {},
   "outputs": [],
   "source": [
    "def correspondance_dictionnary(Path_correspondance):\n",
    "    #convert the pickle correspondance which is a dataframe in a dictionnary\n",
    "    matching = pd.read_pickle(Path_correspondance)\n",
    "    matching_dict = dict(zip(matching.AirportData.str.lower().str.strip(), matching.Accharac.str.lower().str.strip()))\n",
    "    return matching_dict\n",
    "    \n",
    "def augmented_design_matrix_with_AC_charac(df,df_charac,matching_dict):\n",
    "    #add the characteristic of aircraft to the design matrix\n",
    "    #df: design matrix dataframe\n",
    "    #df_charac : clean aircraft characteristic dataframe\n",
    "    #matching_dict : dictionnary of correspondance\n",
    "    df['acType']= df['acType'].str.lower().str.strip()\n",
    "    df_charac['Model'] = df_charac['Model'].str.lower().str.strip()\n",
    "    df['acType'] = df['acType'].map(matching_dict)\n",
    "    df_merged = pd.merge(df, df_charac, left_on='acType', right_on='Model', how='left')\n",
    "    return df_merged"
   ]
  },
  {
   "cell_type": "code",
   "execution_count": null,
   "metadata": {},
   "outputs": [],
   "source": [
    "#PATH\n",
    "AC_charac = 'data/1. AC characteristics/ACchar.xlsx'\n",
    "correspondance = 'Correspondance.pkl'\n",
    "matching = pd.read_pickle(correspondance)\n",
    "mydict = dict(zip(matching.AirportData.str.lower().str.strip(), matching.Accharac.str.lower().str.strip()))\n",
    "mydict2 = dict(zip(matching.Accharac.str.lower().str.strip(), matching.AirportData.str.lower().str.strip()))"
   ]
  },
  {
   "cell_type": "code",
   "execution_count": null,
   "metadata": {},
   "outputs": [],
   "source": [
    "df_test = filtering_AC_charac('Correspondance.pkl','data/1. AC characteristics/ACchar.xlsx')\n"
   ]
  },
  {
   "cell_type": "code",
   "execution_count": null,
   "metadata": {},
   "outputs": [],
   "source": [
    "my_dict = correspondance_dictionnary(correspondance)\n",
    "df_merged = augmented_design_matrix_with_AC_charac(test,df_test,my_dict)\n",
    "df_merged.head()"
   ]
  },
  {
   "cell_type": "code",
   "execution_count": null,
   "metadata": {},
   "outputs": [],
   "source": [
    "df_merged = augmented_design_matrix_with_AC_charac(test,df_test,correspondance)"
   ]
  },
  {
   "cell_type": "code",
   "execution_count": null,
   "metadata": {},
   "outputs": [],
   "source": [
    "df_merged.head(10)"
   ]
  },
  {
   "cell_type": "code",
   "execution_count": null,
   "metadata": {},
   "outputs": [],
   "source": [
    "df_merged.shape"
   ]
  }
 ],
 "metadata": {
  "kernelspec": {
   "display_name": "Python 3",
   "language": "python",
   "name": "python3"
  },
  "language_info": {
   "codemirror_mode": {
    "name": "ipython",
    "version": 3
   },
   "file_extension": ".py",
   "mimetype": "text/x-python",
   "name": "python",
   "nbconvert_exporter": "python",
   "pygments_lexer": "ipython3",
   "version": "3.6.8"
  }
 },
 "nbformat": 4,
 "nbformat_minor": 2
}
