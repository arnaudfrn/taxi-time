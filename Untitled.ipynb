{
 "cells": [
  {
   "cell_type": "code",
   "execution_count": 16,
   "metadata": {},
   "outputs": [],
   "source": [
    "import os \n",
    "import pandas as pd\n",
    "import numpy as np\n",
    "import sklearn as sk\n",
    "\n",
    "from src.preprocessing import *\n",
    "\n",
    "path_glossary = 'data/Glossary.xlsx'\n",
    "\n",
    "\n",
    "def glossary_feature_selection(path_glossary):\n",
    "    ignore = ['To ignore', 'to ignore',  'Technical characteristic to ignore', 'Aircraft Type (with another regulation -not to be used for the case)']\n",
    "    columns_df = pd.read_excel(path_glossary, sheet_name = 1).iloc[:,[0,2]]\n",
    "    feature_list = [columns_df.iloc[:,0].tolist()[i] for i in range((len(columns_df.iloc[:,1].tolist()))) if columns_df.iloc[:,1].tolist()[i] not in ignore ]\n",
    "    return feature_list\n",
    "\n",
    "\n",
    "def create_target(df_airportData):\n",
    "    df_filter = df_airportData[(~df_airportData['aibt'].isna()) & (~df_airportData['aldt'].isna()) & (df_airportData['aibt'] != 'aibt')].dropna(how = 'all')\n",
    "    return (pd.to_datetime(df_filter['aibt']) - pd.to_datetime(df_filter['aldt'])).astype('timedelta64[s]')\n",
    "\n",
    "def design_matrix_airport_data(PATH_airport_data):\n",
    "    df = pd.read_csv(PATH_airport_data)\n",
    "    df_target = create_target(df)\n",
    "    df= df.iloc[pd.DataFrame(df_target).index]\n",
    "    df.drop(columns=['aibt','aldt'],inplace=True)\n",
    "    return df"
   ]
  },
  {
   "cell_type": "code",
   "execution_count": 19,
   "metadata": {},
   "outputs": [],
   "source": [
    "glossary_feature_selection(path_glossary)\n",
    "df = pd.read_csv('data/0. Airport data/Airport_Data.csv')\n",
    "df_target = create_target(df)"
   ]
  },
  {
   "cell_type": "code",
   "execution_count": 25,
   "metadata": {},
   "outputs": [
    {
     "name": "stderr",
     "output_type": "stream",
     "text": [
      "C:\\ProgramData\\Anaconda3\\lib\\site-packages\\pandas\\core\\frame.py:3940: SettingWithCopyWarning: \n",
      "A value is trying to be set on a copy of a slice from a DataFrame\n",
      "\n",
      "See the caveats in the documentation: http://pandas.pydata.org/pandas-docs/stable/indexing.html#indexing-view-versus-copy\n",
      "  errors=errors)\n"
     ]
    }
   ],
   "source": [
    "df.iloc[pd.DataFrame(df_target).index]\n",
    "df.drop(columns=['aibt','aldt'],inplace=True)"
   ]
  },
  {
   "cell_type": "code",
   "execution_count": 35,
   "metadata": {},
   "outputs": [],
   "source": []
  },
  {
   "cell_type": "code",
   "execution_count": 36,
   "metadata": {},
   "outputs": [
    {
     "name": "stderr",
     "output_type": "stream",
     "text": [
      "C:\\ProgramData\\Anaconda3\\lib\\site-packages\\IPython\\core\\interactiveshell.py:3209: DtypeWarning: Columns (0,1,2,3,4,5,6,7,8,9,10,11,12,13,14,15,16,17,18,19,20,21,22,23,24,25,26,27,28,29,30,31,32,33,34,35,36,37,38,39,40,41,42) have mixed types. Specify dtype option on import or set low_memory=False.\n",
      "  if (yield from self.run_code(code, result)):\n"
     ]
    }
   ],
   "source": [
    "test = design_matrix_airport_data('data/0. Airport data/Airport_Data.csv')"
   ]
  },
  {
   "cell_type": "code",
   "execution_count": 55,
   "metadata": {},
   "outputs": [
    {
     "data": {
      "text/plain": [
       "26"
      ]
     },
     "execution_count": 55,
     "metadata": {},
     "output_type": "execute_result"
    }
   ],
   "source": [
    "useful_variable = ['acReg',\n",
    "                   'acars_out',\n",
    "                   'aibt_received',\n",
    "                   'aldt_received',\n",
    "                   'gpu_off',\n",
    "                   'gpu_on',\n",
    "                   'last_distance_to_gate',\n",
    "                   'last_in_sector',\n",
    "                   'mode_s',\n",
    "                   'partition',\n",
    "                   'pca_off',\n",
    "                   'pca_on',\n",
    "                   'roll',\n",
    "                   'speed',\n",
    "                   'sqt',\n",
    "                   'stand_active',\n",
    "                   'stand_auto_start',\n",
    "                   'stand_docking',\n",
    "                   'stand_free',\n",
    "                   'stand_last_change',\n",
    "                   'stand_prepared',\n",
    "                   'stand_scheduled',\n",
    "                   'status',\n",
    "                   'towbar_on',\n",
    "                   'vdgs_in',\n",
    "                   'vdgs_out']\n"
   ]
  },
  {
   "cell_type": "code",
   "execution_count": 56,
   "metadata": {},
   "outputs": [],
   "source": [
    "test.drop(columns=useful_variable,inplace=True)"
   ]
  },
  {
   "cell_type": "code",
   "execution_count": 57,
   "metadata": {},
   "outputs": [
    {
     "data": {
      "text/plain": [
       "(137992, 15)"
      ]
     },
     "execution_count": 57,
     "metadata": {},
     "output_type": "execute_result"
    }
   ],
   "source": [
    "test.shape"
   ]
  }
 ],
 "metadata": {
  "kernelspec": {
   "display_name": "Python 3",
   "language": "python",
   "name": "python3"
  },
  "language_info": {
   "codemirror_mode": {
    "name": "ipython",
    "version": 3
   },
   "file_extension": ".py",
   "mimetype": "text/x-python",
   "name": "python",
   "nbconvert_exporter": "python",
   "pygments_lexer": "ipython3",
   "version": "3.6.8"
  }
 },
 "nbformat": 4,
 "nbformat_minor": 2
}
