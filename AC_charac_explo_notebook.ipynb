{
 "cells": [
  {
   "cell_type": "code",
   "execution_count": 2,
   "metadata": {},
   "outputs": [],
   "source": [
    "# LIBRARY\n",
    "import pandas as pd\n",
    "import numpy as np\n",
    "import sklearn as sk\n",
    "import matplotlib.pyplot as plt\n",
    "\n",
    "\n",
    "# FONCTION \n",
    "def reading_data(PATH,sheet):\n",
    "    if PATH.endswith('xlsx'):\n",
    "        x = pd.read_excel(PATH,sheet_name=sheet)\n",
    "    if PATH.endswith('csv'):\n",
    "        x = pd.read_csv(PATH)\n",
    "    return x\n",
    "\n",
    "\n",
    "def filtering_AC_charac(path_correspondance,path_AC_charac):\n",
    "    # Filtering AC_charac dataset with the aircraft that are actually used in airportdata\n",
    "    # path_correspondance : path of the pickle of correspondance\n",
    "    #path_AC_charac : path of the AC charac datasert \n",
    "\n",
    "    df_charac = reading_data(path_AC_charac,'test')\n",
    "    \n",
    "    matching = pd.read_pickle(path_correspondance)\n",
    "    matching_list = list(matching.Accharac.values)\n",
    "    \n",
    "    df_charac['Model'] = df_charac['Model'].str.lower().str.strip()\n",
    "    matching_list = [x.lower().strip() for x in matching_list]\n",
    "    df_charac = df_charac[df_charac['Model'].isin(matching_list)]\n",
    "    df_charac.drop_duplicates(subset='Model', keep=\"first\",inplace=True)\n",
    "    \n",
    "    return df_charac\n",
    "\n",
    "\n",
    "#PATH\n",
    "AC_charac = 'data/1. AC characteristics/ACchar.xlsx'\n",
    "correspondance = 'Correspondance.pkl'"
   ]
  },
  {
   "cell_type": "code",
   "execution_count": 3,
   "metadata": {},
   "outputs": [
    {
     "data": {
      "text/html": [
       "<div>\n",
       "<style scoped>\n",
       "    .dataframe tbody tr th:only-of-type {\n",
       "        vertical-align: middle;\n",
       "    }\n",
       "\n",
       "    .dataframe tbody tr th {\n",
       "        vertical-align: top;\n",
       "    }\n",
       "\n",
       "    .dataframe thead th {\n",
       "        text-align: right;\n",
       "    }\n",
       "</style>\n",
       "<table border=\"1\" class=\"dataframe\">\n",
       "  <thead>\n",
       "    <tr style=\"text-align: right;\">\n",
       "      <th></th>\n",
       "      <th>Date Completed</th>\n",
       "      <th>Manufacturer</th>\n",
       "      <th>Model</th>\n",
       "      <th>Physical Class (Engine)</th>\n",
       "      <th># Engines</th>\n",
       "      <th>AAC</th>\n",
       "      <th>ADG</th>\n",
       "      <th>TDG</th>\n",
       "      <th>Approach Speed\n",
       "(Vref)</th>\n",
       "      <th>Wingtip Configuration</th>\n",
       "      <th>...</th>\n",
       "      <th>MGW\n",
       "(Outer to Outer)</th>\n",
       "      <th>MTOW</th>\n",
       "      <th>Max Ramp\n",
       "Max Taxi</th>\n",
       "      <th>Main Gear Config</th>\n",
       "      <th>ICAO Code</th>\n",
       "      <th>Wake Category</th>\n",
       "      <th>ATCT Weight Class</th>\n",
       "      <th>Years Manufactured</th>\n",
       "      <th>Note</th>\n",
       "      <th>Parking Area (WS x Length), sf</th>\n",
       "    </tr>\n",
       "  </thead>\n",
       "  <tbody>\n",
       "    <tr>\n",
       "      <th>0</th>\n",
       "      <td>2018-07-03 00:00:00</td>\n",
       "      <td>Acro Sport</td>\n",
       "      <td>Acro Sport</td>\n",
       "      <td>Piston</td>\n",
       "      <td>1</td>\n",
       "      <td>A</td>\n",
       "      <td>I</td>\n",
       "      <td>1A</td>\n",
       "      <td>55.9</td>\n",
       "      <td>no winglets</td>\n",
       "      <td>...</td>\n",
       "      <td>tbd</td>\n",
       "      <td>1350</td>\n",
       "      <td>1520</td>\n",
       "      <td>S</td>\n",
       "      <td>ACRO</td>\n",
       "      <td>L</td>\n",
       "      <td>Small Eqpt</td>\n",
       "      <td>tbd</td>\n",
       "      <td>tbd</td>\n",
       "      <td>342.708</td>\n",
       "    </tr>\n",
       "    <tr>\n",
       "      <th>1</th>\n",
       "      <td>2018-06-01 00:00:00</td>\n",
       "      <td>Acro Sport</td>\n",
       "      <td>Acro Sport II</td>\n",
       "      <td>Piston</td>\n",
       "      <td>1</td>\n",
       "      <td>A</td>\n",
       "      <td>I</td>\n",
       "      <td>1A</td>\n",
       "      <td>59.8</td>\n",
       "      <td>no winglets</td>\n",
       "      <td>...</td>\n",
       "      <td>tbd</td>\n",
       "      <td>1520</td>\n",
       "      <td>1520</td>\n",
       "      <td>S</td>\n",
       "      <td>ACR2</td>\n",
       "      <td>L</td>\n",
       "      <td>Small Eqpt</td>\n",
       "      <td>tbd</td>\n",
       "      <td>tbd</td>\n",
       "      <td>408.507</td>\n",
       "    </tr>\n",
       "    <tr>\n",
       "      <th>2</th>\n",
       "      <td>2018-07-03 00:00:00</td>\n",
       "      <td>Acro Sport</td>\n",
       "      <td>Cougar</td>\n",
       "      <td>Piston</td>\n",
       "      <td>1</td>\n",
       "      <td>A</td>\n",
       "      <td>I</td>\n",
       "      <td>1A</td>\n",
       "      <td>45.5</td>\n",
       "      <td>no winglets</td>\n",
       "      <td>...</td>\n",
       "      <td>tbd</td>\n",
       "      <td>1250</td>\n",
       "      <td>1250</td>\n",
       "      <td>S</td>\n",
       "      <td>COUG</td>\n",
       "      <td>L</td>\n",
       "      <td>Small Eqpt</td>\n",
       "      <td>tbd</td>\n",
       "      <td>tbd</td>\n",
       "      <td>387.792</td>\n",
       "    </tr>\n",
       "  </tbody>\n",
       "</table>\n",
       "<p>3 rows × 25 columns</p>\n",
       "</div>"
      ],
      "text/plain": [
       "        Date Completed Manufacturer          Model Physical Class (Engine)  \\\n",
       "0  2018-07-03 00:00:00   Acro Sport     Acro Sport                  Piston   \n",
       "1  2018-06-01 00:00:00   Acro Sport  Acro Sport II                  Piston   \n",
       "2  2018-07-03 00:00:00   Acro Sport         Cougar                  Piston   \n",
       "\n",
       "  # Engines AAC ADG TDG  Approach Speed\\n(Vref) Wingtip Configuration  ...  \\\n",
       "0         1   A   I  1A                    55.9           no winglets  ...   \n",
       "1         1   A   I  1A                    59.8           no winglets  ...   \n",
       "2         1   A   I  1A                    45.5           no winglets  ...   \n",
       "\n",
       "  MGW\\n(Outer to Outer)  MTOW Max Ramp\\nMax Taxi Main Gear Config ICAO Code  \\\n",
       "0                   tbd  1350               1520                S      ACRO   \n",
       "1                   tbd  1520               1520                S      ACR2   \n",
       "2                   tbd  1250               1250                S      COUG   \n",
       "\n",
       "  Wake Category ATCT Weight Class Years Manufactured Note  \\\n",
       "0             L        Small Eqpt                tbd  tbd   \n",
       "1             L        Small Eqpt                tbd  tbd   \n",
       "2             L        Small Eqpt                tbd  tbd   \n",
       "\n",
       "  Parking Area (WS x Length), sf  \n",
       "0                        342.708  \n",
       "1                        408.507  \n",
       "2                        387.792  \n",
       "\n",
       "[3 rows x 25 columns]"
      ]
     },
     "execution_count": 3,
     "metadata": {},
     "output_type": "execute_result"
    }
   ],
   "source": [
    "## reading aircraft characteristics\n",
    "df_charac = reading_data(AC_charac,'test')\n",
    "\n",
    "df_charac.head(3)"
   ]
  },
  {
   "cell_type": "code",
   "execution_count": 4,
   "metadata": {},
   "outputs": [
    {
     "name": "stdout",
     "output_type": "stream",
     "text": [
      "AAC (Aircraft Approach Category)  for a runway is based on the reference landing speed of the design aircraft\n",
      "ADG (Airplane Design Group) considers the aircraft wingspan\n",
      "TDG (Taxiway Design Group) considers the aircraft gear configuration-main gear width and cockpit to main gear-spacing\n",
      "MGW considers the wheel to wheel span of an aircraft\n",
      "MTOW is Max Takeoff Weight\n",
      "Max Ramp is maximum weight authorised for manoeuvring (taxiing or towing) an aircraft on the ground\n",
      "ICAO (aircraft type designator) is a code designating every aircraft type (and some sub-types) that may fly\n",
      "Wake category is Wake turbulence categories based upon the Maximum Takeoff Weight (MTOW) of the aircraft\n",
      "ATCT Weight Class - Cant find a definition maybe Air traffic control\n"
     ]
    }
   ],
   "source": [
    "## abbreviation to understand in column name \n",
    "print('AAC (Aircraft Approach Category)  for a runway is based on the reference landing speed of the design aircraft')\n",
    "print('ADG (Airplane Design Group) considers the aircraft wingspan')\n",
    "print('TDG (Taxiway Design Group) considers the aircraft gear configuration-main gear width and cockpit to main gear-spacing')\n",
    "print('MGW considers the wheel to wheel span of an aircraft')\n",
    "print('MTOW is Max Takeoff Weight')\n",
    "print('Max Ramp is maximum weight authorised for manoeuvring (taxiing or towing) an aircraft on the ground')\n",
    "print('ICAO (aircraft type designator) is a code designating every aircraft type (and some sub-types) that may fly')\n",
    "print('Wake category is Wake turbulence categories based upon the Maximum Takeoff Weight (MTOW) of the aircraft')\n",
    "print('ATCT Weight Class - Cant find a definition maybe Air traffic control')"
   ]
  },
  {
   "cell_type": "code",
   "execution_count": 5,
   "metadata": {},
   "outputs": [],
   "source": [
    "## loading the pickle containing the matching ID between Airport data and AC characteristic - database reconciliation\n",
    "matching = pd.read_pickle(correspondance)\n",
    "\n",
    "## create a list to filter the aircraft actually used in the airport\n",
    "matching_list = list(matching.Accharac.values)\n",
    "\n",
    "## filtering AC dataset\n",
    "df_charac['Model'] = df_charac['Model'].str.lower().str.strip()\n",
    "matching_list = [x.lower().strip() for x in matching_list]\n",
    "\n",
    "df_charac = df_charac[df_charac['Model'].isin(matching_list)]\n"
   ]
  },
  {
   "cell_type": "code",
   "execution_count": 6,
   "metadata": {},
   "outputs": [
    {
     "name": "stdout",
     "output_type": "stream",
     "text": [
      "# line:                           51\n",
      "# line after delete duplicate     49\n",
      "-----------------------------------------------------------\n",
      "Date Completed                    14\n",
      "Manufacturer                       6\n",
      "Model                             49\n",
      "Physical Class (Engine)            2\n",
      "# Engines                          3\n",
      "AAC                                3\n",
      "ADG                                6\n",
      "TDG                                7\n",
      "Approach Speed\\n(Vref)            22\n",
      "Wingtip Configuration              4\n",
      "Wingspan, ft                      28\n",
      "Length, ft                        36\n",
      "Tail Height, ft\\n(@ OEW)          32\n",
      "Wheelbase, ft                     36\n",
      "Cockpit to Main Gear (CMG)        37\n",
      "MGW\\n(Outer to Outer)             24\n",
      "MTOW                              39\n",
      "Max Ramp\\nMax Taxi                41\n",
      "Main Gear Config                   7\n",
      "ICAO Code                         36\n",
      "Wake Category                      3\n",
      "ATCT Weight Class                  5\n",
      "Years Manufactured                 2\n",
      "Note                               1\n",
      "Parking Area (WS x Length), sf    44\n",
      "dtype: int64\n"
     ]
    }
   ],
   "source": [
    "##size of the dataset - number of unique values \n",
    "print('# line:                           '+ str(df_charac.shape[0]))\n",
    "df_charac.drop_duplicates(subset='Model', keep=\"first\",inplace=True)\n",
    "print('# line after delete duplicate     '+ str(df_charac.shape[0]))\n",
    "print('-----------------------------------------------------------')\n",
    "print(df_charac.nunique())"
   ]
  },
  {
   "cell_type": "code",
   "execution_count": 7,
   "metadata": {},
   "outputs": [
    {
     "data": {
      "text/plain": [
       "<matplotlib.axes._subplots.AxesSubplot at 0x2534deb6d30>"
      ]
     },
     "execution_count": 7,
     "metadata": {},
     "output_type": "execute_result"
    },
    {
     "data": {
      "image/png": "[encoded data removed]",
      "text/plain": [
       "<Figure size 432x288 with 1 Axes>"
      ]
     },
     "metadata": {
      "needs_background": "light"
     },
     "output_type": "display_data"
    }
   ],
   "source": [
    "#exploring repartition of each variable\n",
    "\n",
    "df_charac['Physical Class (Engine)'].value_counts().plot.bar()\n"
   ]
  },
  {
   "cell_type": "code",
   "execution_count": 8,
   "metadata": {},
   "outputs": [
    {
     "data": {
      "text/plain": [
       "<matplotlib.axes._subplots.AxesSubplot at 0x2534de8f9e8>"
      ]
     },
     "execution_count": 8,
     "metadata": {},
     "output_type": "execute_result"
    },
    {
     "data": {
      "image/png": "[encoded data removed]",
      "text/plain": [
       "<Figure size 432x288 with 1 Axes>"
      ]
     },
     "metadata": {
      "needs_background": "light"
     },
     "output_type": "display_data"
    }
   ],
   "source": [
    "df_charac['Manufacturer'].value_counts().plot.bar()"
   ]
  },
  {
   "cell_type": "code",
   "execution_count": 12,
   "metadata": {},
   "outputs": [
    {
     "data": {
      "text/plain": [
       "<matplotlib.axes._subplots.AxesSubplot at 0x2534f3115c0>"
      ]
     },
     "execution_count": 12,
     "metadata": {},
     "output_type": "execute_result"
    },
    {
     "data": {
      "image/png": "[encoded data removed]",
      "text/plain": [
       "<Figure size 432x288 with 1 Axes>"
      ]
     },
     "metadata": {
      "needs_background": "light"
     },
     "output_type": "display_data"
    }
   ],
   "source": [
    "df_charac['Wingtip Configuration'].value_counts().plot.bar()"
   ]
  }
 ],
 "metadata": {
  "kernelspec": {
   "display_name": "Python 3",
   "language": "python",
   "name": "python3"
  },
  "language_info": {
   "codemirror_mode": {
    "name": "ipython",
    "version": 3
   },
   "file_extension": ".py",
   "mimetype": "text/x-python",
   "name": "python",
   "nbconvert_exporter": "python",
   "pygments_lexer": "ipython3",
   "version": "3.6.8"
  }
 },
 "nbformat": 4,
 "nbformat_minor": 2
}
