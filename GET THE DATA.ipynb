{
 "cells": [
  {
   "cell_type": "code",
   "execution_count": 1,
   "metadata": {},
   "outputs": [
    {
     "name": "stderr",
     "output_type": "stream",
     "text": [
      "/Users/tristanmayer/anaconda3/lib/python3.6/site-packages/sklearn/ensemble/weight_boosting.py:29: DeprecationWarning: numpy.core.umath_tests is an internal NumPy module and should not be imported. It will be removed in a future NumPy release.\n",
      "  from numpy.core.umath_tests import inner1d\n"
     ]
    }
   ],
   "source": [
    "import pandas as pd\n",
    "from datetime import timedelta  \n",
    "import os\n",
    "\n",
    "os.chdir('/Users/tristanmayer/Documents/GitHub/taxi-time')\n",
    "from src.preprocessing import *\n",
    "from src.master import *\n",
    "from src.training_testing_functions import *\n",
    "from src.feature_engineering import *\n",
    "from itertools import product"
   ]
  },
  {
   "cell_type": "code",
   "execution_count": null,
   "metadata": {},
   "outputs": [
    {
     "name": "stderr",
     "output_type": "stream",
     "text": [
      "/Users/tristanmayer/anaconda3/lib/python3.6/site-packages/IPython/core/interactiveshell.py:3267: DtypeWarning: Columns (0,1,2,3,4,5,6,7,8,9,10,11,12,13,14,15,16,17,18,19,20,21,22,23,24,25,26,27,28,29,30,31,32,33,34,35,36,37,38,39,40,41,42) have mixed types. Specify dtype option on import or set low_memory=False.\n",
      "  exec(code_obj, self.user_global_ns, self.user_ns)\n"
     ]
    }
   ],
   "source": [
    "df_train = master_preprocessing_X('/Users/tristanmayer/Desktop/Supercase Eleven/data/0. Airport data/Airport_Data.csv',\n",
    "                            '/Users/tristanmayer/Desktop/Supercase Eleven/data/2. Weather data/weather_data_prep.csv',\n",
    "                            '/Users/tristanmayer/Desktop/Supercase Eleven/data/1. AC characteristics/ACchar.xlsx',\n",
    "                            '/Users/tristanmayer/Documents/GitHub/taxi-time/Correspondance.pkl')"
   ]
  },
  {
   "cell_type": "code",
   "execution_count": null,
   "metadata": {},
   "outputs": [],
   "source": [
    "df_test = master_preprocessing_X('/Users/tristanmayer/Desktop/Supercase Eleven/data/Test_Set_Airport_Data.csv',\n",
    "                            '/Users/tristanmayer/Desktop/Supercase Eleven/data/2. Weather data/weather_data_prep.csv',\n",
    "                            '/Users/tristanmayer/Desktop/Supercase Eleven/data/1. AC characteristics/ACchar.xlsx',\n",
    "                            '/Users/tristanmayer/Documents/GitHub/taxi-time/Correspondance.pkl')"
   ]
  },
  {
   "cell_type": "code",
   "execution_count": null,
   "metadata": {},
   "outputs": [],
   "source": [
    "df_full = merge_df(df_train, df_test)"
   ]
  },
  {
   "cell_type": "code",
   "execution_count": null,
   "metadata": {},
   "outputs": [],
   "source": [
    "df_full2 = use_arnaud_function1(df_full, \n",
    "                                '/Users/tristanmayer/Desktop/Supercase Eleven/data/0. Airport data/Airport_Data.csv',\n",
    "                                '/Users/tristanmayer/Desktop/Supercase Eleven/data/Test_Set_Airport_Data.csv')"
   ]
  },
  {
   "cell_type": "code",
   "execution_count": null,
   "metadata": {},
   "outputs": [],
   "source": [
    "df_full3 = plane_landing_last_hour(df_full2)"
   ]
  },
  {
   "cell_type": "code",
   "execution_count": null,
   "metadata": {},
   "outputs": [],
   "source": [
    "df_full4 = arnaud_function3(df_full3, \n",
    "                                '/Users/tristanmayer/Desktop/Supercase Eleven/data/0. Airport data/Airport_Data.csv',\n",
    "                                '/Users/tristanmayer/Desktop/Supercase Eleven/data/Test_Set_Airport_Data.csv')"
   ]
  },
  {
   "cell_type": "code",
   "execution_count": null,
   "metadata": {},
   "outputs": [],
   "source": [
    "df_target = create_target(df_full4)"
   ]
  },
  {
   "cell_type": "code",
   "execution_count": null,
   "metadata": {},
   "outputs": [],
   "source": [
    "col_numerical = ['AWND', 'PRCP', 'TAVG', 'TMAX', 'TMIN','WDF2', 'WDF5', 'WSF2', 'WSF5', 'WT01', 'WT02', 'WT03', 'WT08',\n",
    "                'nb of planes in movement in the plane',\n",
    "                'rolling average same runway',\n",
    "                 'rolling average same stand',\n",
    "                 'rolling average same runway & same stand', 'TESTING',\n",
    "                'number_of_plane_at_the_gate',\n",
    "                'number_plane_landing',\n",
    "                '']\n",
    "col_dummies = ['SnowProxi']\n",
    "col_to_drop=[ 'flight','sto', 'aldt', 'eibt','aibt',\n",
    "       'cibt', 'chocks_on', 'Manufacturer','Physical Class (Engine)',\n",
    "       '# Engines',\n",
    "       'Wingtip Configuration',\n",
    "       'Tail Height, ft\\n(@ OEW)', 'Wheelbase, ft',\n",
    "       'Cockpit to Main Gear (CMG)', 'MGW\\n(Outer to Outer)',\n",
    "       'Max Ramp\\nMax Taxi', 'Main Gear Config', 'ICAO Code', 'Years Manufactured', 'Note',\n",
    "       'Parking Area (WS x Length), sf','Model','MTOW','Wingspan, ft', 'Length, ft','Approach Speed\\n(Vref)',\n",
    "       'target']\n",
    "col_to_target_encode=['stand','carrier', 'acType','runway','ATCT Weight Class','Wake Category','AAC', 'ADG', 'TDG']"
   ]
  },
  {
   "cell_type": "code",
   "execution_count": null,
   "metadata": {},
   "outputs": [],
   "source": [
    "res_ft_pimp = features_pimpage(df_full4,col_numerical,col_to_drop,col_dummies, col_to_target_encode,df_target,\n",
    "                           path_feature =\"Feature_congestion_movement_tot.pkl\" ,CatBoost=False)"
   ]
  },
  {
   "cell_type": "code",
   "execution_count": null,
   "metadata": {},
   "outputs": [],
   "source": [
    "X_train, y_train, X_test, y_test = unmerged_df(res_ft_pimp)"
   ]
  },
  {
   "cell_type": "code",
   "execution_count": null,
   "metadata": {},
   "outputs": [],
   "source": []
  }
 ],
 "metadata": {
  "kernelspec": {
   "display_name": "Python 3",
   "language": "python",
   "name": "python3"
  },
  "language_info": {
   "codemirror_mode": {
    "name": "ipython",
    "version": 3
   },
   "file_extension": ".py",
   "mimetype": "text/x-python",
   "name": "python",
   "nbconvert_exporter": "python",
   "pygments_lexer": "ipython3",
   "version": "3.6.8"
  }
 },
 "nbformat": 4,
 "nbformat_minor": 2
}
