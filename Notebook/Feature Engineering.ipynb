{
 "cells": [
  {
   "cell_type": "markdown",
   "metadata": {},
   "source": [
    "# Feature Engineering\n",
    "## Test Tristan\n",
    "\n",
    "### Packages"
   ]
  },
  {
   "cell_type": "code",
   "execution_count": 1,
   "metadata": {},
   "outputs": [],
   "source": [
    "import pandas as pd\n",
    "from datetime import timedelta   \n",
    "import os\n",
    "\n",
    "os.chdir('/Users/tristanmayer/Documents/GitHub/taxi-time')\n",
    "from src.preprocessing import *\n",
    "from src.master import *\n",
    "from src.features_congestion import *"
   ]
  },
  {
   "cell_type": "markdown",
   "metadata": {},
   "source": [
    "### Data"
   ]
  },
  {
   "cell_type": "code",
   "execution_count": 5,
   "metadata": {},
   "outputs": [
    {
     "name": "stderr",
     "output_type": "stream",
     "text": [
      "/Users/tristanmayer/anaconda3/lib/python3.6/site-packages/IPython/core/interactiveshell.py:3267: DtypeWarning: Columns (0,1,2,3,4,5,6,7,8,9,10,11,12,13,14,15,16,17,18,19,20,21,22,23,24,25,26,27,28,29,30,31,32,33,34,35,36,37,38,39,40,41,42) have mixed types. Specify dtype option on import or set low_memory=False.\n",
      "  exec(code_obj, self.user_global_ns, self.user_ns)\n"
     ]
    }
   ],
   "source": [
    "df = master_preprocessing_X('/Users/tristanmayer/Desktop/Supercase Eleven/data/0. Airport data/Airport_Data.csv',\n",
    "                            '/Users/tristanmayer/Desktop/Supercase Eleven/data/2. Weather data/weather_data_prep.csv',\n",
    "                            '/Users/tristanmayer/Desktop/Supercase Eleven/data/1. AC characteristics/ACchar.xlsx',\n",
    "                            '/Users/tristanmayer/Documents/GitHub/taxi-time/Correspondance.pkl')"
   ]
  },
  {
   "cell_type": "code",
   "execution_count": 6,
   "metadata": {},
   "outputs": [
    {
     "data": {
      "text/html": [
       "<div>\n",
       "<style scoped>\n",
       "    .dataframe tbody tr th:only-of-type {\n",
       "        vertical-align: middle;\n",
       "    }\n",
       "\n",
       "    .dataframe tbody tr th {\n",
       "        vertical-align: top;\n",
       "    }\n",
       "\n",
       "    .dataframe thead th {\n",
       "        text-align: right;\n",
       "    }\n",
       "</style>\n",
       "<table border=\"1\" class=\"dataframe\">\n",
       "  <thead>\n",
       "    <tr style=\"text-align: right;\">\n",
       "      <th></th>\n",
       "      <th>carrier</th>\n",
       "      <th>flight</th>\n",
       "      <th>acType</th>\n",
       "      <th>sto</th>\n",
       "      <th>runway</th>\n",
       "      <th>stand</th>\n",
       "      <th>aldt</th>\n",
       "      <th>eibt</th>\n",
       "      <th>cibt</th>\n",
       "      <th>aibt</th>\n",
       "      <th>...</th>\n",
       "      <th>MGW\n",
       "(Outer to Outer)</th>\n",
       "      <th>MTOW</th>\n",
       "      <th>Max Ramp\n",
       "Max Taxi</th>\n",
       "      <th>Main Gear Config</th>\n",
       "      <th>ICAO Code</th>\n",
       "      <th>Wake Category</th>\n",
       "      <th>ATCT Weight Class</th>\n",
       "      <th>Years Manufactured</th>\n",
       "      <th>Note</th>\n",
       "      <th>Parking Area (WS x Length), sf</th>\n",
       "    </tr>\n",
       "  </thead>\n",
       "  <tbody>\n",
       "    <tr>\n",
       "      <th>0</th>\n",
       "      <td>CAR1</td>\n",
       "      <td>2519</td>\n",
       "      <td>b737/9-wl</td>\n",
       "      <td>2018-07-30 04:45:00</td>\n",
       "      <td>RUNWAY02</td>\n",
       "      <td>STAND04</td>\n",
       "      <td>2018-07-30 04:25:00</td>\n",
       "      <td>2018-07-30 04:33:00</td>\n",
       "      <td>2018-07-30 04:33:00</td>\n",
       "      <td>7/30/2018 4:29</td>\n",
       "      <td>...</td>\n",
       "      <td>22.9583</td>\n",
       "      <td>174200</td>\n",
       "      <td>174700</td>\n",
       "      <td>D</td>\n",
       "      <td>B739</td>\n",
       "      <td>M</td>\n",
       "      <td>Large Jet Eqpt</td>\n",
       "      <td>tbd</td>\n",
       "      <td>tbd</td>\n",
       "      <td>16223.1</td>\n",
       "    </tr>\n",
       "    <tr>\n",
       "      <th>1</th>\n",
       "      <td>CAR1</td>\n",
       "      <td>1757</td>\n",
       "      <td>b757/2-wl</td>\n",
       "      <td>2018-07-30 08:53:00</td>\n",
       "      <td>RUNWAY02</td>\n",
       "      <td>STAND07</td>\n",
       "      <td>2018-07-30 08:14:00</td>\n",
       "      <td>2018-07-30 08:19:00</td>\n",
       "      <td>2018-07-30 08:18:00</td>\n",
       "      <td>7/30/2018 8:18</td>\n",
       "      <td>...</td>\n",
       "      <td>28</td>\n",
       "      <td>255500</td>\n",
       "      <td>256000</td>\n",
       "      <td>2D</td>\n",
       "      <td>B752</td>\n",
       "      <td>M</td>\n",
       "      <td>B757 Eqpt</td>\n",
       "      <td>tbd</td>\n",
       "      <td>tbd</td>\n",
       "      <td>20919.9</td>\n",
       "    </tr>\n",
       "    <tr>\n",
       "      <th>2</th>\n",
       "      <td>CAR1</td>\n",
       "      <td>1636</td>\n",
       "      <td>a321/2</td>\n",
       "      <td>2018-07-30 08:49:00</td>\n",
       "      <td>RUNWAY01</td>\n",
       "      <td>STAND08</td>\n",
       "      <td>2018-07-30 08:26:00</td>\n",
       "      <td>2018-07-30 08:31:00</td>\n",
       "      <td>2018-07-30 08:32:00</td>\n",
       "      <td>7/30/2018 8:29</td>\n",
       "      <td>...</td>\n",
       "      <td>29.43</td>\n",
       "      <td>206132</td>\n",
       "      <td>207014</td>\n",
       "      <td>D</td>\n",
       "      <td>A321</td>\n",
       "      <td>M</td>\n",
       "      <td>Large Jet Eqpt</td>\n",
       "      <td>tbd</td>\n",
       "      <td>tbd</td>\n",
       "      <td>16337.8</td>\n",
       "    </tr>\n",
       "    <tr>\n",
       "      <th>3</th>\n",
       "      <td>CAR1</td>\n",
       "      <td>2048</td>\n",
       "      <td>b737/9-wl</td>\n",
       "      <td>2018-07-30 08:56:00</td>\n",
       "      <td>RUNWAY02</td>\n",
       "      <td>STAND09</td>\n",
       "      <td>2018-07-30 08:42:00</td>\n",
       "      <td>2018-07-30 08:47:00</td>\n",
       "      <td>2018-07-30 08:45:00</td>\n",
       "      <td>7/30/2018 8:46</td>\n",
       "      <td>...</td>\n",
       "      <td>22.9583</td>\n",
       "      <td>174200</td>\n",
       "      <td>174700</td>\n",
       "      <td>D</td>\n",
       "      <td>B739</td>\n",
       "      <td>M</td>\n",
       "      <td>Large Jet Eqpt</td>\n",
       "      <td>tbd</td>\n",
       "      <td>tbd</td>\n",
       "      <td>16223.1</td>\n",
       "    </tr>\n",
       "    <tr>\n",
       "      <th>4</th>\n",
       "      <td>CAR1</td>\n",
       "      <td>2510</td>\n",
       "      <td>a321/2</td>\n",
       "      <td>2018-07-30 09:14:00</td>\n",
       "      <td>RUNWAY02</td>\n",
       "      <td>STAND11</td>\n",
       "      <td>2018-07-30 08:52:00</td>\n",
       "      <td>2018-07-30 08:57:00</td>\n",
       "      <td>2018-07-30 08:57:00</td>\n",
       "      <td>7/30/2018 8:57</td>\n",
       "      <td>...</td>\n",
       "      <td>29.43</td>\n",
       "      <td>206132</td>\n",
       "      <td>207014</td>\n",
       "      <td>D</td>\n",
       "      <td>A321</td>\n",
       "      <td>M</td>\n",
       "      <td>Large Jet Eqpt</td>\n",
       "      <td>tbd</td>\n",
       "      <td>tbd</td>\n",
       "      <td>16337.8</td>\n",
       "    </tr>\n",
       "  </tbody>\n",
       "</table>\n",
       "<p>5 rows × 49 columns</p>\n",
       "</div>"
      ],
      "text/plain": [
       "  carrier flight     acType                 sto    runway    stand  \\\n",
       "0    CAR1   2519  b737/9-wl 2018-07-30 04:45:00  RUNWAY02  STAND04   \n",
       "1    CAR1   1757  b757/2-wl 2018-07-30 08:53:00  RUNWAY02  STAND07   \n",
       "2    CAR1   1636     a321/2 2018-07-30 08:49:00  RUNWAY01  STAND08   \n",
       "3    CAR1   2048  b737/9-wl 2018-07-30 08:56:00  RUNWAY02  STAND09   \n",
       "4    CAR1   2510     a321/2 2018-07-30 09:14:00  RUNWAY02  STAND11   \n",
       "\n",
       "                 aldt                eibt                cibt            aibt  \\\n",
       "0 2018-07-30 04:25:00 2018-07-30 04:33:00 2018-07-30 04:33:00  7/30/2018 4:29   \n",
       "1 2018-07-30 08:14:00 2018-07-30 08:19:00 2018-07-30 08:18:00  7/30/2018 8:18   \n",
       "2 2018-07-30 08:26:00 2018-07-30 08:31:00 2018-07-30 08:32:00  7/30/2018 8:29   \n",
       "3 2018-07-30 08:42:00 2018-07-30 08:47:00 2018-07-30 08:45:00  7/30/2018 8:46   \n",
       "4 2018-07-30 08:52:00 2018-07-30 08:57:00 2018-07-30 08:57:00  7/30/2018 8:57   \n",
       "\n",
       "   ... MGW\\n(Outer to Outer)    MTOW  Max Ramp\\nMax Taxi  Main Gear Config  \\\n",
       "0  ...               22.9583  174200              174700                 D   \n",
       "1  ...                    28  255500              256000                2D   \n",
       "2  ...                 29.43  206132              207014                 D   \n",
       "3  ...               22.9583  174200              174700                 D   \n",
       "4  ...                 29.43  206132              207014                 D   \n",
       "\n",
       "   ICAO Code  Wake Category  ATCT Weight Class  Years Manufactured  Note  \\\n",
       "0       B739              M     Large Jet Eqpt                 tbd   tbd   \n",
       "1       B752              M          B757 Eqpt                 tbd   tbd   \n",
       "2       A321              M     Large Jet Eqpt                 tbd   tbd   \n",
       "3       B739              M     Large Jet Eqpt                 tbd   tbd   \n",
       "4       A321              M     Large Jet Eqpt                 tbd   tbd   \n",
       "\n",
       "   Parking Area (WS x Length), sf  \n",
       "0                         16223.1  \n",
       "1                         20919.9  \n",
       "2                         16337.8  \n",
       "3                         16223.1  \n",
       "4                         16337.8  \n",
       "\n",
       "[5 rows x 49 columns]"
      ]
     },
     "execution_count": 6,
     "metadata": {},
     "output_type": "execute_result"
    }
   ],
   "source": [
    "df.head()"
   ]
  },
  {
   "cell_type": "markdown",
   "metadata": {},
   "source": [
    "### Create new columns"
   ]
  },
  {
   "cell_type": "code",
   "execution_count": 2,
   "metadata": {},
   "outputs": [
    {
     "name": "stderr",
     "output_type": "stream",
     "text": [
      "/Users/tristanmayer/anaconda3/lib/python3.6/site-packages/IPython/core/interactiveshell.py:3185: DtypeWarning: Columns (0,1,2,3,4,5,6,7,8,9,10,11,12,13,14,15,16,17,18,19,20,21,22,23,24,25,26,27,28,29,30,31,32,33,34,35,36,37,38,39,40,41,42) have mixed types. Specify dtype option on import or set low_memory=False.\n",
      "  if (yield from self.run_code(code, result)):\n"
     ]
    }
   ],
   "source": [
    "df1 = cleaning_airport_df('/Users/tristanmayer/Desktop/Supercase Eleven/data/0. Airport data/Airport_Data.csv')"
   ]
  },
  {
   "cell_type": "code",
   "execution_count": 12,
   "metadata": {},
   "outputs": [
    {
     "data": {
      "text/plain": [
       "0     1\n",
       "1     0\n",
       "2     0\n",
       "3     0\n",
       "4     0\n",
       "5     0\n",
       "6     1\n",
       "7     1\n",
       "8     0\n",
       "9     1\n",
       "10    3\n",
       "11    2\n",
       "12    3\n",
       "13    3\n",
       "14    2\n",
       "15    2\n",
       "16    3\n",
       "17    3\n",
       "18    4\n",
       "19    4\n",
       "20    5\n",
       "21    2\n",
       "22    1\n",
       "23    2\n",
       "24    3\n",
       "25    2\n",
       "26    5\n",
       "27    5\n",
       "28    2\n",
       "29    4\n",
       "Name: aldt, dtype: int64"
      ]
     },
     "execution_count": 12,
     "metadata": {},
     "output_type": "execute_result"
    }
   ],
   "source": [
    "df['aldt'].apply(lambda x: get_nb_of_planes_in_movement(x, df1))"
   ]
  },
  {
   "cell_type": "code",
   "execution_count": 46,
   "metadata": {},
   "outputs": [
    {
     "name": "stdout",
     "output_type": "stream",
     "text": [
      "99.999275320308436336"
     ]
    }
   ],
   "source": [
    "l=[]\n",
    "for ind, row in df[['runway', 'aldt']].iterrows():\n",
    "    sys.stdout.write(\"\\r{0}\".format((float(ind)/len(df))*100))\n",
    "    sys.stdout.flush()\n",
    "    l.append(get_nb_of_planes_runway_in_last_M_min(row['runway'], row['aldt'], 3000, df1))"
   ]
  },
  {
   "cell_type": "code",
   "execution_count": null,
   "metadata": {},
   "outputs": [],
   "source": []
  },
  {
   "cell_type": "code",
   "execution_count": null,
   "metadata": {},
   "outputs": [],
   "source": []
  },
  {
   "cell_type": "code",
   "execution_count": null,
   "metadata": {},
   "outputs": [],
   "source": []
  },
  {
   "cell_type": "code",
   "execution_count": 48,
   "metadata": {},
   "outputs": [],
   "source": [
    "pd.to_pickle(l, 'FEATURE.pkl')"
   ]
  },
  {
   "cell_type": "code",
   "execution_count": 50,
   "metadata": {},
   "outputs": [
    {
     "data": {
      "text/plain": [
       "137992"
      ]
     },
     "execution_count": 50,
     "metadata": {},
     "output_type": "execute_result"
    }
   ],
   "source": [
    "len(l)"
   ]
  },
  {
   "cell_type": "code",
   "execution_count": 52,
   "metadata": {},
   "outputs": [
    {
     "data": {
      "text/plain": [
       "991"
      ]
     },
     "execution_count": 52,
     "metadata": {},
     "output_type": "execute_result"
    }
   ],
   "source": []
  },
  {
   "cell_type": "code",
   "execution_count": 53,
   "metadata": {},
   "outputs": [],
   "source": [
    "df['F1']=l"
   ]
  },
  {
   "cell_type": "code",
   "execution_count": 54,
   "metadata": {},
   "outputs": [
    {
     "data": {
      "text/plain": [
       "11304"
      ]
     },
     "execution_count": 54,
     "metadata": {},
     "output_type": "execute_result"
    }
   ],
   "source": [
    "df['F1'].idxmax()"
   ]
  },
  {
   "cell_type": "code",
   "execution_count": 55,
   "metadata": {},
   "outputs": [
    {
     "data": {
      "text/plain": [
       "carrier                                                     CAR1\n",
       "flight                                                      1154\n",
       "acType                                                    b717/2\n",
       "sto                                          2018-08-11 02:10:00\n",
       "runway                                                  RUNWAY09\n",
       "stand                                                   STAND107\n",
       "aldt                                         2018-08-11 01:52:00\n",
       "eibt                                         2018-08-11 02:01:00\n",
       "cibt                                         2018-08-11 02:05:00\n",
       "aibt                                              8/11/2018 2:06\n",
       "chocks_on                                         8/11/2018 2:06\n",
       "AWND                                                         NaN\n",
       "PRCP                                                         NaN\n",
       "TAVG                                                         NaN\n",
       "TMAX                                                         NaN\n",
       "TMIN                                                         NaN\n",
       "WDF2                                                         NaN\n",
       "WDF5                                                         NaN\n",
       "WSF2                                                         NaN\n",
       "WSF5                                                         NaN\n",
       "WT01                                                         NaN\n",
       "WT02                                                         NaN\n",
       "WT03                                                         NaN\n",
       "WT08                                                         NaN\n",
       "SnowProxi                                                    NaN\n",
       "Manufacturer                                              Boeing\n",
       "Model                                                     b717/2\n",
       "Physical Class (Engine)                                      Jet\n",
       "# Engines                                                      2\n",
       "AAC                                                            C\n",
       "ADG                                                          III\n",
       "TDG                                                            2\n",
       "Approach Speed\\n(Vref)                                       139\n",
       "Wingtip Configuration                                no winglets\n",
       "Wingspan, ft                                             93.3333\n",
       "Length, ft                                                   124\n",
       "Tail Height, ft\\n(@ OEW)                                 29.6667\n",
       "Wheelbase, ft                                              57.75\n",
       "Cockpit to Main Gear (CMG)                                 57.75\n",
       "MGW\\n(Outer to Outer)                                     19.425\n",
       "MTOW                                                      118000\n",
       "Max Ramp\\nMax Taxi                                        119000\n",
       "Main Gear Config                                               D\n",
       "ICAO Code                                                   B712\n",
       "Wake Category                                                  M\n",
       "ATCT Weight Class                                            tbd\n",
       "Years Manufactured                Went out of production in 2006\n",
       "Note                                                         tbd\n",
       "Parking Area (WS x Length), sf                           11573.3\n",
       "F1                                                           991\n",
       "Name: 11304, dtype: object"
      ]
     },
     "execution_count": 55,
     "metadata": {},
     "output_type": "execute_result"
    }
   ],
   "source": [
    "df.loc[11304]"
   ]
  },
  {
   "cell_type": "code",
   "execution_count": null,
   "metadata": {},
   "outputs": [],
   "source": []
  }
 ],
 "metadata": {
  "kernelspec": {
   "display_name": "Python 3",
   "language": "python",
   "name": "python3"
  },
  "language_info": {
   "codemirror_mode": {
    "name": "ipython",
    "version": 3
   },
   "file_extension": ".py",
   "mimetype": "text/x-python",
   "name": "python",
   "nbconvert_exporter": "python",
   "pygments_lexer": "ipython3",
   "version": "3.6.8"
  }
 },
 "nbformat": 4,
 "nbformat_minor": 2
}
