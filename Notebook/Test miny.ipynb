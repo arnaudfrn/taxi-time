{
 "cells": [
  {
   "cell_type": "code",
   "execution_count": 1,
   "metadata": {},
   "outputs": [],
   "source": [
    "import os\n",
    "import sys\n",
    "import pandas as pd"
   ]
  },
  {
   "cell_type": "code",
   "execution_count": 4,
   "metadata": {},
   "outputs": [],
   "source": [
    "#os.chdir('/Users/arnaud/Desktop/HEC/taxi-time/') \n",
    "sys.path.append(\"..\")\n",
    "from src import preprocessing\n",
    "from src import master\n"
   ]
  },
  {
   "cell_type": "code",
   "execution_count": 6,
   "metadata": {},
   "outputs": [
    {
     "name": "stderr",
     "output_type": "stream",
     "text": [
      "/Users/alexandreminy/anaconda3/lib/python3.6/site-packages/IPython/core/interactiveshell.py:3267: DtypeWarning: Columns (0,1,2,3,4,5,6,7,8,9,10,11,12,13,14,15,16,17,18,19,20,21,22,23,24,25,26,27,28,29,30,31,32,33,34,35,36,37,38,39,40,41,42) have mixed types. Specify dtype option on import or set low_memory=False.\n",
      "  exec(code_obj, self.user_global_ns, self.user_ns)\n"
     ]
    }
   ],
   "source": [
    "df = master.master_preprocessing_X('../../0. Airport data/Airport_Data.csv',\n",
    "                              '../../2. Weather data/weather_data_prep.csv',\n",
    "                              '../../1. AC characteristics/ACchar.xlsx',\n",
    "                              '../Correspondance.pkl')"
   ]
  },
  {
   "cell_type": "code",
   "execution_count": null,
   "metadata": {},
   "outputs": [],
   "source": [
    "Path_AirportData = 'Data/Airport_Data.csv'\n",
    "Path_WeatherData = 'Data/weather_data_prep.csv'\n",
    "Path_Aircraft = 'Data/ACchar.xlsx'\n",
    "Path_correspondance_Aircraft_Airport = 'Correspondance.pkl'"
   ]
  },
  {
   "cell_type": "code",
   "execution_count": null,
   "metadata": {},
   "outputs": [],
   "source": [
    "X_airport = preprocessing.design_matrix_airport_data(Path_AirportData)"
   ]
  },
  {
   "cell_type": "code",
   "execution_count": null,
   "metadata": {},
   "outputs": [],
   "source": [
    "X_weather = preprocessing.weather_clean(Path_WeatherData)"
   ]
  },
  {
   "cell_type": "code",
   "execution_count": null,
   "metadata": {},
   "outputs": [],
   "source": [
    "X_airport['date'] = pd.to_datetime(X_airport['eibt']).dt.date\n",
    "X_weather['date'] = X_weather.index\n",
    "X_weather['date'] = X_weather['date'].dt.date\n",
    "X_airport.merge(X_weather, how='left', on = ['date'])"
   ]
  },
  {
   "cell_type": "code",
   "execution_count": null,
   "metadata": {},
   "outputs": [],
   "source": []
  },
  {
   "cell_type": "code",
   "execution_count": null,
   "metadata": {},
   "outputs": [],
   "source": [
    "X_merged = preprocessing.join_weather_airport(X_airport, X_weather)"
   ]
  },
  {
   "cell_type": "code",
   "execution_count": null,
   "metadata": {},
   "outputs": [],
   "source": [
    "df_charac = preprocessing.filtering_AC_charac(Path_correspondance_Aircraft_Airport, Path_Aircraft)\n",
    "matching_dict = preprocessing.correspondance_dictionnary(Path_correspondance_Aircraft_Airport)"
   ]
  },
  {
   "cell_type": "code",
   "execution_count": null,
   "metadata": {},
   "outputs": [],
   "source": [
    "df = X_merged"
   ]
  },
  {
   "cell_type": "code",
   "execution_count": null,
   "metadata": {},
   "outputs": [],
   "source": [
    "df['acType']= df['acType'].str.lower().str.strip()\n",
    "df_charac['Model'] = df_charac['Model'].str.lower().str.strip()"
   ]
  },
  {
   "cell_type": "code",
   "execution_count": null,
   "metadata": {},
   "outputs": [],
   "source": [
    "inv_map = {v: k for k, v in matching_dict.items()}\n",
    "df_charac['Model'] = df_charac['Model'].map(lambda x: inv_map[x])\n"
   ]
  },
  {
   "cell_type": "code",
   "execution_count": null,
   "metadata": {},
   "outputs": [],
   "source": [
    "df_merged = pd.merge(df, df_charac, left_on = 'acType', right_on='Model', how='left')\n"
   ]
  },
  {
   "cell_type": "code",
   "execution_count": null,
   "metadata": {
    "scrolled": false
   },
   "outputs": [],
   "source": [
    "list_dates=['sto','aldt','eibt','cibt']\n",
    "df_merged = df_merged[df_merged['aibt'] != 'aibt']\n",
    "for column in list_dates:\n",
    "    df_merged[column] = pd.to_datetime(df_merged[column])\n"
   ]
  },
  {
   "cell_type": "code",
   "execution_count": null,
   "metadata": {},
   "outputs": [],
   "source": [
    "def augmented_design_matrix_with_AC_charac(df,df_charac,matching_dict):\n",
    "    #add the characteristic of aircraft to the design matrix\n",
    "    #df: design matrix dataframe\n",
    "    #df_charac : clean aircraft characteristic dataframe\n",
    "    #matching_dict : dictionnary of correspondance\n",
    "\n",
    "    #Preparing the columns for replacment\n",
    "    df['acType']= df['acType'].str.lower().str.strip()\n",
    "    df_charac['Model'] = df_charac['Model'].str.lower().str.strip()\n",
    "\n",
    "    #Inverting the dictionnary to replace values in df_charac['Model] by the values of df['acType]\n",
    "    inv_map = {v: k for k, v in matching_dict.items()}\n",
    "    df_charac['Model']=df_charac['Model'].map(lambda x: inv_map[x])\n",
    "\n",
    "    #Merging\n",
    "    df_merged = pd.merge(df, df_charac, left_on='acType', right_on='Model', how='left')\n",
    "\n",
    "    #Transfom date columns in date format\n",
    "    list_dates=['date','sto','aldt','eibt','cibt','chock_on']\n",
    "    for column in list_dates:\n",
    "        df_merged[column]=pd.to_datetime(df_merged[column])\n",
    "\n",
    "    #Delete Date completed column\n",
    "    df_merged.drop(columns=['Date Completed'], inplace=True)\n",
    "\n",
    "    return df_merged"
   ]
  },
  {
   "cell_type": "code",
   "execution_count": null,
   "metadata": {},
   "outputs": [],
   "source": []
  },
  {
   "cell_type": "code",
   "execution_count": null,
   "metadata": {
    "scrolled": true
   },
   "outputs": [],
   "source": [
    "X_final = preprocessing.augmented_design_matrix_with_AC_charac(X_merged, df_charac, matching_dict)"
   ]
  },
  {
   "cell_type": "code",
   "execution_count": null,
   "metadata": {},
   "outputs": [],
   "source": [
    "from src import preprocessing\n",
    "\n",
    "\n",
    " # Creation of airport and weather dataframe\n",
    "X_airport = preprocessing.design_matrix_airport_data(Path_AirportData)\n",
    "\n",
    "    ### X_airport = get_df_obs1(cleaning_airport_df(Path_AirportData)) (same with Tristan's functions)\n",
    "\n",
    "X_weather = preprocessing.weather_clean(Path_WeatherData)\n",
    "\n",
    "# Merging both dataframes\n",
    "X_merged = preprocessing.join_weather_airport(X_airport, X_weather)\n",
    "\n",
    "# Creation of AC characteristics dataframe table of correspondances\n",
    "df_charac = preprocessing.filtering_AC_charac(Path_correspondance_Aircraft_Airport, Path_Aircraft)\n",
    "matching_dict = preprocessing.correspondance_dictionnary(Path_correspondance_Aircraft_Airport)\n",
    "\n",
    "# Merging the three dataset received\n",
    "X_final = preprocessing.augmented_design_matrix_with_AC_charac(X_merged, df_charac, matching_dict)\n",
    "\n",
    "# Drop useless columns    \n",
    "X_final = X_final.drop(['Date Completed'], axis=1)\n"
   ]
  },
  {
   "cell_type": "code",
   "execution_count": null,
   "metadata": {},
   "outputs": [],
   "source": []
  },
  {
   "cell_type": "code",
   "execution_count": null,
   "metadata": {},
   "outputs": [],
   "source": [
    "X_airport = preprocessing.design_matrix_airport_data('../../0. Airport data/Airport_Data.csv')"
   ]
  },
  {
   "cell_type": "code",
   "execution_count": null,
   "metadata": {},
   "outputs": [],
   "source": [
    "X_weather = preprocessing.weather_clean('../../2. Weather data/weather_data_prep.csv')"
   ]
  },
  {
   "cell_type": "code",
   "execution_count": null,
   "metadata": {},
   "outputs": [],
   "source": [
    "X_merged.shape"
   ]
  },
  {
   "cell_type": "code",
   "execution_count": null,
   "metadata": {},
   "outputs": [],
   "source": [
    "df_charac = reading_data('../../1. AC characteristics/ACchar.xlsx','test')"
   ]
  },
  {
   "cell_type": "code",
   "execution_count": null,
   "metadata": {},
   "outputs": [],
   "source": [
    "def reading_data(PATH,sheet=None):\n",
    "    # Read csv or xlsx\n",
    "    if PATH.endswith('xlsx'):\n",
    "        x = pd.read_excel(PATH,sheet_name=sheet)\n",
    "    elif PATH.endswith('csv'):\n",
    "        x = pd.read_csv(PATH)\n",
    "    else : \n",
    "        print(\"file not readable....\")\n",
    "    return x"
   ]
  },
  {
   "cell_type": "code",
   "execution_count": null,
   "metadata": {
    "scrolled": true
   },
   "outputs": [],
   "source": [
    "matching_dict"
   ]
  },
  {
   "cell_type": "code",
   "execution_count": null,
   "metadata": {
    "scrolled": true
   },
   "outputs": [],
   "source": [
    "X_merged = preprocessing.join_weather_airport(X_airport, X_weather)"
   ]
  },
  {
   "cell_type": "code",
   "execution_count": null,
   "metadata": {},
   "outputs": [],
   "source": [
    "df = X_merged.copy()"
   ]
  },
  {
   "cell_type": "code",
   "execution_count": null,
   "metadata": {
    "scrolled": true
   },
   "outputs": [],
   "source": [
    "df['acType']=df['acType'].str.lower().str.strip()"
   ]
  },
  {
   "cell_type": "code",
   "execution_count": null,
   "metadata": {},
   "outputs": [],
   "source": [
    "df_charac = preprocessing.filtering_AC_charac('../Correspondance.pkl', '../../1. AC characteristics/ACchar.xlsx')"
   ]
  },
  {
   "cell_type": "code",
   "execution_count": null,
   "metadata": {},
   "outputs": [],
   "source": [
    "df_charac['Model'] = df_charac['Model'].str.lower().str.strip()"
   ]
  },
  {
   "cell_type": "code",
   "execution_count": null,
   "metadata": {},
   "outputs": [],
   "source": [
    "matching_dict = preprocessing.correspondance_dictionnary('../Correspondance.pkl')"
   ]
  },
  {
   "cell_type": "code",
   "execution_count": null,
   "metadata": {},
   "outputs": [],
   "source": [
    "inv_map = {v: k for k, v in matching_dict.items()}"
   ]
  },
  {
   "cell_type": "code",
   "execution_count": null,
   "metadata": {},
   "outputs": [],
   "source": [
    "df_charac['Model']=df_charac['Model'].map(lambda x: inv_map[x])"
   ]
  },
  {
   "cell_type": "code",
   "execution_count": null,
   "metadata": {},
   "outputs": [],
   "source": [
    "df_merged = pd.merge(df, df_charac, left_on='acType', right_on='Model', how='left')"
   ]
  },
  {
   "cell_type": "code",
   "execution_count": null,
   "metadata": {},
   "outputs": [],
   "source": [
    "list_dates=['date','sto','aldt','eibt','cibt','chocks_on']"
   ]
  },
  {
   "cell_type": "code",
   "execution_count": null,
   "metadata": {},
   "outputs": [],
   "source": [
    "for column in list_dates:\n",
    "    df_merged[column].map(lambda x: pd.to_datetime(x))"
   ]
  },
  {
   "cell_type": "code",
   "execution_count": null,
   "metadata": {},
   "outputs": [],
   "source": [
    "df_merged.drop(columns=['Date Completed'], inplace=True)"
   ]
  },
  {
   "cell_type": "code",
   "execution_count": null,
   "metadata": {},
   "outputs": [],
   "source": []
  }
 ],
 "metadata": {
  "kernelspec": {
   "display_name": "Python 3",
   "language": "python",
   "name": "python3"
  },
  "language_info": {
   "codemirror_mode": {
    "name": "ipython",
    "version": 3
   },
   "file_extension": ".py",
   "mimetype": "text/x-python",
   "name": "python",
   "nbconvert_exporter": "python",
   "pygments_lexer": "ipython3",
   "version": "3.6.8"
  }
 },
 "nbformat": 4,
 "nbformat_minor": 2
}
