{
 "cells": [
  {
   "cell_type": "code",
   "execution_count": 1,
   "metadata": {},
   "outputs": [],
   "source": [
    "import os\n",
    "import sys\n",
    "import pandas as pd"
   ]
  },
  {
   "cell_type": "code",
   "execution_count": 2,
   "metadata": {},
   "outputs": [],
   "source": [
    "os.chdir('/Users/arnaud/Desktop/HEC/taxi-time/') \n",
    "from src import preprocessing\n",
    "from src import master\n"
   ]
  },
  {
   "cell_type": "code",
   "execution_count": 53,
   "metadata": {},
   "outputs": [
    {
     "name": "stderr",
     "output_type": "stream",
     "text": [
      "/Users/arnaud/anaconda3/lib/python3.7/site-packages/IPython/core/interactiveshell.py:3296: DtypeWarning: Columns (0,1,2,3,4,5,6,7,8,9,10,11,12,13,14,15,16,17,18,19,20,21,22,23,24,25,26,27,28,29,30,31,32,33,34,35,36,37,38,39,40,41,42) have mixed types. Specify dtype option on import or set low_memory=False.\n",
      "  exec(code_obj, self.user_global_ns, self.user_ns)\n"
     ]
    }
   ],
   "source": [
    "df = master.master_preprocessing_X('Data/Airport_Data.csv','Data/weather_data_prep.csv','Data/ACchar.xlsx','Correspondance.pkl')\n",
    "\n"
   ]
  },
  {
   "cell_type": "code",
   "execution_count": 78,
   "metadata": {},
   "outputs": [
    {
     "data": {
      "text/html": [
       "<div>\n",
       "<style scoped>\n",
       "    .dataframe tbody tr th:only-of-type {\n",
       "        vertical-align: middle;\n",
       "    }\n",
       "\n",
       "    .dataframe tbody tr th {\n",
       "        vertical-align: top;\n",
       "    }\n",
       "\n",
       "    .dataframe thead th {\n",
       "        text-align: right;\n",
       "    }\n",
       "</style>\n",
       "<table border=\"1\" class=\"dataframe\">\n",
       "  <thead>\n",
       "    <tr style=\"text-align: right;\">\n",
       "      <th></th>\n",
       "      <th>carrier</th>\n",
       "      <th>flight</th>\n",
       "      <th>acType</th>\n",
       "      <th>sto</th>\n",
       "      <th>runway</th>\n",
       "      <th>stand</th>\n",
       "      <th>aldt</th>\n",
       "      <th>eibt</th>\n",
       "      <th>cibt</th>\n",
       "      <th>aibt</th>\n",
       "      <th>...</th>\n",
       "      <th>MTOW</th>\n",
       "      <th>Max Ramp\\nMax Taxi</th>\n",
       "      <th>Main Gear Config</th>\n",
       "      <th>ICAO Code</th>\n",
       "      <th>Wake Category</th>\n",
       "      <th>ATCT Weight Class</th>\n",
       "      <th>Years Manufactured</th>\n",
       "      <th>Note</th>\n",
       "      <th>Parking Area (WS x Length), sf</th>\n",
       "      <th>target</th>\n",
       "    </tr>\n",
       "  </thead>\n",
       "  <tbody>\n",
       "    <tr>\n",
       "      <td>0</td>\n",
       "      <td>CAR1</td>\n",
       "      <td>2519</td>\n",
       "      <td>b737/9-wl</td>\n",
       "      <td>2018-07-30 04:45:00</td>\n",
       "      <td>RUNWAY02</td>\n",
       "      <td>STAND04</td>\n",
       "      <td>2018-07-30 04:25:00</td>\n",
       "      <td>2018-07-30 04:33:00</td>\n",
       "      <td>2018-07-30 04:33:00</td>\n",
       "      <td>2018-07-30 04:29:00</td>\n",
       "      <td>...</td>\n",
       "      <td>174200</td>\n",
       "      <td>174700</td>\n",
       "      <td>D</td>\n",
       "      <td>B739</td>\n",
       "      <td>M</td>\n",
       "      <td>Large Jet Eqpt</td>\n",
       "      <td>tbd</td>\n",
       "      <td>tbd</td>\n",
       "      <td>16223.1</td>\n",
       "      <td>240.0</td>\n",
       "    </tr>\n",
       "    <tr>\n",
       "      <td>1</td>\n",
       "      <td>CAR1</td>\n",
       "      <td>1757</td>\n",
       "      <td>b757/2-wl</td>\n",
       "      <td>2018-07-30 08:53:00</td>\n",
       "      <td>RUNWAY02</td>\n",
       "      <td>STAND07</td>\n",
       "      <td>2018-07-30 08:14:00</td>\n",
       "      <td>2018-07-30 08:19:00</td>\n",
       "      <td>2018-07-30 08:18:00</td>\n",
       "      <td>2018-07-30 08:18:00</td>\n",
       "      <td>...</td>\n",
       "      <td>255500</td>\n",
       "      <td>256000</td>\n",
       "      <td>2D</td>\n",
       "      <td>B752</td>\n",
       "      <td>M</td>\n",
       "      <td>B757 Eqpt</td>\n",
       "      <td>tbd</td>\n",
       "      <td>tbd</td>\n",
       "      <td>20919.9</td>\n",
       "      <td>240.0</td>\n",
       "    </tr>\n",
       "    <tr>\n",
       "      <td>2</td>\n",
       "      <td>CAR1</td>\n",
       "      <td>1636</td>\n",
       "      <td>a321/2</td>\n",
       "      <td>2018-07-30 08:49:00</td>\n",
       "      <td>RUNWAY01</td>\n",
       "      <td>STAND08</td>\n",
       "      <td>2018-07-30 08:26:00</td>\n",
       "      <td>2018-07-30 08:31:00</td>\n",
       "      <td>2018-07-30 08:32:00</td>\n",
       "      <td>2018-07-30 08:29:00</td>\n",
       "      <td>...</td>\n",
       "      <td>206132</td>\n",
       "      <td>207014</td>\n",
       "      <td>D</td>\n",
       "      <td>A321</td>\n",
       "      <td>M</td>\n",
       "      <td>Large Jet Eqpt</td>\n",
       "      <td>tbd</td>\n",
       "      <td>tbd</td>\n",
       "      <td>16337.8</td>\n",
       "      <td>180.0</td>\n",
       "    </tr>\n",
       "    <tr>\n",
       "      <td>3</td>\n",
       "      <td>CAR1</td>\n",
       "      <td>2048</td>\n",
       "      <td>b737/9-wl</td>\n",
       "      <td>2018-07-30 08:56:00</td>\n",
       "      <td>RUNWAY02</td>\n",
       "      <td>STAND09</td>\n",
       "      <td>2018-07-30 08:42:00</td>\n",
       "      <td>2018-07-30 08:47:00</td>\n",
       "      <td>2018-07-30 08:45:00</td>\n",
       "      <td>2018-07-30 08:46:00</td>\n",
       "      <td>...</td>\n",
       "      <td>174200</td>\n",
       "      <td>174700</td>\n",
       "      <td>D</td>\n",
       "      <td>B739</td>\n",
       "      <td>M</td>\n",
       "      <td>Large Jet Eqpt</td>\n",
       "      <td>tbd</td>\n",
       "      <td>tbd</td>\n",
       "      <td>16223.1</td>\n",
       "      <td>240.0</td>\n",
       "    </tr>\n",
       "    <tr>\n",
       "      <td>4</td>\n",
       "      <td>CAR1</td>\n",
       "      <td>2510</td>\n",
       "      <td>a321/2</td>\n",
       "      <td>2018-07-30 09:14:00</td>\n",
       "      <td>RUNWAY02</td>\n",
       "      <td>STAND11</td>\n",
       "      <td>2018-07-30 08:52:00</td>\n",
       "      <td>2018-07-30 08:57:00</td>\n",
       "      <td>2018-07-30 08:57:00</td>\n",
       "      <td>2018-07-30 08:57:00</td>\n",
       "      <td>...</td>\n",
       "      <td>206132</td>\n",
       "      <td>207014</td>\n",
       "      <td>D</td>\n",
       "      <td>A321</td>\n",
       "      <td>M</td>\n",
       "      <td>Large Jet Eqpt</td>\n",
       "      <td>tbd</td>\n",
       "      <td>tbd</td>\n",
       "      <td>16337.8</td>\n",
       "      <td>300.0</td>\n",
       "    </tr>\n",
       "    <tr>\n",
       "      <td>...</td>\n",
       "      <td>...</td>\n",
       "      <td>...</td>\n",
       "      <td>...</td>\n",
       "      <td>...</td>\n",
       "      <td>...</td>\n",
       "      <td>...</td>\n",
       "      <td>...</td>\n",
       "      <td>...</td>\n",
       "      <td>...</td>\n",
       "      <td>...</td>\n",
       "      <td>...</td>\n",
       "      <td>...</td>\n",
       "      <td>...</td>\n",
       "      <td>...</td>\n",
       "      <td>...</td>\n",
       "      <td>...</td>\n",
       "      <td>...</td>\n",
       "      <td>...</td>\n",
       "      <td>...</td>\n",
       "      <td>...</td>\n",
       "      <td>...</td>\n",
       "    </tr>\n",
       "    <tr>\n",
       "      <td>137987</td>\n",
       "      <td>CAR1</td>\n",
       "      <td>32</td>\n",
       "      <td>a320/2</td>\n",
       "      <td>2019-01-17 01:57:00</td>\n",
       "      <td>RUNWAY10</td>\n",
       "      <td>STAND59</td>\n",
       "      <td>2019-01-17 01:47:00</td>\n",
       "      <td>2019-01-17 01:58:00</td>\n",
       "      <td>2019-01-17 01:54:00</td>\n",
       "      <td>2019-01-17 01:55:00</td>\n",
       "      <td>...</td>\n",
       "      <td>171961</td>\n",
       "      <td>172842</td>\n",
       "      <td>D</td>\n",
       "      <td>A320</td>\n",
       "      <td>M</td>\n",
       "      <td>Large Jet Eqpt</td>\n",
       "      <td>tbd</td>\n",
       "      <td>tbd</td>\n",
       "      <td>13791.4</td>\n",
       "      <td>480.0</td>\n",
       "    </tr>\n",
       "    <tr>\n",
       "      <td>137988</td>\n",
       "      <td>CAR1</td>\n",
       "      <td>1076</td>\n",
       "      <td>b737/9-wl</td>\n",
       "      <td>2019-01-17 02:33:00</td>\n",
       "      <td>RUNWAY09</td>\n",
       "      <td>STAND101</td>\n",
       "      <td>2019-01-17 01:48:00</td>\n",
       "      <td>2019-01-17 01:59:00</td>\n",
       "      <td>2019-01-17 01:55:00</td>\n",
       "      <td>2019-01-17 01:55:00</td>\n",
       "      <td>...</td>\n",
       "      <td>174200</td>\n",
       "      <td>174700</td>\n",
       "      <td>D</td>\n",
       "      <td>B739</td>\n",
       "      <td>M</td>\n",
       "      <td>Large Jet Eqpt</td>\n",
       "      <td>tbd</td>\n",
       "      <td>tbd</td>\n",
       "      <td>16223.1</td>\n",
       "      <td>420.0</td>\n",
       "    </tr>\n",
       "    <tr>\n",
       "      <td>137989</td>\n",
       "      <td>CAR1</td>\n",
       "      <td>1991</td>\n",
       "      <td>b737/9-wl</td>\n",
       "      <td>2019-01-17 02:24:00</td>\n",
       "      <td>RUNWAY09</td>\n",
       "      <td>STAND26</td>\n",
       "      <td>2019-01-17 01:51:00</td>\n",
       "      <td>2019-01-17 02:00:00</td>\n",
       "      <td>2019-01-17 02:05:00</td>\n",
       "      <td>2019-01-17 02:06:00</td>\n",
       "      <td>...</td>\n",
       "      <td>174200</td>\n",
       "      <td>174700</td>\n",
       "      <td>D</td>\n",
       "      <td>B739</td>\n",
       "      <td>M</td>\n",
       "      <td>Large Jet Eqpt</td>\n",
       "      <td>tbd</td>\n",
       "      <td>tbd</td>\n",
       "      <td>16223.1</td>\n",
       "      <td>900.0</td>\n",
       "    </tr>\n",
       "    <tr>\n",
       "      <td>137990</td>\n",
       "      <td>CAR4</td>\n",
       "      <td>5524</td>\n",
       "      <td>crj/9</td>\n",
       "      <td>2019-01-17 02:41:00</td>\n",
       "      <td>RUNWAY09</td>\n",
       "      <td>STAND21</td>\n",
       "      <td>2019-01-17 01:55:00</td>\n",
       "      <td>2019-01-17 02:01:00</td>\n",
       "      <td>2019-01-17 02:03:00</td>\n",
       "      <td>2019-01-17 02:03:00</td>\n",
       "      <td>...</td>\n",
       "      <td>80500</td>\n",
       "      <td>80750</td>\n",
       "      <td>D</td>\n",
       "      <td>tbd</td>\n",
       "      <td>tbd</td>\n",
       "      <td>tbd</td>\n",
       "      <td>tbd</td>\n",
       "      <td>tbd</td>\n",
       "      <td>9688.28</td>\n",
       "      <td>480.0</td>\n",
       "    </tr>\n",
       "    <tr>\n",
       "      <td>137991</td>\n",
       "      <td>CAR1</td>\n",
       "      <td>2438</td>\n",
       "      <td>b717/2</td>\n",
       "      <td>2019-01-17 02:16:00</td>\n",
       "      <td>RUNWAY10</td>\n",
       "      <td>STAND107</td>\n",
       "      <td>2019-01-17 01:49:00</td>\n",
       "      <td>2019-01-17 02:01:00</td>\n",
       "      <td>2019-01-17 01:55:00</td>\n",
       "      <td>2019-01-17 01:56:00</td>\n",
       "      <td>...</td>\n",
       "      <td>118000</td>\n",
       "      <td>119000</td>\n",
       "      <td>D</td>\n",
       "      <td>B712</td>\n",
       "      <td>M</td>\n",
       "      <td>tbd</td>\n",
       "      <td>Went out of production in 2006</td>\n",
       "      <td>tbd</td>\n",
       "      <td>11573.3</td>\n",
       "      <td>420.0</td>\n",
       "    </tr>\n",
       "  </tbody>\n",
       "</table>\n",
       "<p>137992 rows × 50 columns</p>\n",
       "</div>"
      ],
      "text/plain": [
       "       carrier flight     acType                 sto    runway     stand  \\\n",
       "0         CAR1   2519  b737/9-wl 2018-07-30 04:45:00  RUNWAY02   STAND04   \n",
       "1         CAR1   1757  b757/2-wl 2018-07-30 08:53:00  RUNWAY02   STAND07   \n",
       "2         CAR1   1636     a321/2 2018-07-30 08:49:00  RUNWAY01   STAND08   \n",
       "3         CAR1   2048  b737/9-wl 2018-07-30 08:56:00  RUNWAY02   STAND09   \n",
       "4         CAR1   2510     a321/2 2018-07-30 09:14:00  RUNWAY02   STAND11   \n",
       "...        ...    ...        ...                 ...       ...       ...   \n",
       "137987    CAR1     32     a320/2 2019-01-17 01:57:00  RUNWAY10   STAND59   \n",
       "137988    CAR1   1076  b737/9-wl 2019-01-17 02:33:00  RUNWAY09  STAND101   \n",
       "137989    CAR1   1991  b737/9-wl 2019-01-17 02:24:00  RUNWAY09   STAND26   \n",
       "137990    CAR4   5524      crj/9 2019-01-17 02:41:00  RUNWAY09   STAND21   \n",
       "137991    CAR1   2438     b717/2 2019-01-17 02:16:00  RUNWAY10  STAND107   \n",
       "\n",
       "                      aldt                eibt                cibt  \\\n",
       "0      2018-07-30 04:25:00 2018-07-30 04:33:00 2018-07-30 04:33:00   \n",
       "1      2018-07-30 08:14:00 2018-07-30 08:19:00 2018-07-30 08:18:00   \n",
       "2      2018-07-30 08:26:00 2018-07-30 08:31:00 2018-07-30 08:32:00   \n",
       "3      2018-07-30 08:42:00 2018-07-30 08:47:00 2018-07-30 08:45:00   \n",
       "4      2018-07-30 08:52:00 2018-07-30 08:57:00 2018-07-30 08:57:00   \n",
       "...                    ...                 ...                 ...   \n",
       "137987 2019-01-17 01:47:00 2019-01-17 01:58:00 2019-01-17 01:54:00   \n",
       "137988 2019-01-17 01:48:00 2019-01-17 01:59:00 2019-01-17 01:55:00   \n",
       "137989 2019-01-17 01:51:00 2019-01-17 02:00:00 2019-01-17 02:05:00   \n",
       "137990 2019-01-17 01:55:00 2019-01-17 02:01:00 2019-01-17 02:03:00   \n",
       "137991 2019-01-17 01:49:00 2019-01-17 02:01:00 2019-01-17 01:55:00   \n",
       "\n",
       "                      aibt  ...    MTOW  Max Ramp\\nMax Taxi  Main Gear Config  \\\n",
       "0      2018-07-30 04:29:00  ...  174200              174700                 D   \n",
       "1      2018-07-30 08:18:00  ...  255500              256000                2D   \n",
       "2      2018-07-30 08:29:00  ...  206132              207014                 D   \n",
       "3      2018-07-30 08:46:00  ...  174200              174700                 D   \n",
       "4      2018-07-30 08:57:00  ...  206132              207014                 D   \n",
       "...                    ...  ...     ...                 ...               ...   \n",
       "137987 2019-01-17 01:55:00  ...  171961              172842                 D   \n",
       "137988 2019-01-17 01:55:00  ...  174200              174700                 D   \n",
       "137989 2019-01-17 02:06:00  ...  174200              174700                 D   \n",
       "137990 2019-01-17 02:03:00  ...   80500               80750                 D   \n",
       "137991 2019-01-17 01:56:00  ...  118000              119000                 D   \n",
       "\n",
       "        ICAO Code  Wake Category  ATCT Weight Class  \\\n",
       "0            B739              M     Large Jet Eqpt   \n",
       "1            B752              M          B757 Eqpt   \n",
       "2            A321              M     Large Jet Eqpt   \n",
       "3            B739              M     Large Jet Eqpt   \n",
       "4            A321              M     Large Jet Eqpt   \n",
       "...           ...            ...                ...   \n",
       "137987       A320              M     Large Jet Eqpt   \n",
       "137988       B739              M     Large Jet Eqpt   \n",
       "137989       B739              M     Large Jet Eqpt   \n",
       "137990        tbd            tbd                tbd   \n",
       "137991       B712              M                tbd   \n",
       "\n",
       "                    Years Manufactured  Note  Parking Area (WS x Length), sf  \\\n",
       "0                                  tbd   tbd                         16223.1   \n",
       "1                                  tbd   tbd                         20919.9   \n",
       "2                                  tbd   tbd                         16337.8   \n",
       "3                                  tbd   tbd                         16223.1   \n",
       "4                                  tbd   tbd                         16337.8   \n",
       "...                                ...   ...                             ...   \n",
       "137987                             tbd   tbd                         13791.4   \n",
       "137988                             tbd   tbd                         16223.1   \n",
       "137989                             tbd   tbd                         16223.1   \n",
       "137990                             tbd   tbd                         9688.28   \n",
       "137991  Went out of production in 2006   tbd                         11573.3   \n",
       "\n",
       "        target  \n",
       "0        240.0  \n",
       "1        240.0  \n",
       "2        180.0  \n",
       "3        240.0  \n",
       "4        300.0  \n",
       "...        ...  \n",
       "137987   480.0  \n",
       "137988   420.0  \n",
       "137989   900.0  \n",
       "137990   480.0  \n",
       "137991   420.0  \n",
       "\n",
       "[137992 rows x 50 columns]"
      ]
     },
     "execution_count": 78,
     "metadata": {},
     "output_type": "execute_result"
    }
   ],
   "source": [
    "df.assign(aibt = lambda d: pd.to_datetime(d['aibt']),\n",
    "          aldt = lambda d: pd.to_datetime(d['aldt']),\n",
    "         target = lambda d: (d['aibt'] - d['aldt']).astype('timedelta64[s]'))\n",
    "\n",
    "\n",
    "\n",
    "         #interv = lambda d: pd.Interval(right = pd.Timestamp(d['aibt']), left = pd.Timestamp(d['aldt'])))\n",
    "         #interv = lambda d: pd.Interval(d['aidt'] - d['aldt']))"
   ]
  },
  {
   "cell_type": "code",
   "execution_count": null,
   "metadata": {},
   "outputs": [],
   "source": [
    "(df)"
   ]
  },
  {
   "cell_type": "code",
   "execution_count": null,
   "metadata": {},
   "outputs": [],
   "source": []
  },
  {
   "cell_type": "code",
   "execution_count": null,
   "metadata": {},
   "outputs": [],
   "source": []
  },
  {
   "cell_type": "code",
   "execution_count": null,
   "metadata": {},
   "outputs": [],
   "source": []
  },
  {
   "cell_type": "code",
   "execution_count": 7,
   "metadata": {},
   "outputs": [],
   "source": [
    "X_merged = preprocessing.join_weather_airport(X_airport, X_weather)"
   ]
  },
  {
   "cell_type": "code",
   "execution_count": 10,
   "metadata": {},
   "outputs": [],
   "source": [
    "df_charac = preprocessing.filtering_AC_charac(Path_correspondance_Aircraft_Airport, Path_Aircraft)\n",
    "matching_dict = preprocessing.correspondance_dictionnary(Path_correspondance_Aircraft_Airport)"
   ]
  },
  {
   "cell_type": "code",
   "execution_count": 11,
   "metadata": {},
   "outputs": [],
   "source": [
    "df = X_merged"
   ]
  },
  {
   "cell_type": "code",
   "execution_count": 12,
   "metadata": {},
   "outputs": [],
   "source": [
    "df['acType']= df['acType'].str.lower().str.strip()\n",
    "df_charac['Model'] = df_charac['Model'].str.lower().str.strip()"
   ]
  },
  {
   "cell_type": "code",
   "execution_count": 16,
   "metadata": {},
   "outputs": [],
   "source": [
    "inv_map = {v: k for k, v in matching_dict.items()}\n",
    "df_charac['Model'] = df_charac['Model'].map(lambda x: inv_map[x])\n"
   ]
  },
  {
   "cell_type": "code",
   "execution_count": 14,
   "metadata": {},
   "outputs": [],
   "source": [
    "df_merged = pd.merge(df, df_charac, left_on = 'acType', right_on='Model', how='left')\n"
   ]
  },
  {
   "cell_type": "code",
   "execution_count": 15,
   "metadata": {
    "scrolled": false
   },
   "outputs": [],
   "source": [
    "list_dates=['sto','aldt','eibt','cibt']\n",
    "df_merged = df_merged[df_merged['aibt'] != 'aibt']\n",
    "for column in list_dates:\n",
    "    df_merged[column] = pd.to_datetime(df_merged[column])\n"
   ]
  },
  {
   "cell_type": "code",
   "execution_count": null,
   "metadata": {},
   "outputs": [],
   "source": [
    "def augmented_design_matrix_with_AC_charac(df,df_charac,matching_dict):\n",
    "    #add the characteristic of aircraft to the design matrix\n",
    "    #df: design matrix dataframe\n",
    "    #df_charac : clean aircraft characteristic dataframe\n",
    "    #matching_dict : dictionnary of correspondance\n",
    "\n",
    "    #Preparing the columns for replacment\n",
    "    df['acType']= df['acType'].str.lower().str.strip()\n",
    "    df_charac['Model'] = df_charac['Model'].str.lower().str.strip()\n",
    "\n",
    "    #Inverting the dictionnary to replace values in df_charac['Model] by the values of df['acType]\n",
    "    inv_map = {v: k for k, v in matching_dict.items()}\n",
    "    df_charac['Model']=df_charac['Model'].map(lambda x: inv_map[x])\n",
    "\n",
    "    #Merging\n",
    "    df_merged = pd.merge(df, df_charac, left_on='acType', right_on='Model', how='left')\n",
    "\n",
    "    #Transfom date columns in date format\n",
    "    list_dates=['date','sto','aldt','eibt','cibt','chock_on']\n",
    "    for column in list_dates:\n",
    "        df_merged[column]=pd.to_datetime(df_merged[column])\n",
    "\n",
    "    #Delete Date completed column\n",
    "    df_merged.drop(columns=['Date Completed'], inplace=True)\n",
    "\n",
    "    return df_merged"
   ]
  },
  {
   "cell_type": "code",
   "execution_count": null,
   "metadata": {},
   "outputs": [],
   "source": []
  },
  {
   "cell_type": "code",
   "execution_count": 12,
   "metadata": {
    "scrolled": true
   },
   "outputs": [
    {
     "ename": "ValueError",
     "evalue": "cannot assemble with duplicate keys",
     "output_type": "error",
     "traceback": [
      "\u001b[0;31m---------------------------------------------------------------------------\u001b[0m",
      "\u001b[0;31mValueError\u001b[0m                                Traceback (most recent call last)",
      "\u001b[0;32m<ipython-input-12-36c159d2b23a>\u001b[0m in \u001b[0;36m<module>\u001b[0;34m\u001b[0m\n\u001b[0;32m----> 1\u001b[0;31m \u001b[0mX_final\u001b[0m \u001b[0;34m=\u001b[0m \u001b[0mpreprocessing\u001b[0m\u001b[0;34m.\u001b[0m\u001b[0maugmented_design_matrix_with_AC_charac\u001b[0m\u001b[0;34m(\u001b[0m\u001b[0mX_merged\u001b[0m\u001b[0;34m,\u001b[0m \u001b[0mdf_charac\u001b[0m\u001b[0;34m,\u001b[0m \u001b[0mmatching_dict\u001b[0m\u001b[0;34m)\u001b[0m\u001b[0;34m\u001b[0m\u001b[0;34m\u001b[0m\u001b[0m\n\u001b[0m",
      "\u001b[0;32m~/Desktop/HEC/taxi-time/src/preprocessing.py\u001b[0m in \u001b[0;36maugmented_design_matrix_with_AC_charac\u001b[0;34m(df, df_charac, matching_dict)\u001b[0m\n\u001b[1;32m    117\u001b[0m     \u001b[0mlist_dates\u001b[0m\u001b[0;34m=\u001b[0m\u001b[0;34m[\u001b[0m\u001b[0;34m'date'\u001b[0m\u001b[0;34m,\u001b[0m\u001b[0;34m'sto'\u001b[0m\u001b[0;34m,\u001b[0m\u001b[0;34m'aldt'\u001b[0m\u001b[0;34m,\u001b[0m\u001b[0;34m'eibt'\u001b[0m\u001b[0;34m,\u001b[0m\u001b[0;34m'cibt'\u001b[0m\u001b[0;34m,\u001b[0m\u001b[0;34m'chock_on'\u001b[0m\u001b[0;34m]\u001b[0m\u001b[0;34m\u001b[0m\u001b[0;34m\u001b[0m\u001b[0m\n\u001b[1;32m    118\u001b[0m     \u001b[0;32mfor\u001b[0m \u001b[0mcolumn\u001b[0m \u001b[0;32min\u001b[0m \u001b[0mlist_dates\u001b[0m\u001b[0;34m:\u001b[0m\u001b[0;34m\u001b[0m\u001b[0;34m\u001b[0m\u001b[0m\n\u001b[0;32m--> 119\u001b[0;31m         \u001b[0mdf_merged\u001b[0m\u001b[0;34m[\u001b[0m\u001b[0mcolumn\u001b[0m\u001b[0;34m]\u001b[0m\u001b[0;34m=\u001b[0m\u001b[0mpd\u001b[0m\u001b[0;34m.\u001b[0m\u001b[0mto_datetime\u001b[0m\u001b[0;34m(\u001b[0m\u001b[0mdf_merged\u001b[0m\u001b[0;34m[\u001b[0m\u001b[0mcolumn\u001b[0m\u001b[0;34m]\u001b[0m\u001b[0;34m)\u001b[0m\u001b[0;34m\u001b[0m\u001b[0;34m\u001b[0m\u001b[0m\n\u001b[0m\u001b[1;32m    120\u001b[0m \u001b[0;34m\u001b[0m\u001b[0m\n\u001b[1;32m    121\u001b[0m     \u001b[0;31m#Delete Date completed column\u001b[0m\u001b[0;34m\u001b[0m\u001b[0;34m\u001b[0m\u001b[0;34m\u001b[0m\u001b[0m\n",
      "\u001b[0;32m~/anaconda3/lib/python3.7/site-packages/pandas/util/_decorators.py\u001b[0m in \u001b[0;36mwrapper\u001b[0;34m(*args, **kwargs)\u001b[0m\n\u001b[1;32m    206\u001b[0m                 \u001b[0;32melse\u001b[0m\u001b[0;34m:\u001b[0m\u001b[0;34m\u001b[0m\u001b[0;34m\u001b[0m\u001b[0m\n\u001b[1;32m    207\u001b[0m                     \u001b[0mkwargs\u001b[0m\u001b[0;34m[\u001b[0m\u001b[0mnew_arg_name\u001b[0m\u001b[0;34m]\u001b[0m \u001b[0;34m=\u001b[0m \u001b[0mnew_arg_value\u001b[0m\u001b[0;34m\u001b[0m\u001b[0;34m\u001b[0m\u001b[0m\n\u001b[0;32m--> 208\u001b[0;31m             \u001b[0;32mreturn\u001b[0m \u001b[0mfunc\u001b[0m\u001b[0;34m(\u001b[0m\u001b[0;34m*\u001b[0m\u001b[0margs\u001b[0m\u001b[0;34m,\u001b[0m \u001b[0;34m**\u001b[0m\u001b[0mkwargs\u001b[0m\u001b[0;34m)\u001b[0m\u001b[0;34m\u001b[0m\u001b[0;34m\u001b[0m\u001b[0m\n\u001b[0m\u001b[1;32m    209\u001b[0m \u001b[0;34m\u001b[0m\u001b[0m\n\u001b[1;32m    210\u001b[0m         \u001b[0;32mreturn\u001b[0m \u001b[0mwrapper\u001b[0m\u001b[0;34m\u001b[0m\u001b[0;34m\u001b[0m\u001b[0m\n",
      "\u001b[0;32m~/anaconda3/lib/python3.7/site-packages/pandas/core/tools/datetimes.py\u001b[0m in \u001b[0;36mto_datetime\u001b[0;34m(arg, errors, dayfirst, yearfirst, utc, box, format, exact, unit, infer_datetime_format, origin, cache)\u001b[0m\n\u001b[1;32m    779\u001b[0m             \u001b[0mresult\u001b[0m \u001b[0;34m=\u001b[0m \u001b[0marg\u001b[0m\u001b[0;34m.\u001b[0m\u001b[0m_constructor\u001b[0m\u001b[0;34m(\u001b[0m\u001b[0mvalues\u001b[0m\u001b[0;34m,\u001b[0m \u001b[0mindex\u001b[0m\u001b[0;34m=\u001b[0m\u001b[0marg\u001b[0m\u001b[0;34m.\u001b[0m\u001b[0mindex\u001b[0m\u001b[0;34m,\u001b[0m \u001b[0mname\u001b[0m\u001b[0;34m=\u001b[0m\u001b[0marg\u001b[0m\u001b[0;34m.\u001b[0m\u001b[0mname\u001b[0m\u001b[0;34m)\u001b[0m\u001b[0;34m\u001b[0m\u001b[0;34m\u001b[0m\u001b[0m\n\u001b[1;32m    780\u001b[0m     \u001b[0;32melif\u001b[0m \u001b[0misinstance\u001b[0m\u001b[0;34m(\u001b[0m\u001b[0marg\u001b[0m\u001b[0;34m,\u001b[0m \u001b[0;34m(\u001b[0m\u001b[0mABCDataFrame\u001b[0m\u001b[0;34m,\u001b[0m \u001b[0mabc\u001b[0m\u001b[0;34m.\u001b[0m\u001b[0mMutableMapping\u001b[0m\u001b[0;34m)\u001b[0m\u001b[0;34m)\u001b[0m\u001b[0;34m:\u001b[0m\u001b[0;34m\u001b[0m\u001b[0;34m\u001b[0m\u001b[0m\n\u001b[0;32m--> 781\u001b[0;31m         \u001b[0mresult\u001b[0m \u001b[0;34m=\u001b[0m \u001b[0m_assemble_from_unit_mappings\u001b[0m\u001b[0;34m(\u001b[0m\u001b[0marg\u001b[0m\u001b[0;34m,\u001b[0m \u001b[0merrors\u001b[0m\u001b[0;34m,\u001b[0m \u001b[0mbox\u001b[0m\u001b[0;34m,\u001b[0m \u001b[0mtz\u001b[0m\u001b[0;34m)\u001b[0m\u001b[0;34m\u001b[0m\u001b[0;34m\u001b[0m\u001b[0m\n\u001b[0m\u001b[1;32m    782\u001b[0m     \u001b[0;32melif\u001b[0m \u001b[0misinstance\u001b[0m\u001b[0;34m(\u001b[0m\u001b[0marg\u001b[0m\u001b[0;34m,\u001b[0m \u001b[0mABCIndexClass\u001b[0m\u001b[0;34m)\u001b[0m\u001b[0;34m:\u001b[0m\u001b[0;34m\u001b[0m\u001b[0;34m\u001b[0m\u001b[0m\n\u001b[1;32m    783\u001b[0m         \u001b[0mcache_array\u001b[0m \u001b[0;34m=\u001b[0m \u001b[0m_maybe_cache\u001b[0m\u001b[0;34m(\u001b[0m\u001b[0marg\u001b[0m\u001b[0;34m,\u001b[0m \u001b[0mformat\u001b[0m\u001b[0;34m,\u001b[0m \u001b[0mcache\u001b[0m\u001b[0;34m,\u001b[0m \u001b[0mconvert_listlike\u001b[0m\u001b[0;34m)\u001b[0m\u001b[0;34m\u001b[0m\u001b[0;34m\u001b[0m\u001b[0m\n",
      "\u001b[0;32m~/anaconda3/lib/python3.7/site-packages/pandas/core/tools/datetimes.py\u001b[0m in \u001b[0;36m_assemble_from_unit_mappings\u001b[0;34m(arg, errors, box, tz)\u001b[0m\n\u001b[1;32m    852\u001b[0m     \u001b[0marg\u001b[0m \u001b[0;34m=\u001b[0m \u001b[0mDataFrame\u001b[0m\u001b[0;34m(\u001b[0m\u001b[0marg\u001b[0m\u001b[0;34m)\u001b[0m\u001b[0;34m\u001b[0m\u001b[0;34m\u001b[0m\u001b[0m\n\u001b[1;32m    853\u001b[0m     \u001b[0;32mif\u001b[0m \u001b[0;32mnot\u001b[0m \u001b[0marg\u001b[0m\u001b[0;34m.\u001b[0m\u001b[0mcolumns\u001b[0m\u001b[0;34m.\u001b[0m\u001b[0mis_unique\u001b[0m\u001b[0;34m:\u001b[0m\u001b[0;34m\u001b[0m\u001b[0;34m\u001b[0m\u001b[0m\n\u001b[0;32m--> 854\u001b[0;31m         \u001b[0;32mraise\u001b[0m \u001b[0mValueError\u001b[0m\u001b[0;34m(\u001b[0m\u001b[0;34m\"cannot assemble with duplicate keys\"\u001b[0m\u001b[0;34m)\u001b[0m\u001b[0;34m\u001b[0m\u001b[0;34m\u001b[0m\u001b[0m\n\u001b[0m\u001b[1;32m    855\u001b[0m \u001b[0;34m\u001b[0m\u001b[0m\n\u001b[1;32m    856\u001b[0m     \u001b[0;31m# replace passed unit with _unit_map\u001b[0m\u001b[0;34m\u001b[0m\u001b[0;34m\u001b[0m\u001b[0;34m\u001b[0m\u001b[0m\n",
      "\u001b[0;31mValueError\u001b[0m: cannot assemble with duplicate keys"
     ]
    }
   ],
   "source": [
    "X_final = preprocessing.augmented_design_matrix_with_AC_charac(X_merged, df_charac, matching_dict)"
   ]
  },
  {
   "cell_type": "code",
   "execution_count": null,
   "metadata": {},
   "outputs": [],
   "source": [
    "from src import preprocessing\n",
    "\n",
    "\n",
    " # Creation of airport and weather dataframe\n",
    "X_airport = preprocessing.design_matrix_airport_data(Path_AirportData)\n",
    "\n",
    "    ### X_airport = get_df_obs1(cleaning_airport_df(Path_AirportData)) (same with Tristan's functions)\n",
    "\n",
    "X_weather = preprocessing.weather_clean(Path_WeatherData)\n",
    "\n",
    "# Merging both dataframes\n",
    "X_merged = preprocessing.join_weather_airport(X_airport, X_weather)\n",
    "\n",
    "# Creation of AC characteristics dataframe table of correspondances\n",
    "df_charac = preprocessing.filtering_AC_charac(Path_correspondance_Aircraft_Airport, Path_Aircraft)\n",
    "matching_dict = preprocessing.correspondance_dictionnary(Path_correspondance_Aircraft_Airport)\n",
    "\n",
    "# Merging the three dataset received\n",
    "X_final = preprocessing.augmented_design_matrix_with_AC_charac(X_merged, df_charac, matching_dict)\n",
    "\n",
    "# Drop useless columns    \n",
    "X_final = X_final.drop(['Date Completed'], axis=1)\n"
   ]
  },
  {
   "cell_type": "code",
   "execution_count": null,
   "metadata": {},
   "outputs": [],
   "source": []
  },
  {
   "cell_type": "code",
   "execution_count": null,
   "metadata": {},
   "outputs": [],
   "source": [
    "X_airport = preprocessing.design_matrix_airport_data('../../0. Airport data/Airport_Data.csv')"
   ]
  },
  {
   "cell_type": "code",
   "execution_count": null,
   "metadata": {},
   "outputs": [],
   "source": [
    "X_weather = preprocessing.weather_clean('../../2. Weather data/weather_data_prep.csv')"
   ]
  },
  {
   "cell_type": "code",
   "execution_count": null,
   "metadata": {},
   "outputs": [],
   "source": [
    "X_merged.shape"
   ]
  },
  {
   "cell_type": "code",
   "execution_count": null,
   "metadata": {},
   "outputs": [],
   "source": [
    "df_charac = reading_data('../../1. AC characteristics/ACchar.xlsx','test')"
   ]
  },
  {
   "cell_type": "code",
   "execution_count": null,
   "metadata": {},
   "outputs": [],
   "source": [
    "def reading_data(PATH,sheet=None):\n",
    "    # Read csv or xlsx\n",
    "    if PATH.endswith('xlsx'):\n",
    "        x = pd.read_excel(PATH,sheet_name=sheet)\n",
    "    elif PATH.endswith('csv'):\n",
    "        x = pd.read_csv(PATH)\n",
    "    else : \n",
    "        print(\"file not readable....\")\n",
    "    return x"
   ]
  },
  {
   "cell_type": "code",
   "execution_count": null,
   "metadata": {
    "scrolled": true
   },
   "outputs": [],
   "source": [
    "matching_dict"
   ]
  },
  {
   "cell_type": "code",
   "execution_count": null,
   "metadata": {
    "scrolled": true
   },
   "outputs": [],
   "source": [
    "X_merged = preprocessing.join_weather_airport(X_airport, X_weather)"
   ]
  },
  {
   "cell_type": "code",
   "execution_count": null,
   "metadata": {},
   "outputs": [],
   "source": [
    "df = X_merged.copy()"
   ]
  },
  {
   "cell_type": "code",
   "execution_count": null,
   "metadata": {
    "scrolled": true
   },
   "outputs": [],
   "source": [
    "df['acType']=df['acType'].str.lower().str.strip()"
   ]
  },
  {
   "cell_type": "code",
   "execution_count": null,
   "metadata": {},
   "outputs": [],
   "source": [
    "df_charac = preprocessing.filtering_AC_charac('../Correspondance.pkl', '../../1. AC characteristics/ACchar.xlsx')"
   ]
  },
  {
   "cell_type": "code",
   "execution_count": null,
   "metadata": {},
   "outputs": [],
   "source": [
    "df_charac['Model'] = df_charac['Model'].str.lower().str.strip()"
   ]
  },
  {
   "cell_type": "code",
   "execution_count": null,
   "metadata": {},
   "outputs": [],
   "source": [
    "matching_dict = preprocessing.correspondance_dictionnary('../Correspondance.pkl')"
   ]
  },
  {
   "cell_type": "code",
   "execution_count": null,
   "metadata": {},
   "outputs": [],
   "source": [
    "inv_map = {v: k for k, v in matching_dict.items()}"
   ]
  },
  {
   "cell_type": "code",
   "execution_count": null,
   "metadata": {},
   "outputs": [],
   "source": [
    "df_charac['Model']=df_charac['Model'].map(lambda x: inv_map[x])"
   ]
  },
  {
   "cell_type": "code",
   "execution_count": null,
   "metadata": {},
   "outputs": [],
   "source": [
    "df_merged = pd.merge(df, df_charac, left_on='acType', right_on='Model', how='left')"
   ]
  },
  {
   "cell_type": "code",
   "execution_count": null,
   "metadata": {},
   "outputs": [],
   "source": [
    "list_dates=['date','sto','aldt','eibt','cibt','chocks_on']"
   ]
  },
  {
   "cell_type": "code",
   "execution_count": null,
   "metadata": {},
   "outputs": [],
   "source": [
    "for column in list_dates:\n",
    "    df_merged[column].map(lambda x: pd.to_datetime(x))"
   ]
  },
  {
   "cell_type": "code",
   "execution_count": null,
   "metadata": {},
   "outputs": [],
   "source": [
    "df_merged.drop(columns=['Date Completed'], inplace=True)"
   ]
  },
  {
   "cell_type": "code",
   "execution_count": null,
   "metadata": {},
   "outputs": [],
   "source": []
  }
 ],
 "metadata": {
  "kernelspec": {
   "display_name": "Python 3",
   "language": "python",
   "name": "python3"
  },
  "language_info": {
   "codemirror_mode": {
    "name": "ipython",
    "version": 3
   },
   "file_extension": ".py",
   "mimetype": "text/x-python",
   "name": "python",
   "nbconvert_exporter": "python",
   "pygments_lexer": "ipython3",
   "version": "3.7.3"
  }
 },
 "nbformat": 4,
 "nbformat_minor": 2
}
