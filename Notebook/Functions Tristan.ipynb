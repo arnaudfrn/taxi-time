{
 "cells": [
  {
   "cell_type": "markdown",
   "metadata": {},
   "source": [
    "# Missing values in Clean df"
   ]
  },
  {
   "cell_type": "markdown",
   "metadata": {},
   "source": [
    "### Packages"
   ]
  },
  {
   "cell_type": "code",
   "execution_count": 1,
   "metadata": {},
   "outputs": [],
   "source": [
    "import pandas as pd\n",
    "import seaborn as sns\n",
    "from src.preprocessing import *"
   ]
  },
  {
   "cell_type": "markdown",
   "metadata": {},
   "source": [
    "### Data"
   ]
  },
  {
   "cell_type": "markdown",
   "metadata": {},
   "source": [
    "#### Cleaning"
   ]
  },
  {
   "cell_type": "code",
   "execution_count": 6,
   "metadata": {},
   "outputs": [],
   "source": [
    "def cleaning_airport_df(path_to_airport_csv):\n",
    "    columns_to_drop = ['partition',\n",
    "                       'acReg',\n",
    "                       'acars_out',\n",
    "                       'aibt_received',\n",
    "                       'aldt_received',\n",
    "                       'gpu_off',\n",
    "                       'gpu_on',\n",
    "                       'last_distance_to_gate',\n",
    "                       'last_in_sector',\n",
    "                       'mode_s',\n",
    "                       'pca_off',\n",
    "                       'pca_on',\n",
    "                       'plb_on',\n",
    "                       'plb_off',\n",
    "                       'ship', \n",
    "                       'roll',\n",
    "                       'speed',\n",
    "                       'sqt',\n",
    "                       'stand_active',\n",
    "                       'stand_auto_start',\n",
    "                       'stand_docking',\n",
    "                       'stand_free',\n",
    "                       'stand_last_change',\n",
    "                       'stand_prepared',\n",
    "                       'stand_scheduled',\n",
    "                       'status',\n",
    "                       'towbar_on',\n",
    "                       'vdgs_in',\n",
    "                       'vdgs_out']\n",
    "    df_raw = pd.read_csv(path_to_airport_csv)\n",
    "    df_clean = df_raw.drop(columns_to_drop, axis=1).dropna(how=\"all\")\n",
    "    return df_clean"
   ]
  },
  {
   "cell_type": "code",
   "execution_count": 7,
   "metadata": {},
   "outputs": [],
   "source": [
    "def get_df_of_obs1(df_clean1):\n",
    "    df_obs = df_clean1[(~df_clean1['aibt'].isna())\n",
    "                       & (~df_clean1['aldt'].isna())\n",
    "                       & (df_clean1['aibt'] != 'aibt')] \n",
    "    df_obs = df_obs.drop(['eobt','aobt','atot'], axis=1)\n",
    "#this is because some rows have the name of the columns as value (string that has nothing to do with the shmilblick)\n",
    "    return df_obs"
   ]
  },
  {
   "cell_type": "code",
   "execution_count": 8,
   "metadata": {},
   "outputs": [],
   "source": [
    "def get_target_values(df_obs):\n",
    "    target = pd.DataFrame((pd.to_datetime(df_obs['aibt']) - pd.to_datetime(df_obs['aldt'])).astype('timedelta64[s]'))\n",
    "    return target"
   ]
  },
  {
   "cell_type": "code",
   "execution_count": 9,
   "metadata": {},
   "outputs": [
    {
     "name": "stderr",
     "output_type": "stream",
     "text": [
      "/Users/tristanmayer/anaconda3/lib/python3.6/site-packages/IPython/core/interactiveshell.py:3185: DtypeWarning: Columns (0,1,2,3,4,5,6,7,8,9,10,11,12,13,14,15,16,17,18,19,20,21,22,23,24,25,26,27,28,29,30,31,32,33,34,35,36,37,38,39,40,41,42) have mixed types. Specify dtype option on import or set low_memory=False.\n",
      "  if (yield from self.run_code(code, result)):\n"
     ]
    }
   ],
   "source": [
    "df_clean = cleaning_airport_df('data/0. Airport data/Airport_Data.csv')"
   ]
  },
  {
   "cell_type": "code",
   "execution_count": 10,
   "metadata": {},
   "outputs": [],
   "source": [
    "df1 = cleaning_airport_df('data/0. Airport data/Airport_Data.csv')"
   ]
  },
  {
   "cell_type": "code",
   "execution_count": 11,
   "metadata": {},
   "outputs": [],
   "source": [
    "df2 = get_df_of_obs1(df1)"
   ]
  },
  {
   "cell_type": "code",
   "execution_count": 12,
   "metadata": {},
   "outputs": [],
   "source": [
    "df3 = get_target_values(df2)"
   ]
  },
  {
   "cell_type": "code",
   "execution_count": 13,
   "metadata": {},
   "outputs": [
    {
     "data": {
      "text/html": [
       "<div>\n",
       "<style scoped>\n",
       "    .dataframe tbody tr th:only-of-type {\n",
       "        vertical-align: middle;\n",
       "    }\n",
       "\n",
       "    .dataframe tbody tr th {\n",
       "        vertical-align: top;\n",
       "    }\n",
       "\n",
       "    .dataframe thead th {\n",
       "        text-align: right;\n",
       "    }\n",
       "</style>\n",
       "<table border=\"1\" class=\"dataframe\">\n",
       "  <thead>\n",
       "    <tr style=\"text-align: right;\">\n",
       "      <th></th>\n",
       "      <th>carrier</th>\n",
       "      <th>flight</th>\n",
       "      <th>acType</th>\n",
       "      <th>sto</th>\n",
       "      <th>runway</th>\n",
       "      <th>stand</th>\n",
       "      <th>aldt</th>\n",
       "      <th>eibt</th>\n",
       "      <th>cibt</th>\n",
       "      <th>aibt</th>\n",
       "      <th>chocks_on</th>\n",
       "      <th>eobt</th>\n",
       "      <th>aobt</th>\n",
       "      <th>atot</th>\n",
       "    </tr>\n",
       "  </thead>\n",
       "  <tbody>\n",
       "    <tr>\n",
       "      <th>0</th>\n",
       "      <td>CAR1</td>\n",
       "      <td>NaN</td>\n",
       "      <td>MD88</td>\n",
       "      <td>undefined</td>\n",
       "      <td>NaN</td>\n",
       "      <td>STAND01</td>\n",
       "      <td>NaN</td>\n",
       "      <td>NaN</td>\n",
       "      <td>NaN</td>\n",
       "      <td>NaN</td>\n",
       "      <td>NaN</td>\n",
       "      <td>NaN</td>\n",
       "      <td>NaN</td>\n",
       "      <td>NaN</td>\n",
       "    </tr>\n",
       "    <tr>\n",
       "      <th>1</th>\n",
       "      <td>CAR1</td>\n",
       "      <td>NaN</td>\n",
       "      <td>MD88</td>\n",
       "      <td>undefined</td>\n",
       "      <td>NaN</td>\n",
       "      <td>STAND01</td>\n",
       "      <td>NaN</td>\n",
       "      <td>NaN</td>\n",
       "      <td>NaN</td>\n",
       "      <td>NaN</td>\n",
       "      <td>NaN</td>\n",
       "      <td>NaN</td>\n",
       "      <td>NaN</td>\n",
       "      <td>NaN</td>\n",
       "    </tr>\n",
       "    <tr>\n",
       "      <th>2</th>\n",
       "      <td>NaN</td>\n",
       "      <td>NaN</td>\n",
       "      <td>CRJ/9</td>\n",
       "      <td>7/30/2018 4:18</td>\n",
       "      <td>NaN</td>\n",
       "      <td>STAND02</td>\n",
       "      <td>NaN</td>\n",
       "      <td>7/30/2018 4:18</td>\n",
       "      <td>NaN</td>\n",
       "      <td>NaN</td>\n",
       "      <td>NaN</td>\n",
       "      <td>NaN</td>\n",
       "      <td>NaN</td>\n",
       "      <td>NaN</td>\n",
       "    </tr>\n",
       "    <tr>\n",
       "      <th>3</th>\n",
       "      <td>CAR1</td>\n",
       "      <td>27</td>\n",
       "      <td>A350/9</td>\n",
       "      <td>7/30/2018 4:19</td>\n",
       "      <td>RUNWAY01</td>\n",
       "      <td>STAND03</td>\n",
       "      <td>NaN</td>\n",
       "      <td>NaN</td>\n",
       "      <td>NaN</td>\n",
       "      <td>NaN</td>\n",
       "      <td>NaN</td>\n",
       "      <td>7/30/2018 4:19</td>\n",
       "      <td>7/30/2018 4:18</td>\n",
       "      <td>7/30/2018 4:33</td>\n",
       "    </tr>\n",
       "    <tr>\n",
       "      <th>4</th>\n",
       "      <td>CAR1</td>\n",
       "      <td>2519</td>\n",
       "      <td>B737/9-WL</td>\n",
       "      <td>7/30/2018 4:45</td>\n",
       "      <td>RUNWAY02</td>\n",
       "      <td>STAND04</td>\n",
       "      <td>7/30/2018 4:25</td>\n",
       "      <td>7/30/2018 4:33</td>\n",
       "      <td>7/30/2018 4:33</td>\n",
       "      <td>7/30/2018 4:29</td>\n",
       "      <td>7/30/2018 4:30</td>\n",
       "      <td>NaN</td>\n",
       "      <td>NaN</td>\n",
       "      <td>NaN</td>\n",
       "    </tr>\n",
       "  </tbody>\n",
       "</table>\n",
       "</div>"
      ],
      "text/plain": [
       "  carrier flight     acType             sto    runway    stand  \\\n",
       "0    CAR1    NaN       MD88       undefined       NaN  STAND01   \n",
       "1    CAR1    NaN       MD88       undefined       NaN  STAND01   \n",
       "2     NaN    NaN      CRJ/9  7/30/2018 4:18       NaN  STAND02   \n",
       "3    CAR1     27     A350/9  7/30/2018 4:19  RUNWAY01  STAND03   \n",
       "4    CAR1   2519  B737/9-WL  7/30/2018 4:45  RUNWAY02  STAND04   \n",
       "\n",
       "             aldt            eibt            cibt            aibt  \\\n",
       "0             NaN             NaN             NaN             NaN   \n",
       "1             NaN             NaN             NaN             NaN   \n",
       "2             NaN  7/30/2018 4:18             NaN             NaN   \n",
       "3             NaN             NaN             NaN             NaN   \n",
       "4  7/30/2018 4:25  7/30/2018 4:33  7/30/2018 4:33  7/30/2018 4:29   \n",
       "\n",
       "        chocks_on            eobt            aobt            atot  \n",
       "0             NaN             NaN             NaN             NaN  \n",
       "1             NaN             NaN             NaN             NaN  \n",
       "2             NaN             NaN             NaN             NaN  \n",
       "3             NaN  7/30/2018 4:19  7/30/2018 4:18  7/30/2018 4:33  \n",
       "4  7/30/2018 4:30             NaN             NaN             NaN  "
      ]
     },
     "execution_count": 13,
     "metadata": {},
     "output_type": "execute_result"
    }
   ],
   "source": [
    "df1.head()"
   ]
  },
  {
   "cell_type": "code",
   "execution_count": 14,
   "metadata": {},
   "outputs": [
    {
     "data": {
      "text/html": [
       "<div>\n",
       "<style scoped>\n",
       "    .dataframe tbody tr th:only-of-type {\n",
       "        vertical-align: middle;\n",
       "    }\n",
       "\n",
       "    .dataframe tbody tr th {\n",
       "        vertical-align: top;\n",
       "    }\n",
       "\n",
       "    .dataframe thead th {\n",
       "        text-align: right;\n",
       "    }\n",
       "</style>\n",
       "<table border=\"1\" class=\"dataframe\">\n",
       "  <thead>\n",
       "    <tr style=\"text-align: right;\">\n",
       "      <th></th>\n",
       "      <th>carrier</th>\n",
       "      <th>flight</th>\n",
       "      <th>acType</th>\n",
       "      <th>sto</th>\n",
       "      <th>runway</th>\n",
       "      <th>stand</th>\n",
       "      <th>aldt</th>\n",
       "      <th>eibt</th>\n",
       "      <th>cibt</th>\n",
       "      <th>aibt</th>\n",
       "      <th>chocks_on</th>\n",
       "    </tr>\n",
       "  </thead>\n",
       "  <tbody>\n",
       "    <tr>\n",
       "      <th>4</th>\n",
       "      <td>CAR1</td>\n",
       "      <td>2519</td>\n",
       "      <td>B737/9-WL</td>\n",
       "      <td>7/30/2018 4:45</td>\n",
       "      <td>RUNWAY02</td>\n",
       "      <td>STAND04</td>\n",
       "      <td>7/30/2018 4:25</td>\n",
       "      <td>7/30/2018 4:33</td>\n",
       "      <td>7/30/2018 4:33</td>\n",
       "      <td>7/30/2018 4:29</td>\n",
       "      <td>7/30/2018 4:30</td>\n",
       "    </tr>\n",
       "    <tr>\n",
       "      <th>7</th>\n",
       "      <td>CAR1</td>\n",
       "      <td>1757</td>\n",
       "      <td>B757/2-WL</td>\n",
       "      <td>7/30/2018 8:53</td>\n",
       "      <td>RUNWAY02</td>\n",
       "      <td>STAND07</td>\n",
       "      <td>7/30/2018 8:14</td>\n",
       "      <td>7/30/2018 8:19</td>\n",
       "      <td>7/30/2018 8:18</td>\n",
       "      <td>7/30/2018 8:18</td>\n",
       "      <td>7/30/2018 8:19</td>\n",
       "    </tr>\n",
       "    <tr>\n",
       "      <th>8</th>\n",
       "      <td>CAR1</td>\n",
       "      <td>1636</td>\n",
       "      <td>A321/2</td>\n",
       "      <td>7/30/2018 8:49</td>\n",
       "      <td>RUNWAY01</td>\n",
       "      <td>STAND08</td>\n",
       "      <td>7/30/2018 8:26</td>\n",
       "      <td>7/30/2018 8:31</td>\n",
       "      <td>7/30/2018 8:32</td>\n",
       "      <td>7/30/2018 8:29</td>\n",
       "      <td>7/30/2018 8:30</td>\n",
       "    </tr>\n",
       "    <tr>\n",
       "      <th>9</th>\n",
       "      <td>CAR1</td>\n",
       "      <td>2048</td>\n",
       "      <td>B737/9-WL</td>\n",
       "      <td>7/30/2018 8:56</td>\n",
       "      <td>RUNWAY02</td>\n",
       "      <td>STAND09</td>\n",
       "      <td>7/30/2018 8:42</td>\n",
       "      <td>7/30/2018 8:47</td>\n",
       "      <td>7/30/2018 8:45</td>\n",
       "      <td>7/30/2018 8:46</td>\n",
       "      <td>NaN</td>\n",
       "    </tr>\n",
       "    <tr>\n",
       "      <th>11</th>\n",
       "      <td>CAR1</td>\n",
       "      <td>2510</td>\n",
       "      <td>A321/2</td>\n",
       "      <td>7/30/2018 9:14</td>\n",
       "      <td>RUNWAY02</td>\n",
       "      <td>STAND11</td>\n",
       "      <td>7/30/2018 8:52</td>\n",
       "      <td>7/30/2018 8:57</td>\n",
       "      <td>7/30/2018 8:57</td>\n",
       "      <td>7/30/2018 8:57</td>\n",
       "      <td>7/30/2018 8:58</td>\n",
       "    </tr>\n",
       "  </tbody>\n",
       "</table>\n",
       "</div>"
      ],
      "text/plain": [
       "   carrier flight     acType             sto    runway    stand  \\\n",
       "4     CAR1   2519  B737/9-WL  7/30/2018 4:45  RUNWAY02  STAND04   \n",
       "7     CAR1   1757  B757/2-WL  7/30/2018 8:53  RUNWAY02  STAND07   \n",
       "8     CAR1   1636     A321/2  7/30/2018 8:49  RUNWAY01  STAND08   \n",
       "9     CAR1   2048  B737/9-WL  7/30/2018 8:56  RUNWAY02  STAND09   \n",
       "11    CAR1   2510     A321/2  7/30/2018 9:14  RUNWAY02  STAND11   \n",
       "\n",
       "              aldt            eibt            cibt            aibt  \\\n",
       "4   7/30/2018 4:25  7/30/2018 4:33  7/30/2018 4:33  7/30/2018 4:29   \n",
       "7   7/30/2018 8:14  7/30/2018 8:19  7/30/2018 8:18  7/30/2018 8:18   \n",
       "8   7/30/2018 8:26  7/30/2018 8:31  7/30/2018 8:32  7/30/2018 8:29   \n",
       "9   7/30/2018 8:42  7/30/2018 8:47  7/30/2018 8:45  7/30/2018 8:46   \n",
       "11  7/30/2018 8:52  7/30/2018 8:57  7/30/2018 8:57  7/30/2018 8:57   \n",
       "\n",
       "         chocks_on  \n",
       "4   7/30/2018 4:30  \n",
       "7   7/30/2018 8:19  \n",
       "8   7/30/2018 8:30  \n",
       "9              NaN  \n",
       "11  7/30/2018 8:58  "
      ]
     },
     "execution_count": 14,
     "metadata": {},
     "output_type": "execute_result"
    }
   ],
   "source": [
    "df2.head()"
   ]
  },
  {
   "cell_type": "code",
   "execution_count": 15,
   "metadata": {},
   "outputs": [
    {
     "data": {
      "text/html": [
       "<div>\n",
       "<style scoped>\n",
       "    .dataframe tbody tr th:only-of-type {\n",
       "        vertical-align: middle;\n",
       "    }\n",
       "\n",
       "    .dataframe tbody tr th {\n",
       "        vertical-align: top;\n",
       "    }\n",
       "\n",
       "    .dataframe thead th {\n",
       "        text-align: right;\n",
       "    }\n",
       "</style>\n",
       "<table border=\"1\" class=\"dataframe\">\n",
       "  <thead>\n",
       "    <tr style=\"text-align: right;\">\n",
       "      <th></th>\n",
       "      <th>0</th>\n",
       "    </tr>\n",
       "  </thead>\n",
       "  <tbody>\n",
       "    <tr>\n",
       "      <th>4</th>\n",
       "      <td>240.0</td>\n",
       "    </tr>\n",
       "    <tr>\n",
       "      <th>7</th>\n",
       "      <td>240.0</td>\n",
       "    </tr>\n",
       "    <tr>\n",
       "      <th>8</th>\n",
       "      <td>180.0</td>\n",
       "    </tr>\n",
       "    <tr>\n",
       "      <th>9</th>\n",
       "      <td>240.0</td>\n",
       "    </tr>\n",
       "    <tr>\n",
       "      <th>11</th>\n",
       "      <td>300.0</td>\n",
       "    </tr>\n",
       "  </tbody>\n",
       "</table>\n",
       "</div>"
      ],
      "text/plain": [
       "        0\n",
       "4   240.0\n",
       "7   240.0\n",
       "8   180.0\n",
       "9   240.0\n",
       "11  300.0"
      ]
     },
     "execution_count": 15,
     "metadata": {},
     "output_type": "execute_result"
    }
   ],
   "source": [
    "df3.head()"
   ]
  },
  {
   "cell_type": "code",
   "execution_count": 16,
   "metadata": {},
   "outputs": [
    {
     "data": {
      "text/plain": [
       "carrier      0.000000\n",
       "flight       0.000000\n",
       "acType       0.000014\n",
       "sto          0.000000\n",
       "runway       0.025241\n",
       "stand        0.000000\n",
       "aldt         0.000000\n",
       "eibt         0.000000\n",
       "cibt         0.025349\n",
       "aibt         0.000000\n",
       "chocks_on    0.204432\n",
       "dtype: float64"
      ]
     },
     "execution_count": 16,
     "metadata": {},
     "output_type": "execute_result"
    }
   ],
   "source": [
    "df2.isna().sum()/len(df2)"
   ]
  },
  {
   "cell_type": "code",
   "execution_count": null,
   "metadata": {},
   "outputs": [],
   "source": []
  },
  {
   "cell_type": "code",
   "execution_count": null,
   "metadata": {},
   "outputs": [],
   "source": []
  },
  {
   "cell_type": "code",
   "execution_count": null,
   "metadata": {},
   "outputs": [],
   "source": []
  },
  {
   "cell_type": "code",
   "execution_count": null,
   "metadata": {},
   "outputs": [],
   "source": []
  },
  {
   "cell_type": "code",
   "execution_count": null,
   "metadata": {},
   "outputs": [],
   "source": []
  },
  {
   "cell_type": "code",
   "execution_count": null,
   "metadata": {},
   "outputs": [],
   "source": []
  },
  {
   "cell_type": "code",
   "execution_count": null,
   "metadata": {},
   "outputs": [],
   "source": []
  },
  {
   "cell_type": "code",
   "execution_count": null,
   "metadata": {},
   "outputs": [],
   "source": []
  },
  {
   "cell_type": "code",
   "execution_count": null,
   "metadata": {},
   "outputs": [],
   "source": []
  },
  {
   "cell_type": "code",
   "execution_count": null,
   "metadata": {},
   "outputs": [],
   "source": []
  }
 ],
 "metadata": {
  "kernelspec": {
   "display_name": "Python 3",
   "language": "python",
   "name": "python3"
  },
  "language_info": {
   "codemirror_mode": {
    "name": "ipython",
    "version": 3
   },
   "file_extension": ".py",
   "mimetype": "text/x-python",
   "name": "python",
   "nbconvert_exporter": "python",
   "pygments_lexer": "ipython3",
   "version": "3.6.8"
  }
 },
 "nbformat": 4,
 "nbformat_minor": 2
}
