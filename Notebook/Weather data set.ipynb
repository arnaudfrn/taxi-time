{
 "cells": [
  {
   "cell_type": "code",
   "execution_count": 5,
   "metadata": {},
   "outputs": [],
   "source": [
    "import pandas as pd\n",
    "import numpy as np"
   ]
  },
  {
   "cell_type": "code",
   "execution_count": 68,
   "metadata": {},
   "outputs": [],
   "source": [
    "df = pd.read_csv(\"../data/weather_data_prep.csv\", parse_dates=[0])"
   ]
  },
  {
   "cell_type": "code",
   "execution_count": 69,
   "metadata": {},
   "outputs": [
    {
     "data": {
      "text/plain": [
       "0"
      ]
     },
     "execution_count": 69,
     "metadata": {},
     "output_type": "execute_result"
    }
   ],
   "source": [
    "# Only Nan in PGTM\n",
    "df['PGTM'].isna().sum() - df.shape[0]"
   ]
  },
  {
   "cell_type": "code",
   "execution_count": 73,
   "metadata": {},
   "outputs": [],
   "source": [
    "df.drop(columns=['PGTM'], inplace=True)"
   ]
  },
  {
   "cell_type": "code",
   "execution_count": 75,
   "metadata": {},
   "outputs": [],
   "source": [
    "# Aggregation on a daily basis since we have data that are updated\n",
    "df = df.groupby('DATE').agg({'AWND': 'mean', 'PRCP': 'sum',\n",
    "                       'SNOW': 'max','SNWD': 'sum','TAVG': 'mean','TMAX': 'max',\n",
    "                        'TMIN': 'min','WDF2': 'max','WDF5': 'max',\n",
    "                        'WSF2': 'max','WSF5': 'max','WT01': 'max',\n",
    "                        'WT02': 'max','WT03': 'max','WT08':'max'})"
   ]
  },
  {
   "cell_type": "code",
   "execution_count": 76,
   "metadata": {},
   "outputs": [
    {
     "data": {
      "text/plain": [
       "0"
      ]
     },
     "execution_count": 76,
     "metadata": {},
     "output_type": "execute_result"
    }
   ],
   "source": [
    "# Test to know is TAVG is a good column to then compute the snow proxy\n",
    "#No Nan's detected\n",
    "df['TAVG'].isna().sum()\n"
   ]
  },
  {
   "cell_type": "code",
   "execution_count": 50,
   "metadata": {},
   "outputs": [
    {
     "name": "stdout",
     "output_type": "stream",
     "text": [
      "<class 'pandas.core.frame.DataFrame'>\n",
      "DatetimeIndex: 182 entries, 2018-07-30 to 2019-01-27\n",
      "Data columns (total 16 columns):\n",
      "AWND    182 non-null float64\n",
      "PGTM    0 non-null float64\n",
      "PRCP    182 non-null float64\n",
      "SNOW    182 non-null float64\n",
      "SNWD    182 non-null float64\n",
      "TAVG    182 non-null float64\n",
      "TMAX    182 non-null float64\n",
      "TMIN    182 non-null float64\n",
      "WDF2    182 non-null float64\n",
      "WDF5    182 non-null float64\n",
      "WSF2    182 non-null float64\n",
      "WSF5    182 non-null float64\n",
      "WT01    125 non-null float64\n",
      "WT02    19 non-null float64\n",
      "WT03    29 non-null float64\n",
      "WT08    70 non-null float64\n",
      "dtypes: float64(16)\n",
      "memory usage: 24.2 KB\n"
     ]
    }
   ],
   "source": [
    "df.info()"
   ]
  },
  {
   "cell_type": "code",
   "execution_count": 83,
   "metadata": {},
   "outputs": [],
   "source": [
    "#IF it's raining and avg tempareture below 45 F°, it's snowing\n",
    "df['SnowProxi'] = (df['PRCP'] > 0.0) & (df['TAVG'] < 45.0)"
   ]
  },
  {
   "cell_type": "code",
   "execution_count": 84,
   "metadata": {},
   "outputs": [
    {
     "data": {
      "text/plain": [
       "16"
      ]
     },
     "execution_count": 84,
     "metadata": {},
     "output_type": "execute_result"
    }
   ],
   "source": [
    "# 16 days of snow\n",
    "df['SnowProxi'].sum()"
   ]
  },
  {
   "cell_type": "code",
   "execution_count": 87,
   "metadata": {},
   "outputs": [
    {
     "data": {
      "text/html": [
       "<div>\n",
       "<style scoped>\n",
       "    .dataframe tbody tr th:only-of-type {\n",
       "        vertical-align: middle;\n",
       "    }\n",
       "\n",
       "    .dataframe tbody tr th {\n",
       "        vertical-align: top;\n",
       "    }\n",
       "\n",
       "    .dataframe thead th {\n",
       "        text-align: right;\n",
       "    }\n",
       "</style>\n",
       "<table border=\"1\" class=\"dataframe\">\n",
       "  <thead>\n",
       "    <tr style=\"text-align: right;\">\n",
       "      <th></th>\n",
       "      <th>AWND</th>\n",
       "      <th>PRCP</th>\n",
       "      <th>SNOW</th>\n",
       "      <th>SNWD</th>\n",
       "      <th>TAVG</th>\n",
       "      <th>TMAX</th>\n",
       "      <th>TMIN</th>\n",
       "      <th>WDF2</th>\n",
       "      <th>WDF5</th>\n",
       "      <th>WSF2</th>\n",
       "      <th>WSF5</th>\n",
       "      <th>WT01</th>\n",
       "      <th>WT02</th>\n",
       "      <th>WT03</th>\n",
       "      <th>WT08</th>\n",
       "    </tr>\n",
       "  </thead>\n",
       "  <tbody>\n",
       "    <tr>\n",
       "      <th>count</th>\n",
       "      <td>182.000000</td>\n",
       "      <td>182.000000</td>\n",
       "      <td>182.0</td>\n",
       "      <td>182.0</td>\n",
       "      <td>182.000000</td>\n",
       "      <td>182.000000</td>\n",
       "      <td>182.000000</td>\n",
       "      <td>182.000000</td>\n",
       "      <td>182.000000</td>\n",
       "      <td>182.000000</td>\n",
       "      <td>182.000000</td>\n",
       "      <td>125.0</td>\n",
       "      <td>19.0</td>\n",
       "      <td>29.0</td>\n",
       "      <td>70.0</td>\n",
       "    </tr>\n",
       "    <tr>\n",
       "      <th>mean</th>\n",
       "      <td>5.852665</td>\n",
       "      <td>2.493022</td>\n",
       "      <td>0.0</td>\n",
       "      <td>0.0</td>\n",
       "      <td>62.049451</td>\n",
       "      <td>71.340659</td>\n",
       "      <td>51.137363</td>\n",
       "      <td>240.494505</td>\n",
       "      <td>238.681319</td>\n",
       "      <td>17.619231</td>\n",
       "      <td>23.165934</td>\n",
       "      <td>1.0</td>\n",
       "      <td>1.0</td>\n",
       "      <td>1.0</td>\n",
       "      <td>1.0</td>\n",
       "    </tr>\n",
       "    <tr>\n",
       "      <th>std</th>\n",
       "      <td>2.920043</td>\n",
       "      <td>5.711963</td>\n",
       "      <td>0.0</td>\n",
       "      <td>0.0</td>\n",
       "      <td>15.678848</td>\n",
       "      <td>16.503956</td>\n",
       "      <td>16.271109</td>\n",
       "      <td>95.265129</td>\n",
       "      <td>97.863461</td>\n",
       "      <td>5.503200</td>\n",
       "      <td>7.226849</td>\n",
       "      <td>0.0</td>\n",
       "      <td>0.0</td>\n",
       "      <td>0.0</td>\n",
       "      <td>0.0</td>\n",
       "    </tr>\n",
       "    <tr>\n",
       "      <th>min</th>\n",
       "      <td>1.116667</td>\n",
       "      <td>0.000000</td>\n",
       "      <td>0.0</td>\n",
       "      <td>0.0</td>\n",
       "      <td>31.000000</td>\n",
       "      <td>40.000000</td>\n",
       "      <td>20.000000</td>\n",
       "      <td>30.000000</td>\n",
       "      <td>30.000000</td>\n",
       "      <td>8.100000</td>\n",
       "      <td>10.100000</td>\n",
       "      <td>1.0</td>\n",
       "      <td>1.0</td>\n",
       "      <td>1.0</td>\n",
       "      <td>1.0</td>\n",
       "    </tr>\n",
       "    <tr>\n",
       "      <th>25%</th>\n",
       "      <td>3.524167</td>\n",
       "      <td>0.000000</td>\n",
       "      <td>0.0</td>\n",
       "      <td>0.0</td>\n",
       "      <td>48.250000</td>\n",
       "      <td>55.250000</td>\n",
       "      <td>37.000000</td>\n",
       "      <td>150.000000</td>\n",
       "      <td>150.000000</td>\n",
       "      <td>13.000000</td>\n",
       "      <td>18.100000</td>\n",
       "      <td>1.0</td>\n",
       "      <td>1.0</td>\n",
       "      <td>1.0</td>\n",
       "      <td>1.0</td>\n",
       "    </tr>\n",
       "    <tr>\n",
       "      <th>50%</th>\n",
       "      <td>5.183333</td>\n",
       "      <td>0.055000</td>\n",
       "      <td>0.0</td>\n",
       "      <td>0.0</td>\n",
       "      <td>60.000000</td>\n",
       "      <td>70.500000</td>\n",
       "      <td>49.500000</td>\n",
       "      <td>290.000000</td>\n",
       "      <td>270.000000</td>\n",
       "      <td>16.100000</td>\n",
       "      <td>21.900000</td>\n",
       "      <td>1.0</td>\n",
       "      <td>1.0</td>\n",
       "      <td>1.0</td>\n",
       "      <td>1.0</td>\n",
       "    </tr>\n",
       "    <tr>\n",
       "      <th>75%</th>\n",
       "      <td>7.735833</td>\n",
       "      <td>2.375000</td>\n",
       "      <td>0.0</td>\n",
       "      <td>0.0</td>\n",
       "      <td>78.000000</td>\n",
       "      <td>88.000000</td>\n",
       "      <td>68.000000</td>\n",
       "      <td>320.000000</td>\n",
       "      <td>330.000000</td>\n",
       "      <td>21.675000</td>\n",
       "      <td>28.000000</td>\n",
       "      <td>1.0</td>\n",
       "      <td>1.0</td>\n",
       "      <td>1.0</td>\n",
       "      <td>1.0</td>\n",
       "    </tr>\n",
       "    <tr>\n",
       "      <th>max</th>\n",
       "      <td>17.373333</td>\n",
       "      <td>40.100000</td>\n",
       "      <td>0.0</td>\n",
       "      <td>0.0</td>\n",
       "      <td>84.000000</td>\n",
       "      <td>95.000000</td>\n",
       "      <td>73.000000</td>\n",
       "      <td>360.000000</td>\n",
       "      <td>360.000000</td>\n",
       "      <td>35.100000</td>\n",
       "      <td>49.000000</td>\n",
       "      <td>1.0</td>\n",
       "      <td>1.0</td>\n",
       "      <td>1.0</td>\n",
       "      <td>1.0</td>\n",
       "    </tr>\n",
       "  </tbody>\n",
       "</table>\n",
       "</div>"
      ],
      "text/plain": [
       "             AWND        PRCP   SNOW   SNWD        TAVG        TMAX  \\\n",
       "count  182.000000  182.000000  182.0  182.0  182.000000  182.000000   \n",
       "mean     5.852665    2.493022    0.0    0.0   62.049451   71.340659   \n",
       "std      2.920043    5.711963    0.0    0.0   15.678848   16.503956   \n",
       "min      1.116667    0.000000    0.0    0.0   31.000000   40.000000   \n",
       "25%      3.524167    0.000000    0.0    0.0   48.250000   55.250000   \n",
       "50%      5.183333    0.055000    0.0    0.0   60.000000   70.500000   \n",
       "75%      7.735833    2.375000    0.0    0.0   78.000000   88.000000   \n",
       "max     17.373333   40.100000    0.0    0.0   84.000000   95.000000   \n",
       "\n",
       "             TMIN        WDF2        WDF5        WSF2        WSF5   WT01  \\\n",
       "count  182.000000  182.000000  182.000000  182.000000  182.000000  125.0   \n",
       "mean    51.137363  240.494505  238.681319   17.619231   23.165934    1.0   \n",
       "std     16.271109   95.265129   97.863461    5.503200    7.226849    0.0   \n",
       "min     20.000000   30.000000   30.000000    8.100000   10.100000    1.0   \n",
       "25%     37.000000  150.000000  150.000000   13.000000   18.100000    1.0   \n",
       "50%     49.500000  290.000000  270.000000   16.100000   21.900000    1.0   \n",
       "75%     68.000000  320.000000  330.000000   21.675000   28.000000    1.0   \n",
       "max     73.000000  360.000000  360.000000   35.100000   49.000000    1.0   \n",
       "\n",
       "       WT02  WT03  WT08  \n",
       "count  19.0  29.0  70.0  \n",
       "mean    1.0   1.0   1.0  \n",
       "std     0.0   0.0   0.0  \n",
       "min     1.0   1.0   1.0  \n",
       "25%     1.0   1.0   1.0  \n",
       "50%     1.0   1.0   1.0  \n",
       "75%     1.0   1.0   1.0  \n",
       "max     1.0   1.0   1.0  "
      ]
     },
     "execution_count": 87,
     "metadata": {},
     "output_type": "execute_result"
    }
   ],
   "source": [
    "df.describe()"
   ]
  },
  {
   "cell_type": "code",
   "execution_count": 89,
   "metadata": {},
   "outputs": [
    {
     "data": {
      "text/plain": [
       "0.0"
      ]
     },
     "execution_count": 89,
     "metadata": {},
     "output_type": "execute_result"
    }
   ],
   "source": [
    "df['SNOW'].sum()"
   ]
  },
  {
   "cell_type": "code",
   "execution_count": null,
   "metadata": {},
   "outputs": [],
   "source": []
  }
 ],
 "metadata": {
  "kernelspec": {
   "display_name": "Python 3",
   "language": "python",
   "name": "python3"
  },
  "language_info": {
   "codemirror_mode": {
    "name": "ipython",
    "version": 3
   },
   "file_extension": ".py",
   "mimetype": "text/x-python",
   "name": "python",
   "nbconvert_exporter": "python",
   "pygments_lexer": "ipython3",
   "version": "3.6.8"
  }
 },
 "nbformat": 4,
 "nbformat_minor": 2
}
