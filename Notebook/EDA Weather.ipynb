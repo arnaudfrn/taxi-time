{
 "cells": [
  {
   "cell_type": "code",
   "execution_count": 1,
   "metadata": {},
   "outputs": [],
   "source": [
    "import pandas as pd\n",
    "import numpy as np \n",
    "import sys\n",
    "import os\n",
    "\n",
    "sys.path.append(\"..\")\n",
    "from src import preprocessing\n",
    "from src import master"
   ]
  },
  {
   "cell_type": "code",
   "execution_count": 2,
   "metadata": {},
   "outputs": [
    {
     "name": "stderr",
     "output_type": "stream",
     "text": [
      "/Users/alexandreminy/anaconda3/lib/python3.6/site-packages/IPython/core/interactiveshell.py:3185: DtypeWarning: Columns (0,1,2,3,4,5,6,7,8,9,10,11,12,13,14,15,16,17,18,19,20,21,22,23,24,25,26,27,28,29,30,31,32,33,34,35,36,37,38,39,40,41,42) have mixed types. Specify dtype option on import or set low_memory=False.\n",
      "  if (yield from self.run_code(code, result)):\n"
     ]
    },
    {
     "name": "stdout",
     "output_type": "stream",
     "text": [
      "(137992, 26)\n"
     ]
    }
   ],
   "source": [
    "weather = preprocessing.weather_clean('../../2. Weather data/weather_data_prep.csv')\n",
    "airport = preprocessing.design_matrix_airport_data('../../0. Airport data/Airport_Data.csv')\n",
    "df = preprocessing.join_weather_airport(airport, weather)\n",
    "print(df.shape)"
   ]
  },
  {
   "cell_type": "code",
   "execution_count": 3,
   "metadata": {},
   "outputs": [],
   "source": [
    "df = df.iloc[:,[0,12,13,14,15,16,17,18,19,20,21,22,23,24,25]]"
   ]
  },
  {
   "cell_type": "code",
   "execution_count": 4,
   "metadata": {},
   "outputs": [
    {
     "data": {
      "text/plain": [
       "Index(['date', 'AWND', 'PRCP', 'TAVG', 'TMAX', 'TMIN', 'WDF2', 'WDF5', 'WSF2',\n",
       "       'WSF5', 'WT01', 'WT02', 'WT03', 'WT08', 'SnowProxi'],\n",
       "      dtype='object')"
      ]
     },
     "execution_count": 4,
     "metadata": {},
     "output_type": "execute_result"
    }
   ],
   "source": [
    "df.columns"
   ]
  },
  {
   "cell_type": "code",
   "execution_count": 5,
   "metadata": {},
   "outputs": [],
   "source": [
    "target = preprocessing.create_target(airport)"
   ]
  },
  {
   "cell_type": "code",
   "execution_count": 6,
   "metadata": {},
   "outputs": [
    {
     "data": {
      "text/plain": [
       "date\n",
       "2018-07-30    240.0\n",
       "2018-07-30    240.0\n",
       "2018-07-30    180.0\n",
       "2018-07-30    240.0\n",
       "2018-07-30    300.0\n",
       "2018-07-30    600.0\n",
       "2018-07-30    360.0\n",
       "2018-07-30    420.0\n",
       "2018-07-30    420.0\n",
       "2018-07-30    360.0\n",
       "2018-07-30    360.0\n",
       "2018-07-30    420.0\n",
       "2018-07-30    240.0\n",
       "2018-07-30    240.0\n",
       "2018-07-30    360.0\n",
       "2018-07-30    360.0\n",
       "2018-07-30    840.0\n",
       "2018-07-30    300.0\n",
       "2018-07-30    420.0\n",
       "2018-07-30    540.0\n",
       "2018-07-30    600.0\n",
       "2018-07-30    300.0\n",
       "2018-07-30    240.0\n",
       "2018-07-30    360.0\n",
       "2018-07-30    540.0\n",
       "2018-07-30    420.0\n",
       "2018-07-30    300.0\n",
       "2018-07-30    300.0\n",
       "2018-07-30    480.0\n",
       "2018-07-30    360.0\n",
       "              ...  \n",
       "2019-01-17    840.0\n",
       "2019-01-17    840.0\n",
       "2019-01-17    480.0\n",
       "2019-01-17    420.0\n",
       "2019-01-17    420.0\n",
       "2019-01-17    420.0\n",
       "2019-01-17    480.0\n",
       "2019-01-17    360.0\n",
       "2019-01-17    480.0\n",
       "2019-01-17    540.0\n",
       "2019-01-17    600.0\n",
       "2019-01-17    360.0\n",
       "2019-01-17    720.0\n",
       "2019-01-17    360.0\n",
       "2019-01-17    540.0\n",
       "2019-01-17    360.0\n",
       "2019-01-17    540.0\n",
       "2019-01-17    480.0\n",
       "2019-01-17    240.0\n",
       "2019-01-17    480.0\n",
       "2019-01-17    360.0\n",
       "2019-01-17    300.0\n",
       "2019-01-17    420.0\n",
       "2019-01-17    840.0\n",
       "2019-01-17    420.0\n",
       "2019-01-17    480.0\n",
       "2019-01-17    420.0\n",
       "2019-01-17    900.0\n",
       "2019-01-17    480.0\n",
       "2019-01-17    420.0\n",
       "Length: 137992, dtype: float64"
      ]
     },
     "execution_count": 6,
     "metadata": {},
     "output_type": "execute_result"
    }
   ],
   "source": [
    "target"
   ]
  },
  {
   "cell_type": "code",
   "execution_count": null,
   "metadata": {},
   "outputs": [],
   "source": []
  }
 ],
 "metadata": {
  "kernelspec": {
   "display_name": "Python 3",
   "language": "python",
   "name": "python3"
  },
  "language_info": {
   "codemirror_mode": {
    "name": "ipython",
    "version": 3
   },
   "file_extension": ".py",
   "mimetype": "text/x-python",
   "name": "python",
   "nbconvert_exporter": "python",
   "pygments_lexer": "ipython3",
   "version": "3.6.8"
  }
 },
 "nbformat": 4,
 "nbformat_minor": 2
}
