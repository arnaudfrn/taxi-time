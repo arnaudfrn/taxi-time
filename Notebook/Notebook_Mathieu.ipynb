{
 "cells": [
  {
   "cell_type": "code",
   "execution_count": 1,
   "metadata": {},
   "outputs": [],
   "source": [
    "import os \n",
    "import pandas as pd\n",
    "import numpy as np\n",
    "\n",
    "import sklearn as sk\n",
    "from sklearn.preprocessing import MinMaxScaler\n",
    "from sklearn.metrics import *\n",
    "from sklearn.ensemble import RandomForestRegressor\n",
    "import time\n",
    "import catboost\n",
    "from src.preprocessing import *\n",
    "from src.modelisation import *\n",
    "from src.master import*\n",
    "from src.feature_engineering import *\n",
    "from src.training_testing_functions import *\n",
    "import pickle\n",
    "\n",
    "from datetime import timedelta  \n",
    "import os\n",
    "from itertools import product\n",
    "\n",
    "#PATH\n",
    "Path_Aircraft = 'data/1. AC characteristics/ACchar.xlsx'\n",
    "Path_correspondance_Aircraft_Airport = 'Correspondance.pkl'\n",
    "path_glossary = 'data/Glossary.xlsx'\n",
    "Path_AirportData = 'data/0. Airport data/Airport_Data.csv'\n",
    "Path_WeatherData = 'data/2. Weather data/weather_data_prep.csv'\n",
    "\n",
    "Path_Test = 'data/0. Airport data/Test_Set_Airport_Data.csv'"
   ]
  },
  {
   "cell_type": "code",
   "execution_count": 39,
   "metadata": {
    "scrolled": true
   },
   "outputs": [],
   "source": [
    "# X = master_preprocessing_X(Path_AirportData, Path_WeatherData, Path_Aircraft, Path_correspondance_Aircraft_Airport)\n",
    "# y = create_target(X)\n",
    "#X = pd.read_pickle('MergedNotCleanedDesignMatrix.pkl')\n",
    "X = pd.read_pickle('X.pkl')\n",
    "y = pd.read_pickle('y.pkl')\n",
    "# X.to_pickle('X.pkl')\n",
    "# y.to_pickle('y.pkl')"
   ]
  },
  {
   "cell_type": "code",
   "execution_count": 33,
   "metadata": {},
   "outputs": [],
   "source": [
    "col_numerical = ['MTOW','Wingspan, ft', 'Length, ft', 'Approach Speed\\n(Vref)','AWND', 'PRCP', 'TAVG', 'TMAX', 'TMIN','WDF2', 'WDF5', 'WSF2', 'WSF5', 'WT01', 'WT02', 'WT03', 'WT08']\n",
    "col_category = ['carrier', 'acType','runway', 'stand','ATCT Weight Class','Wake Category','AAC', 'ADG', 'TDG','SnowProxi']\n",
    "col_to_drop=[ 'flight','sto', 'aldt', 'eibt','aibt',\n",
    "       'cibt', 'chocks_on', 'Manufacturer','Physical Class (Engine)',\n",
    "       '# Engines',\n",
    "       'Wingtip Configuration',\n",
    "       'Tail Height, ft\\n(@ OEW)', 'Wheelbase, ft',\n",
    "       'Cockpit to Main Gear (CMG)', 'MGW\\n(Outer to Outer)',\n",
    "       'Max Ramp\\nMax Taxi', 'Main Gear Config', 'ICAO Code', 'Years Manufactured', 'Note',\n",
    "       'Parking Area (WS x Length), sf','Model']"
   ]
  },
  {
   "cell_type": "code",
   "execution_count": null,
   "metadata": {},
   "outputs": [],
   "source": [
    "X_clean = drop_imput_scaled_dummies(X,col_numerical,col_to_drop,col_category)\n",
    "\n",
    "#for catboost\n",
    "X_clean[col_category] = X_clean[col_category].apply(lambda x: x.astype('str'))\n",
    "X_clean[col_numerical] = X_clean[col_numerical].apply(lambda x: x.astype('float'))"
   ]
  },
  {
   "cell_type": "code",
   "execution_count": null,
   "metadata": {},
   "outputs": [],
   "source": [
    "X_train,X_test,y_train,y_test = train_test_split(X_clean,y,1000)"
   ]
  },
  {
   "cell_type": "code",
   "execution_count": null,
   "metadata": {},
   "outputs": [],
   "source": [
    "time_start = time.clock()\n",
    "pred = RF_modeling(X_train,X_test,y_train)\n",
    "time_elapsed = (time.clock() - time_start)\n",
    "print(time_elapsed)"
   ]
  },
  {
   "cell_type": "code",
   "execution_count": null,
   "metadata": {},
   "outputs": [],
   "source": [
    "test_size = 1000\n",
    "X_train, X_test = X_clean[0:len(X_clean)-test_size], X_clean[len(X_clean)-test_size:len(X_clean)]\n",
    "y_train, y_test = y[0:len(y)-test_size], y[len(y)-test_size:len(y)]"
   ]
  },
  {
   "cell_type": "code",
   "execution_count": null,
   "metadata": {},
   "outputs": [],
   "source": [
    "X.replace({'tbd': np.nan}, inplace=True)\n",
    "for i in col_numerical:\n",
    "    X[i].fillna(X[i].median(),inplace=True)\n"
   ]
  },
  {
   "cell_type": "code",
   "execution_count": null,
   "metadata": {},
   "outputs": [],
   "source": [
    "# droping useless column\n",
    "X = X.drop(col_to_drop, axis=1)\n",
    "\n",
    "# Scaling numerical values \n",
    "if len(col_numerical)>0:\n",
    "    scaler = MinMaxScaler()\n",
    "    X[col_numerical] = scaler.fit_transform(X[col_numerical])\n",
    "    \n",
    "# dummies transformation\n",
    "X = pd.get_dummies(X, columns=col_category,drop_first=True)\n"
   ]
  },
  {
   "cell_type": "code",
   "execution_count": null,
   "metadata": {},
   "outputs": [],
   "source": [
    "## train/test split \n",
    "test_size = 1000\n",
    "X_train, X_test = X[0:len(X)-test_size], X[len(X)-test_size:len(X)]\n",
    "y_train, y_test = y[0:len(y)-test_size], y[len(y)-test_size:len(y)]\n"
   ]
  },
  {
   "cell_type": "code",
   "execution_count": null,
   "metadata": {},
   "outputs": [],
   "source": [
    "## Model\n",
    "time_start = time.clock()\n",
    "rf = RandomForestClassifier(n_estimators= 400, min_samples_split= 3, min_samples_leaf= 2, max_features= 'auto',max_depth= 50,bootstrap=True ,random_state=10)\n",
    "rf.fit(X_train, y_train)\n",
    "pred = rf.predict(X_test)\n",
    "\n",
    "time_elapsed = (time.clock() - time_start)\n",
    "print(time_elapsed)"
   ]
  },
  {
   "cell_type": "code",
   "execution_count": null,
   "metadata": {},
   "outputs": [],
   "source": [
    "TEST1 = pred/60\n",
    "TEST2 = [x/60 for x in y_test[0].tolist()]\n",
    "np.sqrt(sk.metrics.mean_squared_error(TEST1,TEST2))"
   ]
  },
  {
   "cell_type": "code",
   "execution_count": null,
   "metadata": {},
   "outputs": [],
   "source": [
    "np.mean(TEST2)"
   ]
  },
  {
   "cell_type": "code",
   "execution_count": null,
   "metadata": {},
   "outputs": [],
   "source": [
    "def drop_scaled_dummies(X):\n",
    "    col_numerical = []\n",
    "    col_category = ['carrier', 'acType','runway', 'stand']\n",
    "    col_to_drop=['sto','aldt', 'eibt','cibt', 'aibt', 'chocks_on', 'flight']\n",
    "    \n",
    "    # droping useless column\n",
    "    X = X.drop(col_to_drop, axis=1)\n",
    "\n",
    "    # Scaling numerical values \n",
    "    if len(col_numerical)>0:\n",
    "        scaler = MinMaxScaler()\n",
    "        X[col_numerical] = scaler.fit_transform(X[col_numerical])\n",
    "    \n",
    "    # dummies transformation\n",
    "    X = pd.get_dummies(X, columns=col_category,drop_first=True)\n",
    "    return X\n",
    "\n",
    "def train_test_split(X,test_size=1000):\n",
    "    X_train, X_test = X[0:len(X)-test_size], X[len(X)-test_size:len(X)]\n",
    "    y_train, y_test = y[0:len(y)-test_size], y[len(y)-test_size:len(y)]\n",
    "    return X_train,X_test,y_train,y_test\n",
    "\n",
    "def RF_modeling(X_train,X_test,y_train):\n",
    "    rf = RandomForestClassifier(n_estimators= 400, min_samples_split= 3, min_samples_leaf= 2, max_features= 'auto',max_depth= 50,bootstrap=True ,random_state=10)\n",
    "    rf.fit(X_train, y_train)\n",
    "    pred = rf.predict(X_test)\n",
    "    return pred\n",
    "\n",
    "def RMSE(y_test,pred):\n",
    "    pred_in_min = pred/60\n",
    "    y_test_in_min = [x/60 for x in y_test[0].tolist()]\n",
    "    calculated_RMSE = np.sqrt(sk.metrics.mean_squared_error(pred_in_min,y_test_in_min))\n",
    "    return RMSE\n",
    "\n"
   ]
  },
  {
   "cell_type": "code",
   "execution_count": null,
   "metadata": {},
   "outputs": [],
   "source": [
    "time_start = time.clock()\n",
    "df = master_preprocessing_X(Path_AirportData, Path_WeatherData, Path_Aircraft, Path_correspondance_Aircraft_Airport)\n",
    "time_elapsed = (time.clock() - time_start)"
   ]
  },
  {
   "cell_type": "code",
   "execution_count": null,
   "metadata": {},
   "outputs": [],
   "source": [
    "df.isna().sum()/len(df)"
   ]
  },
  {
   "cell_type": "code",
   "execution_count": null,
   "metadata": {},
   "outputs": [],
   "source": []
  },
  {
   "cell_type": "code",
   "execution_count": null,
   "metadata": {},
   "outputs": [],
   "source": [
    "missing_aircraft = list(df[df['acType'].isna()]['flight'].unique())"
   ]
  },
  {
   "cell_type": "code",
   "execution_count": null,
   "metadata": {},
   "outputs": [],
   "source": [
    "df[df['flight'].isin(missing_aircraft)].groupby('flight')['acType'].value_counts()"
   ]
  },
  {
   "cell_type": "code",
   "execution_count": null,
   "metadata": {},
   "outputs": [],
   "source": [
    "df_aircraft = filtering_AC_charac(Path_correspondance_Aircraft_Airport,Path_Aircraft)"
   ]
  },
  {
   "cell_type": "code",
   "execution_count": null,
   "metadata": {},
   "outputs": [],
   "source": [
    "df_aircraft[df_aircraft['Parking Area (WS x Length), sf'].isna()]"
   ]
  },
  {
   "cell_type": "code",
   "execution_count": null,
   "metadata": {},
   "outputs": [],
   "source": [
    "['NaN','Boeing','767-400','Jet','2','D','IV','5','145','no winglets','170','201']\n",
    "['NaN','McDonnell Douglas','md-90','Jet','2','C','III','']"
   ]
  },
  {
   "cell_type": "code",
   "execution_count": null,
   "metadata": {},
   "outputs": [],
   "source": [
    "df_aircraft.head(50)"
   ]
  },
  {
   "cell_type": "markdown",
   "metadata": {},
   "source": [
    "### Catboost"
   ]
  },
  {
   "cell_type": "code",
   "execution_count": null,
   "metadata": {},
   "outputs": [],
   "source": [
    "from catboost import CatBoostRegressor\n",
    "time_start = time.clock()\n",
    "# Initialize CatBoostRegressor\n",
    "model = CatBoostRegressor(iterations=200,\n",
    "                          learning_rate=0.02,\n",
    "                          depth=12,\n",
    "                          eval_metric='RMSE',\n",
    "                          bagging_temperature = 0.2)\n",
    "\n",
    "column_index = [X_clean.columns.get_loc(c) for c in col_category if c in X_clean]\n",
    "# Fit model\n",
    "model.fit(X_train, y_train,cat_features=column_index)\n",
    "# Get predictions\n",
    "preds = model.predict(X_test)\n",
    "time_elapsed = (time.clock() - time_start)\n",
    "print(time_elapsed)\n"
   ]
  },
  {
   "cell_type": "code",
   "execution_count": null,
   "metadata": {},
   "outputs": [],
   "source": [
    "TEST1 = preds/60\n",
    "TEST2 = [x/60 for x in y_test['target'].tolist()]\n",
    "np.sqrt(sk.metrics.mean_squared_error(TEST1,TEST2))"
   ]
  },
  {
   "cell_type": "markdown",
   "metadata": {},
   "source": [
    "### tristan"
   ]
  },
  {
   "cell_type": "code",
   "execution_count": 26,
   "metadata": {},
   "outputs": [],
   "source": [
    "# X = pd.concat([X,y],axis=1)\n",
    "# path_feature = \"FEATURE.pkl\"\n",
    "# X = master_feature_engineering(X, path_feature)\n",
    "# X.dropna(subset=['rolling average same runway & same stand'],inplace=True)\n",
    "# y = pd.DataFrame(X['target'])"
   ]
  },
  {
   "cell_type": "code",
   "execution_count": 27,
   "metadata": {},
   "outputs": [],
   "source": [
    "# col_numerical = ['MTOW','Wingspan, ft', 'Length, ft', 'Approach Speed\\n(Vref)','AWND', 'PRCP', 'TAVG', 'TMAX', 'TMIN','WDF2', 'WDF5', 'WSF2', 'WSF5', 'WT01', 'WT02', 'WT03', 'WT08',\n",
    "#                 'nb of planes in movement in the plane',\n",
    "#                 'rolling average same runway',\n",
    "#                  'rolling average same stand',\n",
    "#                  'rolling average same runway & same stand']\n",
    "\n",
    "# col_dummies = ['carrier', 'acType','runway','ATCT Weight Class','Wake Category','AAC', 'ADG', 'TDG','SnowProxi']\n",
    "# col_to_drop=[ 'flight','sto', 'aldt', 'eibt','aibt',\n",
    "#        'cibt', 'chocks_on', 'Manufacturer','Physical Class (Engine)',\n",
    "#        '# Engines',\n",
    "#        'Wingtip Configuration',\n",
    "#        'Tail Height, ft\\n(@ OEW)', 'Wheelbase, ft',\n",
    "#        'Cockpit to Main Gear (CMG)', 'MGW\\n(Outer to Outer)',\n",
    "#        'Max Ramp\\nMax Taxi', 'Main Gear Config', 'ICAO Code', 'Years Manufactured', 'Note',\n",
    "#        'Parking Area (WS x Length), sf','Model',\n",
    "#        'target']\n",
    "# col_to_target_encode=['stand']"
   ]
  },
  {
   "cell_type": "code",
   "execution_count": 40,
   "metadata": {},
   "outputs": [],
   "source": [
    "col_numerical = ['AWND', 'PRCP', 'TAVG', 'TMAX', 'TMIN','WDF2', 'WDF5', 'WSF2', 'WSF5', 'WT01', 'WT02', 'WT03', 'WT08',\n",
    "                'nb of planes in movement in the plane',\n",
    "                'rolling average same runway',\n",
    "                 'rolling average same stand',\n",
    "                 'rolling average same runway & same stand']\n",
    "\n",
    "col_dummies = ['SnowProxi']\n",
    "col_to_drop=[ 'flight','sto', 'aldt', 'eibt','aibt',\n",
    "       'cibt', 'chocks_on', 'Manufacturer','Physical Class (Engine)',\n",
    "       '# Engines',\n",
    "       'Wingtip Configuration',\n",
    "       'Tail Height, ft\\n(@ OEW)', 'Wheelbase, ft',\n",
    "       'Cockpit to Main Gear (CMG)', 'MGW\\n(Outer to Outer)',\n",
    "       'Max Ramp\\nMax Taxi', 'Main Gear Config', 'ICAO Code', 'Years Manufactured', 'Note',\n",
    "       'Parking Area (WS x Length), sf','Model','MTOW','Wingspan, ft', 'Length, ft','Approach Speed\\n(Vref)',\n",
    "       'target']\n",
    "col_to_target_encode=['stand','carrier', 'acType','runway','ATCT Weight Class','Wake Category','AAC', 'ADG', 'TDG']"
   ]
  },
  {
   "cell_type": "code",
   "execution_count": 41,
   "metadata": {},
   "outputs": [],
   "source": [
    "X_final,y = features_pimpage(X,col_numerical,col_to_drop,col_dummies,col_to_target_encode,y,path_feature =\"FEATURE.pkl\" ,CatBoost=False)"
   ]
  },
  {
   "cell_type": "code",
   "execution_count": 42,
   "metadata": {},
   "outputs": [],
   "source": [
    "X_train,X_test,y_train,y_test = train_test_split(X_final,y,test_size=10000)"
   ]
  },
  {
   "cell_type": "code",
   "execution_count": 21,
   "metadata": {},
   "outputs": [
    {
     "name": "stderr",
     "output_type": "stream",
     "text": [
      "C:\\ProgramData\\Anaconda3\\lib\\site-packages\\ipykernel_launcher.py:3: DataConversionWarning: A column-vector y was passed when a 1d array was expected. Please change the shape of y to (n_samples,), for example using ravel().\n",
      "  This is separate from the ipykernel package so we can avoid doing imports until\n",
      "[Parallel(n_jobs=1)]: Using backend SequentialBackend with 1 concurrent workers.\n",
      "[Parallel(n_jobs=1)]: Done 400 out of 400 | elapsed:  2.6min finished\n",
      "[Parallel(n_jobs=1)]: Using backend SequentialBackend with 1 concurrent workers.\n"
     ]
    },
    {
     "name": "stdout",
     "output_type": "stream",
     "text": [
      "156.52760160000003\n"
     ]
    },
    {
     "name": "stderr",
     "output_type": "stream",
     "text": [
      "[Parallel(n_jobs=1)]: Done 400 out of 400 | elapsed:    1.5s finished\n"
     ]
    }
   ],
   "source": [
    "time_start = time.clock()\n",
    "rf = RandomForestRegressor(n_estimators= 250, min_samples_split= 3, min_samples_leaf= 2, max_features= 'sqrt',max_depth= 30,bootstrap=True ,random_state=10,verbose=True)\n",
    "rf.fit(X_train, y_train)\n",
    "pred = rf.predict(X_test)\n",
    "\n",
    "time_elapsed = (time.clock() - time_start)\n",
    "print(time_elapsed)"
   ]
  },
  {
   "cell_type": "code",
   "execution_count": 22,
   "metadata": {},
   "outputs": [
    {
     "name": "stderr",
     "output_type": "stream",
     "text": [
      "[Parallel(n_jobs=1)]: Using backend SequentialBackend with 1 concurrent workers.\n"
     ]
    },
    {
     "name": "stdout",
     "output_type": "stream",
     "text": [
      "2.775844344663995\n",
      "2.221393342685929\n"
     ]
    },
    {
     "name": "stderr",
     "output_type": "stream",
     "text": [
      "[Parallel(n_jobs=1)]: Done 400 out of 400 | elapsed:   18.2s finished\n"
     ]
    }
   ],
   "source": [
    "TEST1 = pred/60\n",
    "TEST2 = [x/60 for x in y_test['target'].tolist()]\n",
    "print(np.sqrt(sk.metrics.mean_squared_error(TEST1,TEST2)))\n",
    "\n",
    "pred_train = rf.predict(X_train)\n",
    "TEST3 = pred_train/60\n",
    "TEST4 = [x/60 for x in y_train['target'].tolist()]\n",
    "print(np.sqrt(sk.metrics.mean_squared_error(TEST3,TEST4)))"
   ]
  },
  {
   "cell_type": "code",
   "execution_count": 23,
   "metadata": {},
   "outputs": [],
   "source": [
    "import seaborn as sns\n",
    "sns.set_style(\"darkgrid\")"
   ]
  },
  {
   "cell_type": "code",
   "execution_count": 24,
   "metadata": {},
   "outputs": [
    {
     "data": {
      "text/plain": [
       "<matplotlib.axes._subplots.AxesSubplot at 0x23b117fdcc0>"
      ]
     },
     "execution_count": 24,
     "metadata": {},
     "output_type": "execute_result"
    },
    {
     "data": {
      "image/png": "[encoded data removed]",
      "text/plain": [
       "<Figure size 432x288 with 1 Axes>"
      ]
     },
     "metadata": {},
     "output_type": "display_data"
    }
   ],
   "source": [
    "import seaborn as sns\n",
    "sns.set_style(\"darkgrid\")\n",
    "import matplotlib.pyplot as plt\n",
    "feat_importances = pd.Series(rf.feature_importances_, index=X_train.columns)\n",
    "feat_importances.nlargest(12).plot(kind='barh',color='#2F993D',title='feature importance')"
   ]
  },
  {
   "cell_type": "code",
   "execution_count": 19,
   "metadata": {},
   "outputs": [],
   "source": [
    "from sklearn.base import clone \n",
    "\n",
    "def drop_col_feat_imp(model, X_train, y_train, random_state = 42):\n",
    "    \n",
    "    # clone the model to have the exact same specification as the one initially trained\n",
    "    model_clone = clone(model)\n",
    "    # set random_state for comparability\n",
    "    model_clone.random_state = random_state\n",
    "    # training and scoring the benchmark model\n",
    "    model_clone.fit(X_train, y_train)\n",
    "    benchmark_score = model_clone.score(X_train, y_train)\n",
    "    # list for storing feature importances\n",
    "    importances = []\n",
    "    \n",
    "    # iterating over all columns and storing feature importance (difference between benchmark and new model)\n",
    "    for col in X_train.columns:\n",
    "        model_clone = clone(model)\n",
    "        model_clone.random_state = random_state\n",
    "        model_clone.fit(X_train.drop(col, axis = 1), y_train)\n",
    "        drop_col_score = model_clone.score(X_train.drop(col, axis = 1), y_train)\n",
    "        importances.append(benchmark_score - drop_col_score)\n",
    "    \n",
    "    importances_df = imp_df(X_train.columns, importances)\n",
    "    return importances_df\n",
    "\n",
    "importances_df = drop_col_feat_imp(rf, X_train, y_train, random_state = 42)"
   ]
  },
  {
   "cell_type": "markdown",
   "metadata": {},
   "source": [
    "### CatBoost "
   ]
  },
  {
   "cell_type": "code",
   "execution_count": 8,
   "metadata": {},
   "outputs": [
    {
     "name": "stdout",
     "output_type": "stream",
     "text": [
      "0:\tlearn: 300.3373652\ttotal: 2.06s\tremaining: 6m 50s\n",
      "1:\tlearn: 297.5830452\ttotal: 3.56s\tremaining: 5m 52s\n",
      "2:\tlearn: 294.7312831\ttotal: 4.94s\tremaining: 5m 24s\n",
      "3:\tlearn: 291.9103818\ttotal: 6.11s\tremaining: 4m 59s\n",
      "4:\tlearn: 289.1512801\ttotal: 7.23s\tremaining: 4m 41s\n",
      "5:\tlearn: 286.4539126\ttotal: 8.41s\tremaining: 4m 32s\n",
      "6:\tlearn: 283.7973294\ttotal: 9.49s\tremaining: 4m 21s\n",
      "7:\tlearn: 281.3342228\ttotal: 10.6s\tremaining: 4m 14s\n",
      "8:\tlearn: 278.8071182\ttotal: 11.7s\tremaining: 4m 8s\n",
      "9:\tlearn: 276.4327261\ttotal: 12.8s\tremaining: 4m 3s\n",
      "10:\tlearn: 274.2002820\ttotal: 13.9s\tremaining: 3m 58s\n",
      "11:\tlearn: 271.9856764\ttotal: 15s\tremaining: 3m 54s\n",
      "12:\tlearn: 269.7121711\ttotal: 16s\tremaining: 3m 50s\n",
      "13:\tlearn: 267.5616856\ttotal: 17.1s\tremaining: 3m 47s\n",
      "14:\tlearn: 265.5504586\ttotal: 18.1s\tremaining: 3m 43s\n",
      "15:\tlearn: 263.4680893\ttotal: 19.2s\tremaining: 3m 41s\n",
      "16:\tlearn: 261.4846734\ttotal: 20.3s\tremaining: 3m 38s\n",
      "17:\tlearn: 259.4868378\ttotal: 21.3s\tremaining: 3m 35s\n",
      "18:\tlearn: 257.5509165\ttotal: 22.4s\tremaining: 3m 32s\n",
      "19:\tlearn: 255.6275339\ttotal: 23.4s\tremaining: 3m 30s\n",
      "20:\tlearn: 253.7895453\ttotal: 24.5s\tremaining: 3m 28s\n",
      "21:\tlearn: 252.0466016\ttotal: 25.5s\tremaining: 3m 26s\n",
      "22:\tlearn: 250.2909251\ttotal: 26.6s\tremaining: 3m 24s\n",
      "23:\tlearn: 248.5888891\ttotal: 27.9s\tremaining: 3m 24s\n",
      "24:\tlearn: 246.8795917\ttotal: 29.1s\tremaining: 3m 23s\n",
      "25:\tlearn: 245.1932370\ttotal: 30.4s\tremaining: 3m 23s\n",
      "26:\tlearn: 243.5735777\ttotal: 31.7s\tremaining: 3m 22s\n",
      "27:\tlearn: 242.0320275\ttotal: 32.9s\tremaining: 3m 22s\n",
      "28:\tlearn: 240.5534083\ttotal: 34.1s\tremaining: 3m 21s\n",
      "29:\tlearn: 239.1868787\ttotal: 35.4s\tremaining: 3m 20s\n",
      "30:\tlearn: 237.7269550\ttotal: 36.6s\tremaining: 3m 19s\n",
      "31:\tlearn: 236.2506584\ttotal: 37.8s\tremaining: 3m 18s\n",
      "32:\tlearn: 234.9060490\ttotal: 39.1s\tremaining: 3m 17s\n",
      "33:\tlearn: 233.5808225\ttotal: 40.3s\tremaining: 3m 16s\n",
      "34:\tlearn: 232.2247256\ttotal: 41.5s\tremaining: 3m 15s\n",
      "35:\tlearn: 231.0548737\ttotal: 42.8s\tremaining: 3m 14s\n",
      "36:\tlearn: 229.7642962\ttotal: 44s\tremaining: 3m 13s\n",
      "37:\tlearn: 228.4885772\ttotal: 45.3s\tremaining: 3m 13s\n",
      "38:\tlearn: 227.3540673\ttotal: 46.5s\tremaining: 3m 11s\n",
      "39:\tlearn: 226.1879400\ttotal: 47.7s\tremaining: 3m 10s\n",
      "40:\tlearn: 224.9544076\ttotal: 48.9s\tremaining: 3m 9s\n",
      "41:\tlearn: 223.8206962\ttotal: 50.2s\tremaining: 3m 8s\n",
      "42:\tlearn: 222.7503801\ttotal: 51.4s\tremaining: 3m 7s\n",
      "43:\tlearn: 221.6472250\ttotal: 52.7s\tremaining: 3m 6s\n",
      "44:\tlearn: 220.6650407\ttotal: 53.9s\tremaining: 3m 5s\n",
      "45:\tlearn: 219.7917239\ttotal: 55.3s\tremaining: 3m 5s\n",
      "46:\tlearn: 218.7759013\ttotal: 56.5s\tremaining: 3m 3s\n",
      "47:\tlearn: 218.6752938\ttotal: 56.7s\tremaining: 2m 59s\n",
      "48:\tlearn: 217.7055970\ttotal: 57.8s\tremaining: 2m 58s\n",
      "49:\tlearn: 216.6871842\ttotal: 59.1s\tremaining: 2m 57s\n",
      "50:\tlearn: 216.4508986\ttotal: 59.9s\tremaining: 2m 54s\n",
      "51:\tlearn: 215.4771482\ttotal: 1m 1s\tremaining: 2m 53s\n",
      "52:\tlearn: 215.2683619\ttotal: 1m 1s\tremaining: 2m 50s\n",
      "53:\tlearn: 214.3043400\ttotal: 1m 2s\tremaining: 2m 49s\n",
      "54:\tlearn: 213.4599236\ttotal: 1m 3s\tremaining: 2m 48s\n",
      "55:\tlearn: 212.5496700\ttotal: 1m 5s\tremaining: 2m 47s\n",
      "56:\tlearn: 211.7161726\ttotal: 1m 6s\tremaining: 2m 47s\n",
      "57:\tlearn: 210.8696276\ttotal: 1m 7s\tremaining: 2m 46s\n",
      "58:\tlearn: 210.0019060\ttotal: 1m 9s\tremaining: 2m 45s\n",
      "59:\tlearn: 209.2049579\ttotal: 1m 10s\tremaining: 2m 44s\n",
      "60:\tlearn: 208.4259765\ttotal: 1m 11s\tremaining: 2m 43s\n",
      "61:\tlearn: 207.6418490\ttotal: 1m 13s\tremaining: 2m 42s\n",
      "62:\tlearn: 206.8826113\ttotal: 1m 14s\tremaining: 2m 41s\n",
      "63:\tlearn: 206.6861168\ttotal: 1m 15s\tremaining: 2m 40s\n",
      "64:\tlearn: 205.9527050\ttotal: 1m 16s\tremaining: 2m 39s\n",
      "65:\tlearn: 205.8125531\ttotal: 1m 17s\tremaining: 2m 37s\n",
      "66:\tlearn: 205.6175894\ttotal: 1m 18s\tremaining: 2m 36s\n",
      "67:\tlearn: 205.4268195\ttotal: 1m 20s\tremaining: 2m 35s\n",
      "68:\tlearn: 204.6612593\ttotal: 1m 21s\tremaining: 2m 34s\n",
      "69:\tlearn: 204.4785259\ttotal: 1m 21s\tremaining: 2m 32s\n",
      "70:\tlearn: 204.3331700\ttotal: 1m 22s\tremaining: 2m 29s\n",
      "71:\tlearn: 203.6473542\ttotal: 1m 23s\tremaining: 2m 28s\n",
      "72:\tlearn: 202.9295687\ttotal: 1m 24s\tremaining: 2m 27s\n",
      "73:\tlearn: 202.7874591\ttotal: 1m 24s\tremaining: 2m 24s\n",
      "74:\tlearn: 202.5971922\ttotal: 1m 26s\tremaining: 2m 23s\n",
      "75:\tlearn: 202.4230260\ttotal: 1m 27s\tremaining: 2m 22s\n",
      "76:\tlearn: 202.2842712\ttotal: 1m 27s\tremaining: 2m 19s\n",
      "77:\tlearn: 202.0876756\ttotal: 1m 28s\tremaining: 2m 18s\n",
      "78:\tlearn: 201.4395796\ttotal: 1m 30s\tremaining: 2m 18s\n",
      "79:\tlearn: 201.2662919\ttotal: 1m 30s\tremaining: 2m 16s\n",
      "80:\tlearn: 201.0815909\ttotal: 1m 31s\tremaining: 2m 15s\n",
      "81:\tlearn: 200.4262465\ttotal: 1m 33s\tremaining: 2m 14s\n",
      "82:\tlearn: 200.2914479\ttotal: 1m 33s\tremaining: 2m 12s\n",
      "83:\tlearn: 199.7274730\ttotal: 1m 35s\tremaining: 2m 11s\n",
      "84:\tlearn: 199.5615613\ttotal: 1m 35s\tremaining: 2m 9s\n",
      "85:\tlearn: 198.9779149\ttotal: 1m 37s\tremaining: 2m 8s\n",
      "86:\tlearn: 198.8026233\ttotal: 1m 37s\tremaining: 2m 6s\n",
      "87:\tlearn: 198.6765814\ttotal: 1m 37s\tremaining: 2m 4s\n",
      "88:\tlearn: 198.5513293\ttotal: 1m 37s\tremaining: 2m 1s\n",
      "89:\tlearn: 197.9609759\ttotal: 1m 39s\tremaining: 2m 1s\n",
      "90:\tlearn: 197.3378314\ttotal: 1m 40s\tremaining: 2m\n",
      "91:\tlearn: 197.1847785\ttotal: 1m 40s\tremaining: 1m 58s\n",
      "92:\tlearn: 197.0637931\ttotal: 1m 41s\tremaining: 1m 56s\n",
      "93:\tlearn: 196.5068150\ttotal: 1m 42s\tremaining: 1m 55s\n",
      "94:\tlearn: 195.9555434\ttotal: 1m 43s\tremaining: 1m 54s\n",
      "95:\tlearn: 195.8019699\ttotal: 1m 44s\tremaining: 1m 53s\n",
      "96:\tlearn: 195.6850192\ttotal: 1m 44s\tremaining: 1m 50s\n",
      "97:\tlearn: 195.5690674\ttotal: 1m 44s\tremaining: 1m 48s\n",
      "98:\tlearn: 195.0031468\ttotal: 1m 45s\tremaining: 1m 48s\n",
      "99:\tlearn: 194.4950301\ttotal: 1m 47s\tremaining: 1m 47s\n",
      "100:\tlearn: 194.3519110\ttotal: 1m 47s\tremaining: 1m 45s\n",
      "101:\tlearn: 193.8228939\ttotal: 1m 48s\tremaining: 1m 44s\n",
      "102:\tlearn: 193.3045088\ttotal: 1m 50s\tremaining: 1m 43s\n",
      "103:\tlearn: 193.1587220\ttotal: 1m 50s\tremaining: 1m 42s\n",
      "104:\tlearn: 192.6380874\ttotal: 1m 51s\tremaining: 1m 41s\n",
      "105:\tlearn: 192.1648416\ttotal: 1m 53s\tremaining: 1m 40s\n",
      "106:\tlearn: 191.6932736\ttotal: 1m 54s\tremaining: 1m 39s\n",
      "107:\tlearn: 191.2220896\ttotal: 1m 55s\tremaining: 1m 38s\n",
      "108:\tlearn: 191.1159092\ttotal: 1m 55s\tremaining: 1m 36s\n",
      "109:\tlearn: 190.6573781\ttotal: 1m 57s\tremaining: 1m 35s\n",
      "110:\tlearn: 190.5530059\ttotal: 1m 57s\tremaining: 1m 34s\n",
      "111:\tlearn: 190.0833241\ttotal: 1m 58s\tremaining: 1m 33s\n",
      "112:\tlearn: 189.6516481\ttotal: 1m 59s\tremaining: 1m 32s\n",
      "113:\tlearn: 189.5223838\ttotal: 2m\tremaining: 1m 30s\n",
      "114:\tlearn: 189.1051740\ttotal: 2m 1s\tremaining: 1m 29s\n",
      "115:\tlearn: 188.9777534\ttotal: 2m 2s\tremaining: 1m 28s\n",
      "116:\tlearn: 188.8465156\ttotal: 2m 2s\tremaining: 1m 26s\n",
      "117:\tlearn: 188.7180060\ttotal: 2m 3s\tremaining: 1m 25s\n",
      "118:\tlearn: 188.5892953\ttotal: 2m 3s\tremaining: 1m 23s\n",
      "119:\tlearn: 188.4660688\ttotal: 2m 4s\tremaining: 1m 22s\n",
      "120:\tlearn: 188.0454145\ttotal: 2m 5s\tremaining: 1m 21s\n",
      "121:\tlearn: 187.9112437\ttotal: 2m 6s\tremaining: 1m 20s\n",
      "122:\tlearn: 187.8172840\ttotal: 2m 6s\tremaining: 1m 19s\n",
      "123:\tlearn: 187.6984027\ttotal: 2m 6s\tremaining: 1m 17s\n",
      "124:\tlearn: 187.5641638\ttotal: 2m 8s\tremaining: 1m 16s\n",
      "125:\tlearn: 187.4438631\ttotal: 2m 8s\tremaining: 1m 15s\n",
      "126:\tlearn: 187.3434382\ttotal: 2m 9s\tremaining: 1m 14s\n",
      "127:\tlearn: 187.2250673\ttotal: 2m 9s\tremaining: 1m 12s\n",
      "128:\tlearn: 187.1110995\ttotal: 2m 10s\tremaining: 1m 11s\n",
      "129:\tlearn: 186.9935868\ttotal: 2m 10s\tremaining: 1m 10s\n",
      "130:\tlearn: 186.5733930\ttotal: 2m 12s\tremaining: 1m 9s\n",
      "131:\tlearn: 186.1699128\ttotal: 2m 13s\tremaining: 1m 8s\n",
      "132:\tlearn: 186.0837384\ttotal: 2m 13s\tremaining: 1m 7s\n",
      "133:\tlearn: 185.6803107\ttotal: 2m 14s\tremaining: 1m 6s\n",
      "134:\tlearn: 185.5639147\ttotal: 2m 15s\tremaining: 1m 5s\n",
      "135:\tlearn: 185.1519492\ttotal: 2m 16s\tremaining: 1m 4s\n",
      "136:\tlearn: 185.0417313\ttotal: 2m 18s\tremaining: 1m 3s\n",
      "137:\tlearn: 184.7032213\ttotal: 2m 19s\tremaining: 1m 2s\n",
      "138:\tlearn: 184.3116703\ttotal: 2m 20s\tremaining: 1m 1s\n",
      "139:\tlearn: 184.2047698\ttotal: 2m 21s\tremaining: 1m\n",
      "140:\tlearn: 184.1025910\ttotal: 2m 22s\tremaining: 59.5s\n",
      "141:\tlearn: 183.7151086\ttotal: 2m 23s\tremaining: 58.6s\n",
      "142:\tlearn: 183.6697843\ttotal: 2m 23s\tremaining: 57.4s\n",
      "143:\tlearn: 183.6255381\ttotal: 2m 24s\tremaining: 56s\n",
      "144:\tlearn: 183.5161582\ttotal: 2m 24s\tremaining: 54.8s\n",
      "145:\tlearn: 183.1875195\ttotal: 2m 25s\tremaining: 53.9s\n",
      "146:\tlearn: 182.8350019\ttotal: 2m 26s\tremaining: 53s\n",
      "147:\tlearn: 182.4655391\ttotal: 2m 28s\tremaining: 52.1s\n",
      "148:\tlearn: 182.3594404\ttotal: 2m 29s\tremaining: 51s\n",
      "149:\tlearn: 182.2643624\ttotal: 2m 29s\tremaining: 49.8s\n",
      "150:\tlearn: 182.1700007\ttotal: 2m 29s\tremaining: 48.7s\n"
     ]
    },
    {
     "name": "stdout",
     "output_type": "stream",
     "text": [
      "151:\tlearn: 182.0766636\ttotal: 2m 30s\tremaining: 47.5s\n",
      "152:\tlearn: 181.7404654\ttotal: 2m 31s\tremaining: 46.5s\n",
      "153:\tlearn: 181.6685597\ttotal: 2m 31s\tremaining: 45.3s\n",
      "154:\tlearn: 181.6091286\ttotal: 2m 32s\tremaining: 44.2s\n",
      "155:\tlearn: 181.5382749\ttotal: 2m 32s\tremaining: 43s\n",
      "156:\tlearn: 181.4486532\ttotal: 2m 32s\tremaining: 41.8s\n",
      "157:\tlearn: 181.4106710\ttotal: 2m 32s\tremaining: 40.7s\n",
      "158:\tlearn: 181.3178792\ttotal: 2m 33s\tremaining: 39.6s\n",
      "159:\tlearn: 181.2493826\ttotal: 2m 33s\tremaining: 38.4s\n",
      "160:\tlearn: 181.1815409\ttotal: 2m 33s\tremaining: 37.2s\n",
      "161:\tlearn: 180.8753862\ttotal: 2m 34s\tremaining: 36.4s\n",
      "162:\tlearn: 180.5464239\ttotal: 2m 36s\tremaining: 35.4s\n",
      "163:\tlearn: 180.4803391\ttotal: 2m 36s\tremaining: 34.3s\n",
      "164:\tlearn: 180.3959760\ttotal: 2m 37s\tremaining: 33.3s\n",
      "165:\tlearn: 180.1135581\ttotal: 2m 38s\tremaining: 32.4s\n",
      "166:\tlearn: 180.0259124\ttotal: 2m 40s\tremaining: 31.7s\n",
      "167:\tlearn: 179.9406730\ttotal: 2m 42s\tremaining: 30.9s\n",
      "168:\tlearn: 179.8680322\ttotal: 2m 45s\tremaining: 30.3s\n",
      "169:\tlearn: 179.7842009\ttotal: 2m 45s\tremaining: 29.2s\n",
      "170:\tlearn: 179.4717907\ttotal: 2m 47s\tremaining: 28.3s\n",
      "171:\tlearn: 179.1771252\ttotal: 2m 48s\tremaining: 27.4s\n",
      "172:\tlearn: 179.0982614\ttotal: 2m 48s\tremaining: 26.3s\n",
      "173:\tlearn: 178.8336370\ttotal: 2m 49s\tremaining: 25.4s\n",
      "174:\tlearn: 178.5497745\ttotal: 2m 51s\tremaining: 24.4s\n",
      "175:\tlearn: 178.2918579\ttotal: 2m 52s\tremaining: 23.6s\n",
      "176:\tlearn: 178.2331157\ttotal: 2m 53s\tremaining: 22.5s\n",
      "177:\tlearn: 178.1576798\ttotal: 2m 53s\tremaining: 21.4s\n",
      "178:\tlearn: 177.8727047\ttotal: 2m 54s\tremaining: 20.5s\n",
      "179:\tlearn: 177.7951997\ttotal: 2m 56s\tremaining: 19.6s\n",
      "180:\tlearn: 177.7172792\ttotal: 2m 57s\tremaining: 18.6s\n",
      "181:\tlearn: 177.6400717\ttotal: 2m 58s\tremaining: 17.6s\n",
      "182:\tlearn: 177.5655752\ttotal: 2m 58s\tremaining: 16.6s\n",
      "183:\tlearn: 177.3141784\ttotal: 3m\tremaining: 15.7s\n",
      "184:\tlearn: 177.2430577\ttotal: 3m\tremaining: 14.6s\n",
      "185:\tlearn: 177.1726061\ttotal: 3m 1s\tremaining: 13.6s\n",
      "186:\tlearn: 177.1033093\ttotal: 3m 1s\tremaining: 12.6s\n",
      "187:\tlearn: 177.0503181\ttotal: 3m 1s\tremaining: 11.6s\n",
      "188:\tlearn: 176.9977823\ttotal: 3m 2s\tremaining: 10.6s\n",
      "189:\tlearn: 176.9302447\ttotal: 3m 2s\tremaining: 9.6s\n",
      "190:\tlearn: 176.8631540\ttotal: 3m 2s\tremaining: 8.62s\n",
      "191:\tlearn: 176.7969437\ttotal: 3m 3s\tremaining: 7.64s\n",
      "192:\tlearn: 176.7227837\ttotal: 3m 4s\tremaining: 6.7s\n",
      "193:\tlearn: 176.6728019\ttotal: 3m 4s\tremaining: 5.71s\n",
      "194:\tlearn: 176.6255569\ttotal: 3m 5s\tremaining: 4.76s\n",
      "195:\tlearn: 176.5575642\ttotal: 3m 6s\tremaining: 3.8s\n",
      "196:\tlearn: 176.3130053\ttotal: 3m 7s\tremaining: 2.86s\n",
      "197:\tlearn: 176.0585861\ttotal: 3m 8s\tremaining: 1.91s\n",
      "198:\tlearn: 176.0105671\ttotal: 3m 9s\tremaining: 950ms\n",
      "199:\tlearn: 175.9630195\ttotal: 3m 9s\tremaining: 0us\n",
      "191.32476040000003\n"
     ]
    }
   ],
   "source": [
    "from catboost import CatBoostRegressor\n",
    "time_start = time.clock()\n",
    "# Initialize CatBoostRegressor\n",
    "model = CatBoostRegressor(iterations=200,\n",
    "                          learning_rate=0.02,\n",
    "                          depth=12,\n",
    "                          eval_metric='RMSE',\n",
    "                          bagging_temperature = 0.2)\n",
    "\n",
    "column_index = [X_final.columns.get_loc(c) for c in col_dummies if c in X_final]\n",
    "# Fit model\n",
    "model.fit(X_train, y_train,cat_features=column_index)\n",
    "# Get predictions\n",
    "preds = model.predict(X_test)\n",
    "time_elapsed = (time.clock() - time_start)\n",
    "print(time_elapsed)"
   ]
  },
  {
   "cell_type": "code",
   "execution_count": 9,
   "metadata": {},
   "outputs": [
    {
     "name": "stdout",
     "output_type": "stream",
     "text": [
      "2.7309090319735523\n"
     ]
    }
   ],
   "source": [
    "TEST1 = preds/60\n",
    "TEST2 = [x/60 for x in y_test['target'].tolist()]\n",
    "print(np.sqrt(sk.metrics.mean_squared_error(TEST1,TEST2)))"
   ]
  },
  {
   "cell_type": "code",
   "execution_count": 11,
   "metadata": {},
   "outputs": [
    {
     "data": {
      "text/plain": [
       "<matplotlib.axes._subplots.AxesSubplot at 0x16a04f93748>"
      ]
     },
     "execution_count": 11,
     "metadata": {},
     "output_type": "execute_result"
    },
    {
     "data": {
      "image/png": "[encoded data removed]",
      "text/plain": [
       "<Figure size 432x288 with 1 Axes>"
      ]
     },
     "metadata": {
      "needs_background": "light"
     },
     "output_type": "display_data"
    }
   ],
   "source": [
    "import matplotlib.pyplot as plt\n",
    "feat_importances = pd.Series(model.feature_importances_, index=X_train.columns)\n",
    "feat_importances.nlargest(12).plot(kind='barh')"
   ]
  },
  {
   "cell_type": "markdown",
   "metadata": {},
   "source": [
    "### applying on Test"
   ]
  },
  {
   "cell_type": "code",
   "execution_count": 37,
   "metadata": {},
   "outputs": [
    {
     "data": {
      "text/plain": [
       "(9442, 49)"
      ]
     },
     "execution_count": 37,
     "metadata": {},
     "output_type": "execute_result"
    }
   ],
   "source": [
    "Path_Test = 'data/0. Airport data/Test_Set_Airport_Data.csv'\n",
    "X = pd.read_pickle('X.pkl')\n",
    "y = pd.read_pickle('y.pkl')\n",
    "X_test = master_preprocessing_X(Path_Test, Path_WeatherData, Path_Aircraft, Path_correspondance_Aircraft_Airport)\n",
    "y_test = create_target(X_test)"
   ]
  },
  {
   "cell_type": "code",
   "execution_count": 32,
   "metadata": {},
   "outputs": [],
   "source": [
    "col_numerical = ['AWND', 'PRCP', 'TAVG', 'TMAX', 'TMIN','WDF2', 'WDF5', 'WSF2', 'WSF5', 'WT01', 'WT02', 'WT03', 'WT08',\n",
    "                'nb of planes in movement in the plane',\n",
    "                'rolling average same runway',\n",
    "                 'rolling average same stand',\n",
    "                 'rolling average same runway & same stand']\n",
    "\n",
    "col_dummies = ['SnowProxi']\n",
    "col_to_drop=[ 'flight','sto', 'aldt', 'eibt','aibt',\n",
    "       'cibt', 'chocks_on', 'Manufacturer','Physical Class (Engine)',\n",
    "       '# Engines',\n",
    "       'Wingtip Configuration',\n",
    "       'Tail Height, ft\\n(@ OEW)', 'Wheelbase, ft',\n",
    "       'Cockpit to Main Gear (CMG)', 'MGW\\n(Outer to Outer)',\n",
    "       'Max Ramp\\nMax Taxi', 'Main Gear Config', 'ICAO Code', 'Years Manufactured', 'Note',\n",
    "       'Parking Area (WS x Length), sf','Model','MTOW','Wingspan, ft', 'Length, ft','Approach Speed\\n(Vref)',\n",
    "       'target']\n",
    "col_to_target_encode=['stand','carrier', 'acType','runway','ATCT Weight Class','Wake Category','AAC', 'ADG', 'TDG']"
   ]
  },
  {
   "cell_type": "code",
   "execution_count": 33,
   "metadata": {},
   "outputs": [],
   "source": [
    "\n",
    "X_test,y_test = features_pimpage(X_test,col_numerical,col_to_drop,col_dummies,col_to_target_encode,y_test,path_feature =\"FEATURE_test.pkl\" ,CatBoost=False)\n",
    "X_train,y_train = features_pimpage(X,col_numerical,col_to_drop,col_dummies,col_to_target_encode,y,path_feature =\"FEATURE.pkl\" ,CatBoost=False)"
   ]
  },
  {
   "cell_type": "code",
   "execution_count": 43,
   "metadata": {},
   "outputs": [
    {
     "name": "stderr",
     "output_type": "stream",
     "text": [
      "[Parallel(n_jobs=1)]: Using backend SequentialBackend with 1 concurrent workers.\n"
     ]
    },
    {
     "name": "stdout",
     "output_type": "stream",
     "text": [
      "442.2021660999999\n"
     ]
    },
    {
     "name": "stderr",
     "output_type": "stream",
     "text": [
      "[Parallel(n_jobs=1)]: Done 250 out of 250 | elapsed:    0.4s finished\n"
     ]
    }
   ],
   "source": [
    "time_start = time.clock()\n",
    "rf = RandomForestRegressor(n_estimators= 250, min_samples_split= 3, min_samples_leaf= 2, max_features= 'sqrt',max_depth= 30,bootstrap=True ,random_state=10,verbose=True)\n",
    "rf.fit(X_train, y_train)\n",
    "pred = rf.predict(X_test)\n",
    "\n",
    "time_elapsed = (time.clock() - time_start)\n",
    "print(time_elapsed)"
   ]
  },
  {
   "cell_type": "code",
   "execution_count": 44,
   "metadata": {},
   "outputs": [
    {
     "name": "stdout",
     "output_type": "stream",
     "text": [
      "3.4263272773221956\n"
     ]
    },
    {
     "name": "stderr",
     "output_type": "stream",
     "text": [
      "[Parallel(n_jobs=1)]: Using backend SequentialBackend with 1 concurrent workers.\n"
     ]
    },
    {
     "name": "stdout",
     "output_type": "stream",
     "text": [
      "2.0820153693883103\n"
     ]
    },
    {
     "name": "stderr",
     "output_type": "stream",
     "text": [
      "[Parallel(n_jobs=1)]: Done 250 out of 250 | elapsed:   12.0s finished\n"
     ]
    }
   ],
   "source": [
    "TEST1 = pred/60\n",
    "TEST2 = [x/60 for x in y_test['target'].tolist()]\n",
    "print(np.sqrt(sk.metrics.mean_squared_error(TEST1,TEST2)))\n",
    "\n",
    "pred_train = rf.predict(X_train)\n",
    "TEST3 = pred_train/60\n",
    "TEST4 = [x/60 for x in y_train['target'].tolist()]\n",
    "print(np.sqrt(sk.metrics.mean_squared_error(TEST3,TEST4)))"
   ]
  },
  {
   "cell_type": "markdown",
   "metadata": {},
   "source": [
    "### RF grid_search"
   ]
  },
  {
   "cell_type": "code",
   "execution_count": 45,
   "metadata": {},
   "outputs": [
    {
     "name": "stderr",
     "output_type": "stream",
     "text": [
      "C:\\ProgramData\\Anaconda3\\lib\\site-packages\\ipykernel_launcher.py:15: DataConversionWarning: A column-vector y was passed when a 1d array was expected. Please change the shape of y to (n_samples,), for example using ravel().\n",
      "  from ipykernel import kernelapp as app\n",
      "[Parallel(n_jobs=1)]: Using backend SequentialBackend with 1 concurrent workers.\n",
      "[Parallel(n_jobs=1)]: Done 100 out of 100 | elapsed:  3.3min finished\n",
      "[Parallel(n_jobs=1)]: Using backend SequentialBackend with 1 concurrent workers.\n",
      "[Parallel(n_jobs=1)]: Done 100 out of 100 | elapsed:    0.4s finished\n",
      "[Parallel(n_jobs=1)]: Using backend SequentialBackend with 1 concurrent workers.\n"
     ]
    },
    {
     "name": "stdout",
     "output_type": "stream",
     "text": [
      "RMSE TEST:\n",
      "2.6306485770667845\n"
     ]
    },
    {
     "name": "stderr",
     "output_type": "stream",
     "text": [
      "[Parallel(n_jobs=1)]: Done 100 out of 100 | elapsed:    5.8s finished\n",
      "C:\\ProgramData\\Anaconda3\\lib\\site-packages\\ipykernel_launcher.py:15: DataConversionWarning: A column-vector y was passed when a 1d array was expected. Please change the shape of y to (n_samples,), for example using ravel().\n",
      "  from ipykernel import kernelapp as app\n"
     ]
    },
    {
     "name": "stdout",
     "output_type": "stream",
     "text": [
      "RMSE TRAIN:\n",
      "1.9237035040841761\n",
      "n_est = 100 max_feat:auto max_depth:20 min_samples_split:3 min_samples_leaf:2\n",
      "206.17948769999998\n"
     ]
    },
    {
     "name": "stderr",
     "output_type": "stream",
     "text": [
      "[Parallel(n_jobs=1)]: Using backend SequentialBackend with 1 concurrent workers.\n",
      "[Parallel(n_jobs=1)]: Done 100 out of 100 | elapsed:  3.2min finished\n",
      "[Parallel(n_jobs=1)]: Using backend SequentialBackend with 1 concurrent workers.\n",
      "[Parallel(n_jobs=1)]: Done 100 out of 100 | elapsed:    0.3s finished\n",
      "[Parallel(n_jobs=1)]: Using backend SequentialBackend with 1 concurrent workers.\n"
     ]
    },
    {
     "name": "stdout",
     "output_type": "stream",
     "text": [
      "RMSE TEST:\n",
      "2.6237161523646595\n"
     ]
    },
    {
     "name": "stderr",
     "output_type": "stream",
     "text": [
      "[Parallel(n_jobs=1)]: Done 100 out of 100 | elapsed:    5.1s finished\n",
      "C:\\ProgramData\\Anaconda3\\lib\\site-packages\\ipykernel_launcher.py:15: DataConversionWarning: A column-vector y was passed when a 1d array was expected. Please change the shape of y to (n_samples,), for example using ravel().\n",
      "  from ipykernel import kernelapp as app\n",
      "[Parallel(n_jobs=1)]: Using backend SequentialBackend with 1 concurrent workers.\n"
     ]
    },
    {
     "name": "stdout",
     "output_type": "stream",
     "text": [
      "RMSE TRAIN:\n",
      "2.135201072803621\n",
      "n_est = 100 max_feat:auto max_depth:20 min_samples_split:3 min_samples_leaf:3\n",
      "198.88781689999996\n"
     ]
    },
    {
     "name": "stderr",
     "output_type": "stream",
     "text": [
      "[Parallel(n_jobs=1)]: Done 100 out of 100 | elapsed:  2.8min finished\n",
      "[Parallel(n_jobs=1)]: Using backend SequentialBackend with 1 concurrent workers.\n",
      "[Parallel(n_jobs=1)]: Done 100 out of 100 | elapsed:    0.4s finished\n",
      "[Parallel(n_jobs=1)]: Using backend SequentialBackend with 1 concurrent workers.\n"
     ]
    },
    {
     "name": "stdout",
     "output_type": "stream",
     "text": [
      "RMSE TEST:\n",
      "2.6192579779610483\n"
     ]
    },
    {
     "name": "stderr",
     "output_type": "stream",
     "text": [
      "[Parallel(n_jobs=1)]: Done 100 out of 100 | elapsed:    6.5s finished\n",
      "C:\\ProgramData\\Anaconda3\\lib\\site-packages\\ipykernel_launcher.py:15: DataConversionWarning: A column-vector y was passed when a 1d array was expected. Please change the shape of y to (n_samples,), for example using ravel().\n",
      "  from ipykernel import kernelapp as app\n"
     ]
    },
    {
     "name": "stdout",
     "output_type": "stream",
     "text": [
      "RMSE TRAIN:\n",
      "2.306036377032671\n",
      "n_est = 100 max_feat:auto max_depth:20 min_samples_split:3 min_samples_leaf:4\n",
      "176.40618970000003\n"
     ]
    },
    {
     "name": "stderr",
     "output_type": "stream",
     "text": [
      "[Parallel(n_jobs=1)]: Using backend SequentialBackend with 1 concurrent workers.\n",
      "[Parallel(n_jobs=1)]: Done 100 out of 100 | elapsed:  2.5min finished\n",
      "[Parallel(n_jobs=1)]: Using backend SequentialBackend with 1 concurrent workers.\n",
      "[Parallel(n_jobs=1)]: Done 100 out of 100 | elapsed:    0.3s finished\n",
      "[Parallel(n_jobs=1)]: Using backend SequentialBackend with 1 concurrent workers.\n"
     ]
    },
    {
     "name": "stdout",
     "output_type": "stream",
     "text": [
      "RMSE TEST:\n",
      "2.629435852877485\n"
     ]
    },
    {
     "name": "stderr",
     "output_type": "stream",
     "text": [
      "[Parallel(n_jobs=1)]: Done 100 out of 100 | elapsed:    3.7s finished\n",
      "C:\\ProgramData\\Anaconda3\\lib\\site-packages\\ipykernel_launcher.py:15: DataConversionWarning: A column-vector y was passed when a 1d array was expected. Please change the shape of y to (n_samples,), for example using ravel().\n",
      "  from ipykernel import kernelapp as app\n",
      "[Parallel(n_jobs=1)]: Using backend SequentialBackend with 1 concurrent workers.\n"
     ]
    },
    {
     "name": "stdout",
     "output_type": "stream",
     "text": [
      "RMSE TRAIN:\n",
      "2.437217098192826\n",
      "n_est = 100 max_feat:auto max_depth:20 min_samples_split:3 min_samples_leaf:5\n",
      "152.83083769999996\n"
     ]
    },
    {
     "name": "stderr",
     "output_type": "stream",
     "text": [
      "[Parallel(n_jobs=1)]: Done 100 out of 100 | elapsed:  2.7min finished\n",
      "[Parallel(n_jobs=1)]: Using backend SequentialBackend with 1 concurrent workers.\n",
      "[Parallel(n_jobs=1)]: Done 100 out of 100 | elapsed:    0.3s finished\n",
      "[Parallel(n_jobs=1)]: Using backend SequentialBackend with 1 concurrent workers.\n"
     ]
    },
    {
     "name": "stdout",
     "output_type": "stream",
     "text": [
      "RMSE TEST:\n",
      "2.6306485770667845\n"
     ]
    },
    {
     "name": "stderr",
     "output_type": "stream",
     "text": [
      "[Parallel(n_jobs=1)]: Done 100 out of 100 | elapsed:    4.2s finished\n",
      "C:\\ProgramData\\Anaconda3\\lib\\site-packages\\ipykernel_launcher.py:15: DataConversionWarning: A column-vector y was passed when a 1d array was expected. Please change the shape of y to (n_samples,), for example using ravel().\n",
      "  from ipykernel import kernelapp as app\n",
      "[Parallel(n_jobs=1)]: Using backend SequentialBackend with 1 concurrent workers.\n"
     ]
    },
    {
     "name": "stdout",
     "output_type": "stream",
     "text": [
      "RMSE TRAIN:\n",
      "1.9237035040841761\n",
      "n_est = 100 max_feat:auto max_depth:20 min_samples_split:4 min_samples_leaf:2\n",
      "166.04257570000004\n"
     ]
    },
    {
     "name": "stderr",
     "output_type": "stream",
     "text": [
      "[Parallel(n_jobs=1)]: Done 100 out of 100 | elapsed:  2.8min finished\n",
      "[Parallel(n_jobs=1)]: Using backend SequentialBackend with 1 concurrent workers.\n",
      "[Parallel(n_jobs=1)]: Done 100 out of 100 | elapsed:    0.3s finished\n",
      "[Parallel(n_jobs=1)]: Using backend SequentialBackend with 1 concurrent workers.\n"
     ]
    },
    {
     "name": "stdout",
     "output_type": "stream",
     "text": [
      "RMSE TEST:\n",
      "2.6237161523646595\n"
     ]
    },
    {
     "name": "stderr",
     "output_type": "stream",
     "text": [
      "[Parallel(n_jobs=1)]: Done 100 out of 100 | elapsed:    4.5s finished\n",
      "C:\\ProgramData\\Anaconda3\\lib\\site-packages\\ipykernel_launcher.py:15: DataConversionWarning: A column-vector y was passed when a 1d array was expected. Please change the shape of y to (n_samples,), for example using ravel().\n",
      "  from ipykernel import kernelapp as app\n",
      "[Parallel(n_jobs=1)]: Using backend SequentialBackend with 1 concurrent workers.\n"
     ]
    },
    {
     "name": "stdout",
     "output_type": "stream",
     "text": [
      "RMSE TRAIN:\n",
      "2.135201072803621\n",
      "n_est = 100 max_feat:auto max_depth:20 min_samples_split:4 min_samples_leaf:3\n",
      "174.3166682000001\n"
     ]
    },
    {
     "name": "stderr",
     "output_type": "stream",
     "text": [
      "[Parallel(n_jobs=1)]: Done 100 out of 100 | elapsed:  2.9min finished\n",
      "[Parallel(n_jobs=1)]: Using backend SequentialBackend with 1 concurrent workers.\n",
      "[Parallel(n_jobs=1)]: Done 100 out of 100 | elapsed:    0.2s finished\n",
      "[Parallel(n_jobs=1)]: Using backend SequentialBackend with 1 concurrent workers.\n"
     ]
    },
    {
     "name": "stdout",
     "output_type": "stream",
     "text": [
      "RMSE TEST:\n",
      "2.6192579779610483\n"
     ]
    },
    {
     "name": "stderr",
     "output_type": "stream",
     "text": [
      "[Parallel(n_jobs=1)]: Done 100 out of 100 | elapsed:    5.1s finished\n",
      "C:\\ProgramData\\Anaconda3\\lib\\site-packages\\ipykernel_launcher.py:15: DataConversionWarning: A column-vector y was passed when a 1d array was expected. Please change the shape of y to (n_samples,), for example using ravel().\n",
      "  from ipykernel import kernelapp as app\n"
     ]
    },
    {
     "name": "stdout",
     "output_type": "stream",
     "text": [
      "RMSE TRAIN:\n",
      "2.306036377032671\n",
      "n_est = 100 max_feat:auto max_depth:20 min_samples_split:4 min_samples_leaf:4\n",
      "182.4822861\n"
     ]
    },
    {
     "name": "stderr",
     "output_type": "stream",
     "text": [
      "[Parallel(n_jobs=1)]: Using backend SequentialBackend with 1 concurrent workers.\n",
      "[Parallel(n_jobs=1)]: Done 100 out of 100 | elapsed:  3.6min finished\n",
      "[Parallel(n_jobs=1)]: Using backend SequentialBackend with 1 concurrent workers.\n",
      "[Parallel(n_jobs=1)]: Done 100 out of 100 | elapsed:    0.8s finished\n",
      "[Parallel(n_jobs=1)]: Using backend SequentialBackend with 1 concurrent workers.\n"
     ]
    },
    {
     "name": "stdout",
     "output_type": "stream",
     "text": [
      "RMSE TEST:\n",
      "2.629435852877485\n"
     ]
    },
    {
     "name": "stderr",
     "output_type": "stream",
     "text": [
      "[Parallel(n_jobs=1)]: Done 100 out of 100 | elapsed:   11.3s finished\n"
     ]
    },
    {
     "name": "stdout",
     "output_type": "stream",
     "text": [
      "RMSE TRAIN:\n",
      "2.437217098192826\n",
      "n_est = 100 max_feat:auto max_depth:20 min_samples_split:4 min_samples_leaf:5\n",
      "228.6065976\n"
     ]
    },
    {
     "name": "stderr",
     "output_type": "stream",
     "text": [
      "C:\\ProgramData\\Anaconda3\\lib\\site-packages\\ipykernel_launcher.py:15: DataConversionWarning: A column-vector y was passed when a 1d array was expected. Please change the shape of y to (n_samples,), for example using ravel().\n",
      "  from ipykernel import kernelapp as app\n",
      "[Parallel(n_jobs=1)]: Using backend SequentialBackend with 1 concurrent workers.\n",
      "[Parallel(n_jobs=1)]: Done 100 out of 100 | elapsed:  5.9min finished\n",
      "[Parallel(n_jobs=1)]: Using backend SequentialBackend with 1 concurrent workers.\n",
      "[Parallel(n_jobs=1)]: Done 100 out of 100 | elapsed:    0.6s finished\n",
      "[Parallel(n_jobs=1)]: Using backend SequentialBackend with 1 concurrent workers.\n"
     ]
    },
    {
     "name": "stdout",
     "output_type": "stream",
     "text": [
      "RMSE TEST:\n",
      "2.629037417579258\n"
     ]
    },
    {
     "name": "stderr",
     "output_type": "stream",
     "text": [
      "[Parallel(n_jobs=1)]: Done 100 out of 100 | elapsed:    9.5s finished\n"
     ]
    },
    {
     "name": "stdout",
     "output_type": "stream",
     "text": [
      "RMSE TRAIN:\n",
      "1.9680154333210385\n",
      "n_est = 100 max_feat:auto max_depth:20 min_samples_split:5 min_samples_leaf:2\n",
      "367.1484899999998\n"
     ]
    },
    {
     "name": "stderr",
     "output_type": "stream",
     "text": [
      "C:\\ProgramData\\Anaconda3\\lib\\site-packages\\ipykernel_launcher.py:15: DataConversionWarning: A column-vector y was passed when a 1d array was expected. Please change the shape of y to (n_samples,), for example using ravel().\n",
      "  from ipykernel import kernelapp as app\n",
      "[Parallel(n_jobs=1)]: Using backend SequentialBackend with 1 concurrent workers.\n",
      "[Parallel(n_jobs=1)]: Done 100 out of 100 | elapsed:  5.9min finished\n",
      "[Parallel(n_jobs=1)]: Using backend SequentialBackend with 1 concurrent workers.\n",
      "[Parallel(n_jobs=1)]: Done 100 out of 100 | elapsed:    0.5s finished\n",
      "[Parallel(n_jobs=1)]: Using backend SequentialBackend with 1 concurrent workers.\n"
     ]
    },
    {
     "name": "stdout",
     "output_type": "stream",
     "text": [
      "RMSE TEST:\n",
      "2.6237161523646595\n"
     ]
    },
    {
     "name": "stderr",
     "output_type": "stream",
     "text": [
      "[Parallel(n_jobs=1)]: Done 100 out of 100 | elapsed:    7.3s finished\n"
     ]
    },
    {
     "name": "stdout",
     "output_type": "stream",
     "text": [
      "RMSE TRAIN:\n",
      "2.135201072803621\n",
      "n_est = 100 max_feat:auto max_depth:20 min_samples_split:5 min_samples_leaf:3\n",
      "361.15962539999964\n"
     ]
    },
    {
     "name": "stderr",
     "output_type": "stream",
     "text": [
      "C:\\ProgramData\\Anaconda3\\lib\\site-packages\\ipykernel_launcher.py:15: DataConversionWarning: A column-vector y was passed when a 1d array was expected. Please change the shape of y to (n_samples,), for example using ravel().\n",
      "  from ipykernel import kernelapp as app\n",
      "[Parallel(n_jobs=1)]: Using backend SequentialBackend with 1 concurrent workers.\n",
      "[Parallel(n_jobs=1)]: Done 100 out of 100 | elapsed:  5.5min finished\n",
      "[Parallel(n_jobs=1)]: Using backend SequentialBackend with 1 concurrent workers.\n",
      "[Parallel(n_jobs=1)]: Done 100 out of 100 | elapsed:    0.9s finished\n",
      "[Parallel(n_jobs=1)]: Using backend SequentialBackend with 1 concurrent workers.\n"
     ]
    },
    {
     "name": "stdout",
     "output_type": "stream",
     "text": [
      "RMSE TEST:\n",
      "2.6192579779610483\n"
     ]
    },
    {
     "name": "stderr",
     "output_type": "stream",
     "text": [
      "[Parallel(n_jobs=1)]: Done 100 out of 100 | elapsed:    7.6s finished\n"
     ]
    },
    {
     "name": "stdout",
     "output_type": "stream",
     "text": [
      "RMSE TRAIN:\n",
      "2.306036377032671\n",
      "n_est = 100 max_feat:auto max_depth:20 min_samples_split:5 min_samples_leaf:4\n",
      "336.8642654999999\n"
     ]
    },
    {
     "name": "stderr",
     "output_type": "stream",
     "text": [
      "C:\\ProgramData\\Anaconda3\\lib\\site-packages\\ipykernel_launcher.py:15: DataConversionWarning: A column-vector y was passed when a 1d array was expected. Please change the shape of y to (n_samples,), for example using ravel().\n",
      "  from ipykernel import kernelapp as app\n",
      "[Parallel(n_jobs=1)]: Using backend SequentialBackend with 1 concurrent workers.\n",
      "[Parallel(n_jobs=1)]: Done 100 out of 100 | elapsed:  6.3min finished\n",
      "[Parallel(n_jobs=1)]: Using backend SequentialBackend with 1 concurrent workers.\n",
      "[Parallel(n_jobs=1)]: Done 100 out of 100 | elapsed:    1.2s finished\n"
     ]
    },
    {
     "name": "stdout",
     "output_type": "stream",
     "text": [
      "RMSE TEST:\n",
      "2.629435852877485\n"
     ]
    },
    {
     "name": "stderr",
     "output_type": "stream",
     "text": [
      "[Parallel(n_jobs=1)]: Using backend SequentialBackend with 1 concurrent workers.\n",
      "[Parallel(n_jobs=1)]: Done 100 out of 100 | elapsed:   13.5s finished\n"
     ]
    },
    {
     "name": "stdout",
     "output_type": "stream",
     "text": [
      "RMSE TRAIN:\n",
      "2.437217098192826\n",
      "n_est = 100 max_feat:auto max_depth:20 min_samples_split:5 min_samples_leaf:5\n",
      "394.1893921000001\n"
     ]
    },
    {
     "name": "stderr",
     "output_type": "stream",
     "text": [
      "C:\\ProgramData\\Anaconda3\\lib\\site-packages\\ipykernel_launcher.py:15: DataConversionWarning: A column-vector y was passed when a 1d array was expected. Please change the shape of y to (n_samples,), for example using ravel().\n",
      "  from ipykernel import kernelapp as app\n",
      "[Parallel(n_jobs=1)]: Using backend SequentialBackend with 1 concurrent workers.\n"
     ]
    },
    {
     "ename": "KeyboardInterrupt",
     "evalue": "",
     "output_type": "error",
     "traceback": [
      "\u001b[1;31m---------------------------------------------------------------------------\u001b[0m",
      "\u001b[1;31mKeyboardInterrupt\u001b[0m                         Traceback (most recent call last)",
      "\u001b[1;32m<ipython-input-45-d9868a108d66>\u001b[0m in \u001b[0;36m<module>\u001b[1;34m\u001b[0m\n\u001b[0;32m     13\u001b[0m                     \u001b[0mtime_start\u001b[0m \u001b[1;33m=\u001b[0m \u001b[0mtime\u001b[0m\u001b[1;33m.\u001b[0m\u001b[0mclock\u001b[0m\u001b[1;33m(\u001b[0m\u001b[1;33m)\u001b[0m\u001b[1;33m\u001b[0m\u001b[1;33m\u001b[0m\u001b[0m\n\u001b[0;32m     14\u001b[0m                     \u001b[0mrf\u001b[0m \u001b[1;33m=\u001b[0m \u001b[0mRandomForestRegressor\u001b[0m\u001b[1;33m(\u001b[0m\u001b[0mn_estimators\u001b[0m\u001b[1;33m=\u001b[0m \u001b[0mi\u001b[0m\u001b[1;33m,\u001b[0m \u001b[0mmin_samples_split\u001b[0m\u001b[1;33m=\u001b[0m \u001b[0ml\u001b[0m\u001b[1;33m,\u001b[0m \u001b[0mmin_samples_leaf\u001b[0m\u001b[1;33m=\u001b[0m \u001b[0mm\u001b[0m\u001b[1;33m,\u001b[0m \u001b[0mmax_features\u001b[0m\u001b[1;33m=\u001b[0m \u001b[0mj\u001b[0m\u001b[1;33m,\u001b[0m\u001b[0mmax_depth\u001b[0m\u001b[1;33m=\u001b[0m \u001b[0mk\u001b[0m\u001b[1;33m,\u001b[0m\u001b[0mbootstrap\u001b[0m\u001b[1;33m=\u001b[0m\u001b[1;32mTrue\u001b[0m \u001b[1;33m,\u001b[0m\u001b[0mrandom_state\u001b[0m\u001b[1;33m=\u001b[0m\u001b[1;36m10\u001b[0m\u001b[1;33m,\u001b[0m\u001b[0mverbose\u001b[0m\u001b[1;33m=\u001b[0m\u001b[1;32mTrue\u001b[0m\u001b[1;33m)\u001b[0m\u001b[1;33m\u001b[0m\u001b[1;33m\u001b[0m\u001b[0m\n\u001b[1;32m---> 15\u001b[1;33m                     \u001b[0mrf\u001b[0m\u001b[1;33m.\u001b[0m\u001b[0mfit\u001b[0m\u001b[1;33m(\u001b[0m\u001b[0mX_train\u001b[0m\u001b[1;33m,\u001b[0m \u001b[0my_train\u001b[0m\u001b[1;33m)\u001b[0m\u001b[1;33m\u001b[0m\u001b[1;33m\u001b[0m\u001b[0m\n\u001b[0m\u001b[0;32m     16\u001b[0m                     \u001b[0mpred\u001b[0m \u001b[1;33m=\u001b[0m \u001b[0mrf\u001b[0m\u001b[1;33m.\u001b[0m\u001b[0mpredict\u001b[0m\u001b[1;33m(\u001b[0m\u001b[0mX_test\u001b[0m\u001b[1;33m)\u001b[0m\u001b[1;33m\u001b[0m\u001b[1;33m\u001b[0m\u001b[0m\n\u001b[0;32m     17\u001b[0m \u001b[1;33m\u001b[0m\u001b[0m\n",
      "\u001b[1;32mC:\\ProgramData\\Anaconda3\\lib\\site-packages\\sklearn\\ensemble\\forest.py\u001b[0m in \u001b[0;36mfit\u001b[1;34m(self, X, y, sample_weight)\u001b[0m\n\u001b[0;32m    331\u001b[0m                     \u001b[0mt\u001b[0m\u001b[1;33m,\u001b[0m \u001b[0mself\u001b[0m\u001b[1;33m,\u001b[0m \u001b[0mX\u001b[0m\u001b[1;33m,\u001b[0m \u001b[0my\u001b[0m\u001b[1;33m,\u001b[0m \u001b[0msample_weight\u001b[0m\u001b[1;33m,\u001b[0m \u001b[0mi\u001b[0m\u001b[1;33m,\u001b[0m \u001b[0mlen\u001b[0m\u001b[1;33m(\u001b[0m\u001b[0mtrees\u001b[0m\u001b[1;33m)\u001b[0m\u001b[1;33m,\u001b[0m\u001b[1;33m\u001b[0m\u001b[1;33m\u001b[0m\u001b[0m\n\u001b[0;32m    332\u001b[0m                     verbose=self.verbose, class_weight=self.class_weight)\n\u001b[1;32m--> 333\u001b[1;33m                 for i, t in enumerate(trees))\n\u001b[0m\u001b[0;32m    334\u001b[0m \u001b[1;33m\u001b[0m\u001b[0m\n\u001b[0;32m    335\u001b[0m             \u001b[1;31m# Collect newly grown trees\u001b[0m\u001b[1;33m\u001b[0m\u001b[1;33m\u001b[0m\u001b[1;33m\u001b[0m\u001b[0m\n",
      "\u001b[1;32mC:\\ProgramData\\Anaconda3\\lib\\site-packages\\sklearn\\externals\\joblib\\parallel.py\u001b[0m in \u001b[0;36m__call__\u001b[1;34m(self, iterable)\u001b[0m\n\u001b[0;32m    918\u001b[0m                 \u001b[0mself\u001b[0m\u001b[1;33m.\u001b[0m\u001b[0m_iterating\u001b[0m \u001b[1;33m=\u001b[0m \u001b[0mself\u001b[0m\u001b[1;33m.\u001b[0m\u001b[0m_original_iterator\u001b[0m \u001b[1;32mis\u001b[0m \u001b[1;32mnot\u001b[0m \u001b[1;32mNone\u001b[0m\u001b[1;33m\u001b[0m\u001b[1;33m\u001b[0m\u001b[0m\n\u001b[0;32m    919\u001b[0m \u001b[1;33m\u001b[0m\u001b[0m\n\u001b[1;32m--> 920\u001b[1;33m             \u001b[1;32mwhile\u001b[0m \u001b[0mself\u001b[0m\u001b[1;33m.\u001b[0m\u001b[0mdispatch_one_batch\u001b[0m\u001b[1;33m(\u001b[0m\u001b[0miterator\u001b[0m\u001b[1;33m)\u001b[0m\u001b[1;33m:\u001b[0m\u001b[1;33m\u001b[0m\u001b[1;33m\u001b[0m\u001b[0m\n\u001b[0m\u001b[0;32m    921\u001b[0m                 \u001b[1;32mpass\u001b[0m\u001b[1;33m\u001b[0m\u001b[1;33m\u001b[0m\u001b[0m\n\u001b[0;32m    922\u001b[0m \u001b[1;33m\u001b[0m\u001b[0m\n",
      "\u001b[1;32mC:\\ProgramData\\Anaconda3\\lib\\site-packages\\sklearn\\externals\\joblib\\parallel.py\u001b[0m in \u001b[0;36mdispatch_one_batch\u001b[1;34m(self, iterator)\u001b[0m\n\u001b[0;32m    757\u001b[0m                 \u001b[1;32mreturn\u001b[0m \u001b[1;32mFalse\u001b[0m\u001b[1;33m\u001b[0m\u001b[1;33m\u001b[0m\u001b[0m\n\u001b[0;32m    758\u001b[0m             \u001b[1;32melse\u001b[0m\u001b[1;33m:\u001b[0m\u001b[1;33m\u001b[0m\u001b[1;33m\u001b[0m\u001b[0m\n\u001b[1;32m--> 759\u001b[1;33m                 \u001b[0mself\u001b[0m\u001b[1;33m.\u001b[0m\u001b[0m_dispatch\u001b[0m\u001b[1;33m(\u001b[0m\u001b[0mtasks\u001b[0m\u001b[1;33m)\u001b[0m\u001b[1;33m\u001b[0m\u001b[1;33m\u001b[0m\u001b[0m\n\u001b[0m\u001b[0;32m    760\u001b[0m                 \u001b[1;32mreturn\u001b[0m \u001b[1;32mTrue\u001b[0m\u001b[1;33m\u001b[0m\u001b[1;33m\u001b[0m\u001b[0m\n\u001b[0;32m    761\u001b[0m \u001b[1;33m\u001b[0m\u001b[0m\n",
      "\u001b[1;32mC:\\ProgramData\\Anaconda3\\lib\\site-packages\\sklearn\\externals\\joblib\\parallel.py\u001b[0m in \u001b[0;36m_dispatch\u001b[1;34m(self, batch)\u001b[0m\n\u001b[0;32m    714\u001b[0m         \u001b[1;32mwith\u001b[0m \u001b[0mself\u001b[0m\u001b[1;33m.\u001b[0m\u001b[0m_lock\u001b[0m\u001b[1;33m:\u001b[0m\u001b[1;33m\u001b[0m\u001b[1;33m\u001b[0m\u001b[0m\n\u001b[0;32m    715\u001b[0m             \u001b[0mjob_idx\u001b[0m \u001b[1;33m=\u001b[0m \u001b[0mlen\u001b[0m\u001b[1;33m(\u001b[0m\u001b[0mself\u001b[0m\u001b[1;33m.\u001b[0m\u001b[0m_jobs\u001b[0m\u001b[1;33m)\u001b[0m\u001b[1;33m\u001b[0m\u001b[1;33m\u001b[0m\u001b[0m\n\u001b[1;32m--> 716\u001b[1;33m             \u001b[0mjob\u001b[0m \u001b[1;33m=\u001b[0m \u001b[0mself\u001b[0m\u001b[1;33m.\u001b[0m\u001b[0m_backend\u001b[0m\u001b[1;33m.\u001b[0m\u001b[0mapply_async\u001b[0m\u001b[1;33m(\u001b[0m\u001b[0mbatch\u001b[0m\u001b[1;33m,\u001b[0m \u001b[0mcallback\u001b[0m\u001b[1;33m=\u001b[0m\u001b[0mcb\u001b[0m\u001b[1;33m)\u001b[0m\u001b[1;33m\u001b[0m\u001b[1;33m\u001b[0m\u001b[0m\n\u001b[0m\u001b[0;32m    717\u001b[0m             \u001b[1;31m# A job can complete so quickly than its callback is\u001b[0m\u001b[1;33m\u001b[0m\u001b[1;33m\u001b[0m\u001b[1;33m\u001b[0m\u001b[0m\n\u001b[0;32m    718\u001b[0m             \u001b[1;31m# called before we get here, causing self._jobs to\u001b[0m\u001b[1;33m\u001b[0m\u001b[1;33m\u001b[0m\u001b[1;33m\u001b[0m\u001b[0m\n",
      "\u001b[1;32mC:\\ProgramData\\Anaconda3\\lib\\site-packages\\sklearn\\externals\\joblib\\_parallel_backends.py\u001b[0m in \u001b[0;36mapply_async\u001b[1;34m(self, func, callback)\u001b[0m\n\u001b[0;32m    180\u001b[0m     \u001b[1;32mdef\u001b[0m \u001b[0mapply_async\u001b[0m\u001b[1;33m(\u001b[0m\u001b[0mself\u001b[0m\u001b[1;33m,\u001b[0m \u001b[0mfunc\u001b[0m\u001b[1;33m,\u001b[0m \u001b[0mcallback\u001b[0m\u001b[1;33m=\u001b[0m\u001b[1;32mNone\u001b[0m\u001b[1;33m)\u001b[0m\u001b[1;33m:\u001b[0m\u001b[1;33m\u001b[0m\u001b[1;33m\u001b[0m\u001b[0m\n\u001b[0;32m    181\u001b[0m         \u001b[1;34m\"\"\"Schedule a func to be run\"\"\"\u001b[0m\u001b[1;33m\u001b[0m\u001b[1;33m\u001b[0m\u001b[0m\n\u001b[1;32m--> 182\u001b[1;33m         \u001b[0mresult\u001b[0m \u001b[1;33m=\u001b[0m \u001b[0mImmediateResult\u001b[0m\u001b[1;33m(\u001b[0m\u001b[0mfunc\u001b[0m\u001b[1;33m)\u001b[0m\u001b[1;33m\u001b[0m\u001b[1;33m\u001b[0m\u001b[0m\n\u001b[0m\u001b[0;32m    183\u001b[0m         \u001b[1;32mif\u001b[0m \u001b[0mcallback\u001b[0m\u001b[1;33m:\u001b[0m\u001b[1;33m\u001b[0m\u001b[1;33m\u001b[0m\u001b[0m\n\u001b[0;32m    184\u001b[0m             \u001b[0mcallback\u001b[0m\u001b[1;33m(\u001b[0m\u001b[0mresult\u001b[0m\u001b[1;33m)\u001b[0m\u001b[1;33m\u001b[0m\u001b[1;33m\u001b[0m\u001b[0m\n",
      "\u001b[1;32mC:\\ProgramData\\Anaconda3\\lib\\site-packages\\sklearn\\externals\\joblib\\_parallel_backends.py\u001b[0m in \u001b[0;36m__init__\u001b[1;34m(self, batch)\u001b[0m\n\u001b[0;32m    547\u001b[0m         \u001b[1;31m# Don't delay the application, to avoid keeping the input\u001b[0m\u001b[1;33m\u001b[0m\u001b[1;33m\u001b[0m\u001b[1;33m\u001b[0m\u001b[0m\n\u001b[0;32m    548\u001b[0m         \u001b[1;31m# arguments in memory\u001b[0m\u001b[1;33m\u001b[0m\u001b[1;33m\u001b[0m\u001b[1;33m\u001b[0m\u001b[0m\n\u001b[1;32m--> 549\u001b[1;33m         \u001b[0mself\u001b[0m\u001b[1;33m.\u001b[0m\u001b[0mresults\u001b[0m \u001b[1;33m=\u001b[0m \u001b[0mbatch\u001b[0m\u001b[1;33m(\u001b[0m\u001b[1;33m)\u001b[0m\u001b[1;33m\u001b[0m\u001b[1;33m\u001b[0m\u001b[0m\n\u001b[0m\u001b[0;32m    550\u001b[0m \u001b[1;33m\u001b[0m\u001b[0m\n\u001b[0;32m    551\u001b[0m     \u001b[1;32mdef\u001b[0m \u001b[0mget\u001b[0m\u001b[1;33m(\u001b[0m\u001b[0mself\u001b[0m\u001b[1;33m)\u001b[0m\u001b[1;33m:\u001b[0m\u001b[1;33m\u001b[0m\u001b[1;33m\u001b[0m\u001b[0m\n",
      "\u001b[1;32mC:\\ProgramData\\Anaconda3\\lib\\site-packages\\sklearn\\externals\\joblib\\parallel.py\u001b[0m in \u001b[0;36m__call__\u001b[1;34m(self)\u001b[0m\n\u001b[0;32m    223\u001b[0m         \u001b[1;32mwith\u001b[0m \u001b[0mparallel_backend\u001b[0m\u001b[1;33m(\u001b[0m\u001b[0mself\u001b[0m\u001b[1;33m.\u001b[0m\u001b[0m_backend\u001b[0m\u001b[1;33m,\u001b[0m \u001b[0mn_jobs\u001b[0m\u001b[1;33m=\u001b[0m\u001b[0mself\u001b[0m\u001b[1;33m.\u001b[0m\u001b[0m_n_jobs\u001b[0m\u001b[1;33m)\u001b[0m\u001b[1;33m:\u001b[0m\u001b[1;33m\u001b[0m\u001b[1;33m\u001b[0m\u001b[0m\n\u001b[0;32m    224\u001b[0m             return [func(*args, **kwargs)\n\u001b[1;32m--> 225\u001b[1;33m                     for func, args, kwargs in self.items]\n\u001b[0m\u001b[0;32m    226\u001b[0m \u001b[1;33m\u001b[0m\u001b[0m\n\u001b[0;32m    227\u001b[0m     \u001b[1;32mdef\u001b[0m \u001b[0m__len__\u001b[0m\u001b[1;33m(\u001b[0m\u001b[0mself\u001b[0m\u001b[1;33m)\u001b[0m\u001b[1;33m:\u001b[0m\u001b[1;33m\u001b[0m\u001b[1;33m\u001b[0m\u001b[0m\n",
      "\u001b[1;32mC:\\ProgramData\\Anaconda3\\lib\\site-packages\\sklearn\\externals\\joblib\\parallel.py\u001b[0m in \u001b[0;36m<listcomp>\u001b[1;34m(.0)\u001b[0m\n\u001b[0;32m    223\u001b[0m         \u001b[1;32mwith\u001b[0m \u001b[0mparallel_backend\u001b[0m\u001b[1;33m(\u001b[0m\u001b[0mself\u001b[0m\u001b[1;33m.\u001b[0m\u001b[0m_backend\u001b[0m\u001b[1;33m,\u001b[0m \u001b[0mn_jobs\u001b[0m\u001b[1;33m=\u001b[0m\u001b[0mself\u001b[0m\u001b[1;33m.\u001b[0m\u001b[0m_n_jobs\u001b[0m\u001b[1;33m)\u001b[0m\u001b[1;33m:\u001b[0m\u001b[1;33m\u001b[0m\u001b[1;33m\u001b[0m\u001b[0m\n\u001b[0;32m    224\u001b[0m             return [func(*args, **kwargs)\n\u001b[1;32m--> 225\u001b[1;33m                     for func, args, kwargs in self.items]\n\u001b[0m\u001b[0;32m    226\u001b[0m \u001b[1;33m\u001b[0m\u001b[0m\n\u001b[0;32m    227\u001b[0m     \u001b[1;32mdef\u001b[0m \u001b[0m__len__\u001b[0m\u001b[1;33m(\u001b[0m\u001b[0mself\u001b[0m\u001b[1;33m)\u001b[0m\u001b[1;33m:\u001b[0m\u001b[1;33m\u001b[0m\u001b[1;33m\u001b[0m\u001b[0m\n",
      "\u001b[1;32mC:\\ProgramData\\Anaconda3\\lib\\site-packages\\sklearn\\ensemble\\forest.py\u001b[0m in \u001b[0;36m_parallel_build_trees\u001b[1;34m(tree, forest, X, y, sample_weight, tree_idx, n_trees, verbose, class_weight)\u001b[0m\n\u001b[0;32m    117\u001b[0m             \u001b[0mcurr_sample_weight\u001b[0m \u001b[1;33m*=\u001b[0m \u001b[0mcompute_sample_weight\u001b[0m\u001b[1;33m(\u001b[0m\u001b[1;34m'balanced'\u001b[0m\u001b[1;33m,\u001b[0m \u001b[0my\u001b[0m\u001b[1;33m,\u001b[0m \u001b[0mindices\u001b[0m\u001b[1;33m)\u001b[0m\u001b[1;33m\u001b[0m\u001b[1;33m\u001b[0m\u001b[0m\n\u001b[0;32m    118\u001b[0m \u001b[1;33m\u001b[0m\u001b[0m\n\u001b[1;32m--> 119\u001b[1;33m         \u001b[0mtree\u001b[0m\u001b[1;33m.\u001b[0m\u001b[0mfit\u001b[0m\u001b[1;33m(\u001b[0m\u001b[0mX\u001b[0m\u001b[1;33m,\u001b[0m \u001b[0my\u001b[0m\u001b[1;33m,\u001b[0m \u001b[0msample_weight\u001b[0m\u001b[1;33m=\u001b[0m\u001b[0mcurr_sample_weight\u001b[0m\u001b[1;33m,\u001b[0m \u001b[0mcheck_input\u001b[0m\u001b[1;33m=\u001b[0m\u001b[1;32mFalse\u001b[0m\u001b[1;33m)\u001b[0m\u001b[1;33m\u001b[0m\u001b[1;33m\u001b[0m\u001b[0m\n\u001b[0m\u001b[0;32m    120\u001b[0m     \u001b[1;32melse\u001b[0m\u001b[1;33m:\u001b[0m\u001b[1;33m\u001b[0m\u001b[1;33m\u001b[0m\u001b[0m\n\u001b[0;32m    121\u001b[0m         \u001b[0mtree\u001b[0m\u001b[1;33m.\u001b[0m\u001b[0mfit\u001b[0m\u001b[1;33m(\u001b[0m\u001b[0mX\u001b[0m\u001b[1;33m,\u001b[0m \u001b[0my\u001b[0m\u001b[1;33m,\u001b[0m \u001b[0msample_weight\u001b[0m\u001b[1;33m=\u001b[0m\u001b[0msample_weight\u001b[0m\u001b[1;33m,\u001b[0m \u001b[0mcheck_input\u001b[0m\u001b[1;33m=\u001b[0m\u001b[1;32mFalse\u001b[0m\u001b[1;33m)\u001b[0m\u001b[1;33m\u001b[0m\u001b[1;33m\u001b[0m\u001b[0m\n",
      "\u001b[1;32mC:\\ProgramData\\Anaconda3\\lib\\site-packages\\sklearn\\tree\\tree.py\u001b[0m in \u001b[0;36mfit\u001b[1;34m(self, X, y, sample_weight, check_input, X_idx_sorted)\u001b[0m\n\u001b[0;32m   1140\u001b[0m             \u001b[0msample_weight\u001b[0m\u001b[1;33m=\u001b[0m\u001b[0msample_weight\u001b[0m\u001b[1;33m,\u001b[0m\u001b[1;33m\u001b[0m\u001b[1;33m\u001b[0m\u001b[0m\n\u001b[0;32m   1141\u001b[0m             \u001b[0mcheck_input\u001b[0m\u001b[1;33m=\u001b[0m\u001b[0mcheck_input\u001b[0m\u001b[1;33m,\u001b[0m\u001b[1;33m\u001b[0m\u001b[1;33m\u001b[0m\u001b[0m\n\u001b[1;32m-> 1142\u001b[1;33m             X_idx_sorted=X_idx_sorted)\n\u001b[0m\u001b[0;32m   1143\u001b[0m         \u001b[1;32mreturn\u001b[0m \u001b[0mself\u001b[0m\u001b[1;33m\u001b[0m\u001b[1;33m\u001b[0m\u001b[0m\n\u001b[0;32m   1144\u001b[0m \u001b[1;33m\u001b[0m\u001b[0m\n",
      "\u001b[1;32mC:\\ProgramData\\Anaconda3\\lib\\site-packages\\sklearn\\tree\\tree.py\u001b[0m in \u001b[0;36mfit\u001b[1;34m(self, X, y, sample_weight, check_input, X_idx_sorted)\u001b[0m\n\u001b[0;32m    364\u001b[0m                                            min_impurity_split)\n\u001b[0;32m    365\u001b[0m \u001b[1;33m\u001b[0m\u001b[0m\n\u001b[1;32m--> 366\u001b[1;33m         \u001b[0mbuilder\u001b[0m\u001b[1;33m.\u001b[0m\u001b[0mbuild\u001b[0m\u001b[1;33m(\u001b[0m\u001b[0mself\u001b[0m\u001b[1;33m.\u001b[0m\u001b[0mtree_\u001b[0m\u001b[1;33m,\u001b[0m \u001b[0mX\u001b[0m\u001b[1;33m,\u001b[0m \u001b[0my\u001b[0m\u001b[1;33m,\u001b[0m \u001b[0msample_weight\u001b[0m\u001b[1;33m,\u001b[0m \u001b[0mX_idx_sorted\u001b[0m\u001b[1;33m)\u001b[0m\u001b[1;33m\u001b[0m\u001b[1;33m\u001b[0m\u001b[0m\n\u001b[0m\u001b[0;32m    367\u001b[0m \u001b[1;33m\u001b[0m\u001b[0m\n\u001b[0;32m    368\u001b[0m         \u001b[1;32mif\u001b[0m \u001b[0mself\u001b[0m\u001b[1;33m.\u001b[0m\u001b[0mn_outputs_\u001b[0m \u001b[1;33m==\u001b[0m \u001b[1;36m1\u001b[0m\u001b[1;33m:\u001b[0m\u001b[1;33m\u001b[0m\u001b[1;33m\u001b[0m\u001b[0m\n",
      "\u001b[1;31mKeyboardInterrupt\u001b[0m: "
     ]
    }
   ],
   "source": [
    "n_estimators = np.arange(100, 400, 50)\n",
    "max_features = ['auto','log2']\n",
    "max_depth = np.arange(20, 60, 20)\n",
    "min_samples_split = [3, 4, 5]\n",
    "min_samples_leaf = [2, 3, 4, 5]\n",
    "\n",
    "for i in n_estimators:\n",
    "    for j in max_features:\n",
    "        for k in max_depth:\n",
    "            for l in min_samples_split:\n",
    "                for m in min_samples_leaf:\n",
    "                    time_start = time.clock()\n",
    "                    rf = RandomForestRegressor(n_estimators= i, min_samples_split= l, min_samples_leaf= m, max_features= j,max_depth= k,bootstrap=True ,random_state=10,verbose=True)\n",
    "                    rf.fit(X_train, y_train)\n",
    "                    pred = rf.predict(X_test)\n",
    "                    \n",
    "                    TEST1 = pred/60\n",
    "                    TEST2 = [x/60 for x in y_test['target'].tolist()]\n",
    "                    print('RMSE TEST:')\n",
    "                    print(np.sqrt(sk.metrics.mean_squared_error(TEST1,TEST2)))\n",
    "\n",
    "                    pred_train = rf.predict(X_train)\n",
    "                    TEST3 = pred_train/60\n",
    "                    TEST4 = [x/60 for x in y_train['target'].tolist()]\n",
    "                    print('RMSE TRAIN:')\n",
    "                    print(np.sqrt(sk.metrics.mean_squared_error(TEST3,TEST4)))\n",
    "                    print('n_est = '+str(i)+\n",
    "                          ' max_feat:'+str(j)+\n",
    "                          ' max_depth:'+str(k)+\n",
    "                          ' min_samples_split:'+str(l)+\n",
    "                         ' min_samples_leaf:'+str(m))\n",
    "\n",
    "                    time_elapsed = (time.clock() - time_start)\n",
    "                    print(time_elapsed)\n",
    "                    \n"
   ]
  },
  {
   "cell_type": "markdown",
   "metadata": {},
   "source": [
    "#### Master Pipe"
   ]
  },
  {
   "cell_type": "code",
   "execution_count": 71,
   "metadata": {},
   "outputs": [],
   "source": [
    "df_train = pd.read_pickle('X.pkl')\n",
    "df_test = master_preprocessing_X(Path_Test, Path_WeatherData, Path_Aircraft, Path_correspondance_Aircraft_Airport)\n",
    "df_full = merge_df(df_train,df_test)\n",
    "df_full = use_arnaud_function1(df_full,Path_Aircraft,Path_Test)\n",
    "df_full = plane_landing_last_hour(df_full)\n",
    "df_full = arnaud_function3(df_full,Path_Aircraft,Path_Test)\n",
    "\n",
    "df_target = create_target(df_full)"
   ]
  },
  {
   "cell_type": "code",
   "execution_count": 9,
   "metadata": {},
   "outputs": [],
   "source": [
    "col_numerical = ['AWND', 'PRCP', 'TAVG', 'TMAX', 'TMIN','WDF2', 'WDF5', 'WSF2', 'WSF5', 'WT01', 'WT02', 'WT03', 'WT08',\n",
    "                'nb of planes in movement in the plane',\n",
    "                'rolling average same runway',\n",
    "                 'rolling average same stand',\n",
    "                 'rolling average same runway & same stand',\n",
    "                 'TESTING','SnowProxi']\n",
    "\n",
    "col_dummies = ['carrier', 'acType','runway','ATCT Weight Class','Wake Category','AAC', 'ADG', 'TDG']\n",
    "col_to_drop=[ 'flight','sto', 'aldt', 'eibt','aibt',\n",
    "       'cibt', 'chocks_on', 'Manufacturer','Physical Class (Engine)',\n",
    "       '# Engines',\n",
    "       'Wingtip Configuration',\n",
    "       'Tail Height, ft\\n(@ OEW)', 'Wheelbase, ft',\n",
    "       'Cockpit to Main Gear (CMG)', 'MGW\\n(Outer to Outer)',\n",
    "       'Max Ramp\\nMax Taxi', 'Main Gear Config', 'ICAO Code', 'Years Manufactured', 'Note',\n",
    "       'Parking Area (WS x Length), sf','Model','MTOW','Wingspan, ft', 'Length, ft','Approach Speed\\n(Vref)',\n",
    "       'target']\n",
    "col_to_target_encode=['stand']"
   ]
  },
  {
   "cell_type": "code",
   "execution_count": 70,
   "metadata": {},
   "outputs": [],
   "source": [
    "res_pimp = features_pimpage(df_full,col_numerical,col_to_drop,col_dummies, col_to_target_encode,df_target,\n",
    "                           path_feature =\"Feature_congestion_movement_tot.pkl\" ,CatBoost=True)"
   ]
  },
  {
   "cell_type": "code",
   "execution_count": 65,
   "metadata": {},
   "outputs": [],
   "source": [
    "# X_train, y_train, X_test, y_test = unmerged_df(res_ft_pimp)\n",
    "# del res_pimp, df_full, df_train, df_test\n",
    "# X_train = pd.read_pickle('Data/pickle/X_train.pkl')\n",
    "# X_test =  pd.read_pickle('Data/pickle/X_test.pkl')\n",
    "\n",
    "# y_train =  pd.read_pickle('Data/pickle/y_train.pkl')\n",
    "# y_test =  pd.read_pickle('Data/pickle/y_test.pkl')"
   ]
  },
  {
   "cell_type": "code",
   "execution_count": 80,
   "metadata": {},
   "outputs": [],
   "source": [
    "X_train = pd.read_pickle('Data/pickle/X_train_cat.pkl')\n",
    "X_test =  pd.read_pickle('Data/pickle/X_test_cat.pkl')\n",
    "\n",
    "y_train =  pd.read_pickle('Data/pickle/y_train_cat.pkl')\n",
    "y_test =  pd.read_pickle('Data/pickle/y_test_cat.pkl')\n",
    "\n",
    "col_dummies = ['carrier', 'acType','runway','ATCT Weight Class','Wake Category','AAC', 'ADG', 'TDG']\n",
    "\n",
    "X_test = X_test.iloc[:-208]\n",
    "y_test = y_test.iloc[:-208]\n"
   ]
  },
  {
   "cell_type": "markdown",
   "metadata": {},
   "source": [
    "### Catboost random search "
   ]
  },
  {
   "cell_type": "code",
   "execution_count": 81,
   "metadata": {},
   "outputs": [],
   "source": [
    "def compute_mae(y, y_pred):\n",
    "    \"\"\"\n",
    "    function computing MAE \n",
    "\n",
    "    input: real target values and predicted values\n",
    "    output : root mean squared error in minutes\n",
    "    \"\"\"\n",
    "    return np.mean(np.abs((y - y_pred)))/60"
   ]
  },
  {
   "cell_type": "code",
   "execution_count": 83,
   "metadata": {},
   "outputs": [],
   "source": [
    "from catboost import CatBoostRegressor\n",
    "\n",
    "\n",
    "\n",
    "iterations = np.arange(100, 400, 50)\n",
    "learning_rate = [0.02,0.05,0.08]\n",
    "depth = [6,8,10]\n",
    "bagging_temperature = [0.6,0.8]\n",
    "min_samples_leaf = [2, 3, 4, 5]\n",
    "\n",
    "for i in iterations:\n",
    "    for j in learning_rate:\n",
    "        for k in depth:\n",
    "            for l in bagging_temperature:\n",
    "                    time_start = time.clock()\n",
    "                    cb = model = CatBoostRegressor(iterations=i,\n",
    "                          learning_rate=j,\n",
    "                          depth=k,\n",
    "                          loss_function='RMSE',\n",
    "                          eval_metric='RMSE',\n",
    "                          bagging_temperature = l,verbose=False)\n",
    "                    column_index = [X_train.columns.get_loc(c) for c in col_dummies if c in X_train]\n",
    "                    cb.fit(X_train, y_train,cat_features=column_index)\n",
    "                    pred = cb.predict(X_test)\n",
    "\n",
    "                    TEST1 = pred/60\n",
    "                    TEST2 = [x/60 for x in y_test['target'].tolist()]\n",
    "                    print('RMSE TEST:')\n",
    "                    print(np.sqrt(sk.metrics.mean_squared_error(TEST1,TEST2)))\n",
    "\n",
    "                    pred_train = cb.predict(X_train)\n",
    "                    TEST3 = pred_train/60\n",
    "                    TEST4 = [x/60 for x in y_train['target'].tolist()]\n",
    "                    print('RMSE TRAIN:')\n",
    "                    print(np.sqrt(sk.metrics.mean_squared_error(TEST3,TEST4)))\n",
    "                    print('n_est = '+str(i)+\n",
    "                          ' learning rate:'+str(j)+\n",
    "                          ' depth:'+str(k)+\n",
    "                          ' bagging temp:'+str(l))\n",
    "\n",
    "                    time_elapsed = (time.clock() - time_start)\n",
    "                    print(time_elapsed)"
   ]
  },
  {
   "cell_type": "markdown",
   "metadata": {},
   "source": [
    "### Best Random Forest "
   ]
  },
  {
   "cell_type": "code",
   "execution_count": 67,
   "metadata": {},
   "outputs": [],
   "source": [
    "col_numerical = ['AWND', 'PRCP', 'TAVG', 'TMAX', 'TMIN','WDF2', 'WDF5', 'WSF2', 'WSF5', 'WT01', 'WT02', 'WT03', 'WT08',\n",
    "                'nb of planes in movement in the plane',\n",
    "                'rolling average same runway',\n",
    "                 'rolling average same stand',\n",
    "                 'rolling average same runway & same stand',\n",
    "                 'TESTING']\n",
    "\n",
    "col_dummies = ['SnowProxi']\n",
    "col_to_drop=[ 'flight','sto', 'aldt', 'eibt','aibt',\n",
    "       'cibt', 'chocks_on', 'Manufacturer','Physical Class (Engine)',\n",
    "       '# Engines',\n",
    "       'Wingtip Configuration',\n",
    "       'Tail Height, ft\\n(@ OEW)', 'Wheelbase, ft',\n",
    "       'Cockpit to Main Gear (CMG)', 'MGW\\n(Outer to Outer)',\n",
    "       'Max Ramp\\nMax Taxi', 'Main Gear Config', 'ICAO Code', 'Years Manufactured', 'Note',\n",
    "       'Parking Area (WS x Length), sf','Model','MTOW','Wingspan, ft', 'Length, ft','Approach Speed\\n(Vref)',\n",
    "       'target']\n",
    "col_to_target_encode=['stand','carrier', 'acType','runway','ATCT Weight Class','Wake Category','AAC', 'ADG', 'TDG']"
   ]
  },
  {
   "cell_type": "code",
   "execution_count": null,
   "metadata": {},
   "outputs": [],
   "source": [
    "# res_pimp = features_pimpage(df_full,col_numerical,col_to_drop,col_dummies, col_to_target_encode,df_target,\n",
    "#                            path_feature =\"Feature_congestion_movement_tot.pkl\" ,CatBoost=False)\n",
    "\n",
    "# X_train, y_train, X_test, y_test = unmerged_df(res_ft_pimp)\n",
    "# del res_pimp, df_full, df_train, df_test"
   ]
  },
  {
   "cell_type": "code",
   "execution_count": 68,
   "metadata": {},
   "outputs": [
    {
     "name": "stderr",
     "output_type": "stream",
     "text": [
      "C:\\ProgramData\\Anaconda3\\lib\\site-packages\\ipykernel_launcher.py:3: DataConversionWarning: A column-vector y was passed when a 1d array was expected. Please change the shape of y to (n_samples,), for example using ravel().\n",
      "  This is separate from the ipykernel package so we can avoid doing imports until\n",
      "[Parallel(n_jobs=1)]: Using backend SequentialBackend with 1 concurrent workers.\n",
      "[Parallel(n_jobs=1)]: Done 250 out of 250 | elapsed:  2.4min finished\n",
      "[Parallel(n_jobs=1)]: Using backend SequentialBackend with 1 concurrent workers.\n"
     ]
    },
    {
     "name": "stdout",
     "output_type": "stream",
     "text": [
      "146.95778820000123\n"
     ]
    },
    {
     "name": "stderr",
     "output_type": "stream",
     "text": [
      "[Parallel(n_jobs=1)]: Done 250 out of 250 | elapsed:    1.0s finished\n"
     ]
    }
   ],
   "source": [
    "time_start = time.clock()\n",
    "rf = RandomForestRegressor(n_estimators= 250, min_samples_split= 3, min_samples_leaf= 2, max_features= 'sqrt',max_depth= 30,bootstrap=True ,random_state=10,verbose=True)\n",
    "rf.fit(X_train, y_train)\n",
    "pred = rf.predict(X_test)\n",
    "\n",
    "time_elapsed = (time.clock() - time_start)\n",
    "print(time_elapsed)"
   ]
  },
  {
   "cell_type": "code",
   "execution_count": 69,
   "metadata": {},
   "outputs": [
    {
     "data": {
      "text/html": [
       "<div>\n",
       "<style scoped>\n",
       "    .dataframe tbody tr th:only-of-type {\n",
       "        vertical-align: middle;\n",
       "    }\n",
       "\n",
       "    .dataframe tbody tr th {\n",
       "        vertical-align: top;\n",
       "    }\n",
       "\n",
       "    .dataframe thead th {\n",
       "        text-align: right;\n",
       "    }\n",
       "</style>\n",
       "<table border=\"1\" class=\"dataframe\">\n",
       "  <thead>\n",
       "    <tr style=\"text-align: right;\">\n",
       "      <th></th>\n",
       "      <th>RMSE</th>\n",
       "      <th>MAPE</th>\n",
       "      <th>MAE</th>\n",
       "      <th>custom_made</th>\n",
       "      <th>tenth_perc</th>\n",
       "      <th>ninetieth_perc</th>\n",
       "    </tr>\n",
       "  </thead>\n",
       "  <tbody>\n",
       "    <tr>\n",
       "      <th>0</th>\n",
       "      <td>target    3.139224\n",
       "dtype: float64</td>\n",
       "      <td>target    0.370511\n",
       "dtype: float64</td>\n",
       "      <td>target    1.869802\n",
       "dtype: float64</td>\n",
       "      <td>target    0.165188\n",
       "dtype: float64</td>\n",
       "      <td>target    0.227753\n",
       "Name: 4774, dtype: float64</td>\n",
       "      <td>target    3.822574\n",
       "Name: 1160, dtype: float64</td>\n",
       "    </tr>\n",
       "  </tbody>\n",
       "</table>\n",
       "</div>"
      ],
      "text/plain": [
       "                                RMSE                               MAPE  \\\n",
       "0  target    3.139224\n",
       "dtype: float64  target    0.370511\n",
       "dtype: float64   \n",
       "\n",
       "                                 MAE                        custom_made  \\\n",
       "0  target    1.869802\n",
       "dtype: float64  target    0.165188\n",
       "dtype: float64   \n",
       "\n",
       "                                      tenth_perc  \\\n",
       "0  target    0.227753\n",
       "Name: 4774, dtype: float64   \n",
       "\n",
       "                                  ninetieth_perc  \n",
       "0  target    3.822574\n",
       "Name: 1160, dtype: float64  "
      ]
     },
     "execution_count": 69,
     "metadata": {},
     "output_type": "execute_result"
    }
   ],
   "source": [
    "preds = pd.DataFrame(pred)\n",
    "preds = preds.rename(columns={0: \"target\"})\n",
    "y_test_new = y_test.reset_index(drop=True)\n",
    "compute_metrics(y_test_new,preds)"
   ]
  },
  {
   "cell_type": "code",
   "execution_count": 24,
   "metadata": {},
   "outputs": [
    {
     "name": "stdout",
     "output_type": "stream",
     "text": [
      "3.1392239777649023\n"
     ]
    }
   ],
   "source": [
    "#compute_metrics(list(pred),y_test['target'].tolist())\n",
    "TEST1 = pred/60\n",
    "TEST2 = [x/60 for x in y_test['target'].tolist()]\n",
    "print(np.sqrt(sk.metrics.mean_squared_error(TEST1,TEST2)))"
   ]
  },
  {
   "cell_type": "code",
   "execution_count": 16,
   "metadata": {},
   "outputs": [
    {
     "data": {
      "text/plain": [
       "<matplotlib.axes._subplots.AxesSubplot at 0x1640c97b438>"
      ]
     },
     "execution_count": 16,
     "metadata": {},
     "output_type": "execute_result"
    },
    {
     "data": {
      "image/png": "[encoded data removed]",
      "text/plain": [
       "<Figure size 432x288 with 1 Axes>"
      ]
     },
     "metadata": {},
     "output_type": "display_data"
    }
   ],
   "source": [
    "import seaborn as sns\n",
    "sns.set_style(\"darkgrid\")\n",
    "import matplotlib.pyplot as plt\n",
    "feat_importances = pd.Series(rf.feature_importances_, index=X_train.columns)\n",
    "feat_importances.nlargest(12).plot(kind='barh',color='#2F993D',title='feature importance')"
   ]
  },
  {
   "cell_type": "markdown",
   "metadata": {},
   "source": [
    "### best catboost "
   ]
  },
  {
   "cell_type": "code",
   "execution_count": 35,
   "metadata": {},
   "outputs": [
    {
     "name": "stdout",
     "output_type": "stream",
     "text": [
      "RMSE TEST:\n",
      "2.722714831256176\n"
     ]
    }
   ],
   "source": [
    "time_start = time.clock()\n",
    "cb = model = CatBoostRegressor(iterations=350,\n",
    "                               learning_rate=0.08,\n",
    "                               depth=8,\n",
    "                               eval_metric='RMSE',\n",
    "                               bagging_temperature = 0.8,verbose=False)\n",
    "column_index = [X_train.columns.get_loc(c) for c in col_dummies if c in X_train]\n",
    "cb.fit(X_train, y_train,cat_features=column_index)\n",
    "pred = cb.predict(X_test)\n",
    "                    \n",
    "TEST1 = pred/60\n",
    "TEST2 = [x/60 for x in y_test['target'].tolist()]\n",
    "print('RMSE TEST:')\n",
    "print(np.sqrt(sk.metrics.mean_squared_error(TEST1,TEST2)))"
   ]
  },
  {
   "cell_type": "code",
   "execution_count": 36,
   "metadata": {},
   "outputs": [
    {
     "data": {
      "text/plain": [
       "<matplotlib.axes._subplots.AxesSubplot at 0x1640abc2550>"
      ]
     },
     "execution_count": 36,
     "metadata": {},
     "output_type": "execute_result"
    },
    {
     "data": {
      "image/png": "[encoded data removed]",
      "text/plain": [
       "<Figure size 432x288 with 1 Axes>"
      ]
     },
     "metadata": {},
     "output_type": "display_data"
    }
   ],
   "source": [
    "import seaborn as sns\n",
    "sns.set_style(\"darkgrid\")\n",
    "import matplotlib.pyplot as plt\n",
    "feat_importances = pd.Series(cb.feature_importances_, index=X_train.columns)\n",
    "feat_importances.nlargest(12).plot(kind='barh',color='#2F993D',title='feature importance')"
   ]
  },
  {
   "cell_type": "code",
   "execution_count": 64,
   "metadata": {},
   "outputs": [
    {
     "data": {
      "text/html": [
       "<div>\n",
       "<style scoped>\n",
       "    .dataframe tbody tr th:only-of-type {\n",
       "        vertical-align: middle;\n",
       "    }\n",
       "\n",
       "    .dataframe tbody tr th {\n",
       "        vertical-align: top;\n",
       "    }\n",
       "\n",
       "    .dataframe thead th {\n",
       "        text-align: right;\n",
       "    }\n",
       "</style>\n",
       "<table border=\"1\" class=\"dataframe\">\n",
       "  <thead>\n",
       "    <tr style=\"text-align: right;\">\n",
       "      <th></th>\n",
       "      <th>RMSE</th>\n",
       "      <th>MAPE</th>\n",
       "      <th>MAE</th>\n",
       "      <th>custom_made</th>\n",
       "      <th>tenth_perc</th>\n",
       "      <th>ninetieth_perc</th>\n",
       "    </tr>\n",
       "  </thead>\n",
       "  <tbody>\n",
       "    <tr>\n",
       "      <th>0</th>\n",
       "      <td>target    2.722715\n",
       "dtype: float64</td>\n",
       "      <td>target    0.345804\n",
       "dtype: float64</td>\n",
       "      <td>target    1.76143\n",
       "dtype: float64</td>\n",
       "      <td>target    0.154453\n",
       "dtype: float64</td>\n",
       "      <td>target    0.209959\n",
       "Name: 8848, dtype: float64</td>\n",
       "      <td>target    3.7767\n",
       "Name: 5028, dtype: float64</td>\n",
       "    </tr>\n",
       "  </tbody>\n",
       "</table>\n",
       "</div>"
      ],
      "text/plain": [
       "                                RMSE                               MAPE  \\\n",
       "0  target    2.722715\n",
       "dtype: float64  target    0.345804\n",
       "dtype: float64   \n",
       "\n",
       "                                MAE                        custom_made  \\\n",
       "0  target    1.76143\n",
       "dtype: float64  target    0.154453\n",
       "dtype: float64   \n",
       "\n",
       "                                      tenth_perc  \\\n",
       "0  target    0.209959\n",
       "Name: 8848, dtype: float64   \n",
       "\n",
       "                                ninetieth_perc  \n",
       "0  target    3.7767\n",
       "Name: 5028, dtype: float64  "
      ]
     },
     "execution_count": 64,
     "metadata": {},
     "output_type": "execute_result"
    }
   ],
   "source": [
    "preds = pd.DataFrame(pred)\n",
    "preds = preds.rename(columns={0: \"target\"})\n",
    "y_test_new = y_test.reset_index(drop=True)\n",
    "compute_metrics(y_test_new,preds)"
   ]
  }
 ],
 "metadata": {
  "kernelspec": {
   "display_name": "Python 3",
   "language": "python",
   "name": "python3"
  },
  "language_info": {
   "codemirror_mode": {
    "name": "ipython",
    "version": 3
   },
   "file_extension": ".py",
   "mimetype": "text/x-python",
   "name": "python",
   "nbconvert_exporter": "python",
   "pygments_lexer": "ipython3",
   "version": "3.6.8"
  }
 },
 "nbformat": 4,
 "nbformat_minor": 2
}
