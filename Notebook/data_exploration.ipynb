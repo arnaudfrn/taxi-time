{
 "cells": [
  {
   "cell_type": "code",
   "execution_count": 1,
   "metadata": {},
   "outputs": [],
   "source": [
    "import numpy as np\n",
    "import pandas as pd"
   ]
  },
  {
   "cell_type": "code",
   "execution_count": 3,
   "metadata": {},
   "outputs": [],
   "source": [
    "df = pd.read_csv(\"/Users/arnaud/Desktop/HEC/taxi-time/Data/Airport_Data.csv\")"
   ]
  },
  {
   "cell_type": "code",
   "execution_count": 24,
   "metadata": {},
   "outputs": [
    {
     "data": {
      "text/plain": [
       "(43,)"
      ]
     },
     "execution_count": 24,
     "metadata": {},
     "output_type": "execute_result"
    }
   ],
   "source": [
    "df.columns.shape"
   ]
  },
  {
   "cell_type": "code",
   "execution_count": 100,
   "metadata": {},
   "outputs": [],
   "source": [
    "columns_df = pd.read_excel(\"/Users/arnaud/Desktop/HEC/taxi-time/Data/Glossary.xlsx\", sheet_name = 1).iloc[:,[0,2]]"
   ]
  },
  {
   "cell_type": "code",
   "execution_count": 101,
   "metadata": {},
   "outputs": [
    {
     "data": {
      "text/plain": [
       "'Aircraft Type (with another regulation -not to be used for the case)'"
      ]
     },
     "execution_count": 101,
     "metadata": {},
     "output_type": "execute_result"
    }
   ],
   "source": [
    "columns_df.iloc[3, 1]"
   ]
  },
  {
   "cell_type": "code",
   "execution_count": 102,
   "metadata": {},
   "outputs": [],
   "source": [
    "#columns_df[columns_df.iloc[:,1] not in  ['To ignore', 'to ignore']]"
   ]
  },
  {
   "cell_type": "code",
   "execution_count": 103,
   "metadata": {},
   "outputs": [],
   "source": [
    "#columns_df.iloc[:,0] not in  ['To ignore', 'to ignore']"
   ]
  },
  {
   "cell_type": "code",
   "execution_count": 105,
   "metadata": {},
   "outputs": [
    {
     "data": {
      "text/html": [
       "<div>\n",
       "<style scoped>\n",
       "    .dataframe tbody tr th:only-of-type {\n",
       "        vertical-align: middle;\n",
       "    }\n",
       "\n",
       "    .dataframe tbody tr th {\n",
       "        vertical-align: top;\n",
       "    }\n",
       "\n",
       "    .dataframe thead th {\n",
       "        text-align: right;\n",
       "    }\n",
       "</style>\n",
       "<table border=\"1\" class=\"dataframe\">\n",
       "  <thead>\n",
       "    <tr style=\"text-align: right;\">\n",
       "      <th></th>\n",
       "      <th>English</th>\n",
       "      <th>Meaning</th>\n",
       "    </tr>\n",
       "  </thead>\n",
       "  <tbody>\n",
       "    <tr>\n",
       "      <td>0</td>\n",
       "      <td>Carrier</td>\n",
       "      <td>Airline company</td>\n",
       "    </tr>\n",
       "    <tr>\n",
       "      <td>1</td>\n",
       "      <td>Flight</td>\n",
       "      <td>Flight number (e.g. AF1196)</td>\n",
       "    </tr>\n",
       "    <tr>\n",
       "      <td>2</td>\n",
       "      <td>acType</td>\n",
       "      <td>Aircraft type</td>\n",
       "    </tr>\n",
       "    <tr>\n",
       "      <td>3</td>\n",
       "      <td>acReg</td>\n",
       "      <td>Aircraft Type (with another regulation -not to...</td>\n",
       "    </tr>\n",
       "    <tr>\n",
       "      <td>4</td>\n",
       "      <td>Ship</td>\n",
       "      <td>Shipment of the plane</td>\n",
       "    </tr>\n",
       "    <tr>\n",
       "      <td>5</td>\n",
       "      <td>mode-s</td>\n",
       "      <td>Technical characteristic to ignore</td>\n",
       "    </tr>\n",
       "    <tr>\n",
       "      <td>6</td>\n",
       "      <td>Status</td>\n",
       "      <td>Technical characteristic to ignore</td>\n",
       "    </tr>\n",
       "    <tr>\n",
       "      <td>7</td>\n",
       "      <td>sto</td>\n",
       "      <td>Scheduled time-off</td>\n",
       "    </tr>\n",
       "    <tr>\n",
       "      <td>8</td>\n",
       "      <td>sqt</td>\n",
       "      <td>Technical characteristic to ignore</td>\n",
       "    </tr>\n",
       "    <tr>\n",
       "      <td>9</td>\n",
       "      <td>runway</td>\n",
       "      <td>Long \"road\" on which the airplane lands or tak...</td>\n",
       "    </tr>\n",
       "    <tr>\n",
       "      <td>10</td>\n",
       "      <td>Stand</td>\n",
       "      <td>Dock/gate at which the plane docks to load and...</td>\n",
       "    </tr>\n",
       "    <tr>\n",
       "      <td>11</td>\n",
       "      <td>Stand_last_change</td>\n",
       "      <td>Technical characteristic to ignore</td>\n",
       "    </tr>\n",
       "    <tr>\n",
       "      <td>12</td>\n",
       "      <td>Stand_scheduled</td>\n",
       "      <td>Technical characteristic to ignore</td>\n",
       "    </tr>\n",
       "    <tr>\n",
       "      <td>13</td>\n",
       "      <td>ALDT</td>\n",
       "      <td>Actual Landing Time</td>\n",
       "    </tr>\n",
       "    <tr>\n",
       "      <td>14</td>\n",
       "      <td>aldt_received</td>\n",
       "      <td>To ignore</td>\n",
       "    </tr>\n",
       "    <tr>\n",
       "      <td>15</td>\n",
       "      <td>Stand_prepared</td>\n",
       "      <td>To ignore</td>\n",
       "    </tr>\n",
       "    <tr>\n",
       "      <td>16</td>\n",
       "      <td>Stand _auto_start</td>\n",
       "      <td>To ignore</td>\n",
       "    </tr>\n",
       "    <tr>\n",
       "      <td>17</td>\n",
       "      <td>Stand_active</td>\n",
       "      <td>To ignore</td>\n",
       "    </tr>\n",
       "    <tr>\n",
       "      <td>18</td>\n",
       "      <td>Stand_docking</td>\n",
       "      <td>To ignore</td>\n",
       "    </tr>\n",
       "    <tr>\n",
       "      <td>19</td>\n",
       "      <td>CIBT</td>\n",
       "      <td>Calculated In-Block Time</td>\n",
       "    </tr>\n",
       "    <tr>\n",
       "      <td>20</td>\n",
       "      <td>aibt_received</td>\n",
       "      <td>To ignore</td>\n",
       "    </tr>\n",
       "    <tr>\n",
       "      <td>21</td>\n",
       "      <td>vdgs_in</td>\n",
       "      <td>To ignore</td>\n",
       "    </tr>\n",
       "    <tr>\n",
       "      <td>22</td>\n",
       "      <td>Chock_on</td>\n",
       "      <td>Chocks are a large piece of concrete put behin...</td>\n",
       "    </tr>\n",
       "    <tr>\n",
       "      <td>23</td>\n",
       "      <td>plb_on</td>\n",
       "      <td>to ignore</td>\n",
       "    </tr>\n",
       "    <tr>\n",
       "      <td>24</td>\n",
       "      <td>pca_on</td>\n",
       "      <td>To ignore</td>\n",
       "    </tr>\n",
       "    <tr>\n",
       "      <td>25</td>\n",
       "      <td>gpu_on</td>\n",
       "      <td>To ignore</td>\n",
       "    </tr>\n",
       "    <tr>\n",
       "      <td>26</td>\n",
       "      <td>towbar_on</td>\n",
       "      <td>To ignore</td>\n",
       "    </tr>\n",
       "    <tr>\n",
       "      <td>27</td>\n",
       "      <td>pca_off</td>\n",
       "      <td>To ignore</td>\n",
       "    </tr>\n",
       "    <tr>\n",
       "      <td>28</td>\n",
       "      <td>gpu_off</td>\n",
       "      <td>To ignore</td>\n",
       "    </tr>\n",
       "    <tr>\n",
       "      <td>29</td>\n",
       "      <td>acars_out</td>\n",
       "      <td>To ignore</td>\n",
       "    </tr>\n",
       "    <tr>\n",
       "      <td>30</td>\n",
       "      <td>vdgs_out</td>\n",
       "      <td>To ignore</td>\n",
       "    </tr>\n",
       "    <tr>\n",
       "      <td>31</td>\n",
       "      <td>Stand_free</td>\n",
       "      <td>To ignore</td>\n",
       "    </tr>\n",
       "    <tr>\n",
       "      <td>32</td>\n",
       "      <td>roll</td>\n",
       "      <td>To ignore</td>\n",
       "    </tr>\n",
       "    <tr>\n",
       "      <td>33</td>\n",
       "      <td>speed</td>\n",
       "      <td>to ignore</td>\n",
       "    </tr>\n",
       "    <tr>\n",
       "      <td>34</td>\n",
       "      <td>last_distance_to_gate</td>\n",
       "      <td>to ignore</td>\n",
       "    </tr>\n",
       "    <tr>\n",
       "      <td>35</td>\n",
       "      <td>last_in_sector</td>\n",
       "      <td>to ignore</td>\n",
       "    </tr>\n",
       "    <tr>\n",
       "      <td>36</td>\n",
       "      <td>EIBT</td>\n",
       "      <td>Estimated In-Block Time</td>\n",
       "    </tr>\n",
       "    <tr>\n",
       "      <td>37</td>\n",
       "      <td>CIBT</td>\n",
       "      <td>Calculated In-Block Time</td>\n",
       "    </tr>\n",
       "    <tr>\n",
       "      <td>38</td>\n",
       "      <td>AIBT</td>\n",
       "      <td>Actual In-Block Time</td>\n",
       "    </tr>\n",
       "  </tbody>\n",
       "</table>\n",
       "</div>"
      ],
      "text/plain": [
       "                  English                                            Meaning\n",
       "0                 Carrier                                   Airline company \n",
       "1                  Flight                        Flight number (e.g. AF1196)\n",
       "2                  acType                                      Aircraft type\n",
       "3                   acReg  Aircraft Type (with another regulation -not to...\n",
       "4                    Ship                              Shipment of the plane\n",
       "5                  mode-s                 Technical characteristic to ignore\n",
       "6                  Status                 Technical characteristic to ignore\n",
       "7                     sto                                 Scheduled time-off\n",
       "8                     sqt                 Technical characteristic to ignore\n",
       "9                  runway  Long \"road\" on which the airplane lands or tak...\n",
       "10                  Stand  Dock/gate at which the plane docks to load and...\n",
       "11      Stand_last_change                 Technical characteristic to ignore\n",
       "12        Stand_scheduled                 Technical characteristic to ignore\n",
       "13                   ALDT                                Actual Landing Time\n",
       "14          aldt_received                                          To ignore\n",
       "15         Stand_prepared                                          To ignore\n",
       "16      Stand _auto_start                                          To ignore\n",
       "17           Stand_active                                          To ignore\n",
       "18          Stand_docking                                          To ignore\n",
       "19                   CIBT                           Calculated In-Block Time\n",
       "20          aibt_received                                          To ignore\n",
       "21                vdgs_in                                          To ignore\n",
       "22               Chock_on  Chocks are a large piece of concrete put behin...\n",
       "23                 plb_on                                          to ignore\n",
       "24                 pca_on                                          To ignore\n",
       "25                 gpu_on                                          To ignore\n",
       "26              towbar_on                                          To ignore\n",
       "27                pca_off                                          To ignore\n",
       "28                gpu_off                                          To ignore\n",
       "29              acars_out                                          To ignore\n",
       "30               vdgs_out                                          To ignore\n",
       "31             Stand_free                                          To ignore\n",
       "32                   roll                                          To ignore\n",
       "33                 speed                                           to ignore\n",
       "34  last_distance_to_gate                                          to ignore\n",
       "35         last_in_sector                                          to ignore\n",
       "36                   EIBT                            Estimated In-Block Time\n",
       "37                   CIBT                           Calculated In-Block Time\n",
       "38                   AIBT                               Actual In-Block Time"
      ]
     },
     "execution_count": 105,
     "metadata": {},
     "output_type": "execute_result"
    }
   ],
   "source": [
    "columns_df"
   ]
  },
  {
   "cell_type": "code",
   "execution_count": 106,
   "metadata": {},
   "outputs": [
    {
     "data": {
      "text/plain": [
       "['Carrier',\n",
       " 'Flight',\n",
       " 'acType',\n",
       " 'Ship',\n",
       " 'sto',\n",
       " 'runway',\n",
       " 'Stand',\n",
       " 'ALDT',\n",
       " 'CIBT',\n",
       " 'Chock_on',\n",
       " 'EIBT',\n",
       " 'CIBT',\n",
       " 'AIBT']"
      ]
     },
     "execution_count": 106,
     "metadata": {},
     "output_type": "execute_result"
    }
   ],
   "source": [
    "[columns_df.iloc[:,0].tolist()[i] for i in range((len(columns_df.iloc[:,1].tolist()))) if columns_df.iloc[:,1].tolist()[i] not in ['To ignore', 'to ignore',  'Technical characteristic to ignore', 'Aircraft Type (with another regulation -not to be used for the case)'] ]\n",
    "\n"
   ]
  },
  {
   "cell_type": "code",
   "execution_count": 75,
   "metadata": {},
   "outputs": [
    {
     "data": {
      "text/plain": [
       "'Aircraft'"
      ]
     },
     "execution_count": 75,
     "metadata": {},
     "output_type": "execute_result"
    }
   ],
   "source": [
    "columns_df.iloc[:,1].tolist()[2]"
   ]
  },
  {
   "cell_type": "code",
   "execution_count": 107,
   "metadata": {},
   "outputs": [],
   "source": [
    "def glossary_feature_selection(path):\n",
    "    ignore = ['To ignore', 'to ignore',  'Technical characteristic to ignore', 'Aircraft Type (with another regulation -not to be used for the case)']\n",
    "    columns_df = pd.read_excel(path, sheet_name = 1).iloc[:,[0,2]]\n",
    "    feature_list = [columns_df.iloc[:,0].tolist()[i] for i in range((len(columns_df.iloc[:,1].tolist()))) if columns_df.iloc[:,1].tolist()[i] not in ignore ]\n",
    "    return feature_list\n",
    "\n",
    "    \n",
    "    "
   ]
  },
  {
   "cell_type": "code",
   "execution_count": 108,
   "metadata": {},
   "outputs": [
    {
     "data": {
      "text/plain": [
       "['Carrier',\n",
       " 'Flight',\n",
       " 'acType',\n",
       " 'Ship',\n",
       " 'sto',\n",
       " 'runway',\n",
       " 'Stand',\n",
       " 'ALDT',\n",
       " 'CIBT',\n",
       " 'Chock_on',\n",
       " 'EIBT',\n",
       " 'CIBT',\n",
       " 'AIBT']"
      ]
     },
     "execution_count": 108,
     "metadata": {},
     "output_type": "execute_result"
    }
   ],
   "source": [
    "glossary_feature_selection(\"/Users/arnaud/Desktop/HEC/taxi-time/Data/Glossary.xlsx\")"
   ]
  },
  {
   "cell_type": "code",
   "execution_count": null,
   "metadata": {},
   "outputs": [],
   "source": []
  }
 ],
 "metadata": {
  "kernelspec": {
   "display_name": "Python 3",
   "language": "python",
   "name": "python3"
  },
  "language_info": {
   "codemirror_mode": {
    "name": "ipython",
    "version": 3
   },
   "file_extension": ".py",
   "mimetype": "text/x-python",
   "name": "python",
   "nbconvert_exporter": "python",
   "pygments_lexer": "ipython3",
   "version": "3.7.3"
  }
 },
 "nbformat": 4,
 "nbformat_minor": 2
}
