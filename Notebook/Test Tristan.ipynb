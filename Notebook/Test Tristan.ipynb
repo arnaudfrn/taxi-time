{
 "cells": [
  {
   "cell_type": "markdown",
   "metadata": {},
   "source": [
    "# Test 1"
   ]
  },
  {
   "cell_type": "markdown",
   "metadata": {},
   "source": [
    "### Packages"
   ]
  },
  {
   "cell_type": "code",
   "execution_count": 1,
   "metadata": {},
   "outputs": [],
   "source": [
    "import pandas as pd\n",
    "from datetime import timedelta  \n",
    "import os\n",
    "\n",
    "os.chdir('/Users/tristanmayer/Documents/GitHub/taxi-time')\n",
    "from src.preprocessing import *\n",
    "from src.master import *"
   ]
  },
  {
   "cell_type": "markdown",
   "metadata": {},
   "source": [
    "### Data"
   ]
  },
  {
   "cell_type": "code",
   "execution_count": 2,
   "metadata": {},
   "outputs": [
    {
     "name": "stderr",
     "output_type": "stream",
     "text": [
      "/Users/tristanmayer/anaconda3/lib/python3.6/site-packages/IPython/core/interactiveshell.py:3185: DtypeWarning: Columns (0,1,2,3,4,5,6,7,8,9,10,11,12,13,14,15,16,17,18,19,20,21,22,23,24,25,26,27,28,29,30,31,32,33,34,35,36,37,38,39,40,41,42) have mixed types. Specify dtype option on import or set low_memory=False.\n",
      "  if (yield from self.run_code(code, result)):\n"
     ]
    }
   ],
   "source": [
    "df1 = cleaning_airport_df('/Users/tristanmayer/Desktop/Supercase Eleven/data/0. Airport data/Airport_Data.csv')"
   ]
  },
  {
   "cell_type": "code",
   "execution_count": 3,
   "metadata": {},
   "outputs": [],
   "source": [
    "df2 = get_df_of_obs1(df1)"
   ]
  },
  {
   "cell_type": "code",
   "execution_count": 4,
   "metadata": {},
   "outputs": [],
   "source": [
    "df3 = get_target_values(df2)"
   ]
  },
  {
   "cell_type": "code",
   "execution_count": null,
   "metadata": {},
   "outputs": [],
   "source": []
  },
  {
   "cell_type": "raw",
   "metadata": {},
   "source": [
    "df = master_preprocessing_X('/Users/tristanmayer/Desktop/Supercase Eleven/data/0. Airport data/Airport_Data.csv',\n",
    "                            '/Users/tristanmayer/Desktop/Supercase Eleven/data/2. Weather data/weather_data_prep.csv',\n",
    "                            '/Users/tristanmayer/Desktop/Supercase Eleven/data/1. AC characteristics/ACchar.xlsx',\n",
    "                            '/Users/tristanmayer/Documents/GitHub/taxi-time/Correspondance.pkl')"
   ]
  },
  {
   "cell_type": "raw",
   "metadata": {},
   "source": [
    "(df.isna().sum()/len(df)).plot.bar()"
   ]
  },
  {
   "cell_type": "code",
   "execution_count": null,
   "metadata": {},
   "outputs": [],
   "source": []
  },
  {
   "cell_type": "code",
   "execution_count": null,
   "metadata": {},
   "outputs": [],
   "source": [
    "## Creation des timestamps\n",
    "## Cleaning of rows that font chier la bite\n",
    "df1 = df1.loc[df1['aldt']!='aldt']\n",
    "for col in ['aldt', 'aibt','aobt', 'atot']:\n",
    "    df1[col] = pd.to_datetime(df1[col])"
   ]
  },
  {
   "cell_type": "code",
   "execution_count": null,
   "metadata": {},
   "outputs": [],
   "source": [
    "# number of planes in the airport at time_t (a date in string format)\n",
    "# number of planes in block at time_t (a date in string format)\n",
    "#### need to reconcile flights with plane (we only know details about flight so not the same line for arrival and departure from the stand -> see the dates regarding one stand)\n",
    "\n",
    "# number of planes in movement at time_t (a date in string format)\n",
    "## input: date as a string\n",
    "## output: integer\n",
    "def get_nb_of_planes_in_movement(time_t):\n",
    "    t = pd.to_datetime(time_t)\n",
    "    res = len(df1[((df1['aldt']<t) & (df1['aibt']>t))|\n",
    "                  ((df1['aobt']<t) & (df1['atot']>t))])\n",
    "    return res\n",
    "\n",
    "# number of planes that have landed on the runway_R in the last M_min at time_t\n",
    "## input: runway as a string; date as a string; timedelta as an integer (nb of minutes)\n",
    "## output: integer\n",
    "def get_nb_of_planes_runway_in_last_M_min(runway_R, time_t, M_min):\n",
    "    t1 = pd.to_datetime(time_t)\n",
    "    t2 = t1-timedelta(minutes = M_min)\n",
    "    res = len(df1[(df1['runway']==runway_R) &\n",
    "                  (df1['aldt']<t1) &\n",
    "                  (df1['aldt']>t2)])\n",
    "    return res\n",
    "\n",
    "\n",
    "# number of planes that have stayed at the stand_S in the last M min at time_t\n",
    "def get_nb_of_planes_stand_in_last_M_min(stand_S, time_t, M_min):\n",
    "    t1 = pd.to_datetime(time_t)\n",
    "    t2 = t1-timedelta(minutes = M_min)\n",
    "    res = len(df1[(df1['stand']==stand_S) &\n",
    "                  (df1['aibt']<t1) &\n",
    "                  (df1['aibt']>t2)])\n",
    "    return res\n",
    "\n",
    "# average taxi-time of the planes that have landed on runway_R in the last M min at time_t\n",
    "def average_taxitime_runway_last_X_min(runway_R, time_t, M_min): \n",
    "    t1 = pd.to_datetime(time_t)\n",
    "    t2 = t1-timedelta(minutes = M_min)\n",
    "    list_of_index = df1[(df1[df1['runway']==runway_R]) & \n",
    "                        (df1['aibt']<t1) & \n",
    "                        (df1['aibt']>t2)].index\n",
    "    res = df3.loc[list_of_index][0].mean()\n",
    "    return res\n",
    "\n",
    "# average taxi-time of the planes that stayed at stand_S in the last M min at time_t\n",
    "def average_taxitime_stand_last_X_min(stand_S, time_t, M_min): \n",
    "    t1 = pd.to_datetime(time_t)\n",
    "    t2 = t1-timedelta(minutes = M_min)\n",
    "    list_of_index = df1[(df1['stand']==stand_S) & \n",
    "                        (df1['aibt']<t1) & \n",
    "                        (df1['aibt']>t2)].index\n",
    "    res = df3.loc[list_of_index][0].mean()\n",
    "    return res\n",
    "\n",
    "# taxi_time of the last plane that have landed on runway_R at time_t\n",
    "def get_last_taxitime_runway(runway_R, time_t):\n",
    "    t1 = pd.to_datetime(time_t)\n",
    "    res = df3.iloc[df1[(df1['runway']==runway_R) & (df1['aibt']<t1)]['aibt'].idxmax()][0]\n",
    "    return res\n",
    "\n",
    "# taxi_time of the last plane that have stayed at stand_S at time_t\n",
    "def get_last_taxitime_stand(stand_S, time_t):\n",
    "    t1 = pd.to_datetime(time_t)\n",
    "    res = df3.iloc[df1[(df1['stand']==stand_S) & (df1['aibt']<t1)]['aibt'].idxmax()][0]\n",
    "    return res\n",
    "\n",
    "    \n",
    "# taxi_time of the last plane that have gone from runway_R to stand_S at time_t\n",
    "def get_last_taxitime_path(runway_R, stand_S, time_t):\n",
    "    t1 = pd.to_datetime(time_t)\n",
    "    res = df3.iloc[df1[(df1['runway']==runway_R) &\n",
    "                       (df1['stand']==stand_S) & \n",
    "                       (df1['aibt']<t1)]['aibt'].idxmax()][0]\n",
    "    return res"
   ]
  },
  {
   "cell_type": "code",
   "execution_count": null,
   "metadata": {},
   "outputs": [],
   "source": []
  },
  {
   "cell_type": "code",
   "execution_count": null,
   "metadata": {},
   "outputs": [],
   "source": [
    "time_t = '2018-08-01 19:59:00'"
   ]
  },
  {
   "cell_type": "code",
   "execution_count": null,
   "metadata": {},
   "outputs": [],
   "source": [
    "df1.head()"
   ]
  },
  {
   "cell_type": "code",
   "execution_count": null,
   "metadata": {},
   "outputs": [],
   "source": [
    "t = pd.to_datetime(time_t)\n",
    "len(df1[((df1['aldt']<t) & (df1['aibt']>t))|\n",
    "        ((df1['aobt']<t) & (df1['atot']>t))])"
   ]
  },
  {
   "cell_type": "code",
   "execution_count": null,
   "metadata": {},
   "outputs": [],
   "source": [
    "t1 = pd.to_datetime(time_t)\n",
    "t2 = t1-timedelta(minutes = 300)\n",
    "len(df1[(df1['runway']=='RUNWAY01')&\n",
    "        (df1['aldt']<t1) &\n",
    "        (df1['aldt']>t2)])"
   ]
  },
  {
   "cell_type": "code",
   "execution_count": null,
   "metadata": {},
   "outputs": [],
   "source": [
    "t1 = pd.to_datetime(time_t)\n",
    "t2 = t1-timedelta(minutes = 300)\n",
    "res = len(df1[(df1['stand']=='STAND03') &\n",
    "                  (df1['aibt']<t1) &\n",
    "                  (df1['aibt']>t2)])\n",
    "res"
   ]
  },
  {
   "cell_type": "code",
   "execution_count": null,
   "metadata": {},
   "outputs": [],
   "source": [
    "t1 = pd.to_datetime(time_t)\n",
    "t2 = t1-timedelta(minutes = 30000)\n",
    "list_of_index = df1[(df1['stand']=='STAND03') & \n",
    "                    (df1['aibt']<t1) & \n",
    "                    (df1['aibt']>t2)].index\n",
    "res = df3.loc[list_of_index][0].mean()\n",
    "res"
   ]
  },
  {
   "cell_type": "code",
   "execution_count": null,
   "metadata": {},
   "outputs": [],
   "source": [
    "t1 = pd.to_datetime(time_t)\n",
    "df3.iloc[df1[(df1['runway']=='RUNWAY01') & (df1['aibt']<t1)]['aibt'].idxmax()][0]\n",
    "         \n",
    "         \n",
    "#.sort_values('aibt', ascending=False).iloc[0].name][0]"
   ]
  },
  {
   "cell_type": "code",
   "execution_count": null,
   "metadata": {},
   "outputs": [],
   "source": []
  },
  {
   "cell_type": "code",
   "execution_count": null,
   "metadata": {},
   "outputs": [],
   "source": [
    "df1[(df1['stand']=='STAND03')]"
   ]
  },
  {
   "cell_type": "code",
   "execution_count": null,
   "metadata": {},
   "outputs": [],
   "source": []
  },
  {
   "cell_type": "markdown",
   "metadata": {},
   "source": [
    "## Test des fonctions"
   ]
  },
  {
   "cell_type": "code",
   "execution_count": null,
   "metadata": {},
   "outputs": [],
   "source": [
    "get_nb_of_planes_in_movement('2018-10-12 13:18:00')"
   ]
  },
  {
   "cell_type": "code",
   "execution_count": null,
   "metadata": {},
   "outputs": [],
   "source": [
    "get_nb_of_planes_runway_in_last_M_min('RUNWAY02','2018-10-12 13:18:00', 2000)"
   ]
  },
  {
   "cell_type": "code",
   "execution_count": null,
   "metadata": {},
   "outputs": [],
   "source": [
    "get_nb_of_planes_stand_in_last_M_min('STAND104', '2018-10-12 13:18:00', 2000)"
   ]
  },
  {
   "cell_type": "code",
   "execution_count": null,
   "metadata": {},
   "outputs": [],
   "source": [
    "average_taxitime_runway_last_X_min('RUNWAY02','2018-10-12 13:18:00', 2000)"
   ]
  },
  {
   "cell_type": "code",
   "execution_count": null,
   "metadata": {},
   "outputs": [],
   "source": [
    "average_taxitime_stand_last_X_min('STAND104', '2018-10-12 13:18:00', 2000)"
   ]
  },
  {
   "cell_type": "code",
   "execution_count": null,
   "metadata": {},
   "outputs": [],
   "source": [
    "get_last_taxitime_runway('RUNWAY02','2018-10-12 13:18:00')"
   ]
  },
  {
   "cell_type": "code",
   "execution_count": null,
   "metadata": {},
   "outputs": [],
   "source": [
    "get_last_taxitime_stand('STAND104','2018-10-12 13:18:00')"
   ]
  },
  {
   "cell_type": "code",
   "execution_count": null,
   "metadata": {},
   "outputs": [],
   "source": [
    "get_last_taxitime_path('RUNWAY02', 'STAND104', '2018-10-12 13:18:00')"
   ]
  }
 ],
 "metadata": {
  "kernelspec": {
   "display_name": "Python 3",
   "language": "python",
   "name": "python3"
  },
  "language_info": {
   "codemirror_mode": {
    "name": "ipython",
    "version": 3
   },
   "file_extension": ".py",
   "mimetype": "text/x-python",
   "name": "python",
   "nbconvert_exporter": "python",
   "pygments_lexer": "ipython3",
   "version": "3.6.8"
  }
 },
 "nbformat": 4,
 "nbformat_minor": 2
}
