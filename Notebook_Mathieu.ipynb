{
 "cells": [
  {
   "cell_type": "code",
   "execution_count": 31,
   "metadata": {},
   "outputs": [],
   "source": [
    "import os \n",
    "import pandas as pd\n",
    "import numpy as np\n",
    "from sklearn.preprocessing import MinMaxScaler\n",
    "from sklearn.ensemble import RandomForestClassifier\n",
    "import time\n",
    "from src.preprocessing import *\n",
    "from src.master import*\n",
    "#PATH\n",
    "Path_Aircraft = 'data/1. AC characteristics/ACchar.xlsx'\n",
    "Path_correspondance_Aircraft_Airport = 'Correspondance.pkl'\n",
    "path_glossary = 'data/Glossary.xlsx'\n",
    "Path_AirportData = 'data/0. Airport data/Airport_Data.csv'\n",
    "Path_WeatherData = 'data/2. Weather data/weather_data_prep.csv'"
   ]
  },
  {
   "cell_type": "code",
   "execution_count": 4,
   "metadata": {},
   "outputs": [
    {
     "name": "stderr",
     "output_type": "stream",
     "text": [
      "C:\\ProgramData\\Anaconda3\\lib\\site-packages\\IPython\\core\\interactiveshell.py:3209: DtypeWarning: Columns (0,1,2,3,4,5,6,7,8,9,10,11,12,13,14,15,16,17,18,19,20,21,22,23,24,25,26,27,28,29,30,31,32,33,34,35,36,37,38,39,40,41,42) have mixed types. Specify dtype option on import or set low_memory=False.\n",
      "  if (yield from self.run_code(code, result)):\n"
     ]
    }
   ],
   "source": [
    "#df = master_preprocessing_X(Path_AirportData, Path_WeatherData, Path_Aircraft, Path_correspondance_Aircraft_Airport)\n",
    "df = cleaning_airport_df(Path_AirportData)"
   ]
  },
  {
   "cell_type": "code",
   "execution_count": 26,
   "metadata": {},
   "outputs": [],
   "source": [
    "X = get_df_of_obs1(df)\n",
    "y = get_target_values(X)"
   ]
  },
  {
   "cell_type": "code",
   "execution_count": 27,
   "metadata": {},
   "outputs": [],
   "source": [
    "col_numerical = []\n",
    "col_category = ['carrier', 'acType','runway', 'stand']\n",
    "col_to_drop=['sto','aldt', 'eibt','cibt', 'aibt', 'chocks_on', 'flight']"
   ]
  },
  {
   "cell_type": "code",
   "execution_count": 28,
   "metadata": {},
   "outputs": [],
   "source": [
    "# droping useless column\n",
    "X = X.drop(col_to_drop, axis=1)\n",
    "\n",
    "# Scaling numerical values \n",
    "if len(col_numerical)>0:\n",
    "    scaler = MinMaxScaler()\n",
    "    X[col_numerical] = scaler.fit_transform(X[col_numerical])\n",
    "    \n",
    "# dummies transformation\n",
    "X = pd.get_dummies(X, columns=col_category,drop_first=True)\n"
   ]
  },
  {
   "cell_type": "code",
   "execution_count": 29,
   "metadata": {},
   "outputs": [],
   "source": [
    "## train/test split \n",
    "test_size = 1000\n",
    "X_train, X_test = X[0:len(X)-test_size], X[len(X)-test_size:len(X)]\n",
    "y_train, y_test = y[0:len(y)-test_size], y[len(y)-test_size:len(y)]\n"
   ]
  },
  {
   "cell_type": "code",
   "execution_count": 32,
   "metadata": {},
   "outputs": [
    {
     "name": "stderr",
     "output_type": "stream",
     "text": [
      "C:\\ProgramData\\Anaconda3\\lib\\site-packages\\ipykernel_launcher.py:4: DataConversionWarning: A column-vector y was passed when a 1d array was expected. Please change the shape of y to (n_samples,), for example using ravel().\n",
      "  after removing the cwd from sys.path.\n"
     ]
    },
    {
     "name": "stdout",
     "output_type": "stream",
     "text": [
      "305.3578767\n"
     ]
    }
   ],
   "source": [
    "## Model\n",
    "time_start = time.clock()\n",
    "rf = RandomForestClassifier(n_estimators= 400, min_samples_split= 3, min_samples_leaf= 2, max_features= 'auto',max_depth= 50,bootstrap=True ,random_state=10)\n",
    "rf.fit(X_train, y_train)\n",
    "pred = rf.predict(X_test)\n",
    "\n",
    "time_elapsed = (time.clock() - time_start)\n",
    "print(time_elapsed)"
   ]
  },
  {
   "cell_type": "code",
   "execution_count": 76,
   "metadata": {},
   "outputs": [
    {
     "data": {
      "text/plain": [
       "4.421764353739353"
      ]
     },
     "execution_count": 76,
     "metadata": {},
     "output_type": "execute_result"
    }
   ],
   "source": [
    "TEST1 = pred/60\n",
    "TEST2 = [x/60 for x in y_test[0].tolist()]\n",
    "np.sqrt(sk.metrics.mean_squared_error(TEST1,TEST2))"
   ]
  },
  {
   "cell_type": "code",
   "execution_count": null,
   "metadata": {},
   "outputs": [],
   "source": [
    "def drop_scaled_dummies(X):\n",
    "    col_numerical = []\n",
    "    col_category = ['carrier', 'acType','runway', 'stand']\n",
    "    col_to_drop=['sto','aldt', 'eibt','cibt', 'aibt', 'chocks_on', 'flight']\n",
    "    \n",
    "    # droping useless column\n",
    "    X = X.drop(col_to_drop, axis=1)\n",
    "\n",
    "    # Scaling numerical values \n",
    "    if len(col_numerical)>0:\n",
    "        scaler = MinMaxScaler()\n",
    "        X[col_numerical] = scaler.fit_transform(X[col_numerical])\n",
    "    \n",
    "    # dummies transformation\n",
    "    X = pd.get_dummies(X, columns=col_category,drop_first=True)\n",
    "    return X\n",
    "\n",
    "def train_test_split(X,test_size=1000):\n",
    "    X_train, X_test = X[0:len(X)-test_size], X[len(X)-test_size:len(X)]\n",
    "    y_train, y_test = y[0:len(y)-test_size], y[len(y)-test_size:len(y)]\n",
    "    return X_train,X_test,y_train,y_test\n",
    "\n",
    "def RF_modeling(X_train,X_test,y_train):\n",
    "    rf = RandomForestClassifier(n_estimators= 400, min_samples_split= 3, min_samples_leaf= 2, max_features= 'auto',max_depth= 50,bootstrap=True ,random_state=10)\n",
    "    rf.fit(X_train, y_train)\n",
    "    pred = rf.predict(X_test)\n",
    "    return pred\n",
    "\n",
    "def RMSE(y_test,pred):\n",
    "    pred_in_min = pred/60\n",
    "    y_test_in_min = [x/60 for x in y_test[0].tolist()]\n",
    "    np.sqrt(sk.metrics.mean_squared_error(TEST1,TEST2))\n"
   ]
  },
  {
   "cell_type": "code",
   "execution_count": null,
   "metadata": {},
   "outputs": [],
   "source": [
    "df.isna().sum()/len(df)"
   ]
  },
  {
   "cell_type": "code",
   "execution_count": null,
   "metadata": {},
   "outputs": [],
   "source": []
  },
  {
   "cell_type": "code",
   "execution_count": null,
   "metadata": {},
   "outputs": [],
   "source": [
    "missing_aircraft = list(df[df['acType'].isna()]['flight'].unique())"
   ]
  },
  {
   "cell_type": "code",
   "execution_count": null,
   "metadata": {},
   "outputs": [],
   "source": [
    "df[df['flight'].isin(missing_aircraft)].groupby('flight')['acType'].value_counts()"
   ]
  },
  {
   "cell_type": "code",
   "execution_count": null,
   "metadata": {},
   "outputs": [],
   "source": [
    "df_aircraft = filtering_AC_charac(Path_correspondance_Aircraft_Airport,Path_Aircraft)"
   ]
  },
  {
   "cell_type": "code",
   "execution_count": null,
   "metadata": {},
   "outputs": [],
   "source": [
    "df_aircraft[df_aircraft['Parking Area (WS x Length), sf'].isna()]"
   ]
  },
  {
   "cell_type": "code",
   "execution_count": null,
   "metadata": {},
   "outputs": [],
   "source": [
    "['NaN','Boeing','767-400','Jet','2','D','IV','5','145','no winglets','170','201']\n",
    "['NaN','McDonnell Douglas','md-90','Jet','2','C','III','']"
   ]
  },
  {
   "cell_type": "code",
   "execution_count": null,
   "metadata": {},
   "outputs": [],
   "source": [
    "df_aircraft.head(50)"
   ]
  }
 ],
 "metadata": {
  "kernelspec": {
   "display_name": "Python 3",
   "language": "python",
   "name": "python3"
  },
  "language_info": {
   "codemirror_mode": {
    "name": "ipython",
    "version": 3
   },
   "file_extension": ".py",
   "mimetype": "text/x-python",
   "name": "python",
   "nbconvert_exporter": "python",
   "pygments_lexer": "ipython3",
   "version": "3.6.8"
  }
 },
 "nbformat": 4,
 "nbformat_minor": 2
}
