{
 "cells": [
  {
   "cell_type": "code",
   "execution_count": 31,
   "metadata": {},
   "outputs": [],
   "source": [
    "import os \n",
    "import pandas as pd\n",
    "import numpy as np\n",
    "import sklearn as sk\n",
    "from sklearn.preprocessing import MinMaxScaler\n",
    "from sklearn.metrics import *\n",
    "from sklearn.ensemble import RandomForestRegressor\n",
    "import time\n",
    "import catboost\n",
    "from src.preprocessing import *\n",
    "from src.master import*\n",
    "from src.feature_engineering import *\n",
    "#PATH\n",
    "Path_Aircraft = 'data/1. AC characteristics/ACchar.xlsx'\n",
    "Path_correspondance_Aircraft_Airport = 'Correspondance.pkl'\n",
    "path_glossary = 'data/Glossary.xlsx'\n",
    "Path_AirportData = 'data/0. Airport data/Airport_Data.csv'\n",
    "Path_WeatherData = 'data/2. Weather data/weather_data_prep.csv'"
   ]
  },
  {
   "cell_type": "code",
   "execution_count": 32,
   "metadata": {
    "scrolled": true
   },
   "outputs": [],
   "source": [
    "# X = master_preprocessing_X(Path_AirportData, Path_WeatherData, Path_Aircraft, Path_correspondance_Aircraft_Airport)\n",
    "# y = create_target(X)\n",
    "#X = pd.read_pickle('MergedNotCleanedDesignMatrix.pkl')\n",
    "X = pd.read_pickle('X.pkl')\n",
    "y = pd.read_pickle('y.pkl')\n",
    "# X.to_pickle('X.pkl')\n",
    "# y.to_pickle('y.pkl')"
   ]
  },
  {
   "cell_type": "code",
   "execution_count": 33,
   "metadata": {},
   "outputs": [],
   "source": [
    "col_numerical = ['MTOW','Wingspan, ft', 'Length, ft', 'Approach Speed\\n(Vref)','AWND', 'PRCP', 'TAVG', 'TMAX', 'TMIN','WDF2', 'WDF5', 'WSF2', 'WSF5', 'WT01', 'WT02', 'WT03', 'WT08']\n",
    "col_category = ['carrier', 'acType','runway', 'stand','ATCT Weight Class','Wake Category','AAC', 'ADG', 'TDG','SnowProxi']\n",
    "col_to_drop=[ 'flight','sto', 'aldt', 'eibt','aibt',\n",
    "       'cibt', 'chocks_on', 'Manufacturer','Physical Class (Engine)',\n",
    "       '# Engines',\n",
    "       'Wingtip Configuration',\n",
    "       'Tail Height, ft\\n(@ OEW)', 'Wheelbase, ft',\n",
    "       'Cockpit to Main Gear (CMG)', 'MGW\\n(Outer to Outer)',\n",
    "       'Max Ramp\\nMax Taxi', 'Main Gear Config', 'ICAO Code', 'Years Manufactured', 'Note',\n",
    "       'Parking Area (WS x Length), sf','Model']"
   ]
  },
  {
   "cell_type": "code",
   "execution_count": null,
   "metadata": {},
   "outputs": [],
   "source": [
    "X_clean = drop_imput_scaled_dummies(X,col_numerical,col_to_drop,col_category)\n",
    "\n",
    "#for catboost\n",
    "X_clean[col_category] = X_clean[col_category].apply(lambda x: x.astype('str'))\n",
    "X_clean[col_numerical] = X_clean[col_numerical].apply(lambda x: x.astype('float'))"
   ]
  },
  {
   "cell_type": "code",
   "execution_count": null,
   "metadata": {},
   "outputs": [],
   "source": [
    "X_train,X_test,y_train,y_test = train_test_split(X_clean,y,1000)"
   ]
  },
  {
   "cell_type": "code",
   "execution_count": null,
   "metadata": {},
   "outputs": [],
   "source": [
    "time_start = time.clock()\n",
    "pred = RF_modeling(X_train,X_test,y_train)\n",
    "time_elapsed = (time.clock() - time_start)\n",
    "print(time_elapsed)"
   ]
  },
  {
   "cell_type": "code",
   "execution_count": null,
   "metadata": {},
   "outputs": [],
   "source": [
    "test_size = 1000\n",
    "X_train, X_test = X_clean[0:len(X_clean)-test_size], X_clean[len(X_clean)-test_size:len(X_clean)]\n",
    "y_train, y_test = y[0:len(y)-test_size], y[len(y)-test_size:len(y)]"
   ]
  },
  {
   "cell_type": "code",
   "execution_count": null,
   "metadata": {},
   "outputs": [],
   "source": [
    "X.replace({'tbd': np.nan}, inplace=True)\n",
    "for i in col_numerical:\n",
    "    X[i].fillna(X[i].median(),inplace=True)\n"
   ]
  },
  {
   "cell_type": "code",
   "execution_count": null,
   "metadata": {},
   "outputs": [],
   "source": [
    "# droping useless column\n",
    "X = X.drop(col_to_drop, axis=1)\n",
    "\n",
    "# Scaling numerical values \n",
    "if len(col_numerical)>0:\n",
    "    scaler = MinMaxScaler()\n",
    "    X[col_numerical] = scaler.fit_transform(X[col_numerical])\n",
    "    \n",
    "# dummies transformation\n",
    "X = pd.get_dummies(X, columns=col_category,drop_first=True)\n"
   ]
  },
  {
   "cell_type": "code",
   "execution_count": null,
   "metadata": {},
   "outputs": [],
   "source": [
    "## train/test split \n",
    "test_size = 1000\n",
    "X_train, X_test = X[0:len(X)-test_size], X[len(X)-test_size:len(X)]\n",
    "y_train, y_test = y[0:len(y)-test_size], y[len(y)-test_size:len(y)]\n"
   ]
  },
  {
   "cell_type": "code",
   "execution_count": null,
   "metadata": {},
   "outputs": [],
   "source": [
    "## Model\n",
    "time_start = time.clock()\n",
    "rf = RandomForestClassifier(n_estimators= 400, min_samples_split= 3, min_samples_leaf= 2, max_features= 'auto',max_depth= 50,bootstrap=True ,random_state=10)\n",
    "rf.fit(X_train, y_train)\n",
    "pred = rf.predict(X_test)\n",
    "\n",
    "time_elapsed = (time.clock() - time_start)\n",
    "print(time_elapsed)"
   ]
  },
  {
   "cell_type": "code",
   "execution_count": null,
   "metadata": {},
   "outputs": [],
   "source": [
    "TEST1 = pred/60\n",
    "TEST2 = [x/60 for x in y_test[0].tolist()]\n",
    "np.sqrt(sk.metrics.mean_squared_error(TEST1,TEST2))"
   ]
  },
  {
   "cell_type": "code",
   "execution_count": null,
   "metadata": {},
   "outputs": [],
   "source": [
    "np.mean(TEST2)"
   ]
  },
  {
   "cell_type": "code",
   "execution_count": null,
   "metadata": {},
   "outputs": [],
   "source": [
    "def drop_scaled_dummies(X):\n",
    "    col_numerical = []\n",
    "    col_category = ['carrier', 'acType','runway', 'stand']\n",
    "    col_to_drop=['sto','aldt', 'eibt','cibt', 'aibt', 'chocks_on', 'flight']\n",
    "    \n",
    "    # droping useless column\n",
    "    X = X.drop(col_to_drop, axis=1)\n",
    "\n",
    "    # Scaling numerical values \n",
    "    if len(col_numerical)>0:\n",
    "        scaler = MinMaxScaler()\n",
    "        X[col_numerical] = scaler.fit_transform(X[col_numerical])\n",
    "    \n",
    "    # dummies transformation\n",
    "    X = pd.get_dummies(X, columns=col_category,drop_first=True)\n",
    "    return X\n",
    "\n",
    "def train_test_split(X,test_size=1000):\n",
    "    X_train, X_test = X[0:len(X)-test_size], X[len(X)-test_size:len(X)]\n",
    "    y_train, y_test = y[0:len(y)-test_size], y[len(y)-test_size:len(y)]\n",
    "    return X_train,X_test,y_train,y_test\n",
    "\n",
    "def RF_modeling(X_train,X_test,y_train):\n",
    "    rf = RandomForestClassifier(n_estimators= 400, min_samples_split= 3, min_samples_leaf= 2, max_features= 'auto',max_depth= 50,bootstrap=True ,random_state=10)\n",
    "    rf.fit(X_train, y_train)\n",
    "    pred = rf.predict(X_test)\n",
    "    return pred\n",
    "\n",
    "def RMSE(y_test,pred):\n",
    "    pred_in_min = pred/60\n",
    "    y_test_in_min = [x/60 for x in y_test[0].tolist()]\n",
    "    calculated_RMSE = np.sqrt(sk.metrics.mean_squared_error(pred_in_min,y_test_in_min))\n",
    "    return RMSE\n",
    "\n"
   ]
  },
  {
   "cell_type": "code",
   "execution_count": null,
   "metadata": {},
   "outputs": [],
   "source": [
    "time_start = time.clock()\n",
    "df = master_preprocessing_X(Path_AirportData, Path_WeatherData, Path_Aircraft, Path_correspondance_Aircraft_Airport)\n",
    "time_elapsed = (time.clock() - time_start)"
   ]
  },
  {
   "cell_type": "code",
   "execution_count": null,
   "metadata": {},
   "outputs": [],
   "source": [
    "df.isna().sum()/len(df)"
   ]
  },
  {
   "cell_type": "code",
   "execution_count": null,
   "metadata": {},
   "outputs": [],
   "source": []
  },
  {
   "cell_type": "code",
   "execution_count": null,
   "metadata": {},
   "outputs": [],
   "source": [
    "missing_aircraft = list(df[df['acType'].isna()]['flight'].unique())"
   ]
  },
  {
   "cell_type": "code",
   "execution_count": null,
   "metadata": {},
   "outputs": [],
   "source": [
    "df[df['flight'].isin(missing_aircraft)].groupby('flight')['acType'].value_counts()"
   ]
  },
  {
   "cell_type": "code",
   "execution_count": null,
   "metadata": {},
   "outputs": [],
   "source": [
    "df_aircraft = filtering_AC_charac(Path_correspondance_Aircraft_Airport,Path_Aircraft)"
   ]
  },
  {
   "cell_type": "code",
   "execution_count": null,
   "metadata": {},
   "outputs": [],
   "source": [
    "df_aircraft[df_aircraft['Parking Area (WS x Length), sf'].isna()]"
   ]
  },
  {
   "cell_type": "code",
   "execution_count": null,
   "metadata": {},
   "outputs": [],
   "source": [
    "['NaN','Boeing','767-400','Jet','2','D','IV','5','145','no winglets','170','201']\n",
    "['NaN','McDonnell Douglas','md-90','Jet','2','C','III','']"
   ]
  },
  {
   "cell_type": "code",
   "execution_count": null,
   "metadata": {},
   "outputs": [],
   "source": [
    "df_aircraft.head(50)"
   ]
  },
  {
   "cell_type": "markdown",
   "metadata": {},
   "source": [
    "### Catboost"
   ]
  },
  {
   "cell_type": "code",
   "execution_count": null,
   "metadata": {},
   "outputs": [],
   "source": [
    "from catboost import CatBoostRegressor\n",
    "time_start = time.clock()\n",
    "# Initialize CatBoostRegressor\n",
    "model = CatBoostRegressor(iterations=200,\n",
    "                          learning_rate=0.02,\n",
    "                          depth=12,\n",
    "                          eval_metric='RMSE',\n",
    "                          bagging_temperature = 0.2)\n",
    "\n",
    "column_index = [X_clean.columns.get_loc(c) for c in col_category if c in X_clean]\n",
    "# Fit model\n",
    "model.fit(X_train, y_train,cat_features=column_index)\n",
    "# Get predictions\n",
    "preds = model.predict(X_test)\n",
    "time_elapsed = (time.clock() - time_start)\n",
    "print(time_elapsed)\n"
   ]
  },
  {
   "cell_type": "code",
   "execution_count": null,
   "metadata": {},
   "outputs": [],
   "source": [
    "TEST1 = preds/60\n",
    "TEST2 = [x/60 for x in y_test['target'].tolist()]\n",
    "np.sqrt(sk.metrics.mean_squared_error(TEST1,TEST2))"
   ]
  },
  {
   "cell_type": "markdown",
   "metadata": {},
   "source": [
    "### tristan"
   ]
  },
  {
   "cell_type": "code",
   "execution_count": 26,
   "metadata": {},
   "outputs": [],
   "source": [
    "X = pd.concat([X,y],axis=1)\n",
    "path_feature = \"FEATURE.pkl\"\n",
    "X = master_feature_engineering(X, path_feature)\n",
    "X.dropna(subset=['rolling average same runway & same stand'],inplace=True)\n",
    "y = pd.DataFrame(X['target'])"
   ]
  },
  {
   "cell_type": "code",
   "execution_count": 27,
   "metadata": {},
   "outputs": [],
   "source": [
    "col_numerical = ['MTOW','Wingspan, ft', 'Length, ft', 'Approach Speed\\n(Vref)','AWND', 'PRCP', 'TAVG', 'TMAX', 'TMIN','WDF2', 'WDF5', 'WSF2', 'WSF5', 'WT01', 'WT02', 'WT03', 'WT08',\n",
    "                'nb of planes in movement in the plane',\n",
    "                'rolling average same runway',\n",
    "                 'rolling average same stand',\n",
    "                 'rolling average same runway & same stand']\n",
    "\n",
    "col_dummies = ['carrier', 'acType','runway','ATCT Weight Class','Wake Category','AAC', 'ADG', 'TDG','SnowProxi']\n",
    "col_to_drop=[ 'flight','sto', 'aldt', 'eibt','aibt',\n",
    "       'cibt', 'chocks_on', 'Manufacturer','Physical Class (Engine)',\n",
    "       '# Engines',\n",
    "       'Wingtip Configuration',\n",
    "       'Tail Height, ft\\n(@ OEW)', 'Wheelbase, ft',\n",
    "       'Cockpit to Main Gear (CMG)', 'MGW\\n(Outer to Outer)',\n",
    "       'Max Ramp\\nMax Taxi', 'Main Gear Config', 'ICAO Code', 'Years Manufactured', 'Note',\n",
    "       'Parking Area (WS x Length), sf','Model',\n",
    "       'target']\n",
    "col_to_target_encode=['stand']"
   ]
  },
  {
   "cell_type": "code",
   "execution_count": 28,
   "metadata": {},
   "outputs": [],
   "source": [
    "X_final = features_pimpage(X,col_numerical,col_to_drop,col_dummies,col_to_target_encode,y,agg_value='mean',drop=True,CatBoost=False)"
   ]
  },
  {
   "cell_type": "code",
   "execution_count": 29,
   "metadata": {},
   "outputs": [],
   "source": [
    "X_train,X_test,y_train,y_test = train_test_split(X_final,y,test_size=10000)"
   ]
  },
  {
   "cell_type": "code",
   "execution_count": null,
   "metadata": {},
   "outputs": [
    {
     "name": "stderr",
     "output_type": "stream",
     "text": [
      "C:\\ProgramData\\Anaconda3\\lib\\site-packages\\ipykernel_launcher.py:3: DataConversionWarning: A column-vector y was passed when a 1d array was expected. Please change the shape of y to (n_samples,), for example using ravel().\n",
      "  This is separate from the ipykernel package so we can avoid doing imports until\n"
     ]
    }
   ],
   "source": [
    "time_start = time.clock()\n",
    "rf = RandomForestRegressor(n_estimators= 250, min_samples_split= 3, min_samples_leaf= 2, max_features= 'sqrt',max_depth= 30,bootstrap=True ,random_state=10)\n",
    "rf.fit(X_train, y_train)\n",
    "pred = rf.predict(X_test)\n",
    "\n",
    "time_elapsed = (time.clock() - time_start)\n",
    "print(time_elapsed)"
   ]
  },
  {
   "cell_type": "code",
   "execution_count": null,
   "metadata": {},
   "outputs": [],
   "source": [
    "TEST1 = pred/60\n",
    "TEST2 = [x/60 for x in y_test['target'].tolist()]\n",
    "print(np.sqrt(sk.metrics.mean_squared_error(TEST1,TEST2)))\n"
   ]
  },
  {
   "cell_type": "code",
   "execution_count": 17,
   "metadata": {},
   "outputs": [
    {
     "data": {
      "text/plain": [
       "<matplotlib.axes._subplots.AxesSubplot at 0x20b5cbf8978>"
      ]
     },
     "execution_count": 17,
     "metadata": {},
     "output_type": "execute_result"
    },
    {
     "data": {
      "image/png": "[encoded data removed]",
      "text/plain": [
       "<Figure size 432x288 with 1 Axes>"
      ]
     },
     "metadata": {
      "needs_background": "light"
     },
     "output_type": "display_data"
    }
   ],
   "source": [
    "import matplotlib.pyplot as plt\n",
    "feat_importances = pd.Series(rf.feature_importances_, index=X_train.columns)\n",
    "feat_importances.nlargest(12).plot(kind='barh')"
   ]
  },
  {
   "cell_type": "code",
   "execution_count": 19,
   "metadata": {},
   "outputs": [],
   "source": [
    "from sklearn.base import clone \n",
    "\n",
    "def drop_col_feat_imp(model, X_train, y_train, random_state = 42):\n",
    "    \n",
    "    # clone the model to have the exact same specification as the one initially trained\n",
    "    model_clone = clone(model)\n",
    "    # set random_state for comparability\n",
    "    model_clone.random_state = random_state\n",
    "    # training and scoring the benchmark model\n",
    "    model_clone.fit(X_train, y_train)\n",
    "    benchmark_score = model_clone.score(X_train, y_train)\n",
    "    # list for storing feature importances\n",
    "    importances = []\n",
    "    \n",
    "    # iterating over all columns and storing feature importance (difference between benchmark and new model)\n",
    "    for col in X_train.columns:\n",
    "        model_clone = clone(model)\n",
    "        model_clone.random_state = random_state\n",
    "        model_clone.fit(X_train.drop(col, axis = 1), y_train)\n",
    "        drop_col_score = model_clone.score(X_train.drop(col, axis = 1), y_train)\n",
    "        importances.append(benchmark_score - drop_col_score)\n",
    "    \n",
    "    importances_df = imp_df(X_train.columns, importances)\n",
    "    return importances_df"
   ]
  },
  {
   "cell_type": "code",
   "execution_count": 20,
   "metadata": {},
   "outputs": [
    {
     "name": "stderr",
     "output_type": "stream",
     "text": [
      "C:\\ProgramData\\Anaconda3\\lib\\site-packages\\ipykernel_launcher.py:10: DataConversionWarning: A column-vector y was passed when a 1d array was expected. Please change the shape of y to (n_samples,), for example using ravel().\n",
      "  # Remove the CWD from sys.path while we load stuff.\n",
      "C:\\ProgramData\\Anaconda3\\lib\\site-packages\\ipykernel_launcher.py:19: DataConversionWarning: A column-vector y was passed when a 1d array was expected. Please change the shape of y to (n_samples,), for example using ravel().\n",
      "C:\\ProgramData\\Anaconda3\\lib\\site-packages\\ipykernel_launcher.py:19: DataConversionWarning: A column-vector y was passed when a 1d array was expected. Please change the shape of y to (n_samples,), for example using ravel().\n",
      "C:\\ProgramData\\Anaconda3\\lib\\site-packages\\ipykernel_launcher.py:19: DataConversionWarning: A column-vector y was passed when a 1d array was expected. Please change the shape of y to (n_samples,), for example using ravel().\n",
      "C:\\ProgramData\\Anaconda3\\lib\\site-packages\\ipykernel_launcher.py:19: DataConversionWarning: A column-vector y was passed when a 1d array was expected. Please change the shape of y to (n_samples,), for example using ravel().\n",
      "C:\\ProgramData\\Anaconda3\\lib\\site-packages\\ipykernel_launcher.py:19: DataConversionWarning: A column-vector y was passed when a 1d array was expected. Please change the shape of y to (n_samples,), for example using ravel().\n",
      "C:\\ProgramData\\Anaconda3\\lib\\site-packages\\ipykernel_launcher.py:19: DataConversionWarning: A column-vector y was passed when a 1d array was expected. Please change the shape of y to (n_samples,), for example using ravel().\n",
      "C:\\ProgramData\\Anaconda3\\lib\\site-packages\\ipykernel_launcher.py:19: DataConversionWarning: A column-vector y was passed when a 1d array was expected. Please change the shape of y to (n_samples,), for example using ravel().\n",
      "C:\\ProgramData\\Anaconda3\\lib\\site-packages\\ipykernel_launcher.py:19: DataConversionWarning: A column-vector y was passed when a 1d array was expected. Please change the shape of y to (n_samples,), for example using ravel().\n",
      "C:\\ProgramData\\Anaconda3\\lib\\site-packages\\ipykernel_launcher.py:19: DataConversionWarning: A column-vector y was passed when a 1d array was expected. Please change the shape of y to (n_samples,), for example using ravel().\n",
      "C:\\ProgramData\\Anaconda3\\lib\\site-packages\\ipykernel_launcher.py:19: DataConversionWarning: A column-vector y was passed when a 1d array was expected. Please change the shape of y to (n_samples,), for example using ravel().\n",
      "C:\\ProgramData\\Anaconda3\\lib\\site-packages\\ipykernel_launcher.py:19: DataConversionWarning: A column-vector y was passed when a 1d array was expected. Please change the shape of y to (n_samples,), for example using ravel().\n",
      "C:\\ProgramData\\Anaconda3\\lib\\site-packages\\ipykernel_launcher.py:19: DataConversionWarning: A column-vector y was passed when a 1d array was expected. Please change the shape of y to (n_samples,), for example using ravel().\n",
      "C:\\ProgramData\\Anaconda3\\lib\\site-packages\\ipykernel_launcher.py:19: DataConversionWarning: A column-vector y was passed when a 1d array was expected. Please change the shape of y to (n_samples,), for example using ravel().\n",
      "C:\\ProgramData\\Anaconda3\\lib\\site-packages\\ipykernel_launcher.py:19: DataConversionWarning: A column-vector y was passed when a 1d array was expected. Please change the shape of y to (n_samples,), for example using ravel().\n",
      "C:\\ProgramData\\Anaconda3\\lib\\site-packages\\ipykernel_launcher.py:19: DataConversionWarning: A column-vector y was passed when a 1d array was expected. Please change the shape of y to (n_samples,), for example using ravel().\n",
      "C:\\ProgramData\\Anaconda3\\lib\\site-packages\\ipykernel_launcher.py:19: DataConversionWarning: A column-vector y was passed when a 1d array was expected. Please change the shape of y to (n_samples,), for example using ravel().\n",
      "C:\\ProgramData\\Anaconda3\\lib\\site-packages\\ipykernel_launcher.py:19: DataConversionWarning: A column-vector y was passed when a 1d array was expected. Please change the shape of y to (n_samples,), for example using ravel().\n",
      "C:\\ProgramData\\Anaconda3\\lib\\site-packages\\ipykernel_launcher.py:19: DataConversionWarning: A column-vector y was passed when a 1d array was expected. Please change the shape of y to (n_samples,), for example using ravel().\n",
      "C:\\ProgramData\\Anaconda3\\lib\\site-packages\\ipykernel_launcher.py:19: DataConversionWarning: A column-vector y was passed when a 1d array was expected. Please change the shape of y to (n_samples,), for example using ravel().\n",
      "C:\\ProgramData\\Anaconda3\\lib\\site-packages\\ipykernel_launcher.py:19: DataConversionWarning: A column-vector y was passed when a 1d array was expected. Please change the shape of y to (n_samples,), for example using ravel().\n",
      "C:\\ProgramData\\Anaconda3\\lib\\site-packages\\ipykernel_launcher.py:19: DataConversionWarning: A column-vector y was passed when a 1d array was expected. Please change the shape of y to (n_samples,), for example using ravel().\n",
      "C:\\ProgramData\\Anaconda3\\lib\\site-packages\\ipykernel_launcher.py:19: DataConversionWarning: A column-vector y was passed when a 1d array was expected. Please change the shape of y to (n_samples,), for example using ravel().\n",
      "C:\\ProgramData\\Anaconda3\\lib\\site-packages\\ipykernel_launcher.py:19: DataConversionWarning: A column-vector y was passed when a 1d array was expected. Please change the shape of y to (n_samples,), for example using ravel().\n",
      "C:\\ProgramData\\Anaconda3\\lib\\site-packages\\ipykernel_launcher.py:19: DataConversionWarning: A column-vector y was passed when a 1d array was expected. Please change the shape of y to (n_samples,), for example using ravel().\n",
      "C:\\ProgramData\\Anaconda3\\lib\\site-packages\\ipykernel_launcher.py:19: DataConversionWarning: A column-vector y was passed when a 1d array was expected. Please change the shape of y to (n_samples,), for example using ravel().\n",
      "C:\\ProgramData\\Anaconda3\\lib\\site-packages\\ipykernel_launcher.py:19: DataConversionWarning: A column-vector y was passed when a 1d array was expected. Please change the shape of y to (n_samples,), for example using ravel().\n",
      "C:\\ProgramData\\Anaconda3\\lib\\site-packages\\ipykernel_launcher.py:19: DataConversionWarning: A column-vector y was passed when a 1d array was expected. Please change the shape of y to (n_samples,), for example using ravel().\n",
      "C:\\ProgramData\\Anaconda3\\lib\\site-packages\\ipykernel_launcher.py:19: DataConversionWarning: A column-vector y was passed when a 1d array was expected. Please change the shape of y to (n_samples,), for example using ravel().\n",
      "C:\\ProgramData\\Anaconda3\\lib\\site-packages\\ipykernel_launcher.py:19: DataConversionWarning: A column-vector y was passed when a 1d array was expected. Please change the shape of y to (n_samples,), for example using ravel().\n",
      "C:\\ProgramData\\Anaconda3\\lib\\site-packages\\ipykernel_launcher.py:19: DataConversionWarning: A column-vector y was passed when a 1d array was expected. Please change the shape of y to (n_samples,), for example using ravel().\n",
      "C:\\ProgramData\\Anaconda3\\lib\\site-packages\\ipykernel_launcher.py:19: DataConversionWarning: A column-vector y was passed when a 1d array was expected. Please change the shape of y to (n_samples,), for example using ravel().\n",
      "C:\\ProgramData\\Anaconda3\\lib\\site-packages\\ipykernel_launcher.py:19: DataConversionWarning: A column-vector y was passed when a 1d array was expected. Please change the shape of y to (n_samples,), for example using ravel().\n",
      "C:\\ProgramData\\Anaconda3\\lib\\site-packages\\ipykernel_launcher.py:19: DataConversionWarning: A column-vector y was passed when a 1d array was expected. Please change the shape of y to (n_samples,), for example using ravel().\n",
      "C:\\ProgramData\\Anaconda3\\lib\\site-packages\\ipykernel_launcher.py:19: DataConversionWarning: A column-vector y was passed when a 1d array was expected. Please change the shape of y to (n_samples,), for example using ravel().\n",
      "C:\\ProgramData\\Anaconda3\\lib\\site-packages\\ipykernel_launcher.py:19: DataConversionWarning: A column-vector y was passed when a 1d array was expected. Please change the shape of y to (n_samples,), for example using ravel().\n",
      "C:\\ProgramData\\Anaconda3\\lib\\site-packages\\ipykernel_launcher.py:19: DataConversionWarning: A column-vector y was passed when a 1d array was expected. Please change the shape of y to (n_samples,), for example using ravel().\n"
     ]
    },
    {
     "name": "stderr",
     "output_type": "stream",
     "text": [
      "C:\\ProgramData\\Anaconda3\\lib\\site-packages\\ipykernel_launcher.py:19: DataConversionWarning: A column-vector y was passed when a 1d array was expected. Please change the shape of y to (n_samples,), for example using ravel().\n",
      "C:\\ProgramData\\Anaconda3\\lib\\site-packages\\ipykernel_launcher.py:19: DataConversionWarning: A column-vector y was passed when a 1d array was expected. Please change the shape of y to (n_samples,), for example using ravel().\n",
      "C:\\ProgramData\\Anaconda3\\lib\\site-packages\\ipykernel_launcher.py:19: DataConversionWarning: A column-vector y was passed when a 1d array was expected. Please change the shape of y to (n_samples,), for example using ravel().\n",
      "C:\\ProgramData\\Anaconda3\\lib\\site-packages\\ipykernel_launcher.py:19: DataConversionWarning: A column-vector y was passed when a 1d array was expected. Please change the shape of y to (n_samples,), for example using ravel().\n",
      "C:\\ProgramData\\Anaconda3\\lib\\site-packages\\ipykernel_launcher.py:19: DataConversionWarning: A column-vector y was passed when a 1d array was expected. Please change the shape of y to (n_samples,), for example using ravel().\n",
      "C:\\ProgramData\\Anaconda3\\lib\\site-packages\\ipykernel_launcher.py:19: DataConversionWarning: A column-vector y was passed when a 1d array was expected. Please change the shape of y to (n_samples,), for example using ravel().\n",
      "C:\\ProgramData\\Anaconda3\\lib\\site-packages\\ipykernel_launcher.py:19: DataConversionWarning: A column-vector y was passed when a 1d array was expected. Please change the shape of y to (n_samples,), for example using ravel().\n",
      "C:\\ProgramData\\Anaconda3\\lib\\site-packages\\ipykernel_launcher.py:19: DataConversionWarning: A column-vector y was passed when a 1d array was expected. Please change the shape of y to (n_samples,), for example using ravel().\n",
      "C:\\ProgramData\\Anaconda3\\lib\\site-packages\\ipykernel_launcher.py:19: DataConversionWarning: A column-vector y was passed when a 1d array was expected. Please change the shape of y to (n_samples,), for example using ravel().\n",
      "C:\\ProgramData\\Anaconda3\\lib\\site-packages\\ipykernel_launcher.py:19: DataConversionWarning: A column-vector y was passed when a 1d array was expected. Please change the shape of y to (n_samples,), for example using ravel().\n",
      "C:\\ProgramData\\Anaconda3\\lib\\site-packages\\ipykernel_launcher.py:19: DataConversionWarning: A column-vector y was passed when a 1d array was expected. Please change the shape of y to (n_samples,), for example using ravel().\n",
      "C:\\ProgramData\\Anaconda3\\lib\\site-packages\\ipykernel_launcher.py:19: DataConversionWarning: A column-vector y was passed when a 1d array was expected. Please change the shape of y to (n_samples,), for example using ravel().\n",
      "C:\\ProgramData\\Anaconda3\\lib\\site-packages\\ipykernel_launcher.py:19: DataConversionWarning: A column-vector y was passed when a 1d array was expected. Please change the shape of y to (n_samples,), for example using ravel().\n",
      "C:\\ProgramData\\Anaconda3\\lib\\site-packages\\ipykernel_launcher.py:19: DataConversionWarning: A column-vector y was passed when a 1d array was expected. Please change the shape of y to (n_samples,), for example using ravel().\n",
      "C:\\ProgramData\\Anaconda3\\lib\\site-packages\\ipykernel_launcher.py:19: DataConversionWarning: A column-vector y was passed when a 1d array was expected. Please change the shape of y to (n_samples,), for example using ravel().\n",
      "C:\\ProgramData\\Anaconda3\\lib\\site-packages\\ipykernel_launcher.py:19: DataConversionWarning: A column-vector y was passed when a 1d array was expected. Please change the shape of y to (n_samples,), for example using ravel().\n",
      "C:\\ProgramData\\Anaconda3\\lib\\site-packages\\ipykernel_launcher.py:19: DataConversionWarning: A column-vector y was passed when a 1d array was expected. Please change the shape of y to (n_samples,), for example using ravel().\n",
      "C:\\ProgramData\\Anaconda3\\lib\\site-packages\\ipykernel_launcher.py:19: DataConversionWarning: A column-vector y was passed when a 1d array was expected. Please change the shape of y to (n_samples,), for example using ravel().\n",
      "C:\\ProgramData\\Anaconda3\\lib\\site-packages\\ipykernel_launcher.py:19: DataConversionWarning: A column-vector y was passed when a 1d array was expected. Please change the shape of y to (n_samples,), for example using ravel().\n",
      "C:\\ProgramData\\Anaconda3\\lib\\site-packages\\ipykernel_launcher.py:19: DataConversionWarning: A column-vector y was passed when a 1d array was expected. Please change the shape of y to (n_samples,), for example using ravel().\n",
      "C:\\ProgramData\\Anaconda3\\lib\\site-packages\\ipykernel_launcher.py:19: DataConversionWarning: A column-vector y was passed when a 1d array was expected. Please change the shape of y to (n_samples,), for example using ravel().\n",
      "C:\\ProgramData\\Anaconda3\\lib\\site-packages\\ipykernel_launcher.py:19: DataConversionWarning: A column-vector y was passed when a 1d array was expected. Please change the shape of y to (n_samples,), for example using ravel().\n",
      "C:\\ProgramData\\Anaconda3\\lib\\site-packages\\ipykernel_launcher.py:19: DataConversionWarning: A column-vector y was passed when a 1d array was expected. Please change the shape of y to (n_samples,), for example using ravel().\n",
      "C:\\ProgramData\\Anaconda3\\lib\\site-packages\\ipykernel_launcher.py:19: DataConversionWarning: A column-vector y was passed when a 1d array was expected. Please change the shape of y to (n_samples,), for example using ravel().\n",
      "C:\\ProgramData\\Anaconda3\\lib\\site-packages\\ipykernel_launcher.py:19: DataConversionWarning: A column-vector y was passed when a 1d array was expected. Please change the shape of y to (n_samples,), for example using ravel().\n",
      "C:\\ProgramData\\Anaconda3\\lib\\site-packages\\ipykernel_launcher.py:19: DataConversionWarning: A column-vector y was passed when a 1d array was expected. Please change the shape of y to (n_samples,), for example using ravel().\n",
      "C:\\ProgramData\\Anaconda3\\lib\\site-packages\\ipykernel_launcher.py:19: DataConversionWarning: A column-vector y was passed when a 1d array was expected. Please change the shape of y to (n_samples,), for example using ravel().\n",
      "C:\\ProgramData\\Anaconda3\\lib\\site-packages\\ipykernel_launcher.py:19: DataConversionWarning: A column-vector y was passed when a 1d array was expected. Please change the shape of y to (n_samples,), for example using ravel().\n",
      "C:\\ProgramData\\Anaconda3\\lib\\site-packages\\ipykernel_launcher.py:19: DataConversionWarning: A column-vector y was passed when a 1d array was expected. Please change the shape of y to (n_samples,), for example using ravel().\n",
      "C:\\ProgramData\\Anaconda3\\lib\\site-packages\\ipykernel_launcher.py:19: DataConversionWarning: A column-vector y was passed when a 1d array was expected. Please change the shape of y to (n_samples,), for example using ravel().\n",
      "C:\\ProgramData\\Anaconda3\\lib\\site-packages\\ipykernel_launcher.py:19: DataConversionWarning: A column-vector y was passed when a 1d array was expected. Please change the shape of y to (n_samples,), for example using ravel().\n",
      "C:\\ProgramData\\Anaconda3\\lib\\site-packages\\ipykernel_launcher.py:19: DataConversionWarning: A column-vector y was passed when a 1d array was expected. Please change the shape of y to (n_samples,), for example using ravel().\n",
      "C:\\ProgramData\\Anaconda3\\lib\\site-packages\\ipykernel_launcher.py:19: DataConversionWarning: A column-vector y was passed when a 1d array was expected. Please change the shape of y to (n_samples,), for example using ravel().\n",
      "C:\\ProgramData\\Anaconda3\\lib\\site-packages\\ipykernel_launcher.py:19: DataConversionWarning: A column-vector y was passed when a 1d array was expected. Please change the shape of y to (n_samples,), for example using ravel().\n",
      "C:\\ProgramData\\Anaconda3\\lib\\site-packages\\ipykernel_launcher.py:19: DataConversionWarning: A column-vector y was passed when a 1d array was expected. Please change the shape of y to (n_samples,), for example using ravel().\n",
      "C:\\ProgramData\\Anaconda3\\lib\\site-packages\\ipykernel_launcher.py:19: DataConversionWarning: A column-vector y was passed when a 1d array was expected. Please change the shape of y to (n_samples,), for example using ravel().\n",
      "C:\\ProgramData\\Anaconda3\\lib\\site-packages\\ipykernel_launcher.py:19: DataConversionWarning: A column-vector y was passed when a 1d array was expected. Please change the shape of y to (n_samples,), for example using ravel().\n"
     ]
    },
    {
     "name": "stderr",
     "output_type": "stream",
     "text": [
      "C:\\ProgramData\\Anaconda3\\lib\\site-packages\\ipykernel_launcher.py:19: DataConversionWarning: A column-vector y was passed when a 1d array was expected. Please change the shape of y to (n_samples,), for example using ravel().\n",
      "C:\\ProgramData\\Anaconda3\\lib\\site-packages\\ipykernel_launcher.py:19: DataConversionWarning: A column-vector y was passed when a 1d array was expected. Please change the shape of y to (n_samples,), for example using ravel().\n",
      "C:\\ProgramData\\Anaconda3\\lib\\site-packages\\ipykernel_launcher.py:19: DataConversionWarning: A column-vector y was passed when a 1d array was expected. Please change the shape of y to (n_samples,), for example using ravel().\n",
      "C:\\ProgramData\\Anaconda3\\lib\\site-packages\\ipykernel_launcher.py:19: DataConversionWarning: A column-vector y was passed when a 1d array was expected. Please change the shape of y to (n_samples,), for example using ravel().\n",
      "C:\\ProgramData\\Anaconda3\\lib\\site-packages\\ipykernel_launcher.py:19: DataConversionWarning: A column-vector y was passed when a 1d array was expected. Please change the shape of y to (n_samples,), for example using ravel().\n",
      "C:\\ProgramData\\Anaconda3\\lib\\site-packages\\ipykernel_launcher.py:19: DataConversionWarning: A column-vector y was passed when a 1d array was expected. Please change the shape of y to (n_samples,), for example using ravel().\n",
      "C:\\ProgramData\\Anaconda3\\lib\\site-packages\\ipykernel_launcher.py:19: DataConversionWarning: A column-vector y was passed when a 1d array was expected. Please change the shape of y to (n_samples,), for example using ravel().\n",
      "C:\\ProgramData\\Anaconda3\\lib\\site-packages\\ipykernel_launcher.py:19: DataConversionWarning: A column-vector y was passed when a 1d array was expected. Please change the shape of y to (n_samples,), for example using ravel().\n",
      "C:\\ProgramData\\Anaconda3\\lib\\site-packages\\ipykernel_launcher.py:19: DataConversionWarning: A column-vector y was passed when a 1d array was expected. Please change the shape of y to (n_samples,), for example using ravel().\n",
      "C:\\ProgramData\\Anaconda3\\lib\\site-packages\\ipykernel_launcher.py:19: DataConversionWarning: A column-vector y was passed when a 1d array was expected. Please change the shape of y to (n_samples,), for example using ravel().\n",
      "C:\\ProgramData\\Anaconda3\\lib\\site-packages\\ipykernel_launcher.py:19: DataConversionWarning: A column-vector y was passed when a 1d array was expected. Please change the shape of y to (n_samples,), for example using ravel().\n",
      "C:\\ProgramData\\Anaconda3\\lib\\site-packages\\ipykernel_launcher.py:19: DataConversionWarning: A column-vector y was passed when a 1d array was expected. Please change the shape of y to (n_samples,), for example using ravel().\n",
      "C:\\ProgramData\\Anaconda3\\lib\\site-packages\\ipykernel_launcher.py:19: DataConversionWarning: A column-vector y was passed when a 1d array was expected. Please change the shape of y to (n_samples,), for example using ravel().\n"
     ]
    },
    {
     "ename": "NameError",
     "evalue": "name 'imp_df' is not defined",
     "output_type": "error",
     "traceback": [
      "\u001b[1;31m---------------------------------------------------------------------------\u001b[0m",
      "\u001b[1;31mNameError\u001b[0m                                 Traceback (most recent call last)",
      "\u001b[1;32m<ipython-input-20-2daa402e60b0>\u001b[0m in \u001b[0;36m<module>\u001b[1;34m\u001b[0m\n\u001b[1;32m----> 1\u001b[1;33m \u001b[0mimportances_df\u001b[0m \u001b[1;33m=\u001b[0m \u001b[0mdrop_col_feat_imp\u001b[0m\u001b[1;33m(\u001b[0m\u001b[0mrf\u001b[0m\u001b[1;33m,\u001b[0m \u001b[0mX_train\u001b[0m\u001b[1;33m,\u001b[0m \u001b[0my_train\u001b[0m\u001b[1;33m,\u001b[0m \u001b[0mrandom_state\u001b[0m \u001b[1;33m=\u001b[0m \u001b[1;36m42\u001b[0m\u001b[1;33m)\u001b[0m\u001b[1;33m\u001b[0m\u001b[1;33m\u001b[0m\u001b[0m\n\u001b[0m",
      "\u001b[1;32m<ipython-input-19-30fb107ddd53>\u001b[0m in \u001b[0;36mdrop_col_feat_imp\u001b[1;34m(model, X_train, y_train, random_state)\u001b[0m\n\u001b[0;32m     21\u001b[0m         \u001b[0mimportances\u001b[0m\u001b[1;33m.\u001b[0m\u001b[0mappend\u001b[0m\u001b[1;33m(\u001b[0m\u001b[0mbenchmark_score\u001b[0m \u001b[1;33m-\u001b[0m \u001b[0mdrop_col_score\u001b[0m\u001b[1;33m)\u001b[0m\u001b[1;33m\u001b[0m\u001b[1;33m\u001b[0m\u001b[0m\n\u001b[0;32m     22\u001b[0m \u001b[1;33m\u001b[0m\u001b[0m\n\u001b[1;32m---> 23\u001b[1;33m     \u001b[0mimportances_df\u001b[0m \u001b[1;33m=\u001b[0m \u001b[0mimp_df\u001b[0m\u001b[1;33m(\u001b[0m\u001b[0mX_train\u001b[0m\u001b[1;33m.\u001b[0m\u001b[0mcolumns\u001b[0m\u001b[1;33m,\u001b[0m \u001b[0mimportances\u001b[0m\u001b[1;33m)\u001b[0m\u001b[1;33m\u001b[0m\u001b[1;33m\u001b[0m\u001b[0m\n\u001b[0m\u001b[0;32m     24\u001b[0m     \u001b[1;32mreturn\u001b[0m \u001b[0mimportances_df\u001b[0m\u001b[1;33m\u001b[0m\u001b[1;33m\u001b[0m\u001b[0m\n",
      "\u001b[1;31mNameError\u001b[0m: name 'imp_df' is not defined"
     ]
    }
   ],
   "source": [
    "importances_df = drop_col_feat_imp(rf, X_train, y_train, random_state = 42)"
   ]
  },
  {
   "cell_type": "code",
   "execution_count": 22,
   "metadata": {},
   "outputs": [
    {
     "ename": "NameError",
     "evalue": "name 'importances_df' is not defined",
     "output_type": "error",
     "traceback": [
      "\u001b[1;31m---------------------------------------------------------------------------\u001b[0m",
      "\u001b[1;31mNameError\u001b[0m                                 Traceback (most recent call last)",
      "\u001b[1;32m<ipython-input-22-ac642404702a>\u001b[0m in \u001b[0;36m<module>\u001b[1;34m\u001b[0m\n\u001b[1;32m----> 1\u001b[1;33m \u001b[0mimportances_df\u001b[0m\u001b[1;33m\u001b[0m\u001b[1;33m\u001b[0m\u001b[0m\n\u001b[0m",
      "\u001b[1;31mNameError\u001b[0m: name 'importances_df' is not defined"
     ]
    }
   ],
   "source": [
    "importances_df"
   ]
  },
  {
   "cell_type": "markdown",
   "metadata": {},
   "source": [
    "### CatBoost "
   ]
  },
  {
   "cell_type": "code",
   "execution_count": 8,
   "metadata": {},
   "outputs": [
    {
     "name": "stdout",
     "output_type": "stream",
     "text": [
      "0:\tlearn: 300.3373652\ttotal: 2.06s\tremaining: 6m 50s\n",
      "1:\tlearn: 297.5830452\ttotal: 3.56s\tremaining: 5m 52s\n",
      "2:\tlearn: 294.7312831\ttotal: 4.94s\tremaining: 5m 24s\n",
      "3:\tlearn: 291.9103818\ttotal: 6.11s\tremaining: 4m 59s\n",
      "4:\tlearn: 289.1512801\ttotal: 7.23s\tremaining: 4m 41s\n",
      "5:\tlearn: 286.4539126\ttotal: 8.41s\tremaining: 4m 32s\n",
      "6:\tlearn: 283.7973294\ttotal: 9.49s\tremaining: 4m 21s\n",
      "7:\tlearn: 281.3342228\ttotal: 10.6s\tremaining: 4m 14s\n",
      "8:\tlearn: 278.8071182\ttotal: 11.7s\tremaining: 4m 8s\n",
      "9:\tlearn: 276.4327261\ttotal: 12.8s\tremaining: 4m 3s\n",
      "10:\tlearn: 274.2002820\ttotal: 13.9s\tremaining: 3m 58s\n",
      "11:\tlearn: 271.9856764\ttotal: 15s\tremaining: 3m 54s\n",
      "12:\tlearn: 269.7121711\ttotal: 16s\tremaining: 3m 50s\n",
      "13:\tlearn: 267.5616856\ttotal: 17.1s\tremaining: 3m 47s\n",
      "14:\tlearn: 265.5504586\ttotal: 18.1s\tremaining: 3m 43s\n",
      "15:\tlearn: 263.4680893\ttotal: 19.2s\tremaining: 3m 41s\n",
      "16:\tlearn: 261.4846734\ttotal: 20.3s\tremaining: 3m 38s\n",
      "17:\tlearn: 259.4868378\ttotal: 21.3s\tremaining: 3m 35s\n",
      "18:\tlearn: 257.5509165\ttotal: 22.4s\tremaining: 3m 32s\n",
      "19:\tlearn: 255.6275339\ttotal: 23.4s\tremaining: 3m 30s\n",
      "20:\tlearn: 253.7895453\ttotal: 24.5s\tremaining: 3m 28s\n",
      "21:\tlearn: 252.0466016\ttotal: 25.5s\tremaining: 3m 26s\n",
      "22:\tlearn: 250.2909251\ttotal: 26.6s\tremaining: 3m 24s\n",
      "23:\tlearn: 248.5888891\ttotal: 27.9s\tremaining: 3m 24s\n",
      "24:\tlearn: 246.8795917\ttotal: 29.1s\tremaining: 3m 23s\n",
      "25:\tlearn: 245.1932370\ttotal: 30.4s\tremaining: 3m 23s\n",
      "26:\tlearn: 243.5735777\ttotal: 31.7s\tremaining: 3m 22s\n",
      "27:\tlearn: 242.0320275\ttotal: 32.9s\tremaining: 3m 22s\n",
      "28:\tlearn: 240.5534083\ttotal: 34.1s\tremaining: 3m 21s\n",
      "29:\tlearn: 239.1868787\ttotal: 35.4s\tremaining: 3m 20s\n",
      "30:\tlearn: 237.7269550\ttotal: 36.6s\tremaining: 3m 19s\n",
      "31:\tlearn: 236.2506584\ttotal: 37.8s\tremaining: 3m 18s\n",
      "32:\tlearn: 234.9060490\ttotal: 39.1s\tremaining: 3m 17s\n",
      "33:\tlearn: 233.5808225\ttotal: 40.3s\tremaining: 3m 16s\n",
      "34:\tlearn: 232.2247256\ttotal: 41.5s\tremaining: 3m 15s\n",
      "35:\tlearn: 231.0548737\ttotal: 42.8s\tremaining: 3m 14s\n",
      "36:\tlearn: 229.7642962\ttotal: 44s\tremaining: 3m 13s\n",
      "37:\tlearn: 228.4885772\ttotal: 45.3s\tremaining: 3m 13s\n",
      "38:\tlearn: 227.3540673\ttotal: 46.5s\tremaining: 3m 11s\n",
      "39:\tlearn: 226.1879400\ttotal: 47.7s\tremaining: 3m 10s\n",
      "40:\tlearn: 224.9544076\ttotal: 48.9s\tremaining: 3m 9s\n",
      "41:\tlearn: 223.8206962\ttotal: 50.2s\tremaining: 3m 8s\n",
      "42:\tlearn: 222.7503801\ttotal: 51.4s\tremaining: 3m 7s\n",
      "43:\tlearn: 221.6472250\ttotal: 52.7s\tremaining: 3m 6s\n",
      "44:\tlearn: 220.6650407\ttotal: 53.9s\tremaining: 3m 5s\n",
      "45:\tlearn: 219.7917239\ttotal: 55.3s\tremaining: 3m 5s\n",
      "46:\tlearn: 218.7759013\ttotal: 56.5s\tremaining: 3m 3s\n",
      "47:\tlearn: 218.6752938\ttotal: 56.7s\tremaining: 2m 59s\n",
      "48:\tlearn: 217.7055970\ttotal: 57.8s\tremaining: 2m 58s\n",
      "49:\tlearn: 216.6871842\ttotal: 59.1s\tremaining: 2m 57s\n",
      "50:\tlearn: 216.4508986\ttotal: 59.9s\tremaining: 2m 54s\n",
      "51:\tlearn: 215.4771482\ttotal: 1m 1s\tremaining: 2m 53s\n",
      "52:\tlearn: 215.2683619\ttotal: 1m 1s\tremaining: 2m 50s\n",
      "53:\tlearn: 214.3043400\ttotal: 1m 2s\tremaining: 2m 49s\n",
      "54:\tlearn: 213.4599236\ttotal: 1m 3s\tremaining: 2m 48s\n",
      "55:\tlearn: 212.5496700\ttotal: 1m 5s\tremaining: 2m 47s\n",
      "56:\tlearn: 211.7161726\ttotal: 1m 6s\tremaining: 2m 47s\n",
      "57:\tlearn: 210.8696276\ttotal: 1m 7s\tremaining: 2m 46s\n",
      "58:\tlearn: 210.0019060\ttotal: 1m 9s\tremaining: 2m 45s\n",
      "59:\tlearn: 209.2049579\ttotal: 1m 10s\tremaining: 2m 44s\n",
      "60:\tlearn: 208.4259765\ttotal: 1m 11s\tremaining: 2m 43s\n",
      "61:\tlearn: 207.6418490\ttotal: 1m 13s\tremaining: 2m 42s\n",
      "62:\tlearn: 206.8826113\ttotal: 1m 14s\tremaining: 2m 41s\n",
      "63:\tlearn: 206.6861168\ttotal: 1m 15s\tremaining: 2m 40s\n",
      "64:\tlearn: 205.9527050\ttotal: 1m 16s\tremaining: 2m 39s\n",
      "65:\tlearn: 205.8125531\ttotal: 1m 17s\tremaining: 2m 37s\n",
      "66:\tlearn: 205.6175894\ttotal: 1m 18s\tremaining: 2m 36s\n",
      "67:\tlearn: 205.4268195\ttotal: 1m 20s\tremaining: 2m 35s\n",
      "68:\tlearn: 204.6612593\ttotal: 1m 21s\tremaining: 2m 34s\n",
      "69:\tlearn: 204.4785259\ttotal: 1m 21s\tremaining: 2m 32s\n",
      "70:\tlearn: 204.3331700\ttotal: 1m 22s\tremaining: 2m 29s\n",
      "71:\tlearn: 203.6473542\ttotal: 1m 23s\tremaining: 2m 28s\n",
      "72:\tlearn: 202.9295687\ttotal: 1m 24s\tremaining: 2m 27s\n",
      "73:\tlearn: 202.7874591\ttotal: 1m 24s\tremaining: 2m 24s\n",
      "74:\tlearn: 202.5971922\ttotal: 1m 26s\tremaining: 2m 23s\n",
      "75:\tlearn: 202.4230260\ttotal: 1m 27s\tremaining: 2m 22s\n",
      "76:\tlearn: 202.2842712\ttotal: 1m 27s\tremaining: 2m 19s\n",
      "77:\tlearn: 202.0876756\ttotal: 1m 28s\tremaining: 2m 18s\n",
      "78:\tlearn: 201.4395796\ttotal: 1m 30s\tremaining: 2m 18s\n",
      "79:\tlearn: 201.2662919\ttotal: 1m 30s\tremaining: 2m 16s\n",
      "80:\tlearn: 201.0815909\ttotal: 1m 31s\tremaining: 2m 15s\n",
      "81:\tlearn: 200.4262465\ttotal: 1m 33s\tremaining: 2m 14s\n",
      "82:\tlearn: 200.2914479\ttotal: 1m 33s\tremaining: 2m 12s\n",
      "83:\tlearn: 199.7274730\ttotal: 1m 35s\tremaining: 2m 11s\n",
      "84:\tlearn: 199.5615613\ttotal: 1m 35s\tremaining: 2m 9s\n",
      "85:\tlearn: 198.9779149\ttotal: 1m 37s\tremaining: 2m 8s\n",
      "86:\tlearn: 198.8026233\ttotal: 1m 37s\tremaining: 2m 6s\n",
      "87:\tlearn: 198.6765814\ttotal: 1m 37s\tremaining: 2m 4s\n",
      "88:\tlearn: 198.5513293\ttotal: 1m 37s\tremaining: 2m 1s\n",
      "89:\tlearn: 197.9609759\ttotal: 1m 39s\tremaining: 2m 1s\n",
      "90:\tlearn: 197.3378314\ttotal: 1m 40s\tremaining: 2m\n",
      "91:\tlearn: 197.1847785\ttotal: 1m 40s\tremaining: 1m 58s\n",
      "92:\tlearn: 197.0637931\ttotal: 1m 41s\tremaining: 1m 56s\n",
      "93:\tlearn: 196.5068150\ttotal: 1m 42s\tremaining: 1m 55s\n",
      "94:\tlearn: 195.9555434\ttotal: 1m 43s\tremaining: 1m 54s\n",
      "95:\tlearn: 195.8019699\ttotal: 1m 44s\tremaining: 1m 53s\n",
      "96:\tlearn: 195.6850192\ttotal: 1m 44s\tremaining: 1m 50s\n",
      "97:\tlearn: 195.5690674\ttotal: 1m 44s\tremaining: 1m 48s\n",
      "98:\tlearn: 195.0031468\ttotal: 1m 45s\tremaining: 1m 48s\n",
      "99:\tlearn: 194.4950301\ttotal: 1m 47s\tremaining: 1m 47s\n",
      "100:\tlearn: 194.3519110\ttotal: 1m 47s\tremaining: 1m 45s\n",
      "101:\tlearn: 193.8228939\ttotal: 1m 48s\tremaining: 1m 44s\n",
      "102:\tlearn: 193.3045088\ttotal: 1m 50s\tremaining: 1m 43s\n",
      "103:\tlearn: 193.1587220\ttotal: 1m 50s\tremaining: 1m 42s\n",
      "104:\tlearn: 192.6380874\ttotal: 1m 51s\tremaining: 1m 41s\n",
      "105:\tlearn: 192.1648416\ttotal: 1m 53s\tremaining: 1m 40s\n",
      "106:\tlearn: 191.6932736\ttotal: 1m 54s\tremaining: 1m 39s\n",
      "107:\tlearn: 191.2220896\ttotal: 1m 55s\tremaining: 1m 38s\n",
      "108:\tlearn: 191.1159092\ttotal: 1m 55s\tremaining: 1m 36s\n",
      "109:\tlearn: 190.6573781\ttotal: 1m 57s\tremaining: 1m 35s\n",
      "110:\tlearn: 190.5530059\ttotal: 1m 57s\tremaining: 1m 34s\n",
      "111:\tlearn: 190.0833241\ttotal: 1m 58s\tremaining: 1m 33s\n",
      "112:\tlearn: 189.6516481\ttotal: 1m 59s\tremaining: 1m 32s\n",
      "113:\tlearn: 189.5223838\ttotal: 2m\tremaining: 1m 30s\n",
      "114:\tlearn: 189.1051740\ttotal: 2m 1s\tremaining: 1m 29s\n",
      "115:\tlearn: 188.9777534\ttotal: 2m 2s\tremaining: 1m 28s\n",
      "116:\tlearn: 188.8465156\ttotal: 2m 2s\tremaining: 1m 26s\n",
      "117:\tlearn: 188.7180060\ttotal: 2m 3s\tremaining: 1m 25s\n",
      "118:\tlearn: 188.5892953\ttotal: 2m 3s\tremaining: 1m 23s\n",
      "119:\tlearn: 188.4660688\ttotal: 2m 4s\tremaining: 1m 22s\n",
      "120:\tlearn: 188.0454145\ttotal: 2m 5s\tremaining: 1m 21s\n",
      "121:\tlearn: 187.9112437\ttotal: 2m 6s\tremaining: 1m 20s\n",
      "122:\tlearn: 187.8172840\ttotal: 2m 6s\tremaining: 1m 19s\n",
      "123:\tlearn: 187.6984027\ttotal: 2m 6s\tremaining: 1m 17s\n",
      "124:\tlearn: 187.5641638\ttotal: 2m 8s\tremaining: 1m 16s\n",
      "125:\tlearn: 187.4438631\ttotal: 2m 8s\tremaining: 1m 15s\n",
      "126:\tlearn: 187.3434382\ttotal: 2m 9s\tremaining: 1m 14s\n",
      "127:\tlearn: 187.2250673\ttotal: 2m 9s\tremaining: 1m 12s\n",
      "128:\tlearn: 187.1110995\ttotal: 2m 10s\tremaining: 1m 11s\n",
      "129:\tlearn: 186.9935868\ttotal: 2m 10s\tremaining: 1m 10s\n",
      "130:\tlearn: 186.5733930\ttotal: 2m 12s\tremaining: 1m 9s\n",
      "131:\tlearn: 186.1699128\ttotal: 2m 13s\tremaining: 1m 8s\n",
      "132:\tlearn: 186.0837384\ttotal: 2m 13s\tremaining: 1m 7s\n",
      "133:\tlearn: 185.6803107\ttotal: 2m 14s\tremaining: 1m 6s\n",
      "134:\tlearn: 185.5639147\ttotal: 2m 15s\tremaining: 1m 5s\n",
      "135:\tlearn: 185.1519492\ttotal: 2m 16s\tremaining: 1m 4s\n",
      "136:\tlearn: 185.0417313\ttotal: 2m 18s\tremaining: 1m 3s\n",
      "137:\tlearn: 184.7032213\ttotal: 2m 19s\tremaining: 1m 2s\n",
      "138:\tlearn: 184.3116703\ttotal: 2m 20s\tremaining: 1m 1s\n",
      "139:\tlearn: 184.2047698\ttotal: 2m 21s\tremaining: 1m\n",
      "140:\tlearn: 184.1025910\ttotal: 2m 22s\tremaining: 59.5s\n",
      "141:\tlearn: 183.7151086\ttotal: 2m 23s\tremaining: 58.6s\n",
      "142:\tlearn: 183.6697843\ttotal: 2m 23s\tremaining: 57.4s\n",
      "143:\tlearn: 183.6255381\ttotal: 2m 24s\tremaining: 56s\n",
      "144:\tlearn: 183.5161582\ttotal: 2m 24s\tremaining: 54.8s\n",
      "145:\tlearn: 183.1875195\ttotal: 2m 25s\tremaining: 53.9s\n",
      "146:\tlearn: 182.8350019\ttotal: 2m 26s\tremaining: 53s\n",
      "147:\tlearn: 182.4655391\ttotal: 2m 28s\tremaining: 52.1s\n",
      "148:\tlearn: 182.3594404\ttotal: 2m 29s\tremaining: 51s\n",
      "149:\tlearn: 182.2643624\ttotal: 2m 29s\tremaining: 49.8s\n",
      "150:\tlearn: 182.1700007\ttotal: 2m 29s\tremaining: 48.7s\n"
     ]
    },
    {
     "name": "stdout",
     "output_type": "stream",
     "text": [
      "151:\tlearn: 182.0766636\ttotal: 2m 30s\tremaining: 47.5s\n",
      "152:\tlearn: 181.7404654\ttotal: 2m 31s\tremaining: 46.5s\n",
      "153:\tlearn: 181.6685597\ttotal: 2m 31s\tremaining: 45.3s\n",
      "154:\tlearn: 181.6091286\ttotal: 2m 32s\tremaining: 44.2s\n",
      "155:\tlearn: 181.5382749\ttotal: 2m 32s\tremaining: 43s\n",
      "156:\tlearn: 181.4486532\ttotal: 2m 32s\tremaining: 41.8s\n",
      "157:\tlearn: 181.4106710\ttotal: 2m 32s\tremaining: 40.7s\n",
      "158:\tlearn: 181.3178792\ttotal: 2m 33s\tremaining: 39.6s\n",
      "159:\tlearn: 181.2493826\ttotal: 2m 33s\tremaining: 38.4s\n",
      "160:\tlearn: 181.1815409\ttotal: 2m 33s\tremaining: 37.2s\n",
      "161:\tlearn: 180.8753862\ttotal: 2m 34s\tremaining: 36.4s\n",
      "162:\tlearn: 180.5464239\ttotal: 2m 36s\tremaining: 35.4s\n",
      "163:\tlearn: 180.4803391\ttotal: 2m 36s\tremaining: 34.3s\n",
      "164:\tlearn: 180.3959760\ttotal: 2m 37s\tremaining: 33.3s\n",
      "165:\tlearn: 180.1135581\ttotal: 2m 38s\tremaining: 32.4s\n",
      "166:\tlearn: 180.0259124\ttotal: 2m 40s\tremaining: 31.7s\n",
      "167:\tlearn: 179.9406730\ttotal: 2m 42s\tremaining: 30.9s\n",
      "168:\tlearn: 179.8680322\ttotal: 2m 45s\tremaining: 30.3s\n",
      "169:\tlearn: 179.7842009\ttotal: 2m 45s\tremaining: 29.2s\n",
      "170:\tlearn: 179.4717907\ttotal: 2m 47s\tremaining: 28.3s\n",
      "171:\tlearn: 179.1771252\ttotal: 2m 48s\tremaining: 27.4s\n",
      "172:\tlearn: 179.0982614\ttotal: 2m 48s\tremaining: 26.3s\n",
      "173:\tlearn: 178.8336370\ttotal: 2m 49s\tremaining: 25.4s\n",
      "174:\tlearn: 178.5497745\ttotal: 2m 51s\tremaining: 24.4s\n",
      "175:\tlearn: 178.2918579\ttotal: 2m 52s\tremaining: 23.6s\n",
      "176:\tlearn: 178.2331157\ttotal: 2m 53s\tremaining: 22.5s\n",
      "177:\tlearn: 178.1576798\ttotal: 2m 53s\tremaining: 21.4s\n",
      "178:\tlearn: 177.8727047\ttotal: 2m 54s\tremaining: 20.5s\n",
      "179:\tlearn: 177.7951997\ttotal: 2m 56s\tremaining: 19.6s\n",
      "180:\tlearn: 177.7172792\ttotal: 2m 57s\tremaining: 18.6s\n",
      "181:\tlearn: 177.6400717\ttotal: 2m 58s\tremaining: 17.6s\n",
      "182:\tlearn: 177.5655752\ttotal: 2m 58s\tremaining: 16.6s\n",
      "183:\tlearn: 177.3141784\ttotal: 3m\tremaining: 15.7s\n",
      "184:\tlearn: 177.2430577\ttotal: 3m\tremaining: 14.6s\n",
      "185:\tlearn: 177.1726061\ttotal: 3m 1s\tremaining: 13.6s\n",
      "186:\tlearn: 177.1033093\ttotal: 3m 1s\tremaining: 12.6s\n",
      "187:\tlearn: 177.0503181\ttotal: 3m 1s\tremaining: 11.6s\n",
      "188:\tlearn: 176.9977823\ttotal: 3m 2s\tremaining: 10.6s\n",
      "189:\tlearn: 176.9302447\ttotal: 3m 2s\tremaining: 9.6s\n",
      "190:\tlearn: 176.8631540\ttotal: 3m 2s\tremaining: 8.62s\n",
      "191:\tlearn: 176.7969437\ttotal: 3m 3s\tremaining: 7.64s\n",
      "192:\tlearn: 176.7227837\ttotal: 3m 4s\tremaining: 6.7s\n",
      "193:\tlearn: 176.6728019\ttotal: 3m 4s\tremaining: 5.71s\n",
      "194:\tlearn: 176.6255569\ttotal: 3m 5s\tremaining: 4.76s\n",
      "195:\tlearn: 176.5575642\ttotal: 3m 6s\tremaining: 3.8s\n",
      "196:\tlearn: 176.3130053\ttotal: 3m 7s\tremaining: 2.86s\n",
      "197:\tlearn: 176.0585861\ttotal: 3m 8s\tremaining: 1.91s\n",
      "198:\tlearn: 176.0105671\ttotal: 3m 9s\tremaining: 950ms\n",
      "199:\tlearn: 175.9630195\ttotal: 3m 9s\tremaining: 0us\n",
      "191.32476040000003\n"
     ]
    }
   ],
   "source": [
    "from catboost import CatBoostRegressor\n",
    "time_start = time.clock()\n",
    "# Initialize CatBoostRegressor\n",
    "model = CatBoostRegressor(iterations=200,\n",
    "                          learning_rate=0.02,\n",
    "                          depth=12,\n",
    "                          eval_metric='RMSE',\n",
    "                          bagging_temperature = 0.2)\n",
    "\n",
    "column_index = [X_final.columns.get_loc(c) for c in col_dummies if c in X_final]\n",
    "# Fit model\n",
    "model.fit(X_train, y_train,cat_features=column_index)\n",
    "# Get predictions\n",
    "preds = model.predict(X_test)\n",
    "time_elapsed = (time.clock() - time_start)\n",
    "print(time_elapsed)"
   ]
  },
  {
   "cell_type": "code",
   "execution_count": 9,
   "metadata": {},
   "outputs": [
    {
     "name": "stdout",
     "output_type": "stream",
     "text": [
      "2.7309090319735523\n"
     ]
    }
   ],
   "source": [
    "TEST1 = preds/60\n",
    "TEST2 = [x/60 for x in y_test['target'].tolist()]\n",
    "print(np.sqrt(sk.metrics.mean_squared_error(TEST1,TEST2)))"
   ]
  },
  {
   "cell_type": "code",
   "execution_count": 11,
   "metadata": {},
   "outputs": [
    {
     "data": {
      "text/plain": [
       "<matplotlib.axes._subplots.AxesSubplot at 0x16a04f93748>"
      ]
     },
     "execution_count": 11,
     "metadata": {},
     "output_type": "execute_result"
    },
    {
     "data": {
      "image/png": "[encoded data removed]",
      "text/plain": [
       "<Figure size 432x288 with 1 Axes>"
      ]
     },
     "metadata": {
      "needs_background": "light"
     },
     "output_type": "display_data"
    }
   ],
   "source": [
    "import matplotlib.pyplot as plt\n",
    "feat_importances = pd.Series(model.feature_importances_, index=X_train.columns)\n",
    "feat_importances.nlargest(12).plot(kind='barh')"
   ]
  }
 ],
 "metadata": {
  "kernelspec": {
   "display_name": "Python 3",
   "language": "python",
   "name": "python3"
  },
  "language_info": {
   "codemirror_mode": {
    "name": "ipython",
    "version": 3
   },
   "file_extension": ".py",
   "mimetype": "text/x-python",
   "name": "python",
   "nbconvert_exporter": "python",
   "pygments_lexer": "ipython3",
   "version": "3.6.8"
  }
 },
 "nbformat": 4,
 "nbformat_minor": 2
}
